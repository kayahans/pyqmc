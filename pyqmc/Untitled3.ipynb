{
 "cells": [
  {
   "cell_type": "code",
   "execution_count": 21,
   "id": "eec5f294-c50b-4ffe-9c44-8ceaa6d15552",
   "metadata": {},
   "outputs": [],
   "source": [
    "import matplotlib.pyplot as plt\n",
    "import numpy as np\n",
    "import copy\n",
    "import h5py\n",
    "import os\n",
    "import seaborn as sns\n",
    "import pyqmc.api as pyq\n",
    "from pyscf.scf.uhf import det_ovlp\n",
    "import matplotlib.pyplot as plt"
   ]
  },
  {
   "cell_type": "code",
   "execution_count": 2,
   "id": "9ad2bd06-cee1-4f64-adde-1503f218a85b",
   "metadata": {},
   "outputs": [],
   "source": [
    "# Wavefunction generation\n",
    "from pyscf import lib, gto, scf\n",
    "from pyscf import gto, mp, mcscf\n",
    "def H2_casci(scf_checkfile, ci_checkfile):\n",
    "    mol = gto.M(\n",
    "        atom=\"H 0. 0. 0.0; H 0. 0. 1.4\",\n",
    "        basis=f\"ccecpccpvdz\",\n",
    "        unit=\"bohr\",\n",
    "        charge=0,\n",
    "        spin=0,\n",
    "        verbose=1,\n",
    "    )\n",
    "    mf = scf.UHF(mol).run()\n",
    "    mf.chkfile = scf_checkfile\n",
    "    mf.kernel()\n",
    "    mc = mcscf.CASCI(mf, 3,2)\n",
    "    mc.fcisolver.nroots = 2\n",
    "    mc.kernel()\n",
    "    print(mc.__dict__.keys())\n",
    "    with h5py.File(ci_checkfile, \"a\") as f:\n",
    "        f.create_group(\"ci\")\n",
    "        f[\"ci/ncas\"] = mc.ncas\n",
    "        f[\"ci/nelecas\"] = list(mc.nelecas)\n",
    "        f[\"ci/ci\"] = mc.ci\n",
    "        f[\"ci/mo_coeff\"] = mc.mo_coeff    \n",
    "    return mol, mf, mc\n",
    "    \n",
    "def HF_casci(scf_checkfile, ci_checkfile):\n",
    "    mol = gto.M(\n",
    "        atom=\"H 0. 0. 0.0; F 0. 0. 0.8\",\n",
    "        basis=f\"ccecpccpvdz\",\n",
    "        unit=\"bohr\",\n",
    "        charge=0,\n",
    "        spin=0,\n",
    "        verbose=1,\n",
    "    )\n",
    "    mf = scf.UHF(mol).run()\n",
    "    mf.chkfile = scf_checkfile\n",
    "    mf.kernel()\n",
    "    mc = mcscf.CASCI(mf, 6,2)\n",
    "    # mc.fcisolver.nroots = 4\n",
    "    mc.kernel()\n",
    "    print(mc.__dict__.keys())\n",
    "    with h5py.File(ci_checkfile, \"a\") as f:\n",
    "        f.create_group(\"ci\")\n",
    "        f[\"ci/ncas\"] = mc.ncas\n",
    "        f[\"ci/nelecas\"] = list(mc.nelecas)\n",
    "        f[\"ci/ci\"] = mc.ci\n",
    "        f[\"ci/mo_coeff\"] = mc.mo_coeff    \n",
    "    return mol, mf, mc"
   ]
  },
  {
   "cell_type": "code",
   "execution_count": 3,
   "id": "74be6ea0-4027-4f8d-a649-8073a1f6f69d",
   "metadata": {},
   "outputs": [
    {
     "name": "stdout",
     "output_type": "stream",
     "text": [
      "dict_keys(['mol', '_scf', 'verbose', 'stdout', 'max_memory', 'ncas', 'nelecas', '_ncore', 'fcisolver', 'frozen', 'extrasym', 'e_tot', 'e_cas', 'ci', 'mo_coeff', 'mo_energy', 'mo_occ', 'converged'])\n"
     ]
    }
   ],
   "source": [
    "scf_checkfile = 'rohf.chk'\n",
    "ci_checkfile = 'casci.chk'\n",
    "for fname in [scf_checkfile, ci_checkfile]:\n",
    "    if os.path.isfile(fname):\n",
    "        os.remove(fname)\n",
    "mol, mf, mcc = H2_casci(scf_checkfile, ci_checkfile)\n",
    "# mol, mf, mcc = HF_casci(scf_checkfile, ci_checkfile)"
   ]
  },
  {
   "cell_type": "code",
   "execution_count": 4,
   "id": "4be69c28-fa05-4c09-ba19-25c0cc53c7b0",
   "metadata": {},
   "outputs": [
    {
     "data": {
      "text/plain": [
       "array([-1.13870534, -0.7352647 ])"
      ]
     },
     "execution_count": 4,
     "metadata": {},
     "output_type": "execute_result"
    }
   ],
   "source": [
    "mcc.e_tot"
   ]
  },
  {
   "cell_type": "code",
   "execution_count": 5,
   "id": "1a0b3644-d2dd-4c5c-919e-36f349cf991d",
   "metadata": {},
   "outputs": [],
   "source": [
    "mc1 = copy.copy(mcc)\n",
    "mc2 = copy.copy(mcc)"
   ]
  },
  {
   "cell_type": "code",
   "execution_count": 6,
   "id": "7b02dd36-8172-462f-b00a-167e4b2a8aa0",
   "metadata": {},
   "outputs": [
    {
     "data": {
      "text/plain": [
       "[FCIvector([[ 9.96853209e-01, -8.46545056e-16,  5.80454666e-03],\n",
       "            [-1.46467752e-15, -5.39115620e-02,  1.02970861e-15],\n",
       "            [ 5.80454666e-03,  6.85996757e-16, -5.75311894e-02]]),\n",
       " FCIvector([[ 5.10247623e-16, -7.03065761e-01,  7.86737405e-16],\n",
       "            [ 7.03065761e-01,  3.91040073e-16, -7.54886440e-02],\n",
       "            [-2.94224039e-15,  7.54886440e-02,  1.95096737e-16]])]"
      ]
     },
     "execution_count": 6,
     "metadata": {},
     "output_type": "execute_result"
    }
   ],
   "source": [
    "mcc.ci"
   ]
  },
  {
   "cell_type": "code",
   "execution_count": 7,
   "id": "2f4e5e5b-bbfe-44b7-843c-d0027adc1f16",
   "metadata": {},
   "outputs": [],
   "source": [
    "mc1.ci = mcc.ci[0] * 0 \n",
    "mc1.ci[0,0] = 1\n",
    "\n",
    "mc2.ci = mcc.ci[0] * 0 \n",
    "mc2.ci[1,1] = 1"
   ]
  },
  {
   "cell_type": "code",
   "execution_count": 8,
   "id": "52fc8605-805f-462d-80bf-c4aea076e635",
   "metadata": {},
   "outputs": [
    {
     "data": {
      "text/plain": [
       "FCIvector([[ 1., -0.,  0.],\n",
       "           [-0., -0.,  0.],\n",
       "           [ 0.,  0., -0.]])"
      ]
     },
     "execution_count": 8,
     "metadata": {},
     "output_type": "execute_result"
    }
   ],
   "source": [
    "mc1.ci"
   ]
  },
  {
   "cell_type": "code",
   "execution_count": 9,
   "id": "c4c14f51-7f77-4048-b397-944d1052f512",
   "metadata": {},
   "outputs": [],
   "source": [
    "# mc1.ci = mcc.ci[0]\n",
    "# mc2.ci = (mcc.ci[0] + mcc.ci[1]) / np.sqrt(2)"
   ]
  },
  {
   "cell_type": "code",
   "execution_count": 10,
   "id": "444298b4-af41-4038-bb90-a1766deed4dc",
   "metadata": {},
   "outputs": [
    {
     "data": {
      "text/plain": [
       "FCIvector([[ 1., -0.,  0.],\n",
       "           [-0., -0.,  0.],\n",
       "           [ 0.,  0., -0.]])"
      ]
     },
     "execution_count": 10,
     "metadata": {},
     "output_type": "execute_result"
    }
   ],
   "source": [
    "mc1.ci"
   ]
  },
  {
   "cell_type": "code",
   "execution_count": 11,
   "id": "f3942a52-29c7-4d3a-83c5-1f1835e39ab8",
   "metadata": {},
   "outputs": [],
   "source": [
    "wf1, _ = pyq.generate_slater(mol, mf, mc=mc1, optimize_determinants=True)\n",
    "wf2, _ = pyq.generate_slater(mol, mf, mc=mc2, optimize_determinants=True)"
   ]
  },
  {
   "cell_type": "code",
   "execution_count": 12,
   "id": "f0a4c863-ebce-459e-ba99-3d1b49a25c84",
   "metadata": {},
   "outputs": [],
   "source": [
    "configs = pyq.initial_guess(mol, 2000)\n",
    "_, configs = pyq.vmc(wf1, configs)"
   ]
  },
  {
   "cell_type": "code",
   "execution_count": 13,
   "id": "f44113ae-8724-4743-81fe-2d1f6e383906",
   "metadata": {},
   "outputs": [],
   "source": [
    "from sample_many import sample_overlap\n",
    "from accumulators_multiwf import EnergyAccumulatorMultipleWF"
   ]
  },
  {
   "cell_type": "code",
   "execution_count": 14,
   "id": "a60683c3-8015-4c73-a3fc-305ff6704816",
   "metadata": {},
   "outputs": [],
   "source": [
    "energy = EnergyAccumulatorMultipleWF(pyq.EnergyAccumulator(mol))\n",
    "data_weighted, data_unweighted, configs = sample_overlap(\n",
    "        [wf1, wf2], configs, energy, nsteps=40, nblocks=20\n",
    "    )"
   ]
  },
  {
   "cell_type": "code",
   "execution_count": 23,
   "id": "19970d59-65df-48ab-b8e7-e347cf90db7c",
   "metadata": {},
   "outputs": [
    {
     "data": {
      "text/plain": [
       "[<matplotlib.lines.Line2D at 0x339877c10>]"
      ]
     },
     "execution_count": 23,
     "metadata": {},
     "output_type": "execute_result"
    },
    {
     "data": {
      "image/png": "[encoded data removed]",
      "text/plain": [
       "<Figure size 640x480 with 1 Axes>"
      ]
     },
     "metadata": {},
     "output_type": "display_data"
    }
   ],
   "source": [
    "i = 0\n",
    "j = 1\n",
    "y = data_unweighted['overlap'][:,i,j]\n",
    "plt.plot(y)"
   ]
  },
  {
   "cell_type": "code",
   "execution_count": null,
   "id": "9fbff9f1-3ad6-4700-a8e4-99347def1d82",
   "metadata": {},
   "outputs": [],
   "source": []
  }
 ],
 "metadata": {
  "kernelspec": {
   "display_name": "Python 3 (ipykernel)",
   "language": "python",
   "name": "python3"
  },
  "language_info": {
   "codemirror_mode": {
    "name": "ipython",
    "version": 3
   },
   "file_extension": ".py",
   "mimetype": "text/x-python",
   "name": "python",
   "nbconvert_exporter": "python",
   "pygments_lexer": "ipython3",
   "version": "3.11.6"
  }
 },
 "nbformat": 4,
 "nbformat_minor": 5
}
