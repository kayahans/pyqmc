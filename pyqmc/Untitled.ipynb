{
 "cells": [
  {
   "cell_type": "code",
   "execution_count": 16,
   "id": "7b4932a6-8a49-4e52-beea-1af8ddbc7e6c",
   "metadata": {},
   "outputs": [],
   "source": [
    "import pyqmc\n",
    "import os\n",
    "\n",
    "ncore = 1\n",
    "nconfig = ncore * 50\n",
    "\n",
    "def run_scf():\n",
    "    from pyscf import gto, scf\n",
    "\n",
    "    mol = gto.M(\n",
    "        atom=\"O 0 0 0; H 0 -2.757 2.587; H 0 2.757 2.587\", basis=\"bfd_vdz\", ecp=\"bfd\"\n",
    "    )\n",
    "    mf = scf.RHF(mol)\n",
    "    mf.chkfile = scf_checkfile\n",
    "    mf.run()\n",
    "    return mol, mf\n"
   ]
  },
  {
   "cell_type": "code",
   "execution_count": 17,
   "id": "0d5a0b01-047e-4204-be80-b4e4056914cb",
   "metadata": {},
   "outputs": [
    {
     "name": "stdout",
     "output_type": "stream",
     "text": [
      "converged SCF energy = -16.3291382456188\n"
     ]
    }
   ],
   "source": [
    "for fname in ['scf_h2o.hdf5']:\n",
    "    if os.path.isfile(fname):\n",
    "        os.remove(fname)\n",
    "scf_checkfile = \"scf_h2o.hdf5\"\n",
    "mol, mf = run_scf()"
   ]
  },
  {
   "cell_type": "code",
   "execution_count": 18,
   "id": "d84da931-0c25-4c86-8a46-986fa4c9226c",
   "metadata": {},
   "outputs": [],
   "source": [
    "import pyqmc.api as pyq \n",
    "# Jastrow optimization\n",
    "for fname in ['sj_h2o.hdf5', 'dmc_h2o.hdf5']:\n",
    "    if os.path.isfile(fname):\n",
    "        os.remove(fname)\n",
    "\n",
    "pyq.OPTIMIZE(scf_checkfile, \"sj_h2o.hdf5\", max_iterations=2, verbose=False)"
   ]
  },
  {
   "cell_type": "code",
   "execution_count": 19,
   "id": "4203f749-2081-4e74-b37e-3224f3d77674",
   "metadata": {},
   "outputs": [
    {
     "data": {
      "text/html": [
       "<div>\n",
       "<style scoped>\n",
       "    .dataframe tbody tr th:only-of-type {\n",
       "        vertical-align: middle;\n",
       "    }\n",
       "\n",
       "    .dataframe tbody tr th {\n",
       "        vertical-align: top;\n",
       "    }\n",
       "\n",
       "    .dataframe thead th {\n",
       "        text-align: right;\n",
       "    }\n",
       "</style>\n",
       "<table border=\"1\" class=\"dataframe\">\n",
       "  <thead>\n",
       "    <tr style=\"text-align: right;\">\n",
       "      <th></th>\n",
       "      <th>energy</th>\n",
       "      <th>iteration</th>\n",
       "      <th>error</th>\n",
       "      <th>fname</th>\n",
       "    </tr>\n",
       "  </thead>\n",
       "  <tbody>\n",
       "    <tr>\n",
       "      <th>0</th>\n",
       "      <td>-16.390289</td>\n",
       "      <td>0</td>\n",
       "      <td>0.004603</td>\n",
       "      <td>sj_h2o.hdf5</td>\n",
       "    </tr>\n",
       "    <tr>\n",
       "      <th>1</th>\n",
       "      <td>-16.483555</td>\n",
       "      <td>1</td>\n",
       "      <td>0.006310</td>\n",
       "      <td>sj_h2o.hdf5</td>\n",
       "    </tr>\n",
       "  </tbody>\n",
       "</table>\n",
       "</div>"
      ],
      "text/plain": [
       "      energy  iteration     error        fname\n",
       "0 -16.390289          0  0.004603  sj_h2o.hdf5\n",
       "1 -16.483555          1  0.006310  sj_h2o.hdf5"
      ]
     },
     "execution_count": 19,
     "metadata": {},
     "output_type": "execute_result"
    }
   ],
   "source": [
    "# Jastrow optimization results\n",
    "df = pyq.read_opt(\"sj_h2o.hdf5\")\n",
    "df"
   ]
  },
  {
   "cell_type": "code",
   "execution_count": 21,
   "id": "fdbd3a7a-714c-45c2-b0c8-68eba9e920e6",
   "metadata": {},
   "outputs": [
    {
     "ename": "AttributeError",
     "evalue": "module 'pyqmc.dmc' has no attribute 'runabdmc'",
     "output_type": "error",
     "traceback": [
      "\u001b[0;31m---------------------------------------------------------------------------\u001b[0m",
      "\u001b[0;31mAttributeError\u001b[0m                            Traceback (most recent call last)",
      "\u001b[0;32m/var/folders/th/ycprc3g104l98mlf5cj0pdts_3skv1/T/ipykernel_95140/2866065456.py\u001b[0m in \u001b[0;36m<module>\u001b[0;34m\u001b[0m\n\u001b[1;32m      1\u001b[0m \u001b[0;32mfrom\u001b[0m \u001b[0mrecipes\u001b[0m \u001b[0;32mimport\u001b[0m \u001b[0mABDMC\u001b[0m\u001b[0;34m\u001b[0m\u001b[0;34m\u001b[0m\u001b[0m\n\u001b[1;32m      2\u001b[0m \u001b[0;34m\u001b[0m\u001b[0m\n\u001b[0;32m----> 3\u001b[0;31m \u001b[0mABDMC\u001b[0m\u001b[0;34m(\u001b[0m\u001b[0;34m\"scf_h2o.hdf5\"\u001b[0m\u001b[0;34m,\u001b[0m \u001b[0;34m\"dmc_h2o.hdf5\"\u001b[0m\u001b[0;34m,\u001b[0m \u001b[0mload_parameters\u001b[0m\u001b[0;34m=\u001b[0m\u001b[0;34m\"sj_h2o.hdf5\"\u001b[0m\u001b[0;34m,\u001b[0m \u001b[0maccumulators\u001b[0m \u001b[0;34m=\u001b[0m \u001b[0;34m{\u001b[0m\u001b[0;34m\"energy\"\u001b[0m\u001b[0;34m:\u001b[0m \u001b[0;32mTrue\u001b[0m\u001b[0;34m}\u001b[0m\u001b[0;34m,\u001b[0m \u001b[0mverbose\u001b[0m\u001b[0;34m=\u001b[0m\u001b[0;32mFalse\u001b[0m\u001b[0;34m,\u001b[0m \u001b[0mnsteps\u001b[0m \u001b[0;34m=\u001b[0m \u001b[0;36m500\u001b[0m\u001b[0;34m,\u001b[0m \u001b[0mbranchtime\u001b[0m \u001b[0;34m=\u001b[0m \u001b[0;36m10\u001b[0m\u001b[0;34m,\u001b[0m \u001b[0mtstep\u001b[0m\u001b[0;34m=\u001b[0m \u001b[0;36m0.02\u001b[0m\u001b[0;34m)\u001b[0m\u001b[0;34m\u001b[0m\u001b[0;34m\u001b[0m\u001b[0m\n\u001b[0m",
      "\u001b[0;32m~/Documents/GitHub/pyqmc/pyqmc/recipes.py\u001b[0m in \u001b[0;36mABDMC\u001b[0;34m(dft_checkfile, output, nconfig, ci_checkfile, load_parameters, S, jastrow_kws, slater_kws, accumulators, **dmc_kws)\u001b[0m\n\u001b[1;32m    197\u001b[0m         \u001b[0mnconfig\u001b[0m\u001b[0;34m=\u001b[0m\u001b[0mnconfig\u001b[0m\u001b[0;34m,\u001b[0m\u001b[0;34m\u001b[0m\u001b[0;34m\u001b[0m\u001b[0m\n\u001b[1;32m    198\u001b[0m         \u001b[0mci_checkfile\u001b[0m\u001b[0;34m=\u001b[0m\u001b[0mci_checkfile\u001b[0m\u001b[0;34m,\u001b[0m\u001b[0;34m\u001b[0m\u001b[0;34m\u001b[0m\u001b[0m\n\u001b[0;32m--> 199\u001b[0;31m         \u001b[0mload_parameters\u001b[0m\u001b[0;34m=\u001b[0m\u001b[0mload_parameters\u001b[0m\u001b[0;34m,\u001b[0m\u001b[0;34m\u001b[0m\u001b[0;34m\u001b[0m\u001b[0m\n\u001b[0m\u001b[1;32m    200\u001b[0m         \u001b[0mS\u001b[0m\u001b[0;34m=\u001b[0m\u001b[0mS\u001b[0m\u001b[0;34m,\u001b[0m\u001b[0;34m\u001b[0m\u001b[0;34m\u001b[0m\u001b[0m\n\u001b[1;32m    201\u001b[0m         \u001b[0mjastrow_kws\u001b[0m\u001b[0;34m=\u001b[0m\u001b[0mjastrow_kws\u001b[0m\u001b[0;34m,\u001b[0m\u001b[0;34m\u001b[0m\u001b[0;34m\u001b[0m\u001b[0m\n",
      "\u001b[0;31mAttributeError\u001b[0m: module 'pyqmc.dmc' has no attribute 'runabdmc'"
     ]
    }
   ],
   "source": [
    "from recipes import ABDMC\n",
    "\n",
    "ABDMC(\"scf_h2o.hdf5\", \"dmc_h2o.hdf5\", load_parameters=\"sj_h2o.hdf5\", accumulators = {\"energy\": True}, verbose=False, nsteps = 500, branchtime = 10, tstep= 0.02)"
   ]
  },
  {
   "cell_type": "code",
   "execution_count": null,
   "id": "3b4d7431-cbdc-4fcc-b859-f312ee28cb69",
   "metadata": {},
   "outputs": [],
   "source": []
  }
 ],
 "metadata": {
  "kernelspec": {
   "display_name": "Python 3 (ipykernel)",
   "language": "python",
   "name": "python3"
  },
  "language_info": {
   "codemirror_mode": {
    "name": "ipython",
    "version": 3
   },
   "file_extension": ".py",
   "mimetype": "text/x-python",
   "name": "python",
   "nbconvert_exporter": "python",
   "pygments_lexer": "ipython3",
   "version": "3.9.13"
  }
 },
 "nbformat": 4,
 "nbformat_minor": 5
}
