{
 "cells": [
  {
   "cell_type": "code",
   "execution_count": 52,
   "id": "9401b533-ee0c-4e67-89b3-c94b99465b41",
   "metadata": {},
   "outputs": [],
   "source": [
    "import pyscf\n",
    "import seaborn as sns\n",
    "import numpy as np\n",
    "mol = pyscf.M(\n",
    "    atom = 'O 0 0 0; O 0 0 1.2',\n",
    "    basis = 'ccpvdz',\n",
    "    spin = 2)\n"
   ]
  },
  {
   "cell_type": "code",
   "execution_count": 2,
   "id": "36d31db6-cce9-4be4-b89e-d48d08abd681",
   "metadata": {},
   "outputs": [
    {
     "name": "stdout",
     "output_type": "stream",
     "text": [
      "converged SCF energy = -149.609461121647\n"
     ]
    }
   ],
   "source": [
    "myhf = mol.RHF().run()"
   ]
  },
  {
   "cell_type": "code",
   "execution_count": 38,
   "id": "0b53d83a-5c5b-4899-bc48-4c99f4824153",
   "metadata": {},
   "outputs": [
    {
     "name": "stdout",
     "output_type": "stream",
     "text": [
      "CASCI E = -149.670911036911  E(CI) = -20.6737117988756  S^2 = 2.0000000\n"
     ]
    }
   ],
   "source": [
    "norb = 6\n",
    "nelec = 8\n",
    "mycas = myhf.CASCI(norb, nelec).run()"
   ]
  },
  {
   "cell_type": "code",
   "execution_count": 44,
   "id": "4ffac960-ee2f-4b31-b006-3c99459ec2e9",
   "metadata": {},
   "outputs": [
    {
     "name": "stdout",
     "output_type": "stream",
     "text": [
      "Natural occ [1.98127705 1.95671369 1.95671369 1.04270854 1.04270854 0.01987848]\n",
      "Natural orbital (expansion on meta-Lowdin AOs) in CAS space\n",
      "               #1        #2        #3        #4        #5       \n",
      "0 O 1s          -0.00063   0.00000   0.00000   0.00000  -0.00000\n",
      "0 O 2s          -0.30447  -0.00000  -0.00000  -0.00000   0.00000\n",
      "0 O 3s          -0.04894   0.00000  -0.00000  -0.00000   0.00000\n",
      "0 O 2px         -0.00000   0.68358  -0.17620   0.67112   0.22229\n",
      "0 O 2py         -0.00000   0.17620   0.68358   0.22229  -0.67112\n",
      "0 O 2pz          0.63298   0.00000   0.00000   0.00000  -0.00000\n",
      "0 O 3px          0.00000  -0.01729   0.00446   0.01169   0.00387\n",
      "0 O 3py         -0.00000  -0.00446  -0.01729   0.00387  -0.01169\n",
      "0 O 3pz         -0.04813   0.00000  -0.00000  -0.00000   0.00000\n",
      "0 O 3dxy        -0.00000  -0.00000  -0.00000   0.00000   0.00000\n",
      "0 O 3dyz        -0.00000   0.00917   0.03559  -0.00171   0.00517\n",
      "0 O 3dz^2        0.04383   0.00000   0.00000   0.00000  -0.00000\n",
      "0 O 3dxz        -0.00000   0.03559  -0.00917  -0.00517  -0.00171\n",
      "0 O 3dx2-y2      0.00000   0.00000  -0.00000   0.00000  -0.00000\n",
      "1 O 1s          -0.00063   0.00000  -0.00000   0.00000  -0.00000\n",
      "1 O 2s          -0.30447  -0.00000  -0.00000   0.00000  -0.00000\n",
      "1 O 3s          -0.04894  -0.00000   0.00000   0.00000  -0.00000\n",
      "1 O 2px         -0.00000   0.68358  -0.17620  -0.67112  -0.22229\n",
      "1 O 2py         -0.00000   0.17620   0.68358  -0.22229   0.67112\n",
      "1 O 2pz         -0.63298  -0.00000  -0.00000   0.00000   0.00000\n",
      "1 O 3px          0.00000  -0.01729   0.00446  -0.01169  -0.00387\n",
      "1 O 3py          0.00000  -0.00446  -0.01729  -0.00387   0.01169\n",
      "1 O 3pz          0.04813   0.00000  -0.00000  -0.00000   0.00000\n",
      "1 O 3dxy        -0.00000  -0.00000  -0.00000   0.00000  -0.00000\n",
      "1 O 3dyz         0.00000  -0.00917  -0.03559  -0.00171   0.00517\n",
      "1 O 3dz^2        0.04383   0.00000   0.00000  -0.00000  -0.00000\n",
      "1 O 3dxz         0.00000  -0.03559   0.00917  -0.00517  -0.00171\n",
      "1 O 3dx2-y2      0.00000   0.00000  -0.00000  -0.00000   0.00000\n",
      "               #6       \n",
      "0 O 1s           0.00064\n",
      "0 O 2s          -0.29437\n",
      "0 O 3s          -0.02273\n",
      "0 O 2px         -0.00000\n",
      "0 O 2py         -0.00000\n",
      "0 O 2pz         -0.57713\n",
      "0 O 3px          0.00000\n",
      "0 O 3py         -0.00000\n",
      "0 O 3pz         -0.27331\n",
      "0 O 3dxy         0.00000\n",
      "0 O 3dyz         0.00000\n",
      "0 O 3dz^2        0.07110\n",
      "0 O 3dxz        -0.00000\n",
      "0 O 3dx2-y2     -0.00000\n",
      "1 O 1s          -0.00064\n",
      "1 O 2s           0.29437\n",
      "1 O 3s           0.02273\n",
      "1 O 2px          0.00000\n",
      "1 O 2py          0.00000\n",
      "1 O 2pz         -0.57713\n",
      "1 O 3px         -0.00000\n",
      "1 O 3py         -0.00000\n",
      "1 O 3pz         -0.27331\n",
      "1 O 3dxy         0.00000\n",
      "1 O 3dyz         0.00000\n",
      "1 O 3dz^2       -0.07110\n",
      "1 O 3dxz        -0.00000\n",
      "1 O 3dx2-y2     -0.00000\n",
      "<mo_coeff-mcscf|mo_coeff-hf>  1      1        1.00000000\n",
      "<mo_coeff-mcscf|mo_coeff-hf>  2      2        1.00000000\n",
      "<mo_coeff-mcscf|mo_coeff-hf>  3      3        1.00000000\n",
      "<mo_coeff-mcscf|mo_coeff-hf>  4      4        1.00000000\n",
      "<mo_coeff-mcscf|mo_coeff-hf>  5      5        1.00000000\n",
      "<mo_coeff-mcscf|mo_coeff-hf>  6      6        1.00000000\n",
      "<mo_coeff-mcscf|mo_coeff-hf>  7      7        1.00000000\n",
      "<mo_coeff-mcscf|mo_coeff-hf>  8      8        1.00000000\n",
      "<mo_coeff-mcscf|mo_coeff-hf>  9      9        1.00000000\n",
      "<mo_coeff-mcscf|mo_coeff-hf>  10     10       1.00000000\n",
      "<mo_coeff-mcscf|mo_coeff-hf>  11     11       0.99999970\n",
      "<mo_coeff-mcscf|mo_coeff-hf>  12     12       0.93158206\n",
      "<mo_coeff-mcscf|mo_coeff-hf>  13     13       0.93158206\n",
      "<mo_coeff-mcscf|mo_coeff-hf>  14     14       0.99998786\n",
      "<mo_coeff-mcscf|mo_coeff-hf>  15     15       0.94017570\n",
      "<mo_coeff-mcscf|mo_coeff-hf>  16     16       0.94017570\n",
      "<mo_coeff-mcscf|mo_coeff-hf>  17     17       0.99998781\n",
      "<mo_coeff-mcscf|mo_coeff-hf>  18     18       0.99999969\n",
      "<mo_coeff-mcscf|mo_coeff-hf>  19     20       0.97468946\n",
      "<mo_coeff-mcscf|mo_coeff-hf>  20     19       0.97468946\n",
      "<mo_coeff-mcscf|mo_coeff-hf>  21     21      -0.66630708\n",
      "<mo_coeff-mcscf|mo_coeff-hf>  21     22       0.74567746\n",
      "<mo_coeff-mcscf|mo_coeff-hf>  22     21       0.74567746\n",
      "<mo_coeff-mcscf|mo_coeff-hf>  22     22       0.66630708\n",
      "<mo_coeff-mcscf|mo_coeff-hf>  23     23      -0.58583438\n",
      "<mo_coeff-mcscf|mo_coeff-hf>  23     24       0.81043080\n",
      "<mo_coeff-mcscf|mo_coeff-hf>  24     23       0.81043080\n",
      "<mo_coeff-mcscf|mo_coeff-hf>  24     24       0.58583438\n",
      "<mo_coeff-mcscf|mo_coeff-hf>  25     25       0.99999995\n",
      "<mo_coeff-mcscf|mo_coeff-hf>  26     27       0.94193502\n",
      "<mo_coeff-mcscf|mo_coeff-hf>  27     26       0.94193502\n",
      "<mo_coeff-mcscf|mo_coeff-hf>  28     28       0.99999997\n",
      "** Largest CI components **\n",
      "  [alpha occ-orbitals] [beta occ-orbitals]            CI coefficient\n",
      "  [0 1 2 3 4]          [0 1 2]                         0.973574059742\n",
      "  [0 1 2 3 4]          [0 3 4]                        -0.187737425144\n",
      " ** Mulliken pop on meta-lowdin orthogonal AOs  **\n",
      " ** Mulliken pop  **\n",
      "pop of  0 O 1s            1.99999\n",
      "pop of  0 O 2s            1.78300\n",
      "pop of  0 O 3s            0.00789\n",
      "pop of  0 O 2px           1.49626\n",
      "pop of  0 O 2py           1.49626\n",
      "pop of  0 O 2pz           1.19312\n",
      "pop of  0 O 3px           0.00078\n",
      "pop of  0 O 3py           0.00078\n",
      "pop of  0 O 3pz           0.00982\n",
      "pop of  0 O 3dxy          0.00000\n",
      "pop of  0 O 3dyz          0.00267\n",
      "pop of  0 O 3dz^2         0.00675\n",
      "pop of  0 O 3dxz          0.00267\n",
      "pop of  0 O 3dx2-y2       0.00000\n",
      "pop of  1 O 1s            1.99999\n",
      "pop of  1 O 2s            1.78300\n",
      "pop of  1 O 3s            0.00789\n",
      "pop of  1 O 2px           1.49626\n",
      "pop of  1 O 2py           1.49626\n",
      "pop of  1 O 2pz           1.19312\n",
      "pop of  1 O 3px           0.00078\n",
      "pop of  1 O 3py           0.00078\n",
      "pop of  1 O 3pz           0.00982\n",
      "pop of  1 O 3dxy          0.00000\n",
      "pop of  1 O 3dyz          0.00267\n",
      "pop of  1 O 3dz^2         0.00675\n",
      "pop of  1 O 3dxz          0.00267\n",
      "pop of  1 O 3dx2-y2       0.00000\n",
      " ** Mulliken atomic charges  **\n",
      "charge of    0O =     -0.00000\n",
      "charge of    1O =      0.00000\n",
      "Mulliken spin population analysis on meta-Lowdin AOs:\n",
      " ** Mulliken pop on meta-lowdin orthogonal AOs  **\n",
      " ** Mulliken pop  **\n",
      "pop of  0 O 1s           -0.00000\n",
      "pop of  0 O 2s            0.00000\n",
      "pop of  0 O 3s            0.00000\n",
      "pop of  0 O 2px           0.49975\n",
      "pop of  0 O 2py           0.49975\n",
      "pop of  0 O 2pz           0.00002\n",
      "pop of  0 O 3px           0.00016\n",
      "pop of  0 O 3py           0.00016\n",
      "pop of  0 O 3pz          -0.00002\n",
      "pop of  0 O 3dxy          0.00000\n",
      "pop of  0 O 3dyz          0.00009\n",
      "pop of  0 O 3dz^2        -0.00000\n",
      "pop of  0 O 3dxz          0.00009\n",
      "pop of  0 O 3dx2-y2       0.00000\n",
      "pop of  1 O 1s           -0.00000\n",
      "pop of  1 O 2s            0.00000\n",
      "pop of  1 O 3s            0.00000\n",
      "pop of  1 O 2px           0.49975\n",
      "pop of  1 O 2py           0.49975\n",
      "pop of  1 O 2pz           0.00002\n",
      "pop of  1 O 3px           0.00016\n",
      "pop of  1 O 3py           0.00016\n",
      "pop of  1 O 3pz          -0.00002\n",
      "pop of  1 O 3dxy          0.00000\n",
      "pop of  1 O 3dyz          0.00009\n",
      "pop of  1 O 3dz^2        -0.00000\n",
      "pop of  1 O 3dxz          0.00009\n",
      "pop of  1 O 3dx2-y2       0.00000\n",
      " ** Mulliken atomic charges  **\n",
      "charge of    0O =      7.00000\n",
      "charge of    1O =      7.00000\n",
      "spop of 0 O 1s         -0.00000\n",
      "spop of 0 O 2s          0.00000\n",
      "spop of 0 O 3s          0.00000\n",
      "spop of 0 O 2px         0.49975\n",
      "spop of 0 O 2py         0.49975\n",
      "spop of 0 O 2pz         0.00002\n",
      "spop of 0 O 3px         0.00016\n",
      "spop of 0 O 3py         0.00016\n",
      "spop of 0 O 3pz        -0.00002\n",
      "spop of 0 O 3dxy        0.00000\n",
      "spop of 0 O 3dyz        0.00009\n",
      "spop of 0 O 3dz^2      -0.00000\n",
      "spop of 0 O 3dxz        0.00009\n",
      "spop of 0 O 3dx2-y2     0.00000\n",
      "spop of 1 O 1s         -0.00000\n",
      "spop of 1 O 2s          0.00000\n",
      "spop of 1 O 3s          0.00000\n",
      "spop of 1 O 2px         0.49975\n",
      "spop of 1 O 2py         0.49975\n",
      "spop of 1 O 2pz         0.00002\n",
      "spop of 1 O 3px         0.00016\n",
      "spop of 1 O 3py         0.00016\n",
      "spop of 1 O 3pz        -0.00002\n",
      "spop of 1 O 3dxy        0.00000\n",
      "spop of 1 O 3dyz        0.00009\n",
      "spop of 1 O 3dz^2      -0.00000\n",
      "spop of 1 O 3dxz        0.00009\n",
      "spop of 1 O 3dx2-y2     0.00000\n",
      "Mulliken atomic spins:\n",
      "spin of  0O =      1.00000\n",
      "spin of  1O =      1.00000\n"
     ]
    }
   ],
   "source": [
    "mycas.verbose = 4\n",
    "a = mycas.analyze()"
   ]
  },
  {
   "cell_type": "code",
   "execution_count": 45,
   "id": "c330284c-6b18-4f42-a4f5-2b00142ac641",
   "metadata": {},
   "outputs": [
    {
     "data": {
      "text/plain": [
       "(6, 20)"
      ]
     },
     "execution_count": 45,
     "metadata": {},
     "output_type": "execute_result"
    }
   ],
   "source": [
    "mycas.ci.shape"
   ]
  },
  {
   "cell_type": "code",
   "execution_count": 63,
   "id": "2aade151-937a-41db-b2fa-f5a29d121e5e",
   "metadata": {},
   "outputs": [
    {
     "data": {
      "text/plain": [
       "0.973574059742124"
      ]
     },
     "execution_count": 63,
     "metadata": {},
     "output_type": "execute_result"
    }
   ],
   "source": [
    "np.max(np.abs(mycas.ci[0]))"
   ]
  },
  {
   "cell_type": "code",
   "execution_count": 64,
   "id": "3aa27419-f924-4986-8119-b22d754611d0",
   "metadata": {},
   "outputs": [
    {
     "data": {
      "text/plain": [
       "<Axes: >"
      ]
     },
     "execution_count": 64,
     "metadata": {},
     "output_type": "execute_result"
    },
    {
     "data": {
      "image/png": "[encoded data removed]",
      "text/plain": [
       "<Figure size 640x480 with 2 Axes>"
      ]
     },
     "metadata": {},
     "output_type": "display_data"
    }
   ],
   "source": [
    "sns.heatmap(mycas.ci, linewidths=.5)"
   ]
  },
  {
   "cell_type": "code",
   "execution_count": 53,
   "id": "4d7834df-2658-49da-ab1f-f6b58a19cbb6",
   "metadata": {},
   "outputs": [
    {
     "data": {
      "text/plain": [
       "FCIvector([[ 9.73574060e-01, -9.40914013e-15, -2.70572744e-15,\n",
       "             1.03300026e-15, -1.16161271e-14,  9.57321305e-16,\n",
       "             4.25913801e-15, -1.87737425e-01, -8.96548326e-16,\n",
       "             2.02992459e-16,  3.50176838e-16, -6.88711768e-16,\n",
       "             2.35597298e-15, -4.30834505e-16, -5.93618903e-02,\n",
       "            -5.30437216e-03, -2.41190087e-17,  5.30437216e-03,\n",
       "            -5.93618903e-02,  2.74076737e-16],\n",
       "           [ 4.82162615e-15, -2.42961810e-16, -3.22736112e-17,\n",
       "            -6.69669282e-18, -1.04793199e-17, -2.53793112e-16,\n",
       "            -3.08287948e-16, -8.95763749e-16, -8.57508744e-04,\n",
       "            -7.66240005e-05,  2.36367586e-16,  1.35874674e-16,\n",
       "            -1.80456778e-16,  1.57687738e-03, -2.82158570e-16,\n",
       "            -2.67646805e-17, -6.08207631e-19,  2.74239498e-17,\n",
       "            -2.85696332e-16,  8.68932554e-17],\n",
       "           [-3.41146202e-16,  8.50875614e-17,  1.38513583e-17,\n",
       "             3.77217526e-16, -2.53479779e-18,  4.10826286e-17,\n",
       "             3.51451611e-17,  5.42829739e-17,  7.66240005e-05,\n",
       "            -8.57508744e-04, -4.00512821e-16, -1.22074291e-16,\n",
       "             4.82306355e-17,  1.11341943e-18,  2.54991723e-17,\n",
       "            -3.92672036e-18,  1.57687738e-03,  4.98402524e-18,\n",
       "             2.39960366e-17, -2.35151931e-17],\n",
       "           [ 4.45728669e-16,  7.56891831e-17, -3.05563484e-18,\n",
       "             2.88306363e-04,  5.97273235e-17,  6.13074548e-17,\n",
       "            -2.57620544e-05, -8.61833378e-17, -1.80320982e-17,\n",
       "             7.11800272e-17, -1.69232892e-02,  3.56770714e-19,\n",
       "             2.22221568e-17, -8.13048479e-17, -9.68556548e-18,\n",
       "            -2.07732764e-18,  2.70368343e-17,  7.58580143e-17,\n",
       "            -2.33520126e-17, -2.36011084e-17],\n",
       "           [-4.21070409e-16,  4.61873609e-16,  6.78774480e-17,\n",
       "             2.57620544e-05, -1.70945278e-17,  5.16312660e-16,\n",
       "             2.88306363e-04,  8.27521662e-17, -5.69419945e-17,\n",
       "             1.43273076e-17,  2.71595459e-18, -1.69232892e-02,\n",
       "             2.07824249e-16,  1.40397918e-16,  2.55549492e-17,\n",
       "             1.84690730e-17,  2.21238033e-16, -4.49894003e-18,\n",
       "             9.88052311e-17, -1.63876234e-16],\n",
       "           [ 3.14215315e-15, -5.82160752e-02, -5.20198611e-03,\n",
       "            -1.19758167e-16,  5.20198611e-03, -5.82160752e-02,\n",
       "            -1.05891759e-16,  1.29286941e-16, -2.64807882e-16,\n",
       "             1.77866484e-17,  2.41469343e-17, -7.39453632e-17,\n",
       "            -4.35691771e-02,  1.14525419e-16, -1.57012271e-18,\n",
       "            -1.39084964e-16, -4.66113887e-18,  4.36607074e-16,\n",
       "            -3.80395653e-16,  2.22313481e-02]])"
      ]
     },
     "execution_count": 53,
     "metadata": {},
     "output_type": "execute_result"
    }
   ],
   "source": [
    "mycas.ci"
   ]
  },
  {
   "cell_type": "code",
   "execution_count": 72,
   "id": "7b4ce069-5435-410f-8444-1c0c9fc00768",
   "metadata": {},
   "outputs": [
    {
     "data": {
      "text/plain": [
       "[(0.973574059742124,\n",
       "  OIndexList([0, 1, 2, 3, 4], dtype=int32),\n",
       "  OIndexList([0, 1, 2], dtype=int32)),\n",
       " (-0.18773742514354816,\n",
       "  OIndexList([0, 1, 2, 3, 4], dtype=int32),\n",
       "  OIndexList([0, 3, 4], dtype=int32)),\n",
       " (-0.05936189025919949,\n",
       "  OIndexList([0, 1, 2, 3, 4], dtype=int32),\n",
       "  OIndexList([1, 3, 5], dtype=int32)),\n",
       " (-0.05936189025919975,\n",
       "  OIndexList([0, 1, 2, 3, 4], dtype=int32),\n",
       "  OIndexList([2, 4, 5], dtype=int32)),\n",
       " (-0.016923289233156592,\n",
       "  OIndexList([0, 1, 3, 4, 5], dtype=int32),\n",
       "  OIndexList([0, 1, 5], dtype=int32)),\n",
       " (-0.01692328923315665,\n",
       "  OIndexList([0, 2, 3, 4, 5], dtype=int32),\n",
       "  OIndexList([0, 2, 5], dtype=int32)),\n",
       " (-0.05821607515221551,\n",
       "  OIndexList([1, 2, 3, 4, 5], dtype=int32),\n",
       "  OIndexList([0, 1, 3], dtype=int32)),\n",
       " (-0.05821607515221558,\n",
       "  OIndexList([1, 2, 3, 4, 5], dtype=int32),\n",
       "  OIndexList([0, 2, 4], dtype=int32)),\n",
       " (-0.04356917710529754,\n",
       "  OIndexList([1, 2, 3, 4, 5], dtype=int32),\n",
       "  OIndexList([1, 2, 5], dtype=int32)),\n",
       " (0.022231348128133117,\n",
       "  OIndexList([1, 2, 3, 4, 5], dtype=int32),\n",
       "  OIndexList([3, 4, 5], dtype=int32))]"
      ]
     },
     "execution_count": 72,
     "metadata": {},
     "output_type": "execute_result"
    }
   ],
   "source": [
    "mycas.fcisolver.large_ci(mycas.ci, mycas.ncas, mycas.nelecas, 10**-2, return_strs=False)"
   ]
  },
  {
   "cell_type": "code",
   "execution_count": null,
   "id": "ca3a7aed-1843-4bb6-9f76-e3545721872a",
   "metadata": {},
   "outputs": [],
   "source": []
  },
  {
   "cell_type": "code",
   "execution_count": null,
   "id": "b9eca5b7-4124-4752-8c7c-43a659ef7cb7",
   "metadata": {},
   "outputs": [],
   "source": []
  }
 ],
 "metadata": {
  "kernelspec": {
   "display_name": "Python 3 (ipykernel)",
   "language": "python",
   "name": "python3"
  },
  "language_info": {
   "codemirror_mode": {
    "name": "ipython",
    "version": 3
   },
   "file_extension": ".py",
   "mimetype": "text/x-python",
   "name": "python",
   "nbconvert_exporter": "python",
   "pygments_lexer": "ipython3",
   "version": "3.11.6"
  }
 },
 "nbformat": 4,
 "nbformat_minor": 5
}
