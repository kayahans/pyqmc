{
 "cells": [
  {
   "cell_type": "code",
   "execution_count": 87,
   "id": "bcac56e6-5690-45d8-bf04-8278d8e9908d",
   "metadata": {
    "tags": []
   },
   "outputs": [
    {
     "name": "stdout",
     "output_type": "stream",
     "text": [
      "/Users/ksu/Documents/GitHub/pyqmc/pyqmc/api.py\n",
      "/Users/ksu/Software/anaconda3/lib/python3.11/site-packages/pyscf/__init__.py\n"
     ]
    }
   ],
   "source": [
    "# Wavefunction generation\n",
    "from pyscf import mcscf, fci, lib \n",
    "from pyscf import gto, scf, tools, dft\n",
    "import api as pyq \n",
    "import importlib\n",
    "import os\n",
    "import h5py\n",
    "import pandas as pd\n",
    "import pdb\n",
    "import pyscf\n",
    "import numpy as np\n",
    "import pyqmc\n",
    "import scipy\n",
    "import matplotlib.pyplot as plt\n",
    "from pyscf.scf.hf import dump_scf_summary\n",
    "from concurrent.futures import ProcessPoolExecutor\n",
    "from pyscf.scf.chkfile import dump_scf\n",
    "print(pyq.__file__)\n",
    "print(pyscf.__file__)"
   ]
  },
  {
   "cell_type": "code",
   "execution_count": 88,
   "id": "6625c1e6-505e-4c73-bb02-071a75e92a71",
   "metadata": {
    "tags": []
   },
   "outputs": [
    {
     "name": "stdout",
     "output_type": "stream",
     "text": [
      "He atom neutral LDA spin=0\n",
      "HF\n",
      "converged SCF energy = -2.85516047724274  <S^2> = 0  2S+1 = 1\n",
      "LDA\n",
      "converged SCF energy = -2.82670655418611  <S^2> = 4.4408921e-16  2S+1 = 1\n"
     ]
    }
   ],
   "source": [
    "# H2 molecule\n",
    "def run_scf(scf_checkfile):\n",
    "    mol = gto.M(atom=\"H 0. 0. 0.;H 0. 0. 1.;\", basis=f'ccecpccpvdz', unit='bohr')\n",
    "    mf = scf.UHF(mol)\n",
    "    mf.chkfile = scf_checkfile\n",
    "    dm = mf.init_guess_by_atom()\n",
    "    mf.kernel(dm)\n",
    "    dump_scf(mf.mol, 'scf.hdf5', mf.energy_tot(), mf.mo_energy, mf.mo_coeff, mf.mo_occ)\n",
    "    return mf\n",
    "\n",
    "def run_lda_be(scf_checkfile):\n",
    "    print(\"Be atom neutral LDA spin=2\")\n",
    "    mol = gto.M(atom=\"Be 0. 0. 0.\", spin=2,basis=f'ccpvdz', unit='bohr')\n",
    "    print(\"HF\")\n",
    "    mf = scf.UHF(mol)\n",
    "    mf.kernel()\n",
    "    print(\"LDA\")        \n",
    "    mf = dft.UKS(mol)\n",
    "    # mf.verbose=6\n",
    "    mf.chkfile = scf_checkfile\n",
    "    dm = mf.init_guess_by_atom()\n",
    "    mf.kernel(dm, xc='LDA')\n",
    "    return mf\n",
    "\n",
    "def run_lda_li(scf_checkfile):\n",
    "    print(\"Li atom neutral LDA spin=1\")\n",
    "    mol = gto.M(atom=\"Li 0. 0. 0.\",basis=f'ccpvtz', spin=1, unit='bohr')\n",
    "    print(\"HF\")\n",
    "    mf = scf.UHF(mol)\n",
    "    mf.kernel()\n",
    "    print(\"LDA\")    \n",
    "    mf = dft.UKS(mol)\n",
    "    # mf.verbose=6\n",
    "    mf.chkfile = scf_checkfile\n",
    "    dm = mf.init_guess_by_atom()\n",
    "    mf.kernel(dm, xc='LDA')\n",
    "    return mf\n",
    "\n",
    "def run_lda_he(scf_checkfile):\n",
    "    print(\"He atom neutral LDA spin=0\")\n",
    "    # mol = gto.M(atom=\"He 0. 0. 0.\", basis=\"ccECP_cc-pVDZ\", ecp=\"ccecp\", unit='bohr')\n",
    "    mol = gto.M(atom=\"He 0. 0. 0.\", basis=\"ccpvdz\", unit='bohr')    \n",
    "    print(\"HF\")\n",
    "    mf = scf.UHF(mol)\n",
    "    mf.kernel()\n",
    "    print(\"LDA\")    \n",
    "    mf = dft.UKS(mol)\n",
    "    # mf.verbose=6\n",
    "    mf.chkfile = scf_checkfile\n",
    "    dm = mf.init_guess_by_atom()\n",
    "    mf.kernel(dm, xc='LDA')\n",
    "    return mf\n",
    "\n",
    "def run_lda_h2(scf_checkfile):\n",
    "    mol = gto.M(atom=\"H 0. 0. 0.; H 0. 0. 2\", spin = 2, basis=f'ccecpccpvdz', unit='bohr')\n",
    "    mf = dft.UKS(mol)\n",
    "    # mf.verbose=6\n",
    "    mf.chkfile = scf_checkfile\n",
    "    dm = mf.init_guess_by_atom()\n",
    "    mf.xc='LDA, VWN'\n",
    "    mf.kernel()    \n",
    "    # mf.kernel(dm, xc='LDA,VWN')\n",
    "    return mf\n",
    "\n",
    "def run_lda(scf_checkfile):\n",
    "    mol = gto.M(atom=\"H 0. 0. 0.\", spin=1,basis=f'ccecpccpvdz', unit='bohr')\n",
    "    mf = dft.UKS(mol)\n",
    "    # mf.verbose=6\n",
    "    mf.chkfile = scf_checkfile\n",
    "    dm = mf.init_guess_by_atom()\n",
    "    mf.kernel(dm, xc='LDA')\n",
    "    return mf\n",
    "    \n",
    "def run_casscf(scf_checkfile, ci_checkfile):\n",
    "    cell, mf = pyq.recover_pyscf(scf_checkfile, cancel_outputs=False)\n",
    "    mc = mcscf.CASSCF(mf,2,2)\n",
    "    mc.chkfile = ci_checkfile\n",
    "    mc.kernel()\n",
    "    with h5py.File(mc.chkfile, \"a\") as f:\n",
    "        print(\"Available output from CASSCF:\", f[\"mcscf\"].keys())\n",
    "        f[\"mcscf/nelecas\"] = list(mc.nelecas)\n",
    "        f[\"mcscf/ci\"] = mc.ci\n",
    "    return mc\n",
    "\n",
    "def run_casci(scf_checkfile, ci_checkfile):\n",
    "    cell, mf = pyq.recover_pyscf(scf_checkfile, cancel_outputs=False)\n",
    "    # ncas: orbitals\n",
    "    # nelecas: electrons\n",
    "    ncas = 2\n",
    "    nelecas = mf.nelec\n",
    "    mc = mcscf.CASCI(mf, ncas, nelecas)\n",
    "    mc.kernel()\n",
    "    print(mc.__dict__.keys())\n",
    "    with h5py.File(ci_checkfile, \"a\") as f:\n",
    "        f.create_group(\"ci\")\n",
    "        f[\"ci/ncas\"] = mc.ncas\n",
    "        f[\"ci/nelecas\"] = list(mc.nelecas)\n",
    "        f[\"ci/ci\"] = mc.ci\n",
    "        f[\"ci/mo_coeff\"] = mc.mo_coeff\n",
    "        print(\"Available output from CASCI:\", f[\"ci\"].keys())\n",
    "    return mc\n",
    "\n",
    "def make_wf_object(scf_checkfile, ci_checkfile):\n",
    "    mol, mf, mc = pyq.recover_pyscf(scf_checkfile, ci_checkfile=ci_checkfile)\n",
    "    wf, _ = pyq.generate_wf(mol, mf, mc=mc)\n",
    "    return wf\n",
    "\n",
    "def stat_qmc(etot, filename):\n",
    "    block_sizes = np.linspace(2,len(etot[discard:])//16, 10, dtype=int)\n",
    "    reblocks = [len(etot)//s for s in block_sizes]\n",
    "\n",
    "    plt.figure()\n",
    "    df = pd.DataFrame([pyq.read_mc_output(filename, warmup=discard, reblock=reblock) for reblock in reblocks])\n",
    "    df['block_size'] = block_sizes\n",
    "    plt.plot(\"block_size\",'energytotal_err',data=df, marker='o')\n",
    "    plt.xlabel(\"Block size\")\n",
    "    plt.ylabel(\"Estimated uncertainty (Ha)\")\n",
    "\n",
    "def reblock(e, discard, reblock_size):\n",
    "    e = e[discard:]\n",
    "    vals = pyqmc.reblock.reblock(e,int(len(e)/reblock_size))\n",
    "    # import pdb\n",
    "    # pdb.set_trace()\n",
    "    \n",
    "    e_m  = np.mean(vals, axis=0)\n",
    "    e_d  = scipy.stats.sem(vals, axis=0)    \n",
    "    return e, e_m, e_d\n",
    "\n",
    "for fname in ['scf.hdf5']:\n",
    "    if os.path.isfile(fname):\n",
    "        os.remove(fname)    \n",
    "            \n",
    "scf_checkfile = \"scf.hdf5\"\n",
    "ci_checkfile = \"ci.hdf5\"\n",
    "# mf = run_scf(scf_checkfile)\n",
    "mf_lda = run_lda_he(scf_checkfile)\n",
    "# mcc = run_casci(scf_checkfile, ci_checkfile)"
   ]
  },
  {
   "cell_type": "code",
   "execution_count": null,
   "id": "a21b12c9-2f91-4520-bfdb-8af35de38c53",
   "metadata": {
    "tags": []
   },
   "outputs": [],
   "source": []
  },
  {
   "cell_type": "code",
   "execution_count": null,
   "id": "57efad5e-e3ae-478d-bcfe-a43cb036c08e",
   "metadata": {
    "tags": []
   },
   "outputs": [],
   "source": []
  },
  {
   "cell_type": "code",
   "execution_count": null,
   "id": "77075405-6920-419a-aa0d-b8558d2ed480",
   "metadata": {
    "tags": []
   },
   "outputs": [],
   "source": []
  },
  {
   "cell_type": "code",
   "execution_count": null,
   "id": "1e5ec896-5c38-49be-a9c2-bf0ec1dc7fd2",
   "metadata": {
    "tags": []
   },
   "outputs": [],
   "source": []
  },
  {
   "cell_type": "code",
   "execution_count": 89,
   "id": "4a2b66fa-7ba6-4076-9658-7fd824dfe4fa",
   "metadata": {
    "tags": []
   },
   "outputs": [
    {
     "name": "stdout",
     "output_type": "stream",
     "text": [
      "RUNNING VMC OPTIMIZATION\n",
      "starting warmup\n",
      "finished warmup\n",
      "----------vmc done\n",
      "descent en -2.8547746133357648 0.02758373349326495  estimated sigma  3.9009290007060287\n",
      "descent |grad| 0.6925597028991409\n",
      "----------vmc done\n",
      "descent en -2.9323453259891954 0.008736981968612017  estimated sigma  1.2355958394220299\n",
      "descent |grad| 0.14085518484552467\n",
      "----------vmc done\n",
      "descent en -2.8702891413673983 0.014307222729298458  estimated sigma  2.023346842366649\n",
      "descent |grad| 0.1849876481641584\n",
      "----------vmc done\n",
      "descent en -2.9398715051830098 0.006320854190307458  estimated sigma  0.8939037721715617\n",
      "descent |grad| 0.06870607564040998\n"
     ]
    },
    {
     "data": {
      "text/html": [
       "<div>\n",
       "<style scoped>\n",
       "    .dataframe tbody tr th:only-of-type {\n",
       "        vertical-align: middle;\n",
       "    }\n",
       "\n",
       "    .dataframe tbody tr th {\n",
       "        vertical-align: top;\n",
       "    }\n",
       "\n",
       "    .dataframe thead th {\n",
       "        text-align: right;\n",
       "    }\n",
       "</style>\n",
       "<table border=\"1\" class=\"dataframe\">\n",
       "  <thead>\n",
       "    <tr style=\"text-align: right;\">\n",
       "      <th></th>\n",
       "      <th>energy</th>\n",
       "      <th>iteration</th>\n",
       "      <th>error</th>\n",
       "      <th>fname</th>\n",
       "    </tr>\n",
       "  </thead>\n",
       "  <tbody>\n",
       "    <tr>\n",
       "      <th>0</th>\n",
       "      <td>-2.854775</td>\n",
       "      <td>0</td>\n",
       "      <td>0.027584</td>\n",
       "      <td>sj.hdf5</td>\n",
       "    </tr>\n",
       "    <tr>\n",
       "      <th>1</th>\n",
       "      <td>-2.932345</td>\n",
       "      <td>1</td>\n",
       "      <td>0.008737</td>\n",
       "      <td>sj.hdf5</td>\n",
       "    </tr>\n",
       "    <tr>\n",
       "      <th>2</th>\n",
       "      <td>-2.870289</td>\n",
       "      <td>2</td>\n",
       "      <td>0.014307</td>\n",
       "      <td>sj.hdf5</td>\n",
       "    </tr>\n",
       "    <tr>\n",
       "      <th>3</th>\n",
       "      <td>-2.939872</td>\n",
       "      <td>3</td>\n",
       "      <td>0.006321</td>\n",
       "      <td>sj.hdf5</td>\n",
       "    </tr>\n",
       "  </tbody>\n",
       "</table>\n",
       "</div>"
      ],
      "text/plain": [
       "     energy  iteration     error    fname\n",
       "0 -2.854775          0  0.027584  sj.hdf5\n",
       "1 -2.932345          1  0.008737  sj.hdf5\n",
       "2 -2.870289          2  0.014307  sj.hdf5\n",
       "3 -2.939872          3  0.006321  sj.hdf5"
      ]
     },
     "execution_count": 89,
     "metadata": {},
     "output_type": "execute_result"
    }
   ],
   "source": [
    "from recipes import ABOPTIMIZE, OPTIMIZE\n",
    "import importlib, recipes, abdmc, wftools, bosonwf, determinant_tools, mc, dmc, slater, orbitals, accumulators, energy, jastrowspin, multiplywf\n",
    "modules = [recipes, abdmc, wftools, bosonwf, determinant_tools, mc, dmc, slater, orbitals, accumulators, energy, jastrowspin, multiplywf] # Reloads recipes.py file after each update\n",
    "for m in modules:\n",
    "    importlib.reload(m)\n",
    "    # Jastrow optimizationn\n",
    "    \n",
    "for fname in ['sj.hdf5']:\n",
    "    if os.path.isfile(fname):\n",
    "        os.remove(fname)\n",
    "print(\"RUNNING VMC OPTIMIZATION\")\n",
    "# pyq.OPTIMIZE(scf_checkfile, \"sj.hdf5\", ci_checkfile=ci_checkfile, max_iterations=2, verbose=False)\n",
    "recipes.OPTIMIZE(scf_checkfile, \"sj.hdf5\", max_iterations=4, nconfig=200, verbose=True)\n",
    "\n",
    "# Jastrow optimization results\n",
    "df = pyq.read_opt(\"sj.hdf5\")\n",
    "df"
   ]
  },
  {
   "cell_type": "code",
   "execution_count": 90,
   "id": "0b22521d-3373-41e0-bcef-1b55cb7bbb1f",
   "metadata": {},
   "outputs": [],
   "source": [
    "def limdrift(g, cutoff=1):\n",
    "    \"\"\"\n",
    "    Limit a vector to have a maximum magnitude of cutoff while maintaining direction\n",
    "\n",
    "    :parameter g: a [nconf,ndim] vector\n",
    "    :parameter cutoff: the maximum magnitude\n",
    "    :returns: The vector with the cutoff applied.\n",
    "    \"\"\"\n",
    "    tot = np.linalg.norm(g, axis=1)\n",
    "    mask = tot > cutoff\n",
    "    g[mask, :] = cutoff * g[mask, :] / tot[mask, np.newaxis]\n",
    "    return g"
   ]
  },
  {
   "cell_type": "code",
   "execution_count": 91,
   "id": "8b9a711d-e662-4dc1-85fe-d246c29b1440",
   "metadata": {},
   "outputs": [
    {
     "name": "stdout",
     "output_type": "stream",
     "text": [
      "Number of determinants in the bosonic wavefunction= 1\n",
      "> \u001b[0;32m/Users/ksu/Documents/GitHub/pyqmc/pyqmc/wftools.py\u001b[0m(198)\u001b[0;36mread_wf\u001b[0;34m()\u001b[0m\n",
      "\u001b[0;32m    196 \u001b[0;31m            \u001b[0;32mimport\u001b[0m \u001b[0mpdb\u001b[0m\u001b[0;34m\u001b[0m\u001b[0;34m\u001b[0m\u001b[0m\n",
      "\u001b[0m\u001b[0;32m    197 \u001b[0;31m            \u001b[0mpdb\u001b[0m\u001b[0;34m.\u001b[0m\u001b[0mset_trace\u001b[0m\u001b[0;34m(\u001b[0m\u001b[0;34m)\u001b[0m\u001b[0;34m\u001b[0m\u001b[0;34m\u001b[0m\u001b[0m\n",
      "\u001b[0m\u001b[0;32m--> 198 \u001b[0;31m            \u001b[0;32mif\u001b[0m \u001b[0mwf\u001b[0m\u001b[0;34m.\u001b[0m\u001b[0mparameters\u001b[0m\u001b[0;34m[\u001b[0m\u001b[0mk\u001b[0m\u001b[0;34m]\u001b[0m\u001b[0;34m.\u001b[0m\u001b[0mshape\u001b[0m \u001b[0;34m!=\u001b[0m \u001b[0mnew_parms\u001b[0m\u001b[0;34m.\u001b[0m\u001b[0mshape\u001b[0m\u001b[0;34m:\u001b[0m\u001b[0;34m\u001b[0m\u001b[0;34m\u001b[0m\u001b[0m\n",
      "\u001b[0m\u001b[0;32m    199 \u001b[0;31m                raise Exception(\n",
      "\u001b[0m\u001b[0;32m    200 \u001b[0;31m                    \u001b[0;34mf\"For wave function parameter {k}, shape in {wf_file} is {new_parms.shape}, while current shape is {wf.parameters[k].shape}\"\u001b[0m\u001b[0;34m\u001b[0m\u001b[0;34m\u001b[0m\u001b[0m\n",
      "\u001b[0m\n"
     ]
    },
    {
     "name": "stdin",
     "output_type": "stream",
     "text": [
      "ipdb>  c\n"
     ]
    },
    {
     "name": "stdout",
     "output_type": "stream",
     "text": [
      "> \u001b[0;32m/Users/ksu/Documents/GitHub/pyqmc/pyqmc/wftools.py\u001b[0m(198)\u001b[0;36mread_wf\u001b[0;34m()\u001b[0m\n",
      "\u001b[0;32m    196 \u001b[0;31m            \u001b[0;32mimport\u001b[0m \u001b[0mpdb\u001b[0m\u001b[0;34m\u001b[0m\u001b[0;34m\u001b[0m\u001b[0m\n",
      "\u001b[0m\u001b[0;32m    197 \u001b[0;31m            \u001b[0mpdb\u001b[0m\u001b[0;34m.\u001b[0m\u001b[0mset_trace\u001b[0m\u001b[0;34m(\u001b[0m\u001b[0;34m)\u001b[0m\u001b[0;34m\u001b[0m\u001b[0;34m\u001b[0m\u001b[0m\n",
      "\u001b[0m\u001b[0;32m--> 198 \u001b[0;31m            \u001b[0;32mif\u001b[0m \u001b[0mwf\u001b[0m\u001b[0;34m.\u001b[0m\u001b[0mparameters\u001b[0m\u001b[0;34m[\u001b[0m\u001b[0mk\u001b[0m\u001b[0;34m]\u001b[0m\u001b[0;34m.\u001b[0m\u001b[0mshape\u001b[0m \u001b[0;34m!=\u001b[0m \u001b[0mnew_parms\u001b[0m\u001b[0;34m.\u001b[0m\u001b[0mshape\u001b[0m\u001b[0;34m:\u001b[0m\u001b[0;34m\u001b[0m\u001b[0;34m\u001b[0m\u001b[0m\n",
      "\u001b[0m\u001b[0;32m    199 \u001b[0;31m                raise Exception(\n",
      "\u001b[0m\u001b[0;32m    200 \u001b[0;31m                    \u001b[0;34mf\"For wave function parameter {k}, shape in {wf_file} is {new_parms.shape}, while current shape is {wf.parameters[k].shape}\"\u001b[0m\u001b[0;34m\u001b[0m\u001b[0;34m\u001b[0m\u001b[0m\n",
      "\u001b[0m\n"
     ]
    },
    {
     "name": "stdin",
     "output_type": "stream",
     "text": [
      "ipdb>  c\n"
     ]
    },
    {
     "data": {
      "text/plain": [
       "<multiplywf.MultiplyBosonWF at 0x29fc03ed0>"
      ]
     },
     "execution_count": 91,
     "metadata": {},
     "output_type": "execute_result"
    }
   ],
   "source": [
    "# Multi determinant boson new gradient\n",
    "import importlib, recipes, abdmc, wftools, bosonwf, determinant_tools, mc, dmc, slater, orbitals, accumulators, energy, jastrowspin, multiplywf\n",
    "modules = [recipes, abdmc, wftools, bosonwf, determinant_tools, mc, dmc, slater, orbitals, accumulators, energy, jastrowspin, multiplywf] # Reloads recipes.py file after each update\n",
    "for m in modules:\n",
    "    importlib.reload(m)\n",
    "import pyqmc.pyscftools as pyscftools\n",
    "\n",
    "nconfig = 323\n",
    "multi = False\n",
    "if multi:\n",
    "    mol, mf, mcc = pyscftools.recover_pyscf(scf_checkfile, ci_checkfile = 'ci.hdf5')\n",
    "    target_root = 0\n",
    "    if not hasattr(mcc.ci, \"shape\") or len(mcc.ci.shape) == 3:\n",
    "        mcc.ci = mcc.ci[target_root]\n",
    "else:\n",
    "    mol, mf = pyscftools.recover_pyscf(scf_checkfile)\n",
    "    mcc = None\n",
    "    \n",
    "wf, to_opt = wftools.generate_boson_wf(\n",
    "        mol, mf, mc=mcc, jastrow_kws=None, slater_kws=None\n",
    "        )\n",
    "load_parameters = 'sj.hdf5'\n",
    "wftools.read_wf(wf, load_parameters)  \n",
    "wf"
   ]
  },
  {
   "cell_type": "code",
   "execution_count": 93,
   "id": "2ec08dd6-781f-4da9-a129-c960f3b5d054",
   "metadata": {},
   "outputs": [
    {
     "data": {
      "text/plain": [
       "<pyqmc.coord.OpenElectron at 0x11294cb10>"
      ]
     },
     "execution_count": 93,
     "metadata": {},
     "output_type": "execute_result"
    }
   ],
   "source": [
    "epos"
   ]
  },
  {
   "cell_type": "code",
   "execution_count": 92,
   "id": "c28b8ce3-c501-4670-864a-d05a6a1bae9a",
   "metadata": {},
   "outputs": [
    {
     "data": {
      "text/plain": [
       "Text(0.5, 1.0, 'Boson+Jastrow value, e2 at [-0.1  0.9 -1. ]')"
      ]
     },
     "execution_count": 92,
     "metadata": {},
     "output_type": "execute_result"
    },
    {
     "data": {
      "image/png": "[encoded data removed]",
      "text/plain": [
       "<Figure size 640x480 with 1 Axes>"
      ]
     },
     "metadata": {},
     "output_type": "display_data"
    }
   ],
   "source": [
    "configs = mc.fixed_initial_guess(mol, nconfig)\n",
    "e=0\n",
    "sign, val = wf.recompute(configs)\n",
    "s1, v1 = wf.wf_factors[0].recompute(configs)\n",
    "s2, v2 = wf.wf_factors[1].recompute(configs)\n",
    "val3 = v1*v2\n",
    "epos = configs.electron(e)\n",
    "grad_vals = [wfi.gradient_value(e, epos, configs) for wfi in wf.wf_factors]\n",
    "grads, saved_values = list(zip(*grad_vals))\n",
    "phi0 = saved_values[0]['sign']*saved_values[0]['psi'] #sign0*psi0\n",
    "phi1 = saved_values[1]['sign']*saved_values[1]['psi']\n",
    "\n",
    "plt.figure()\n",
    "# plt.plot(x,phi0, '-sk', label='recompute')\n",
    "# plt.plot(x,v1, '-sb', label='from_grad')\n",
    "\n",
    "plt.plot(x,phi1, '-sk', label='gv_jastrow')\n",
    "plt.plot(x,v2, '-sb', label='val_jastrow')\n",
    "\n",
    "# plt.plot(x,val3, '-sr', label='recomp2')\n",
    "# plt.plot(x,psi1, '-sr', label='from_val')\n",
    "plt.legend()\n",
    "plt.xlabel('z-coordinate')\n",
    "plt.title('Boson+Jastrow value, e2 at {}'.format(e2pos) )\n"
   ]
  },
  {
   "cell_type": "code",
   "execution_count": 86,
   "id": "a939b13c-8735-4c72-8935-5b258164c101",
   "metadata": {},
   "outputs": [
    {
     "data": {
      "text/plain": [
       "Text(0.5, 1.0, 'Boson+Jastrow gradient, e2 at [-0.1  0.9 -1. ]')"
      ]
     },
     "execution_count": 86,
     "metadata": {},
     "output_type": "execute_result"
    },
    {
     "data": {
      "image/png": "[encoded data removed]",
      "text/plain": [
       "<Figure size 640x480 with 1 Axes>"
      ]
     },
     "metadata": {},
     "output_type": "display_data"
    },
    {
     "data": {
      "image/png": "[encoded data removed]",
      "text/plain": [
       "<Figure size 640x480 with 1 Axes>"
      ]
     },
     "metadata": {},
     "output_type": "display_data"
    }
   ],
   "source": [
    "configs = mc.fixed_initial_guess(mol, nconfig)\n",
    "e=0\n",
    "sign, val = wf.recompute(configs)\n",
    "\n",
    "\n",
    "\n",
    "g1, saved = wf.gradient_value(e, configs.electron(e))\n",
    "\n",
    "val2 = saved['psi']\n",
    "_, psi1 = wf.value()\n",
    "\n",
    "y1 = np.gradient(val2)\n",
    "y2 = g1\n",
    "dx = configs.configs[1]-configs.configs[0]\n",
    "dx = dx[dx!=0][0]\n",
    "# print(dx)\n",
    "\n",
    "x = configs.configs[:,0][:,2]\n",
    "h1 = (0,0, 0.0)\n",
    "h2 = (2.0, 0.0)\n",
    "e2pos = np.array2string(configs.configs[:,1][0])\n",
    "\n",
    "\n",
    "\n",
    "\n",
    "plt.figure()\n",
    "plt.plot(x,val, '-sk', label='recompute')\n",
    "plt.plot(x,val2, '-sb', label='from_grad')\n",
    "# plt.plot(x,val3, '-sr', label='recomp2')\n",
    "# plt.plot(x,psi1, '-sr', label='from_val')\n",
    "plt.legend()\n",
    "plt.xlabel('z-coordinate')\n",
    "plt.title('Boson+Jastrow value, e2 at {}'.format(e2pos) )\n",
    "\n",
    "plt.figure()\n",
    "plt.plot(x,g1[2], '-ok', label='grad')\n",
    "plt.plot(x,y1/dx, '-ob', label='num')\n",
    "plt.xlabel('z-coordinate')\n",
    "plt.legend()\n",
    "plt.title('Boson+Jastrow gradient, e2 at {}'.format(e2pos))\n",
    "\n",
    "\n"
   ]
  },
  {
   "cell_type": "code",
   "execution_count": null,
   "id": "c1fa7f33-0e19-4d91-bed0-cb546a153aae",
   "metadata": {},
   "outputs": [],
   "source": []
  },
  {
   "cell_type": "code",
   "execution_count": null,
   "id": "8378bd95-ed23-4b8e-9a40-9cde21d9fd23",
   "metadata": {
    "tags": []
   },
   "outputs": [],
   "source": []
  },
  {
   "cell_type": "code",
   "execution_count": null,
   "id": "62b65e8a-04e8-48a3-bc21-4cc868ef6b5e",
   "metadata": {
    "tags": []
   },
   "outputs": [],
   "source": []
  },
  {
   "cell_type": "code",
   "execution_count": null,
   "id": "ff822448-a946-4832-b959-59d840f792b1",
   "metadata": {
    "tags": []
   },
   "outputs": [],
   "source": []
  },
  {
   "cell_type": "code",
   "execution_count": null,
   "id": "de922162-5a41-4578-baa6-2dd1f5359bd8",
   "metadata": {},
   "outputs": [],
   "source": []
  },
  {
   "cell_type": "code",
   "execution_count": null,
   "id": "c9a78037-26cc-4551-8a17-f76eb6866f67",
   "metadata": {},
   "outputs": [],
   "source": []
  }
 ],
 "metadata": {
  "kernelspec": {
   "display_name": "Python 3 (ipykernel)",
   "language": "python",
   "name": "python3"
  },
  "language_info": {
   "codemirror_mode": {
    "name": "ipython",
    "version": 3
   },
   "file_extension": ".py",
   "mimetype": "text/x-python",
   "name": "python",
   "nbconvert_exporter": "python",
   "pygments_lexer": "ipython3",
   "version": "3.11.6"
  }
 },
 "nbformat": 4,
 "nbformat_minor": 5
}
