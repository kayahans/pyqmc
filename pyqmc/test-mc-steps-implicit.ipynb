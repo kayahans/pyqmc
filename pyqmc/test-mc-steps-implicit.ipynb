{
 "cells": [
  {
   "cell_type": "code",
   "execution_count": 1,
   "id": "224fb190-0ab1-415f-bee7-b3f0b6821198",
   "metadata": {},
   "outputs": [
    {
     "name": "stdout",
     "output_type": "stream",
     "text": [
      "/Users/ksu/Documents/GitHub/pyqmc/pyqmc/api.py\n",
      "/Users/ksu/Software/anaconda3/lib/python3.11/site-packages/pyscf/__init__.py\n"
     ]
    }
   ],
   "source": [
    "# Wavefunction generation\n",
    "from pyscf import mcscf, fci, lib \n",
    "from pyscf import gto, scf, tools, dft\n",
    "import api as pyq \n",
    "import importlib\n",
    "import os\n",
    "import h5py\n",
    "import pandas as pd\n",
    "import pdb\n",
    "import pyscf\n",
    "import numpy as np\n",
    "import pyqmc\n",
    "import scipy\n",
    "import copy\n",
    "import gpu\n",
    "import matplotlib.pyplot as plt\n",
    "from pyscf.scf.hf import dump_scf_summary\n",
    "from concurrent.futures import ProcessPoolExecutor\n",
    "from pyscf.scf.chkfile import dump_scf\n",
    "print(pyq.__file__)\n",
    "print(pyscf.__file__)"
   ]
  },
  {
   "cell_type": "code",
   "execution_count": 2,
   "id": "b0f624ea-63f4-4454-b04c-c5fc760352f9",
   "metadata": {},
   "outputs": [
    {
     "name": "stdout",
     "output_type": "stream",
     "text": [
      "/Users/ksu/Documents/GitHub/pyqmc/pyqmc/api.py\n",
      "/Users/ksu/Software/anaconda3/lib/python3.11/site-packages/pyscf/__init__.py\n",
      "He atom neutral LDA spin=0\n",
      "HF\n",
      "converged SCF energy = -2.86151422722833  <S^2> = 2.4424907e-15  2S+1 = 1\n",
      "LDA\n",
      "converged SCF energy = -2.83456474290722  <S^2> = 3.1086245e-15  2S+1 = 1\n",
      "CASCI nelecas up/down (1, 1)\n",
      "CASCI E = -2.86531899726653  E(CI) = -2.86531899726653  S^2 = 0.0000000\n",
      "Available output from CASCI: <KeysViewHDF5 ['ci', 'fci', 'mc_mo_energy', 'mf_mo_energy', 'mo_coeff', 'mo_occ', 'ncas', 'ncore', 'nelecas']>\n"
     ]
    }
   ],
   "source": [
    "# Wavefunction generation\n",
    "from scf_runs import run_lda_he, run_casci\n",
    "scf_checkfile, opt_checkfile, mf_lda = run_lda_he()\n",
    "ci_checkfile, mc, opt_chkfile, vmc_chkfile = run_casci(scf_checkfile, nroots=1, ncas = 2)"
   ]
  },
  {
   "cell_type": "code",
   "execution_count": 5,
   "id": "6289f350-332b-4f83-aa06-6bf66f356311",
   "metadata": {},
   "outputs": [],
   "source": [
    "import importlib, recipes, bosonrecipes, bosonslater, bosonaccumulators, bosonwftools, bosonslater_wf_based\n",
    "modules = [recipes, bosonrecipes, bosonrecipes, bosonslater, bosonaccumulators, bosonwftools] # Reloads recipes.py file after each update\n",
    "for m in modules:\n",
    "    importlib.reload(m)\n",
    "\n",
    "\n",
    "wf = bosonslater.BosonWF(mf_lda.mol, mf_lda, mc)\n",
    "wf_old = bosonslater_wf_based.BosonWF(mf_lda.mol, mf_lda, mc)\n",
    "configs = bosonrecipes.initial_guess(mf_lda.mol, 100)"
   ]
  },
  {
   "cell_type": "code",
   "execution_count": null,
   "id": "0cfd3dbd-0365-4ebf-b3c5-401ace336bc9",
   "metadata": {},
   "outputs": [],
   "source": []
  },
  {
   "cell_type": "code",
   "execution_count": 6,
   "id": "ae73cd88-fdc9-41c4-844b-b1a55858a1f0",
   "metadata": {},
   "outputs": [
    {
     "data": {
      "text/plain": [
       "(100, 2, 3)"
      ]
     },
     "execution_count": 6,
     "metadata": {},
     "output_type": "execute_result"
    }
   ],
   "source": [
    "configs.configs.shape"
   ]
  },
  {
   "cell_type": "code",
   "execution_count": 7,
   "id": "dbfbd624-76a1-4964-a2f2-ec142f984c32",
   "metadata": {},
   "outputs": [],
   "source": [
    "tol = 1E-1\n",
    "\n",
    "nconf, nelec, _ = configs.configs.shape\n",
    "\n",
    "def is_equal(a, b, tag=None):\n",
    "    result = (np.abs(a-b) < tol).all()\n",
    "    if not result:\n",
    "        print(tag, result, 'diff', np.max(np.abs(a-b)), 'a', np.max(np.abs(a)), 'b', np.max(np.abs(b)))\n",
    "    else:\n",
    "        print(tag, result)\n",
    "    return result\n",
    "    \n",
    "def limdrift(g, cutoff=1):\n",
    "    \"\"\"\n",
    "    Limit a vector to have a maximum magnitude of cutoff while maintaining direction\n",
    "\n",
    "    :parameter g: a [nconf,ndim] vector\n",
    "    :parameter cutoff: the maximum magnitude\n",
    "    :returns: The vector with the cutoff applied.\n",
    "    \"\"\"\n",
    "    tot = np.linalg.norm(g, axis=1)\n",
    "    mask = tot > cutoff\n",
    "    g[mask, :] = cutoff * g[mask, :] / tot[mask, np.newaxis]\n",
    "    return g\n",
    "\n",
    "def gradient_value_wf_based(wf_old, e, epos):\n",
    "    s = int(e >= wf_old._nelec[0])\n",
    "    aograd = wf_old.orbitals.aos(\"GTOval_sph_deriv1\", epos)\n",
    "    mograd = wf_old.orbitals.mos(aograd, s)\n",
    "\n",
    "    grads = []\n",
    "    ratios = []\n",
    "    num_wf = len(wf_old.wfs)\n",
    "    ci = 1./num_wf        \n",
    "    for wf in wf_old.wfs: # over n \n",
    "        wf_grad, wf_ratio, _ = wf.gradient_value(e, epos)\n",
    "        grads.append(wf_grad)\n",
    "        ratios.append(wf_ratio)\n",
    "    grads = gpu.asnumpy(np.array(grads))\n",
    "\n",
    "    value, real_values, _ = wf_old.value_all()\n",
    "    grad = ci * np.einsum('di, dgi, i->gi', real_values, grads, 1./np.exp(2*value))\n",
    "    \n",
    "    # print('wf_based real_values', ci * real_values)\n",
    "    # print('wf_based val no sq', np.exp(value))\n",
    "    # print('wf_based grads', grads)\n",
    "    # print()\n",
    "    # print(real_values[0][0:10])\n",
    "    # print(value[0:10])\n",
    "    # print()\n",
    "    ratios = gpu.asnumpy(np.array(ratios))\n",
    "    # import pdb\n",
    "    # pdb.set_trace()\n",
    "    # ratiosf = np.ones(ratios.shape[1])\n",
    "    ratiosf = np.mean(ratios, axis=0)\n",
    "\n",
    "    # ratiosf = np.sqrt(np.sum(ratios**2, axis=0))\n",
    "    # ratiosf = np.average(ratios, weights=1./real_values, axis=0)\n",
    "    # ratiosf = np.sqrt(np.average(ratios, weights=real_values, axis=0))/np.exp(value)\n",
    "    # ratiosf = np.average(ratios, weights=real_values, axis=0)/np.exp(2*value)\n",
    "    # import pdb\n",
    "    # pdb.set_trace()\n",
    "    # ratiosf = np.ones(ratiosf.shape)/2\n",
    "    # debug = (num_wf, grads, real_values, value)\n",
    "    debug = grads\n",
    "    return grad, ratiosf, (aograd[:, 0], mograd[0]), debug\n",
    "    \n",
    "def gradient_value_regular(wf, e, epos):   \n",
    "    s = int(e >= wf._nelec[0])\n",
    "    aograd = wf.orbitals.aos(\"GTOval_sph_deriv1\", epos)\n",
    "    mograd = wf.orbitals.mos(aograd, s)\n",
    "    mograd_vals = mograd[:, :, wf._det_occup[s]]\n",
    "    import pdb\n",
    "    \n",
    "    jacobi = gpu.cp.einsum(\n",
    "        \"ei...dj,idj...->ei...d\",\n",
    "        mograd_vals,\n",
    "        wf._inverse[s][..., e - s * wf._nelec[0]],\n",
    "    )\n",
    "    # pdb.set_trace()\n",
    "    det_coeff = wf.myparameters['det_coeff']\n",
    "    upref = gpu.cp.amax(wf._dets[0][1]).real\n",
    "    dnref = gpu.cp.amax(wf._dets[1][1]).real\n",
    "\n",
    "    det_array = (\n",
    "        wf._dets[0][0, :, wf._det_map[0]]\n",
    "        * wf._dets[1][0, :, wf._det_map[1]]\n",
    "        * gpu.cp.exp(\n",
    "            wf._dets[0][1, :, wf._det_map[0]]\n",
    "            + wf._dets[1][1, :, wf._det_map[1]]\n",
    "            - upref\n",
    "            - dnref\n",
    "        )\n",
    "    )\n",
    "    # print()\n",
    "    # print(det_array[0][0:10])\n",
    "    # print()\n",
    "    jacobid = jacobi[..., wf._det_map[s]]\n",
    "    jacobid = jacobid[1:]/jacobid[0]\n",
    "    # import pdb\n",
    "    # pdb.set_trace()\n",
    "    numer =  gpu.cp.einsum(\n",
    "        \"ei...d,d,di->ei...\",\n",
    "        jacobid,\n",
    "        det_coeff,\n",
    "        det_array**2\n",
    "    )\n",
    "\n",
    "    # numerd =  gpu.cp.einsum(\n",
    "    #     \"ei...d,d,di->dei...\",\n",
    "    #     jacobi[..., wf._det_map[s]],\n",
    "    #     det_coeff,\n",
    "    #     det_array**2\n",
    "    # )[:, 1:, :]\n",
    "    \n",
    "    denom = gpu.cp.einsum(\n",
    "        \"d,di->i...\",\n",
    "        det_coeff,\n",
    "        det_array**2\n",
    "    )\n",
    "\n",
    "    # denomd = gpu.cp.einsum(\n",
    "    #     \"d,di->di...\",\n",
    "    #     det_coeff,\n",
    "    #     det_array**2\n",
    "    # )\n",
    "    # print(det_coeff)\n",
    "    # val = np.sqrt(denom)  * np.exp((upref + dnref))\n",
    "    # real_values = denomd  * np.exp(2*(upref + dnref))\n",
    "    # print('reg real_values', real_values)\n",
    "    # print('reg val np sq', val)\n",
    "    # print('reg jacobi', jacobid)\n",
    "    # print(val-np.exp(wf.value()[1]))\n",
    "    \n",
    "    ratios = numer / denom\n",
    "    derivatives = ratios #ratios[1:] #/ ratios[0]\n",
    "    derivatives[~np.isfinite(derivatives)] = 0.0\n",
    "    values = ratios[0]\n",
    "    values[~np.isfinite(values)] = 1.0\n",
    "    # debug = (det_coeff, det_array, values, numerd, denomd)\n",
    "    debug = jacobi[..., wf._det_map[s]][1:]\n",
    "    return derivatives, values, (aograd[:, 0], mograd[0]), debug\n"
   ]
  },
  {
   "cell_type": "code",
   "execution_count": 9,
   "id": "ee16d51e-5bee-4fcb-85a0-335b584e089a",
   "metadata": {},
   "outputs": [
    {
     "name": "stdout",
     "output_type": "stream",
     "text": [
      "val True\n",
      "g True\n",
      "g True\n",
      "grad True\n",
      "g_k True\n",
      "val True\n",
      "g True\n",
      "g True\n",
      "grad True\n",
      "g_k True\n",
      "val True\n",
      "g True\n",
      "g True\n",
      "grad True\n",
      "g_k True\n",
      "val True\n",
      "g True\n",
      "g True\n",
      "grad True\n",
      "g_k True\n",
      "val True\n",
      "g True\n",
      "g True\n",
      "grad True\n",
      "g_k True\n",
      "val True\n",
      "g True\n",
      "g True\n",
      "grad True\n",
      "g_k True\n",
      "val True\n",
      "g True\n",
      "g True\n",
      "grad True\n",
      "g_k True\n",
      "val True\n",
      "g True\n",
      "g True\n",
      "grad True\n",
      "g_k True\n",
      "val True\n",
      "g True\n",
      "g True\n",
      "grad True\n",
      "g_k True\n",
      "val True\n",
      "g True\n",
      "g True\n",
      "grad True\n",
      "g_k True\n",
      "val True\n",
      "g True\n",
      "g True\n",
      "grad True\n",
      "g_k True\n",
      "val True\n",
      "g True\n",
      "g True\n",
      "grad True\n",
      "g_k True\n",
      "val True\n",
      "g True\n",
      "g True\n",
      "grad True\n",
      "g_k True\n",
      "val True\n",
      "g True\n",
      "g True\n",
      "grad True\n",
      "g_k True\n",
      "val True\n",
      "g True\n",
      "g True\n",
      "grad True\n",
      "g_k True\n",
      "val True\n",
      "g True\n",
      "g True\n",
      "grad True\n",
      "g_k True\n",
      "val True\n",
      "g True\n",
      "g True\n",
      "grad True\n",
      "g_k True\n",
      "val True\n",
      "g True\n",
      "g True\n",
      "grad True\n",
      "g_k True\n",
      "val True\n",
      "g True\n",
      "g True\n",
      "grad True\n",
      "g_k True\n",
      "val True\n",
      "g True\n",
      "g True\n",
      "grad True\n",
      "g_k True\n"
     ]
    }
   ],
   "source": [
    "nsteps = 10\n",
    "nelec = 2\n",
    "tstep = 0.3\n",
    "for _ in range(nsteps):\n",
    "    acc = 0.0\n",
    "    for e in range(nelec):\n",
    "        import pdb\n",
    "        sign_p,  val_p   = wf.recompute(configs)\n",
    "        sign_p2, val_p2  = wf_old.recompute(configs)\n",
    "        is_equal(val_p, val_p2, 'val')\n",
    "        \n",
    "        wf_k = copy.deepcopy(wf)\n",
    "        wf_old_k = copy.deepcopy(wf_old)\n",
    "\n",
    "        # g, _, _ = wf.gradient_value(e, configs.electron(e))\n",
    "        # g_old, _, _ = wf_old.gradient_value(e, configs.electron(e))\n",
    "        g, _, _, _ = gradient_value_regular(wf, e, configs.electron(e))\n",
    "        g_old, _, _, _ = gradient_value_wf_based(wf_old, e, configs.electron(e))\n",
    "        \n",
    "        is_equal(g, g_old, 'g')\n",
    "        grad = limdrift(np.real(g.T)) \n",
    "        grad_old = limdrift(np.real(g_old.T)) \n",
    "        is_equal(g, g_old, 'g')\n",
    "        gauss = np.random.normal(scale=np.sqrt(tstep), size=(nconf, 3))\n",
    "\n",
    "        is_equal(grad, grad_old, 'grad')\n",
    "        newcoorde = configs.configs[:, e, :] + gauss + grad * tstep\n",
    "        newcoorde = configs.make_irreducible(e, newcoorde)\n",
    "\n",
    "        # # Compute reverse move\n",
    "        g_k, _, saved, dbg = gradient_value_regular(wf_k, e, newcoorde)\n",
    "        g_k_wfb, _, saved_old, debug_wfb = gradient_value_wf_based(wf_old_k, e, newcoorde)\n",
    "        # num_wf, grads, real_values, value = debug_wfb\n",
    "        # det_coeff, det_array = debug\n",
    "        # pdb.set_trace()   \n",
    "        is_equal(g_k, g_k_wfb, 'g_k')\n",
    "        \n"
   ]
  },
  {
   "cell_type": "code",
   "execution_count": 348,
   "id": "7b75567c-e0fc-47aa-a0a8-18aea47cd18d",
   "metadata": {},
   "outputs": [
    {
     "data": {
      "text/plain": [
       "(4, 3, 2)"
      ]
     },
     "execution_count": 348,
     "metadata": {},
     "output_type": "execute_result"
    }
   ],
   "source": [
    "debug_wfb.shape"
   ]
  },
  {
   "cell_type": "code",
   "execution_count": 347,
   "id": "7c733765-8bd0-40aa-afed-cbf16745a70b",
   "metadata": {},
   "outputs": [
    {
     "data": {
      "text/plain": [
       "(3, 2, 4)"
      ]
     },
     "execution_count": 347,
     "metadata": {},
     "output_type": "execute_result"
    }
   ],
   "source": [
    "dbg.shape"
   ]
  },
  {
   "cell_type": "code",
   "execution_count": 357,
   "id": "fe495932-8102-4045-9cd6-7dc39dde2b13",
   "metadata": {},
   "outputs": [
    {
     "name": "stdout",
     "output_type": "stream",
     "text": [
      "[[0.7091617  0.94454433]\n",
      " [0.7091617  0.94454433]\n",
      " [0.7091617  0.94454433]]\n",
      "[[0.60208187 1.00236044]\n",
      " [0.60208187 1.00236044]\n",
      " [0.60208187 1.00236044]]\n",
      "[[0.7091617  0.94454433]\n",
      " [0.7091617  0.94454433]\n",
      " [0.7091617  0.94454433]]\n",
      "[[0.60208187 1.00236044]\n",
      " [0.60208187 1.00236044]\n",
      " [0.60208187 1.00236044]]\n"
     ]
    }
   ],
   "source": [
    "for i in [0,1,2,3,]:\n",
    "    print(debug_wfb[i]/dbg[:,:,i])"
   ]
  },
  {
   "cell_type": "code",
   "execution_count": 355,
   "id": "b9326152-09c9-4161-89b2-9f746ca5a000",
   "metadata": {},
   "outputs": [
    {
     "data": {
      "text/plain": [
       "array([[ 0.47131994, -1.18191938],\n",
       "       [-1.97654508,  0.52518386],\n",
       "       [ 1.39809687, -0.75767537]])"
      ]
     },
     "execution_count": 355,
     "metadata": {},
     "output_type": "execute_result"
    }
   ],
   "source": [
    "dbg[:,:,0]"
   ]
  },
  {
   "cell_type": "code",
   "execution_count": null,
   "id": "6c0bcadc-decc-435e-a378-85a1279ccb3f",
   "metadata": {},
   "outputs": [],
   "source": []
  },
  {
   "cell_type": "code",
   "execution_count": null,
   "id": "bbbe7cf3-3596-486b-8d14-9024cb0df9ae",
   "metadata": {},
   "outputs": [],
   "source": []
  },
  {
   "cell_type": "code",
   "execution_count": null,
   "id": "a8a882a6-9313-4864-a7b1-5e0826f6d68b",
   "metadata": {},
   "outputs": [],
   "source": []
  },
  {
   "cell_type": "code",
   "execution_count": null,
   "id": "7b2b5e74-4556-491d-ba70-45d737a3a957",
   "metadata": {},
   "outputs": [],
   "source": []
  },
  {
   "cell_type": "code",
   "execution_count": 207,
   "id": "542423c2-fa16-4695-bed0-2348ee1b4b94",
   "metadata": {},
   "outputs": [],
   "source": [
    "        # new_grad = limdrift(np.real(g.T))\n",
    "        # forward = np.sum(gauss**2, axis=1)\n",
    "        # backward = np.sum((gauss + tstep * (grad + new_grad)) ** 2, axis=1)\n",
    "\n",
    "        # # Acceptance\n",
    "        # t_prob = np.exp(1 / (2 * tstep) * (forward - backward))\n",
    "        # # ratio = np.abs(new_val) ** 2 * t_prob\n",
    "        # newcoord = copy.deepcopy(configs)\n",
    "        # newcoord.configs[:,e,:] = newcoorde.configs\n",
    "        # sign_new, val_new = wf_new.recompute(newcoord)\n",
    "        # ratio = np.exp(2*(val_new-val_old))* t_prob\n",
    "        # # pdb.set_trace()\n",
    "        # accept = ratio > np.random.rand(nconf)\n",
    "        # # accept = np.random.rand(nconf) > 0.5\n",
    "        # # Update wave function\n",
    "        # configs.move(e, newcoorde, accept)\n",
    "        # wf.updateinternals(e, newcoorde, configs, mask=accept, saved_values=saved)\n",
    "        # acc += np.mean(accept) / nelec"
   ]
  },
  {
   "cell_type": "code",
   "execution_count": null,
   "id": "1d422811-6271-47ae-a9a7-3754a66331e3",
   "metadata": {},
   "outputs": [],
   "source": []
  }
 ],
 "metadata": {
  "kernelspec": {
   "display_name": "Python 3 (ipykernel)",
   "language": "python",
   "name": "python3"
  },
  "language_info": {
   "codemirror_mode": {
    "name": "ipython",
    "version": 3
   },
   "file_extension": ".py",
   "mimetype": "text/x-python",
   "name": "python",
   "nbconvert_exporter": "python",
   "pygments_lexer": "ipython3",
   "version": "3.11.6"
  }
 },
 "nbformat": 4,
 "nbformat_minor": 5
}
