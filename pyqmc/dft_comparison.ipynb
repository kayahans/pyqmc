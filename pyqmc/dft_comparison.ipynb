{
 "cells": [
  {
   "cell_type": "code",
   "execution_count": 1,
   "id": "188963c4-c1c6-4186-b88d-3dd25ee40b5e",
   "metadata": {},
   "outputs": [],
   "source": [
    "from pyscf import gto, dft, scf, mcscf\n",
    "import pyscf"
   ]
  },
  {
   "cell_type": "code",
   "execution_count": 195,
   "id": "8ae00eb0-3225-4f70-aceb-fab1437dc4d6",
   "metadata": {},
   "outputs": [
    {
     "name": "stdout",
     "output_type": "stream",
     "text": [
      "converged SCF energy = -7.43270532670068  <S^2> = 0.75001436  2S+1 = 2.0000144\n"
     ]
    }
   ],
   "source": [
    "mol = gto.M(atom=\"Li 0. 0. 0.\", spin=1, basis='aug-ccpvtz', unit='bohr')\n",
    "mf = scf.UHF(mol)\n",
    "mf.kernel()\n",
    "\n",
    "cisolver = pyscf.fci.FCI(mf)\n",
    "cisolver.nstates = 10\n",
    "# print('E(FCI) = %.12f' % cisolver.kernel()[0])\n",
    "energies, ci_coeff = cisolver.kernel()"
   ]
  },
  {
   "cell_type": "code",
   "execution_count": 196,
   "id": "3f8e733f-94ad-4b88-83a0-0aefe193fbf1",
   "metadata": {},
   "outputs": [
    {
     "data": {
      "text/plain": [
       "array([0.        , 1.83537158, 1.83537158, 1.83537158, 3.34958568,\n",
       "       3.81462988, 3.81462988, 3.81462988, 4.37169483, 4.37169483])"
      ]
     },
     "execution_count": 196,
     "metadata": {},
     "output_type": "execute_result"
    }
   ],
   "source": [
    "27.211*(energies-energies[0])"
   ]
  },
  {
   "cell_type": "code",
   "execution_count": null,
   "id": "9561c8d4-5ec5-4f24-a705-380761c96a27",
   "metadata": {},
   "outputs": [
    {
     "name": "stdout",
     "output_type": "stream",
     "text": [
      "converged SCF energy = -24.5321715313414  <S^2> = 0.76119342  2S+1 = 2.0111623\n"
     ]
    }
   ],
   "source": [
    "mol = gto.M(atom=\"B 0. 0. 0.\", spin=1, basis='aug-ccpvtz', unit='bohr')\n",
    "mf = scf.UHF(mol)\n",
    "mf.kernel()\n",
    "\n",
    "cisolver = pyscf.fci.FCI(mf)\n",
    "cisolver.nstates = 10\n",
    "# print('E(FCI) = %.12f' % cisolver.kernel()[0])\n",
    "energies, ci_coeff = cisolver.kernel()\n",
    "27.211*(energies-energies[0])"
   ]
  },
  {
   "cell_type": "code",
   "execution_count": null,
   "id": "7a6207cd-7112-42a1-870f-53a6f375f858",
   "metadata": {},
   "outputs": [],
   "source": []
  },
  {
   "cell_type": "code",
   "execution_count": 26,
   "id": "5b54e6e0-95c7-437d-96b1-a0bf327d4fb4",
   "metadata": {},
   "outputs": [
    {
     "name": "stdout",
     "output_type": "stream",
     "text": [
      "converged SCF energy = -7.43271871704646  <S^2> = 0.75001472  2S+1 = 2.0000147\n",
      "\n",
      "******** CASCI flags ********\n",
      "CAS (2e+1e, 50o), ncore = 0, nvir = 30\n",
      "natorb = False\n",
      "canonicalization = True\n",
      "sorting_mo_energy = False\n",
      "max_memory 4000 (MB)\n",
      "******** <class 'pyscf.fci.direct_spin1.FCISolver'> ********\n",
      "max. cycles = 200\n",
      "conv_tol = 1e-08\n",
      "davidson only = False\n",
      "linear dependence = 1e-12\n",
      "level shift = 0.001\n",
      "max iter space = 12\n",
      "max_memory 4000 MB\n",
      "nroots = 10\n",
      "pspace_size = 400\n",
      "spin = None\n",
      "\n",
      "WARN: Mulitple states found in CASCI solver. First state is used to compute the Fock matrix and natural orbitals in active space.\n",
      "\n",
      "Density matrix diagonal elements [1.99978714e+00 9.99924859e-01 3.79459974e-06 3.79468370e-06\n",
      " 3.79468373e-06 1.82324703e-06 1.02193523e-05 1.02196084e-05\n",
      " 1.02196089e-05 1.40548505e-09 1.40555380e-09 1.40555202e-09\n",
      " 1.40553934e-09 1.40547654e-09 1.28569081e-05 1.65659677e-05\n",
      " 1.65659684e-05 1.65656563e-05 1.85744842e-10 1.85771500e-10\n",
      " 1.85779004e-10 1.85747242e-10 1.85742150e-10 1.85759984e-10\n",
      " 1.85730048e-10 1.80153189e-08 1.80157833e-08 1.80157936e-08\n",
      " 1.80153104e-08 1.80149348e-08 3.60370232e-05 3.60372552e-05\n",
      " 3.60372555e-05 7.33610398e-05 1.09258378e-11 1.09291202e-11\n",
      " 1.09163028e-11 1.09286735e-11 1.09253928e-11 1.09149364e-11\n",
      " 1.09221282e-11 1.09133763e-11 1.09222587e-11 7.51245301e-10\n",
      " 7.50631983e-10 7.50798842e-10 7.50997148e-10 7.51090434e-10\n",
      " 7.51054427e-10 7.50839795e-10]\n",
      "CASCI converged\n",
      "CASCI state   0  E = -7.43320971100430  E(CI) = -7.43320971100430  S^2 = 0.7500000\n",
      "CASCI state   1  E = -7.36546032514976  E(CI) = -7.36546032514976  S^2 = 0.7500000\n",
      "CASCI state   2  E = -7.36546032514970  E(CI) = -7.36546032514970  S^2 = 0.7500000\n",
      "CASCI state   3  E = -7.36546032514969  E(CI) = -7.36546032514969  S^2 = 0.7500000\n",
      "CASCI state   4  E = -7.31035898873822  E(CI) = -7.31035898873822  S^2 = 0.7500000\n",
      "CASCI state   5  E = -7.29346867978548  E(CI) = -7.29346867978548  S^2 = 0.7500000\n",
      "CASCI state   6  E = -7.29346867978546  E(CI) = -7.29346867978546  S^2 = 0.7500000\n",
      "CASCI state   7  E = -7.29346867978546  E(CI) = -7.29346867978546  S^2 = 0.7500000\n",
      "CASCI state   8  E = -7.28345785162110  E(CI) = -7.28345785162110  S^2 = 0.7500000\n",
      "CASCI state   9  E = -7.28345785162109  E(CI) = -7.28345785162109  S^2 = 0.7500000\n"
     ]
    },
    {
     "data": {
      "text/plain": [
       "array([0.        , 1.84352854, 1.84352854, 1.84352854, 3.342891  ,\n",
       "       3.8024932 , 3.8024932 , 3.8024932 , 4.07489785, 4.07489785])"
      ]
     },
     "execution_count": 26,
     "metadata": {},
     "output_type": "execute_result"
    }
   ],
   "source": [
    "mol = gto.M(atom=\"Li 0. 0. 0.\", spin=1, basis='aug-ccpvqz', unit='bohr')\n",
    "mf = scf.UHF(mol)\n",
    "mf.kernel()\n",
    "ncas, nelecas = (50, (2, 1))\n",
    "mycas = mcscf.CASCI(mf, ncas, nelecas)\n",
    "mycas.fcisolver.nroots = 10\n",
    "mycas.verbose = 4\n",
    "energies, eci, fci, mat, arr =mycas.kernel()\n",
    "27.211*(energies-energies[0])"
   ]
  },
  {
   "cell_type": "code",
   "execution_count": 30,
   "id": "33d90a77-fe97-4268-8b09-5abf6ad44a64",
   "metadata": {},
   "outputs": [
    {
     "name": "stdout",
     "output_type": "stream",
     "text": [
      "converged SCF energy = -14.5729691763634  <S^2> = 6.6613381e-16  2S+1 = 1\n",
      "\n",
      "******** CASCI flags ********\n",
      "CAS (2e+2e, 30o), ncore = 0, nvir = 50\n",
      "natorb = False\n",
      "canonicalization = True\n",
      "sorting_mo_energy = False\n",
      "max_memory 4000 (MB)\n",
      "******** <class 'pyscf.fci.direct_spin1.FCISolver'> ********\n",
      "max. cycles = 200\n",
      "conv_tol = 1e-08\n",
      "davidson only = False\n",
      "linear dependence = 1e-12\n",
      "level shift = 0.001\n",
      "max iter space = 12\n",
      "max_memory 4000 MB\n",
      "nroots = 10\n",
      "pspace_size = 400\n",
      "spin = None\n",
      "\n",
      "WARN: Mulitple states found in CASCI solver. First state is used to compute the Fock matrix and natural orbitals in active space.\n",
      "\n",
      "Density matrix diagonal elements [1.99997035e+00 1.82283751e+00 4.03541775e-03 4.03493124e-03\n",
      " 4.03541800e-03 6.93653574e-04 3.60735210e-02 3.60746175e-02\n",
      " 3.60746169e-02 1.87963474e-05 1.87949292e-05 1.87931764e-05\n",
      " 1.87934520e-05 1.87965503e-05 1.56194343e-03 1.80481402e-02\n",
      " 1.80471389e-02 1.80481372e-02 5.95390863e-07 5.95388474e-07\n",
      " 5.95350876e-07 5.95383749e-07 5.95387602e-07 5.95494900e-07\n",
      " 5.95474508e-07 7.32964766e-05 7.32921356e-05 7.32895902e-05\n",
      " 7.32909922e-05 7.32967323e-05]\n",
      "CASCI converged\n",
      "CASCI state   0  E = -14.6139807787452  E(CI) = -14.6139807787452  S^2 = 0.0000000\n",
      "CASCI state   1  E = -14.5124177686930  E(CI) = -14.5124177686930  S^2 = 2.0000000\n",
      "CASCI state   2  E = -14.5124177685883  E(CI) = -14.5124177685883  S^2 = 2.0000000\n",
      "CASCI state   3  E = -14.5124177684186  E(CI) = -14.5124177684186  S^2 = 2.0000000\n",
      "CASCI state   4  E = -14.4160711809404  E(CI) = -14.4160711809404  S^2 = 0.0000000\n",
      "CASCI state   5  E = -14.4160711805266  E(CI) = -14.4160711805266  S^2 = 0.0000000\n",
      "CASCI state   6  E = -14.4160711797784  E(CI) = -14.4160711797784  S^2 = 0.0000000\n",
      "CASCI state   7  E = -14.3767991719550  E(CI) = -14.3767991719550  S^2 = 1.9999998\n",
      "CASCI state   8  E = -14.3656990166518  E(CI) = -14.3656990166518  S^2 = 0.0000001\n",
      "CASCI state   9  E = -14.3415014441552  E(CI) = -14.3415014441552  S^2 = 2.0000000\n"
     ]
    },
    {
     "data": {
      "text/plain": [
       "array([0.        , 2.76363107, 2.76363107, 2.76363107, 5.38531807,\n",
       "       5.38531808, 5.3853181 , 6.4539487 , 6.75599503, 7.41443517])"
      ]
     },
     "execution_count": 30,
     "metadata": {},
     "output_type": "execute_result"
    }
   ],
   "source": [
    "mol = gto.M(atom=\"Be 0. 0. 0.\", spin=0, basis='aug-ccpvqz', unit='bohr')\n",
    "mf = scf.UHF(mol)\n",
    "mf.kernel()\n",
    "ncas, nelecas = (30, (2, 2))\n",
    "mycas = mcscf.CASCI(mf, ncas, nelecas)\n",
    "mycas.fcisolver.nroots = 10\n",
    "mycas.verbose = 4\n",
    "energies, eci, fci, mat, arr =mycas.kernel()\n",
    "27.211*(energies-energies[0])"
   ]
  },
  {
   "cell_type": "code",
   "execution_count": 36,
   "id": "673c473f-a41f-49e9-9ad4-c0f1047b817a",
   "metadata": {},
   "outputs": [
    {
     "name": "stdout",
     "output_type": "stream",
     "text": [
      "converged SCF energy = -24.5320678037255  <S^2> = 0.76038299  2S+1 = 2.0103562\n",
      "\n",
      "******** CASCI flags ********\n",
      "CAS (3e+2e, 20o), ncore = 0, nvir = 10\n",
      "natorb = False\n",
      "canonicalization = True\n",
      "sorting_mo_energy = False\n",
      "max_memory 4000 (MB)\n",
      "******** <class 'pyscf.fci.direct_spin1.FCISolver'> ********\n",
      "max. cycles = 200\n",
      "conv_tol = 1e-08\n",
      "davidson only = False\n",
      "linear dependence = 1e-12\n",
      "level shift = 0.001\n",
      "max iter space = 12\n",
      "max_memory 4000 MB\n",
      "nroots = 10\n",
      "pspace_size = 400\n",
      "spin = None\n",
      "\n",
      "WARN: Mulitple states found in CASCI solver. First state is used to compute the Fock matrix and natural orbitals in active space.\n",
      "\n",
      "Density matrix diagonal elements [1.99966373e+00 1.86925989e+00 5.40185896e-02 6.61904352e-01\n",
      " 2.81804371e-01 2.15201486e-03 4.85602843e-02 5.05584695e-02\n",
      " 7.25180573e-03 5.96206313e-03 4.12602314e-03 1.49743884e-03\n",
      " 5.19827226e-03 5.16668863e-03 1.55134420e-04 7.85129796e-04\n",
      " 1.62535537e-03 1.14290496e-04 1.13894994e-04 8.22034925e-05]\n",
      "CASCI converged\n",
      "CASCI state   0  E = -24.5895714771267  E(CI) = -24.5895714771267  S^2 = 0.7500000\n",
      "CASCI state   1  E = -24.5895714771265  E(CI) = -24.5895714771265  S^2 = 0.7500000\n",
      "CASCI state   2  E = -24.5888335148843  E(CI) = -24.5888335148843  S^2 = 0.7500000\n",
      "CASCI state   3  E = -24.4640366984161  E(CI) = -24.4640366984161  S^2 = 3.7500000\n",
      "CASCI state   4  E = -24.4640366984156  E(CI) = -24.4640366984156  S^2 = 3.7500000\n",
      "CASCI state   5  E = -24.4627722860203  E(CI) = -24.4627722860203  S^2 = 3.7500000\n",
      "CASCI state   6  E = -24.3632682402755  E(CI) = -24.3632682402755  S^2 = 0.7500000\n",
      "CASCI state   7  E = -24.3626058345859  E(CI) = -24.3626058345859  S^2 = 0.7500000\n",
      "CASCI state   8  E = -24.3622672209695  E(CI) = -24.3622672209695  S^2 = 0.7500000\n",
      "CASCI state   9  E = -24.3622672209693  E(CI) = -24.3622672209693  S^2 = 0.7500000\n"
     ]
    },
    {
     "data": {
      "text/plain": [
       "array([0.00000000e+00, 5.60702773e-12, 2.00806906e-02, 3.41592686e+00,\n",
       "       3.41592686e+00, 3.45033279e+00, 6.15793738e+00, 6.17596210e+00,\n",
       "       6.18517611e+00, 6.18517611e+00])"
      ]
     },
     "execution_count": 36,
     "metadata": {},
     "output_type": "execute_result"
    }
   ],
   "source": [
    "mol = gto.M(atom=\"B 0. 0. 0.\", spin=1, basis='ccpvtz', unit='bohr')\n",
    "mf = scf.UHF(mol)\n",
    "mf.kernel()\n",
    "ncas, nelecas = (20, (3, 2))\n",
    "mycas = mcscf.CASCI(mf, ncas, nelecas)\n",
    "mycas.fcisolver.nroots = 10\n",
    "mycas.verbose = 4\n",
    "energies, eci, fci, mat, arr =mycas.kernel()\n",
    "27.211*(energies-energies[0])"
   ]
  },
  {
   "cell_type": "code",
   "execution_count": 37,
   "id": "aada0b16-2d3d-4611-8c1d-78b6029720f1",
   "metadata": {},
   "outputs": [
    {
     "name": "stdout",
     "output_type": "stream",
     "text": [
      "converged SCF energy = -24.5329671386881  <S^2> = 0.76114911  2S+1 = 2.0111182\n",
      "\n",
      "******** CASCI flags ********\n",
      "CAS (3e+2e, 20o), ncore = 0, nvir = 35\n",
      "natorb = False\n",
      "canonicalization = True\n",
      "sorting_mo_energy = False\n",
      "max_memory 4000 (MB)\n",
      "******** <class 'pyscf.fci.direct_spin1.FCISolver'> ********\n",
      "max. cycles = 200\n",
      "conv_tol = 1e-08\n",
      "davidson only = False\n",
      "linear dependence = 1e-12\n",
      "level shift = 0.001\n",
      "max iter space = 12\n",
      "max_memory 4000 MB\n",
      "nroots = 10\n",
      "pspace_size = 400\n",
      "spin = None\n",
      "\n",
      "WARN: Mulitple states found in CASCI solver. First state is used to compute the Fock matrix and natural orbitals in active space.\n",
      "\n",
      "Density matrix diagonal elements [1.99987772e+00 1.87008222e+00 5.71722744e-02 3.77339078e-02\n",
      " 8.74406144e-01 1.94993820e-03 5.81350587e-03 1.38350264e-02\n",
      " 1.14871011e-01 5.09525843e-03 3.52547591e-03 9.59851596e-04\n",
      " 3.99104082e-03 3.96515875e-03 2.51182635e-04 9.03481567e-04\n",
      " 5.28713605e-03 1.02065074e-04 1.02278466e-04 7.53203383e-05]\n",
      "CASCI converged\n",
      "CASCI state   0  E = -24.5795870629948  E(CI) = -24.5795870629948  S^2 = 0.7500000\n",
      "CASCI state   1  E = -24.5795870629143  E(CI) = -24.5795870629143  S^2 = 0.7500000\n",
      "CASCI state   2  E = -24.5786835254080  E(CI) = -24.5786835254080  S^2 = 0.7500000\n",
      "CASCI state   3  E = -24.4595035087400  E(CI) = -24.4595035087400  S^2 = 3.7500000\n",
      "CASCI state   4  E = -24.4595035087399  E(CI) = -24.4595035087399  S^2 = 3.7500000\n",
      "CASCI state   5  E = -24.4567189037793  E(CI) = -24.4567189037793  S^2 = 3.7500000\n",
      "CASCI state   6  E = -24.3531362189572  E(CI) = -24.3531362189572  S^2 = 0.7500000\n",
      "CASCI state   7  E = -24.3529910112195  E(CI) = -24.3529910112195  S^2 = 0.7500000\n",
      "CASCI state   8  E = -24.3529910112189  E(CI) = -24.3529910112189  S^2 = 0.7500000\n",
      "CASCI state   9  E = -24.3390888389054  E(CI) = -24.3390888389054  S^2 = 0.7500000\n"
     ]
    },
    {
     "data": {
      "text/plain": [
       "array([0.00000000e+00, 2.18973767e-09, 2.45861613e-02, 3.26759359e+00,\n",
       "       3.26759359e+00, 3.34336548e+00, 6.16195392e+00, 6.16590516e+00,\n",
       "       6.16590516e+00, 6.54419718e+00])"
      ]
     },
     "execution_count": 37,
     "metadata": {},
     "output_type": "execute_result"
    }
   ],
   "source": [
    "mol = gto.M(atom=\"B 0. 0. 0.\", spin=1, basis='ccpvqz', unit='bohr')\n",
    "mf = scf.UHF(mol)\n",
    "mf.kernel()\n",
    "ncas, nelecas = (20, (3, 2))\n",
    "mycas = mcscf.CASCI(mf, ncas, nelecas)\n",
    "mycas.fcisolver.nroots = 10\n",
    "mycas.verbose = 4\n",
    "energies, eci, fci, mat, arr =mycas.kernel()\n",
    "27.211*(energies-energies[0])"
   ]
  },
  {
   "cell_type": "code",
   "execution_count": 41,
   "id": "ae5a479b-599e-4d11-8857-316a7cad5c29",
   "metadata": {},
   "outputs": [
    {
     "name": "stdout",
     "output_type": "stream",
     "text": [
      "converged SCF energy = -24.5329840742133  <S^2> = 0.76132792  2S+1 = 2.011296\n",
      "\n",
      "******** CASCI flags ********\n",
      "CAS (3e+2e, 18o), ncore = 0, nvir = 62\n",
      "natorb = False\n",
      "canonicalization = True\n",
      "sorting_mo_energy = False\n",
      "max_memory 4000 (MB)\n",
      "******** <class 'pyscf.fci.direct_spin1.FCISolver'> ********\n",
      "max. cycles = 200\n",
      "conv_tol = 1e-08\n",
      "davidson only = False\n",
      "linear dependence = 1e-12\n",
      "level shift = 0.001\n",
      "max iter space = 12\n",
      "max_memory 4000 MB\n",
      "nroots = 10\n",
      "pspace_size = 400\n",
      "spin = None\n",
      "\n",
      "WARN: Mulitple states found in CASCI solver. First state is used to compute the Fock matrix and natural orbitals in active space.\n",
      "\n",
      "Density matrix diagonal elements [1.99996804e+00 1.89436003e+00 9.96128515e-01 1.68490580e-02\n",
      " 1.68490580e-02 1.47496696e-03 2.14321451e-03 2.09358999e-02\n",
      " 2.09358999e-02 8.05335305e-07 8.05295812e-07 7.00204501e-04\n",
      " 7.00204501e-04 2.18167574e-03 4.53925893e-03 8.97892342e-03\n",
      " 8.97892342e-03 4.27451960e-03]\n",
      "CASCI converged\n",
      "CASCI state   0  E = -24.5614019935469  E(CI) = -24.5614019935469  S^2 = 0.7500000\n",
      "CASCI state   1  E = -24.5599893599403  E(CI) = -24.5599893599403  S^2 = 0.7500000\n",
      "CASCI state   2  E = -24.5599893599402  E(CI) = -24.5599893599402  S^2 = 0.7500000\n",
      "CASCI state   3  E = -24.4469823554055  E(CI) = -24.4469823554055  S^2 = 3.7500000\n",
      "CASCI state   4  E = -24.4469823554055  E(CI) = -24.4469823554055  S^2 = 3.7500000\n",
      "CASCI state   5  E = -24.4343205473668  E(CI) = -24.4343205473668  S^2 = 3.7500000\n",
      "CASCI state   6  E = -24.3989183021333  E(CI) = -24.3989183021333  S^2 = 0.7500000\n",
      "CASCI state   7  E = -24.3609824702631  E(CI) = -24.3609824702631  S^2 = 0.7500000\n",
      "CASCI state   8  E = -24.3607614021677  E(CI) = -24.3607614021677  S^2 = 0.7500000\n",
      "CASCI state   9  E = -24.3607614021676  E(CI) = -24.3607614021676  S^2 = 0.7500000\n"
     ]
    },
    {
     "data": {
      "text/plain": [
       "array([0.        , 0.03843917, 0.03843917, 3.11347277, 3.11347277,\n",
       "       3.45801323, 4.42134373, 5.45361565, 5.45963113, 5.45963113])"
      ]
     },
     "execution_count": 41,
     "metadata": {},
     "output_type": "execute_result"
    }
   ],
   "source": [
    "mol = gto.M(atom=\"B 0. 0. 0.\", spin=1, basis='aug-ccpvqz', unit='bohr')\n",
    "mf = scf.UHF(mol)\n",
    "mf.kernel()\n",
    "ncas, nelecas = (18, (3, 2))\n",
    "mycas = mcscf.CASCI(mf, ncas, nelecas)\n",
    "mycas.fcisolver.nroots = 10\n",
    "mycas.verbose = 4\n",
    "energies, eci, fci, mat, arr =mycas.kernel()\n",
    "27.211*(energies-energies[0])"
   ]
  },
  {
   "cell_type": "code",
   "execution_count": 42,
   "id": "4e245329-10cb-4efc-8080-8c68ee497155",
   "metadata": {},
   "outputs": [
    {
     "name": "stdout",
     "output_type": "stream",
     "text": [
      "converged SCF energy = -24.5329840742133  <S^2> = 0.76132792  2S+1 = 2.011296\n",
      "\n",
      "******** CASCI flags ********\n",
      "CAS (3e+2e, 27o), ncore = 0, nvir = 53\n",
      "natorb = False\n",
      "canonicalization = True\n",
      "sorting_mo_energy = False\n",
      "max_memory 4000 (MB)\n",
      "******** <class 'pyscf.fci.direct_spin1.FCISolver'> ********\n",
      "max. cycles = 200\n",
      "conv_tol = 1e-08\n",
      "davidson only = False\n",
      "linear dependence = 1e-12\n",
      "level shift = 0.001\n",
      "max iter space = 12\n",
      "max_memory 4000 MB\n",
      "nroots = 10\n",
      "pspace_size = 400\n",
      "spin = None\n",
      "\n",
      "WARN: Mulitple states found in CASCI solver. First state is used to compute the Fock matrix and natural orbitals in active space.\n",
      "\n",
      "Density matrix diagonal elements [1.99996586e+00 1.87883871e+00 9.92333275e-01 1.85478536e-02\n",
      " 1.71977671e-02 1.20270553e-03 1.94910135e-03 2.31317948e-02\n",
      " 2.14891969e-02 5.11572426e-06 4.16197571e-06 6.51262185e-04\n",
      " 8.72933328e-04 2.49249337e-03 4.22370695e-03 9.05878605e-03\n",
      " 9.73834968e-03 4.09883802e-03 5.68448859e-07 6.49474858e-07\n",
      " 8.69063807e-06 1.45644317e-05 2.10473765e-05 3.00627174e-05\n",
      " 3.80837587e-05 1.01019413e-02 3.98247771e-03]\n",
      "CASCI converged\n",
      "CASCI state   0  E = -24.5728256936749  E(CI) = -24.5728256936749  S^2 = 0.7500000\n",
      "CASCI state   1  E = -24.5676120686970  E(CI) = -24.5676120686970  S^2 = 0.7500000\n",
      "CASCI state   2  E = -24.5639176614466  E(CI) = -24.5639176614466  S^2 = 0.7500000\n",
      "CASCI state   3  E = -24.4489528522069  E(CI) = -24.4489528522069  S^2 = 3.7500000\n",
      "CASCI state   4  E = -24.4486048409632  E(CI) = -24.4486048409632  S^2 = 3.7500000\n",
      "CASCI state   5  E = -24.4406971580932  E(CI) = -24.4406971580932  S^2 = 3.7500000\n",
      "CASCI state   6  E = -24.4024061228422  E(CI) = -24.4024061228422  S^2 = 0.7500000\n",
      "CASCI state   7  E = -24.3649556558463  E(CI) = -24.3649556558463  S^2 = 0.7500000\n",
      "CASCI state   8  E = -24.3640517561916  E(CI) = -24.3640517561916  S^2 = 0.7500000\n",
      "CASCI state   9  E = -24.3638628682225  E(CI) = -24.3638628682225  S^2 = 0.7500000\n"
     ]
    },
    {
     "data": {
      "text/plain": [
       "array([0.        , 0.14186795, 0.24239646, 3.37070389, 3.38017362,\n",
       "       3.59534958, 4.63728694, 5.6563516 , 5.68094761, 5.68608744])"
      ]
     },
     "execution_count": 42,
     "metadata": {},
     "output_type": "execute_result"
    }
   ],
   "source": [
    "mol = gto.M(atom=\"B 0. 0. 0.\", spin=1, basis='aug-ccpvqz', unit='bohr')\n",
    "mf = scf.UHF(mol)\n",
    "mf.kernel()\n",
    "ncas, nelecas = (27, (3, 2))\n",
    "mycas = mcscf.CASCI(mf, ncas, nelecas)\n",
    "mycas.fcisolver.nroots = 10\n",
    "mycas.verbose = 4\n",
    "energies, eci, fci, mat, arr =mycas.kernel()\n",
    "27.211*(energies-energies[0])"
   ]
  },
  {
   "cell_type": "code",
   "execution_count": null,
   "id": "1845b568-06c2-47aa-833c-695c7b8cfec3",
   "metadata": {},
   "outputs": [],
   "source": [
    "mol = gto.M(atom=\"B 0. 0. 0.\", spin=1, basis='aug-ccpvqz', unit='bohr')\n",
    "mf = scf.UHF(mol)\n",
    "mf.kernel()\n",
    "ncas, nelecas = (27, (3, 2))\n",
    "mycas = mcscf.CASCI(mf, ncas, nelecas)\n",
    "mycas.fcisolver.nroots = 10\n",
    "mycas.verbose = 4\n",
    "energies, eci, fci, mat, arr =mycas.kernel()\n",
    "27.211*(energies-energies[0])"
   ]
  },
  {
   "cell_type": "code",
   "execution_count": null,
   "id": "68ab912f-c165-498e-9591-5a789368b8bb",
   "metadata": {},
   "outputs": [],
   "source": []
  },
  {
   "cell_type": "code",
   "execution_count": null,
   "id": "be1f899d-60d2-453c-94f7-e01cfb215307",
   "metadata": {},
   "outputs": [],
   "source": []
  },
  {
   "cell_type": "code",
   "execution_count": null,
   "id": "2ac7df91-1b61-4bfe-8856-a7d6937ea673",
   "metadata": {},
   "outputs": [],
   "source": []
  },
  {
   "cell_type": "code",
   "execution_count": null,
   "id": "3b05ee33-a4e5-4df5-9d1b-764e500a4c45",
   "metadata": {},
   "outputs": [],
   "source": []
  }
 ],
 "metadata": {
  "kernelspec": {
   "display_name": "Python 3 (ipykernel)",
   "language": "python",
   "name": "python3"
  },
  "language_info": {
   "codemirror_mode": {
    "name": "ipython",
    "version": 3
   },
   "file_extension": ".py",
   "mimetype": "text/x-python",
   "name": "python",
   "nbconvert_exporter": "python",
   "pygments_lexer": "ipython3",
   "version": "3.11.6"
  }
 },
 "nbformat": 4,
 "nbformat_minor": 5
}
