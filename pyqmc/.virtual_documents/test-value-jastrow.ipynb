import matplotlib.pyplot as plt
import numpy as np
import os
import h5py
import api as pyq 


# Wavefunction generation
from scf_runs import run_lda_he, run_casci
scf_checkfile, opt_checkfile, mf_lda = run_lda_he()
ci_checkfile, mc = run_casci(scf_checkfile, nroots=4)


import importlib, recipes
modules = [recipes]
for m in modules:
    importlib.reload(m)

    # Jastrow optimizationn
    
for fname in [opt_checkfile]:
    if os.path.isfile(fname):
        os.remove(fname)

# pyq.OPTIMIZE(scf_checkfile, "sj.hdf5", ci_checkfile=ci_checkfile, max_iterations=2, verbose=False)
# bosonrecipes.ABOPTIMIZE(scf_checkfile, "sj.hdf5", max_iterations=2, nconfig=100, verbose=False)
recipes.OPTIMIZE(scf_checkfile, opt_checkfile, max_iterations=5, nconfig=1000, verbose=True)
# Jastrow optimization results
df = pyq.read_opt(opt_checkfile)
df


tstep = 0.001
nconfig = 2000
nsteps = 1000
discard = 100
reblock_size = 50


import importlib, recipes
modules = [recipes] # Reloads recipes.py file after each update
for m in modules:
    importlib.reload(m)
import pyqmc.pyscftools as pyscftools

def initialize_boson_qmc_objects_j(
    dft_checkfile,
):  
    mol, mf = pyscftools.recover_pyscf(scf_checkfile)
    wf, to_opt = bosonwftools.generate_boson_wf(
        mol, mf,
    )
    load_parameters = opt_checkfile
    wftools.read_wf(wf, load_parameters)      
    return wf

def initialize_qmc_objects_j(
    dft_checkfile: str,
):
    mol, mf = pyscftools.recover_pyscf(dft_checkfile)
    wf, to_opt = wftools.generate_wf(
        mol, mf, 
    )
    load_parameters = opt_checkfile
    wftools.read_wf(wf, load_parameters)      
    return wf








import importlib, bosonrecipes, bosonmc, bosonwftools
modules = [bosonrecipes, bosonmc, bosonwftools] # Reloads recipes.py file after each update
for m in modules:
    importlib.reload(m)

import importlib, wftools
modules = [wftools] # Reloads recipes.py file after each update
for m in modules:
    importlib.reload(m)
    
#phi and phib
trials = 100
for i in range(trials):
    nconfig = 100
    mol, mf = pyscftools.recover_pyscf(scf_checkfile)
    configs = bosonmc.initial_guess(mol, nconfig, seed = i)
    wfb = initialize_boson_qmc_objects_j(
        scf_checkfile,
    )
    wf = initialize_qmc_objects_j(
            scf_checkfile,
        )
    e=0
    sign, phi1 = wf.recompute(configs)
    g1, _, _ = wf.gradient_value(e, configs.electron(e))  
    phi1 = wf.value()
    # phi1a = saved['phi']
    e=0
    signb, phi2 = wfb.recompute(configs)
    g1b, _, _ = wfb.gradient_value(e, configs.electron(e))
    phi2 = wfb.value()
    plt.scatter(phi1, phi2)
x = np.linspace(-14, 1, 100)
plt.plot(x,x)
plt.xlabel(r'$\Psi_B(R)$')
plt.ylabel(r'Abs(log(\Psi(R))$)')
plt.title(str(trials) + ' trials')


#Val and valb
trials = 100
for i in range(trials):
    nconfig = 100
    mol, mf = pyscftools.recover_pyscf(scf_checkfile)
    configs = bosonmc.initial_guess(mol, nconfig, seed = i)
    wfb = initialize_boson_qmc_objects_j(
        scf_checkfile,
    )
    wf = initialize_qmc_objects_j(
            scf_checkfile,
        )
    e=0
    sign, val = wf.recompute(configs)
    g1, _, _ = wf.gradient_value(e, configs.electron(e))  
    e=0
    signb, valb = wfb.recompute(configs)
    g1b, _, _ = wfb.gradient_value(e, configs.electron(e))
    # valb2 = saved['psi']
    plt.scatter(g1, g1b)
x = np.linspace(0, 0.7, 100)
plt.plot(x,x)
plt.xlabel('Bosonic with jastrow')
plt.ylabel('Fermionic with jastrow')
plt.title(str(trials) + ' configurations')






