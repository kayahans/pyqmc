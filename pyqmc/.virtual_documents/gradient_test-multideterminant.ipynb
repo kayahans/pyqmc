# Wavefunction generation
from pyscf import mcscf, fci, lib 
from pyscf import gto, scf, tools, dft
import api as pyq 
import importlib
import os
import h5py
import pandas as pd
import pdb
import pyscf
import numpy as np
import pyqmc
import scipy
import matplotlib.pyplot as plt
from pyscf.scf.hf import dump_scf_summary
from concurrent.futures import ProcessPoolExecutor
from pyscf.scf.chkfile import dump_scf
print(pyq.__file__)
print(pyscf.__file__)


# H2 molecule
def run_scf(scf_checkfile):
    mol = gto.M(atom="H 0. 0. 0.;H 0. 0. 1.;", basis=f'ccecpccpvdz', unit='bohr')
    mf = scf.UHF(mol)
    mf.chkfile = scf_checkfile
    dm = mf.init_guess_by_atom()
    mf.kernel(dm)
    dump_scf(mf.mol, 'scf.hdf5', mf.energy_tot(), mf.mo_energy, mf.mo_coeff, mf.mo_occ)
    return mf

def run_lda_be(scf_checkfile):
    print("Be atom neutral LDA spin=2")
    mol = gto.M(atom="Be 0. 0. 0.", spin=2,basis=f'ccpvdz', unit='bohr')
    print("HF")
    mf = scf.UHF(mol)
    mf.kernel()
    print("LDA")        
    mf = dft.UKS(mol)
    # mf.verbose=6
    mf.chkfile = scf_checkfile
    dm = mf.init_guess_by_atom()
    mf.kernel(dm, xc='LDA')
    return mf

def run_lda_li(scf_checkfile):
    print("Li atom neutral LDA spin=1")
    mol = gto.M(atom="Li 0. 0. 0.",basis=f'ccpvtz', spin=1, unit='bohr')
    print("HF")
    mf = scf.UHF(mol)
    mf.kernel()
    print("LDA")    
    mf = dft.UKS(mol)
    # mf.verbose=6
    mf.chkfile = scf_checkfile
    dm = mf.init_guess_by_atom()
    mf.kernel(dm, xc='LDA')
    return mf

def run_lda_he(scf_checkfile):
    print("He atom neutral LDA spin=0")
    # mol = gto.M(atom="He 0. 0. 0.", basis="ccECP_cc-pVDZ", ecp="ccecp", unit='bohr')
    mol = gto.M(atom="He 0. 0. 0.", basis="ccpvdz", unit='bohr')    
    print("HF")
    mf = scf.UHF(mol)
    mf.kernel()
    print("LDA")    
    mf = dft.UKS(mol)
    # mf.verbose=6
    mf.chkfile = scf_checkfile
    dm = mf.init_guess_by_atom()
    mf.kernel(dm, xc='LDA')
    return mf

def run_lda_h2(scf_checkfile):
    mol = gto.M(atom="H 0. 0. 0.; H 0. 0. 2", spin = 2, basis=f'ccecpccpvdz', unit='bohr')
    mf = dft.UKS(mol)
    # mf.verbose=6
    mf.chkfile = scf_checkfile
    dm = mf.init_guess_by_atom()
    mf.xc='LDA, VWN'
    mf.kernel()    
    # mf.kernel(dm, xc='LDA,VWN')
    return mf

def run_lda(scf_checkfile):
    mol = gto.M(atom="H 0. 0. 0.", spin=1,basis=f'ccecpccpvdz', unit='bohr')
    mf = dft.UKS(mol)
    # mf.verbose=6
    mf.chkfile = scf_checkfile
    dm = mf.init_guess_by_atom()
    mf.kernel(dm, xc='LDA')
    return mf
    
def run_casscf(scf_checkfile, ci_checkfile):
    cell, mf = pyq.recover_pyscf(scf_checkfile, cancel_outputs=False)
    mc = mcscf.CASSCF(mf,2,2)
    mc.chkfile = ci_checkfile
    mc.kernel()
    with h5py.File(mc.chkfile, "a") as f:
        print("Available output from CASSCF:", f["mcscf"].keys())
        f["mcscf/nelecas"] = list(mc.nelecas)
        f["mcscf/ci"] = mc.ci
    return mc

def run_casci(scf_checkfile, ci_checkfile):
    cell, mf = pyq.recover_pyscf(scf_checkfile, cancel_outputs=False)
    # ncas: orbitals
    # nelecas: electrons
    ncas = 3
    nelecas = 2
    mc = mcscf.CASCI(mf, ncas, nelecas)
    mc.kernel()
    print(mc.__dict__.keys())
    with h5py.File(ci_checkfile, "a") as f:
        f.create_group("ci")
        f["ci/ncas"] = mc.ncas
        f["ci/nelecas"] = list(mc.nelecas)
        f["ci/ci"] = mc.ci
        f["ci/mo_coeff"] = mc.mo_coeff
        print("Available output from CASCI:", f["ci"].keys())
    return mc

def make_wf_object(scf_checkfile, ci_checkfile):
    mol, mf, mc = pyq.recover_pyscf(scf_checkfile, ci_checkfile=ci_checkfile)
    wf, _ = pyq.generate_wf(mol, mf, mc=mc)
    return wf

def stat_qmc(etot, filename):
    block_sizes = np.linspace(2,len(etot[discard:])//16, 10, dtype=int)
    reblocks = [len(etot)//s for s in block_sizes]

    plt.figure()
    df = pd.DataFrame([pyq.read_mc_output(filename, warmup=discard, reblock=reblock) for reblock in reblocks])
    df['block_size'] = block_sizes
    plt.plot("block_size",'energytotal_err',data=df, marker='o')
    plt.xlabel("Block size")
    plt.ylabel("Estimated uncertainty (Ha)")

def reblock(e, discard, reblock_size):
    e = e[discard:]
    vals = pyqmc.reblock.reblock(e,int(len(e)/reblock_size))
    # import pdb
    # pdb.set_trace()
    
    e_m  = np.mean(vals, axis=0)
    e_d  = scipy.stats.sem(vals, axis=0)    
    return e, e_m, e_d

for fname in ['scf.hdf5','ci.hdf5']:
    if os.path.isfile(fname):
        os.remove(fname)    
            
scf_checkfile = "scf.hdf5"
ci_checkfile = "ci.hdf5"
# mf = run_scf(scf_checkfile)
mf_lda = run_lda_h2(scf_checkfile)

mcc = run_casci(scf_checkfile, ci_checkfile)











import importlib, recipes, abdmc, wftools, bosonwf, determinant_tools, mc, dmc, slater, orbitals, accumulators, energy, jastrowspin, multiplywf
modules = [recipes, abdmc, wftools, bosonwf, determinant_tools, mc, dmc, slater, orbitals, accumulators, energy, jastrowspin, multiplywf] # Reloads recipes.py file after each update
for m in modules:
    importlib.reload(m)
import pyqmc.pyscftools as pyscftools
from accumulators import ABQMCEnergyAccumulator

# def initialize_boson_qmc_objects(
#     dft_checkfile,
# ):  
#     mol, mf, mc = pyscftools.recover_pyscf(scf_checkfile, ci_checkfile = 'ci.hdf5')
#     wf, to_opt = wftools.generate_boson_wf(
#         mol, mf, jastrow = None
#     )
#     return wf

# def initialize_qmc_objects(
#     dft_checkfile: str,
# ):
#     mol, mf, mc = pyscftools.recover_pyscf(dft_checkfile, ci_checkfile = 'ci.hdf5')
#     wf, to_opt = wftools.generate_wf(
#         mol, mf, jastrow=None
#     )
#     return wf


trials = 1
for i in range(trials):
    nconfig = 123
    mol, mf, mcc = pyscftools.recover_pyscf(scf_checkfile, ci_checkfile = 'ci.hdf5')
    target_root = 0
    if not hasattr(mcc.ci, "shape") or len(mcc.ci.shape) == 3:
            mcc.ci = mcc.ci[target_root]
    wf, to_opt = wftools.generate_boson_wf(
            mol, mf, mc=mcc, jastrow = None, jastrow_kws=None, slater_kws=None
        )

    configs = mc.fixed_initial_guess(mol, nconfig)
    configs = mc.initial_guess(mol, nconfig, seed = 100)
    
    e=0
    sign, val, _ = wf.recompute(configs)
    # import pdb
    # pdb.set_trace()
    g1, val2, _ = wf.gradient_value(e, configs.electron(e))
    # plt.scatter(np.exp(val), valb)
# x = np.linspace(0, 0.7, 100)
# plt.plot(x,x)
# plt.xlabel('Grad bosonic no jastrow')
# plt.ylabel('Grad fermionic no jastrow')
# plt.title(str(trials) + ' configurations')


# Multi determinant boson new gradient
import importlib, recipes, abdmc, wftools, bosonwf, determinant_tools, mc, dmc, slater, orbitals, accumulators, energy, jastrowspin, multiplywf
modules = [recipes, abdmc, wftools, bosonwf, determinant_tools, mc, dmc, slater, orbitals, accumulators, energy, jastrowspin, multiplywf] # Reloads recipes.py file after each update
for m in modules:
    importlib.reload(m)
import pyqmc.pyscftools as pyscftools

nconfig = 123
mol, mf, mcc = pyscftools.recover_pyscf(scf_checkfile, ci_checkfile = 'ci.hdf5')
target_root = 0
if not hasattr(mcc.ci, "shape") or len(mcc.ci.shape) == 3:
    mcc.ci = mcc.ci[target_root]
wf, to_opt = wftools.generate_boson_wf(
        mol, mf, mc=mcc, jastrow = None, jastrow_kws=None, slater_kws=None
        )

e=0
sign, val, _ = wf.recompute(configs)
g1, val2, saved = wf.gradient_value(e, configs.electron(e))

y1 = np.gradient(val)
y2 = g1
dx = configs.configs[1]-configs.configs[0]
dx = dx[dx!=0][0]
print(dx)
plt.figure()
# plt.plot(g1[2], '-ok', label='grad')
# plt.plot(y1/dx, '-ob', label='num')

plt.plot(val, '-ok', label='value')
plt.plot(saved['psi'], '-ob', label='from_grad')

plt.legend()
plt.title('Multi determinant boson new gradient')



saved.keys()








# Single determinant boson new gradient
import importlib, recipes, abdmc, wftools, bosonwf, determinant_tools, mc, dmc, slater, orbitals, accumulators, energy, jastrowspin, multiplywf
modules = [recipes, abdmc, wftools, bosonwf, determinant_tools, mc, dmc, slater, orbitals, accumulators, energy, jastrowspin, multiplywf] # Reloads recipes.py file after each update
for m in modules:
    importlib.reload(m)
import pyqmc.pyscftools as pyscftools
from accumulators import ABQMCEnergyAccumulator


nconfig = 123
mol, mf = pyscftools.recover_pyscf(scf_checkfile)
configs = mc.fixed_initial_guess(mol, nconfig)
wf, to_opt = wftools.generate_boson_wf(
        mol, mf, mc=None, jastrow = None, jastrow_kws=None, slater_kws=None
    )
e=0
sign, val, _ = wf.recompute(configs)
g1, val2, _ = wf.gradient_value(e, configs.electron(e))

y1 = np.gradient(val)
y2 = g1
dx = configs.configs[1]-configs.configs[0]
dx = dx[dx!=0][0]
print(dx)
plt.plot(g1[2], '-ok', label='grad')
plt.plot(y1/dx, '-ob', label='num')
plt.legend()
plt.title('Single determinant boson new gradient')



# Single determinant boson old gradient
import importlib, recipes, abdmc, wftools, bosonwf, determinant_tools, mc, dmc, slater, orbitals, accumulators, energy, jastrowspin, multiplywf
modules = [recipes, abdmc, wftools, bosonwf, determinant_tools, mc, dmc, slater, orbitals, accumulators, energy, jastrowspin, multiplywf] # Reloads recipes.py file after each update
for m in modules:
    importlib.reload(m)
import pyqmc.pyscftools as pyscftools
from accumulators import ABQMCEnergyAccumulator

nconfig = 123
mol, mf = pyscftools.recover_pyscf(scf_checkfile)
configs = mc.fixed_initial_guess(mol, nconfig)
wf, to_opt = wftools.generate_boson_wf(
        mol, mf, mc=None, jastrow = None, jastrow_kws=None, slater_kws=None
    )
e=0
sign, val = wf.recompute_old(configs)
g1, val2, _ = wf.gradient_value_old(e, configs.electron(e))

y1 = np.gradient(val)
y2 = g1
dx = configs.configs[1]-configs.configs[0]
dx = dx[dx!=0][0]
print(dx)
plt.plot(g1[2], '-ok', label='grad')
plt.plot(y1/dx, '-ob', label='num')
plt.legend()
plt.title('Single determinant boson old gradient')



# # Single determinant boson
# nconfig = 123

# wf, configs, _ = recipes.initialize_boson_qmc_objects(
#     scf_checkfile,
# )
# configs = mc.fixed_initial_guess(mol, nconfig)
# sign, val, _ = wf.recompute(configs)
# e=0
# g1, val2, _ = wf.gradient_value(e, configs.electron(e))

# y1 = np.gradient(val)
# y2 = g1
# dx = configs.configs[1]-configs.configs[0]
# dx = dx[dx!=0][0]
# print(dx)
# plt.plot(g1[2], '-ok', label='grad')
# plt.plot(y1/dx, '-ob', label='num')
# plt.legend()
# plt.title('Single determinant boson')






# Multiple determinant slater
import importlib, recipes, abdmc, wftools, bosonwf, determinant_tools, mc, dmc, slater, orbitals, accumulators, energy, jastrowspin, multiplywf
modules = [recipes, abdmc, wftools, bosonwf, determinant_tools, mc, dmc, slater, orbitals, accumulators, energy, jastrowspin, multiplywf] # Reloads recipes.py file after each update
for m in modules:
    importlib.reload(m)
import pyqmc.pyscftools as pyscftools
from accumulators import ABQMCEnergyAccumulator

trials = 1
# for i in range(trials):
nconfig = 123
mol, mf, mcc = pyscftools.recover_pyscf(scf_checkfile, ci_checkfile = 'ci.hdf5')
target_root = 0
if not hasattr(mcc.ci, "shape") or len(mcc.ci.shape) == 3:
        mcc.ci = mcc.ci[target_root]
wf, to_opt = wftools.generate_wf(
        mol, mf, mc=mcc, jastrow = None, jastrow_kws=None, slater_kws=None
    )

configs = mc.fixed_initial_guess(mol, nconfig)
# configs = mc.initial_guess(mol, nconfig, seed = 100)

e=0
sign, val = wf.recompute(configs)
# import pdb
# pdb.set_trace()
g1, val2, _ = wf.gradient_value(e, configs.electron(e))
# plt.scatter(np.exp(val), valb)

y1 = np.gradient(val)
y2 = g1
dx = configs.configs[1]-configs.configs[0]
dx = dx[dx!=0][0]
dx
plt.plot(g1[2], '-ok', label='grad')
plt.plot(y1/dx, '-ob', label='num')
plt.legend()
plt.title('Multiple determinant slater')
# plt.plot(val, '-ok', label='grad')
# plt.plot(val2, '-ob', label='num')


# Single determinant slater
import importlib, recipes, abdmc, wftools, bosonwf, determinant_tools, mc, dmc, slater, orbitals, accumulators, energy, jastrowspin, multiplywf
modules = [recipes, abdmc, wftools, bosonwf, determinant_tools, mc, dmc, slater, orbitals, accumulators, energy, jastrowspin, multiplywf] # Reloads recipes.py file after each update
for m in modules:
    importlib.reload(m)
import pyqmc.pyscftools as pyscftools
from accumulators import ABQMCEnergyAccumulator

trials = 1
# for i in range(trials):
nconfig = 123

mol, mf = pyscftools.recover_pyscf(scf_checkfile)
configs = mc.fixed_initial_guess(mol, nconfig)
wf, to_opt = wftools.generate_wf(
        mol, mf, mc=None, jastrow = None, jastrow_kws=None, slater_kws=None
    )
e=0
sign, val = wf.recompute(configs)
g1, val2, _ = wf.gradient_value(e, configs.electron(e))

y1 = np.gradient(val)
y2 = g1
dx = configs.configs[1]-configs.configs[0]
dx = dx[dx!=0][0]

plt.plot(g1[2], '-ok', label='grad')
plt.plot(y1/dx, '-ob', label='num')

# plt.plot(val, '-ok', label='grad')
# plt.plot(val2, '-ob', label='num')
plt.legend()
plt.title('Single determinant slater')
# plt.xlim((700,800))


















