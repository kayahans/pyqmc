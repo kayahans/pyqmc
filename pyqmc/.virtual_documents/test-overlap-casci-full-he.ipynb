import matplotlib.pyplot as plt
import numpy as np
import copy
import h5py
import os
import seaborn as sns
from pyscf.scf.uhf import det_ovlp


# Wavefunction generation
from pyscf import lib, gto, scf
from pyscf import gto, mp, mcscf
def He_casci(scf_checkfile, ci_checkfile):
    mol = gto.M(
        atom="He 0. 0. 0.0;",
        basis=f"ccecpccpvqz",
        unit="bohr",
        charge=0,
        spin=0,
        verbose=1,
    )
    mf = scf.UHF(mol).run()
    mf.chkfile = scf_checkfile
    mf.kernel()
    mc = mcscf.CASCI(mf, 2,2)
    # mc.fcisolver.nroots = 2
    mc.kernel()
    print(mc.__dict__.keys())
    with h5py.File(ci_checkfile, "a") as f:
        f.create_group("ci")
        f["ci/ncas"] = mc.ncas
        f["ci/nelecas"] = list(mc.nelecas)
        f["ci/ci"] = mc.ci
        f["ci/mo_coeff"] = mc.mo_coeff    
    return mol, mf, mc











scf_checkfile = 'rohf.chk'
ci_checkfile = 'casci.chk'
for fname in [scf_checkfile, ci_checkfile]:
    if os.path.isfile(fname):
        os.remove(fname)
mol, mf, mcc = He_casci(scf_checkfile, ci_checkfile)



# Orthogonality test


# FC = SCE Roothaan equation
C = mf.mo_coeff
Ca = C[0]
print(Ca.shape)
# C.T @ C
s0 = np.einsum('ij, jk->ik', Ca.T, Ca)
sns.heatmap(s0)


# C.T @ S @ C
s1 = np.einsum('ij, jk, kl->il', Ca.T, mf.get_ovlp(), Ca)
sns.heatmap(s1)
# Orthogonal in the overlap metric (get_ovlp)





import bosonslater 
import pyscftools, mc
wf1 = bosonslater.BosonWF(mol, mf, mc=mcc)

nconfig = 1000
mol, mf = pyscftools.recover_pyscf(scf_checkfile)
configs = mc.initial_guess(mol, nconfig)
# wf.parameters['det_coeff'] = np.ones(len(wf.parameters['det_coeff']))
signb, phib = wf1.recompute(configs)
num_ao = wf1._aovals.shape[-1]
print(num_ao)


det_dim_up = wf1._dets[0][1].shape[-1]
det_dim = det_dim_up
print(det_dim_up, ' up determinants')


det_dim_dn = wf1._dets[1][1].shape[-1]
print(det_dim_dn, ' down determinants')
print(det_dim_up * det_dim_dn, ' total number of determinants')



mcc_mo_coeff=copy.deepcopy(mf.mo_coeff)





n = np.array(wf1._det_occup)
print(n.shape)
occ_arr_shape = (n.shape[0], n.shape[1], num_ao)
occ_arr = np.zeros(occ_arr_shape)
for i in range(n.shape[0]):
    for j in range(n.shape[1]):
        occ_arr[i,j][n[i,j]]=1


occ_arr.shape


ovlp_mat = np.zeros((det_dim, det_dim))
for i1 in range(det_dim):
    for i2 in range(det_dim):
        det1_occ = np.array([occ_arr[0, i1], occ_arr[1, i1]])
        det2_occ = np.array([occ_arr[0, i2], occ_arr[1, i2]])
        # print(det1_occ, '\n\n', det2_occ, '\n===\n')
        ovlp, _ = det_ovlp(mcc_mo_coeff, mcc_mo_coeff, det1_occ, det2_occ, mf.get_ovlp())
        ovlp_mat[i1, i2] = ovlp


sns.heatmap(np.round(ovlp_mat,5), annot=True, linewidths=.5)





import bosonslater 
import pyscftools, mc
wf1 = bosonslater.BosonWF(mol, mf, mc=mcc)

nconfig = 1000
mol, mf = pyscftools.recover_pyscf(scf_checkfile)
configs = mc.initial_guess(mol, nconfig)
# wf.parameters['det_coeff'] = np.ones(len(wf.parameters['det_coeff']))
signb, phib = wf1.recompute(configs)
num_ao = wf1._aovals.shape[-1]
print(num_ao)


wf1._aovals.shape


det_dim_up = wf1._dets[0][1].shape[-1]
print(det_dim_up, ' up determinants')


det_dim_dn = wf1._dets[1][1].shape[-1]
print(det_dim_dn, ' down determinants')
det_dim = det_dim_up * det_dim_dn
print(det_dim, ' total number of determinants')


occ_arr = np.zeros((2,det_dim, wf1._aovals.shape[-1]))
for i in range(det_dim):
    up_i = wf1._det_map[0,i]
    dn_i = wf1._det_map[1,i]
    occ_arr[0, i][wf1._det_occup[0][up_i]] = 1
    occ_arr[1, i][wf1._det_occup[1][dn_i]] = 1
occ_arr.shape    


ovlp_mat = np.zeros((det_dim, det_dim))
mf_ovlp = mf.get_ovlp()
# mf_ovlp = np.eye(mf_ovlp.shape[0])
for i1 in range(det_dim):
    for i2 in range(det_dim):
        det1_occ = occ_arr[:, i1, :]
        det2_occ = occ_arr[:, i2, :]
        # print(det1_occ, '\n\n', det2_occ, '\n===\n')
        # print(mcc_mo_coeff.shape, det1_occ.shape, mf_ovlp.shape)
        ovlp, _ = det_ovlp(mcc_mo_coeff, mcc_mo_coeff, det1_occ, det2_occ, mf_ovlp)
        ovlp_mat[i1, i2] = ovlp


sns.heatmap(np.round(ovlp_mat,5)) #, annot=True, linewidths=.5)











import bosonslater 
import pyscftools, mc
wf1 = bosonslater.BosonWF(mol, mf, mc=mcc)

nconfig = 1000
mol, mf = pyscftools.recover_pyscf(scf_checkfile)
configs = mc.initial_guess(mol, nconfig)
signb, phib = wf1.recompute(configs)
sign, logval = wf1.value()
val = np.exp(logval)
rho = val**2 
rho.shape


wf1.parameters['det_coeff']
wf1._det_map


# import slater 
# import pyscftools, mc
# wfs = slater.Slater(mol, mf, mc=mcc)

# nconfig = 1000
# mol, mf = pyscftools.recover_pyscf(scf_checkfile)
# configs = mc.initial_guess(mol, nconfig)
# signb, phib = wfs.recompute(configs)
# sign, logval = wfs.value()
# val = np.exp(logval)
# rho_s = val**2 
# rho_s.shape


# wfs.parameters['det_coeff']
# wfs._det_map


# rho


updet_sign, updet_val = wf1._dets[0]
dndet_sign, dndet_val = wf1._dets[1]


nup_i = np.einsum('ni, ni->ni', updet_sign, np.exp(updet_val)) # ui
nup_ij = np.einsum('ni, nj->nij', nup_i, nup_i) # ui
nup_i.shape


nup_i.shape


mf.get_ovlp().shape


nup = np.einsum('ni, ni, nj, nj->nij', updet_sign, np.exp(updet_val), updet_sign, np.exp(updet_val)) # ui * uj
ndn = np.einsum('ni, ni, nj, nj->nij', dndet_sign, np.exp(dndet_val), dndet_sign, np.exp(dndet_val)) # di * dj 
psi_i = np.einsum('ni, ni, ni, ni->ni', updet_sign, np.exp(updet_val), dndet_sign, np.exp(dndet_val)) # ui * di 
nup.shape


ovlp_ij = np.einsum('nij, nij, n ->ij', nup, ndn, 1./rho) # w(R) * (ui * uj) * (di * dj), w = 1 / rho
print(ovlp_ij.shape)
sns.heatmap(ovlp_ij, annot=True)


norm_i = np.einsum('ni, ni, n ->i', psi_i, psi_i, 1./rho) # ni = < psi_i * psi_i / rho > 
norm_ij = np.sqrt(np.einsum('i, j ->ij', norm_i, norm_i)) # sqrt(ni * nj)
print(norm_ij.shape)
norm_ij


mat = ovlp_ij/norm_ij
sns.heatmap(mat, annot=True)





import bosonslater 
import pyscftools, mc
wf1 = bosonslater.BosonWF(mol, mf, mc=mcc)

nconfig = 1000
mol, mf = pyscftools.recover_pyscf(scf_checkfile)
configs = mc.initial_guess(mol, nconfig)
signb, phib = wf1.recompute(configs)
sign, logval = wf1.value()
val = np.exp(logval)
rho = val**2 
rho.shape


wf1._det_occup[0]


i = 0
j = 2
print((wf1._det_map[0][i], wf1._det_map[1][i]), (wf1._det_map[0][j], wf1._det_map[1][j]))


wf1._det_occup


updet_sign, updet_val = wf1._dets[0][:, :, wf1._det_map[0]]
dndet_sign, dndet_val = wf1._dets[1][:, :, wf1._det_map[1]]


nup = np.einsum('ni, ni, nj, nj->nij', updet_sign, np.exp(updet_val), updet_sign, np.exp(updet_val)) # ui * uj
ndn = np.einsum('ni, ni, nj, nj->nij', dndet_sign, np.exp(dndet_val), dndet_sign, np.exp(dndet_val)) # di * dj 
psi_i = np.einsum('ni, ni, ni, ni->ni', updet_sign, np.exp(updet_val), dndet_sign, np.exp(dndet_val)) # ui * di 
nup.shape






ovlp_ij = np.einsum('nij, nij, n ->ij', nup, ndn, 1./rho) # w(R) * (ui * uj) * (di * dj), w = 1 / rho
print(ovlp_ij.shape)
sns.heatmap(ovlp_ij, annot=True)


norm_i = np.einsum('ni, ni, n ->i', psi_i, psi_i, 1./rho) # ni = < psi_i * psi_i / rho > 
norm_ij = np.sqrt(np.einsum('i, j ->ij', norm_i, norm_i)) # sqrt(ni * nj)
print(norm_ij.shape)
norm_ij


mat = ovlp_ij/norm_ij
sns.heatmap(mat) #, annot=True)








import bosonslater 
import pyscftools, mc
boson_wf = bosonslater.BosonWF(mol, mf, mc=mcc)

nconfig = 1000
mol, mf = pyscftools.recover_pyscf(scf_checkfile)
configs = mc.initial_guess(mol, nconfig)
signb, phib = boson_wf.recompute(configs)
sign, logval = boson_wf.value()
val = np.exp(logval)
rho = val**2 
rho.shape


updet_sign, updet_val = boson_wf._dets[0][:, :, boson_wf._det_map[0]]
dndet_sign, dndet_val = boson_wf._dets[1][:, :, boson_wf._det_map[1]]

det_dim_up = boson_wf._dets[0][1].shape[-1]
det_dim_dn = boson_wf._dets[1][1].shape[-1]
det_dim = det_dim_up * det_dim_dn

occ_arr_shape = (2, det_dim, num_ao)
occ_arr = np.zeros(occ_arr_shape)
for i in range(det_dim):
    up_i = boson_wf._det_map[0,i]
    dn_i = boson_wf._det_map[1,i]
    occ_arr[0, i][boson_wf._det_occup[0][up_i]] = 1
    occ_arr[1, i][boson_wf._det_occup[1][dn_i]] = 1




nup_i = np.einsum('ni, ni->ni', updet_sign, np.exp(updet_val)) # ui
ndn_i = np.einsum('ni, ni->ni', dndet_sign, np.exp(dndet_val)) # uj


mf_ovlp = mf.get_ovlp()
ovlp = np.einsum('io, op, jp->ij',occ_arr[0], mf_ovlp, occ_arr[0])



nup_ij = np.einsum('ni, ij, nj->nij', nup_i, ovlp, nup_i) # ui * uj
ndn_ij = np.einsum('ni, ij, nj->nij', ndn_i, ovlp, ndn_i) # ui * uj

ovlp_ij = np.einsum('nij, nij, n ->ij', nup_ij, ndn_ij, 1./rho) # w(R) * (ui * uj) * (di * dj), w = 1 / rho
# ovlp_ij_avg = np.average(ovlp_ij, axis=0)

psi_i = np.einsum('ni, ni, ni, ni->ni', updet_sign, np.exp(updet_val), dndet_sign, np.exp(dndet_val)) # ui * di 
norm_i = np.einsum('ni, ni, n ->i', psi_i, psi_i, 1./rho)
norm_ij = np.sqrt(np.einsum('i, j ->ij', norm_i, norm_i)) # sqrt(ni * nj)



mat = ovlp_ij/norm_ij
sns.heatmap(mat) #, annot=True)




















import h5py 
import numpy as np
import copy
import matplotlib.pyplot as plt






def plot_delta_ovlp(filename="abvmc.hdf5", discard = 2, annot=True):
    f = h5py.File(filename, "r")    
    keys = f.keys()
    
    fig, ax = plt.subplots(3, 2, figsize = (12, 15))    
    ovlp_ij_raw=np.array(f['excitationsovlp_ij'])
    delta_ij_raw=np.array(f['excitationsdelta'])
    discard = 2
    ovlp_ij = np.average(ovlp_ij_raw[discard:], axis=0)
    # plt.figure()
    sns.heatmap(ovlp_ij, ax=ax[0, 0], annot=annot)
    ax[0, 0].set_title('Overlap matrix')
    # plt.title('Overlap matrix')

    ovlp_ij_std = np.std(ovlp_ij_raw[discard:], axis=0)
    sns.heatmap(ovlp_ij_std, ax=ax[1, 0], annot=annot)
    ax[1, 0].set_title('Standard deviation of overlap matrix')
    
    filtered_ovlp_ij = copy.deepcopy(ovlp_ij)
    filtered_ovlp_ij[ovlp_ij_std>np.abs(ovlp_ij)] = 0
    sns.heatmap(filtered_ovlp_ij, ax=ax[2, 0], annot=annot)
    ax[2, 0].set_title('Filtered overlap matrix')
    


    delta_ij = np.average(delta_ij_raw[discard:], axis=0)
    sns.heatmap(delta_ij, ax=ax[0, 1], annot=annot)
    ax[0, 1].set_title('Delta matrix')
                       
    delta_ij_std = np.std(delta_ij_raw[discard:], axis=0)
    sns.heatmap(delta_ij_std, ax=ax[1, 1], annot=annot)
    ax[1, 1].set_title('Standard deviation of delta matrix')
    

    filtered_delta_ij = copy.deepcopy(delta_ij)
    filtered_delta_ij[delta_ij_std>np.abs(delta_ij)] = 0
    sns.heatmap(filtered_delta_ij, ax=ax[2, 1], annot=annot)
    ax[2, 1].set_title('Filtered Delta matrix')
    
    return {'filtered': [filtered_ovlp_ij, filtered_delta_ij], 
            'raw': [ovlp_ij_raw, delta_ij_raw]}
# res = plot_delta_ovlp()





res = plot_delta_ovlp("abvmc-he-4.hdf5", discard=10, annot=True)


res['raw'][0][:, 0,1]





import pyqmc.api as pyq
from wftools import generate_slater


mcc.ci


configs = pyq.initial_guess(mol, 2000)
_, configs = pyq.vmc(wf1, configs)


wfs = []
num_det = mcc.ci.shape[0] * mcc.ci.shape[1]
for i in range(mcc.ci.shape[0]):
    for j in range(mcc.ci.shape[1]):
        mc0 = copy.copy(mcc)
        mc0.ci = mcc.ci * 0
        mc0.ci[i, j] = 1
        wf0, _ = generate_slater(mol, mf, mc=mc0, optimize_determinants=False)
        wfs.append(wf0)


from sample_many import sample_overlap
from accumulators_multiwf import EnergyAccumulatorMultipleWF


energy = EnergyAccumulatorMultipleWF(pyq.EnergyAccumulator(mol))
data_weighted, data_unweighted, configs = sample_overlap(
        wfs, configs, energy, nsteps=20, nblocks=5
)


y = data_unweighted['overlap']


wfs[1]._det_occup


y


# discard = 3


plt.plot(y[:,0,1])


y[discard:]


y_avg = np.average(y[discard:], axis=0)
sns.heatmap(y_avg, annot=True)


y_std = np.std(y[discard:], axis=0)
sns.heatmap(y_std) #, annot=True)


import copy
nom_new = copy.deepcopy(y_avg)
nom_new[y_avg>np.abs(y_avg)] = 0
sns.heatmap(nom_new) #,  linewidths=.5)





import pyqmc.api as pyq
from wftools import generate_slater


configs = pyq.initial_guess(mol, 2000)
_, configs = pyq.vmc(wf1, configs)
configs.configs


wfs = []
num_det = mcc.ci.shape[0] * mcc.ci.shape[1]
for i in range(mcc.ci.shape[0]):
    for j in range(mcc.ci.shape[1]):
        mc0 = copy.copy(mcc)
        mc0.ci = mcc.ci * 0
        mc0.ci[i, j] = 1
        wf0, _ = generate_slater(mol, mf, mc=mc0, optimize_determinants=False)
        wfs.append(wf0)


import importlib, sample_many
modules = [sample_many] # Reloads recipes.py file after each update
for m in modules:
    importlib.reload(m)

from sample_many import sample_overlap
from accumulators_multiwf import EnergyAccumulatorMultipleWF


energy = EnergyAccumulatorMultipleWF(pyq.EnergyAccumulator(mol))
data_weighted, data_unweighted, configs = sample_overlap(
        wfs, configs, energy, nsteps=1, nblocks=1
)


e = 0
grads = [np.real(wf.gradient(e, configs.electron(e)).T) for wf in wfs]
vals = [np.real(wf.value()) for wf in wfs]
grad = mc.limdrift(np.mean(grads, axis=0))
grad




import bosonslater, jastrowspin
wave_functions = wf.wf_factors
for wave in wave_functions:
    if isinstance(wave, bosonslater.BosonWF):
        boson_wf = wave
    if isinstance(wave, jastrowspin.JastrowSpin):
        jastrow_wf = wave       
                
g, _, _ = boson_wf.gradient_value(e, configs.electron(e))
gradb = mc.limdrift(np.real(g.T))
valueb = boson_wf.value()
gradb


grad-gradb


vals


np.random.seed(seed=1)

def rolling_average(block, data, nsteps):
    for k, it in data.items():
        if k not in block:
            block[k] = np.zeros((*it.shape,), dtype=it.dtype)
        block[k] += it / nsteps

def sample_overlap_block(wfs, configs, tstep, nsteps, energy):
    for wf in wfs:
        wf.recompute(configs)
    weighted_block = {}
    unweighted_block = {"acceptance": 0.0}
    nconf, nelec = configs.configs.shape[:2]

    for n in range(nsteps):
        for e in range(nelec):  # a sweep
            # Propose move
            grads = [np.real(wf.gradient(e, configs.electron(e)).T) for wf in wfs]
            grad = mc.limdrift(np.mean(grads, axis=0))
            gauss = np.random.normal(scale=np.sqrt(tstep), size=(nconf, 3))
            newcoorde = configs.configs[:, e, :] + gauss + grad * tstep
            newcoorde = configs.make_irreducible(e, newcoorde)

            # Compute reverse move
            grads, vals, saved_values = list(
                zip(*[wf.gradient_value(e, newcoorde) for wf in wfs])
            )
            grads = [np.real(g.T) for g in grads]
            new_grad = mc.limdrift(np.mean(grads, axis=0))
            forward = np.sum(gauss**2, axis=1)
            backward = np.sum((gauss + tstep * (grad + new_grad)) ** 2, axis=1)

            # Acceptance
            t_prob = np.exp(1 / (2 * tstep) * (forward - backward))
            wf_ratios = np.abs(vals) ** 2
            log_values = np.real(np.array([wf.value()[1] for wf in wfs]))
            weights = np.exp(2 * (log_values - log_values[0]))

            ratio = (
                t_prob * np.sum(wf_ratios * weights, axis=0) / weights.sum(axis=0)
            )
            accept = ratio > np.random.rand(nconf)
            # block_avg["acceptance"][n] += accept.mean() / nelec

            # Update wave function
            configs.move(e, newcoorde, accept)
            for wf, saved in zip(wfs, saved_values):
                wf.updateinternals(
                    e, newcoorde, configs, mask=accept, saved_values=saved
                )

        weights = compute_weights(wfs)
        unweighted_dat={}
        unweighted_dat['overlap'] = np.mean(weights, axis=-1)
        rolling_average(unweighted_block, unweighted_dat, nsteps)
        # Collect rolling average
        if energy is not None:
            weighted_dat = energy.avg(configs, wfs, weights)
            rolling_average(weighted_block, weighted_dat, nsteps)

    return weighted_block, unweighted_block, configs
sample_overlap_block(wfs, configs, 0.5, 1, None)


# Now my code


import importlib, bosonaccumulators
modules = [bosonaccumulators] # Reloads recipes.py file after each update
for m in modules:
    importlib.reload(m)

dm = mf.make_rdm1()
mf.dm = dm

accumulators = {}
accumulators['energy'] = bosonaccumulators.ABQMCEnergyAccumulator(mf)
accumulators['excitations'] = bosonaccumulators.ABVMCMatrixAccumulator()

np.random.seed(seed=1)

def vmc_worker(wf, configs, tstep, nsteps, accumulators):
    """
    Run VMC for nsteps.

    :return: a dictionary of averages from each accumulator.
    """
    nconf, nelec, _ = configs.configs.shape
    block_avg = {}
    wf.recompute(configs)
    for _ in range(nsteps):
        acc = 0.0
        for e in range(nelec):
            # Propose move
            g, _, _ = wf.gradient_value(e, configs.electron(e))
            grad = mc.limdrift(np.real(g.T))
            gauss = np.random.normal(scale=np.sqrt(tstep), size=(nconf, 3))
            newcoorde = configs.configs[:, e, :] + gauss + grad * tstep
            newcoorde = configs.make_irreducible(e, newcoorde)

            # Compute reverse move
            g, new_val, saved = wf.gradient_value(e, newcoorde)
            new_grad = mc.limdrift(np.real(g.T))
            forward = np.sum(gauss**2, axis=1)
            backward = np.sum((gauss + tstep * (grad + new_grad)) ** 2, axis=1)

            # Acceptance
            t_prob = np.exp(1 / (2 * tstep) * (forward - backward))
            ratio = np.abs(new_val) ** 2 * t_prob
            accept = ratio > np.random.rand(nconf)

            # Update wave function
            configs.move(e, newcoorde, accept)
            wf.updateinternals(e, newcoorde, configs, mask=accept, saved_values=saved)
            acc += np.mean(accept) / nelec

        # Rolling average on step
        for k, accumulator in accumulators.items():
            dat = accumulator.avg(configs, wf)
            for m, res in dat.items():
                if k + m not in block_avg:
                    block_avg[k + m] = res / nsteps
                else:
                    block_avg[k + m] += res / nsteps
        block_avg["acceptance"] = acc
    return block_avg, configs
vmc_worker(wf, configs, 0.5, 1, accumulators)    












