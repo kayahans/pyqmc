# Wavefunction generation
from pyscf import mcscf, fci, lib 
from pyscf import gto, scf, tools, dft
import api as pyq 
import importlib
import os
import h5py
import pandas as pd
import pdb
import pyscf
import numpy as np
import pyqmc
import scipy
import copy
import gpu
import matplotlib.pyplot as plt
from pyscf.scf.hf import dump_scf_summary
from concurrent.futures import ProcessPoolExecutor
from pyscf.scf.chkfile import dump_scf
print(pyq.__file__)
print(pyscf.__file__)


# Wavefunction generation
from scf_runs import run_lda_he, run_casci
scf_checkfile, opt_checkfile, mf_lda = run_lda_he()
ci_checkfile, mc, opt_chkfile, vmc_chkfile = run_casci(scf_checkfile, nroots=1, ncas = 2)


import importlib, recipes, bosonrecipes, bosonslater, bosonaccumulators, bosonwftools, bosonslater_wf_based
modules = [recipes, bosonrecipes, bosonrecipes, bosonslater, bosonaccumulators, bosonwftools] # Reloads recipes.py file after each update
for m in modules:
    importlib.reload(m)


wf = bosonslater.BosonWF(mf_lda.mol, mf_lda, mc)
wf_wfb = bosonslater_wf_based.BosonWF(mf_lda.mol, mf_lda, mc)
configs = bosonrecipes.initial_guess(mf_lda.mol, 100)





configs.configs.shape


tol = 1E-1

nconf, nelec, _ = configs.configs.shape

def is_equal(a, b, tag=None):
    result = (np.abs(a-b) < tol).all()
    if not result:
        print(tag, result, 'diff', np.max(np.abs(a-b)), 'a', np.max(np.abs(a)), 'b', np.max(np.abs(b)))
    else:
        print(tag, result)
    return result
    
def limdrift(g, cutoff=1):
    """
    Limit a vector to have a maximum magnitude of cutoff while maintaining direction

    :parameter g: a [nconf,ndim] vector
    :parameter cutoff: the maximum magnitude
    :returns: The vector with the cutoff applied.
    """
    tot = np.linalg.norm(g, axis=1)
    mask = tot > cutoff
    g[mask, :] = cutoff * g[mask, :] / tot[mask, np.newaxis]
    return g



nsteps = 10
nelec = 2
tstep = 0.3
for _ in range(nsteps):
    acc = 0.0
    for e in range(nelec):
        import pdb
        sign_p,  val_p   = wf.recompute(configs)
        sign_p2, val_p2  = wf_wfb.recompute(configs)
        is_equal(val_p, val_p2, 'val')
        
        wf_k = copy.deepcopy(wf)
        wf_wfb_k = copy.deepcopy(wf_old)

        g, _, _ = wf.gradient_value(e, configs.electron(e))
        g_wfb, _, _ = wf_wfb.gradient_value(e, configs.electron(e))
        is_equal(g, g_old, 'g')
        
        grad = limdrift(np.real(g.T)) 
        grad_wfb = limdrift(np.real(g_wfb.T)) 
        is_equal(g, g_old, 'g')
        is_equal(grad, grad_old, 'grad')
        
        gauss = np.random.normal(scale=np.sqrt(tstep), size=(nconf, 3))
        newcoorde = configs.configs[:, e, :] + gauss + grad * tstep
        newcoorde = configs.make_irreducible(e, newcoorde)

        # # Compute reverse move
        g_k, _, _ = wf_k.gradient_value(e, newcoorde)
        g_k_wfb, _, _ = wf_wfb_k.gradient_value(e, newcoorde)

        new_grad = limdrift(np.real(g_k.T))
        new_grad_wfb = limdrift(np.real(g_k_wfb.T))

        forward = np.sum(gauss**2, axis=1)
        backward = np.sum((gauss + tstep * (grad + new_grad)) ** 2, axis=1)
        backward = np.sum((gauss + tstep * (grad_wfb + new_grad_wfb)) ** 2, axis=1)

        
        is_equal(g_k, g_k_wfb, 'g_k')
        



debug_wfb.shape


dbg.shape


for i in [0,1,2,3,]:
    print(debug_wfb[i]/dbg[:,:,i])


dbg[:,:,0]














        # new_grad = limdrift(np.real(g.T))
        # forward = np.sum(gauss**2, axis=1)
        # backward = np.sum((gauss + tstep * (grad + new_grad)) ** 2, axis=1)

        # # Acceptance
        # t_prob = np.exp(1 / (2 * tstep) * (forward - backward))
        # # ratio = np.abs(new_val) ** 2 * t_prob
        # newcoord = copy.deepcopy(configs)
        # newcoord.configs[:,e,:] = newcoorde.configs
        # sign_new, val_new = wf_new.recompute(newcoord)
        # ratio = np.exp(2*(val_new-val_old))* t_prob
        # # pdb.set_trace()
        # accept = ratio > np.random.rand(nconf)
        # # accept = np.random.rand(nconf) > 0.5
        # # Update wave function
        # configs.move(e, newcoorde, accept)
        # wf.updateinternals(e, newcoorde, configs, mask=accept, saved_values=saved)
        # acc += np.mean(accept) / nelec



