# Wavefunction generation
from pyscf import mcscf, fci, lib 
from pyscf import gto, scf, tools, dft
import api as pyq 
import importlib
import os
import h5py
import pandas as pd
import pdb
import pyscf
import numpy as np
import pyqmc
import scipy
import matplotlib.pyplot as plt
from pyscf.scf.hf import dump_scf_summary
from concurrent.futures import ProcessPoolExecutor
from pyscf.scf.chkfile import dump_scf
print(pyq.__file__)
print(pyscf.__file__)


# H2 molecule
def run_scf(scf_checkfile):
    mol = gto.M(atom="H 0. 0. 0.;H 0. 0. 1.;", basis=f'ccecpccpvdz', unit='bohr')
    mf = scf.UHF(mol)
    mf.chkfile = scf_checkfile
    dm = mf.init_guess_by_atom()
    mf.kernel(dm)
    dump_scf(mf.mol, 'scf.hdf5', mf.energy_tot(), mf.mo_energy, mf.mo_coeff, mf.mo_occ)
    return mf

def run_lda_be(scf_checkfile):
    print("Be atom neutral LDA spin=2")
    mol = gto.M(atom="Be 0. 0. 0.", spin=2,basis=f'ccpvdz', unit='bohr')
    print("HF")
    mf = scf.UHF(mol)
    mf.kernel()
    print("LDA")        
    mf = dft.UKS(mol)
    # mf.verbose=6
    mf.chkfile = scf_checkfile
    dm = mf.init_guess_by_atom()
    mf.kernel(dm, xc='LDA')
    return mf

def run_lda_li(scf_checkfile):
    print("Li atom neutral LDA spin=1")
    mol = gto.M(atom="Li 0. 0. 0.",basis=f'ccpvtz', spin=1, unit='bohr')
    print("HF")
    mf = scf.UHF(mol)
    mf.kernel()
    print("LDA")    
    mf = dft.UKS(mol)
    # mf.verbose=6
    mf.chkfile = scf_checkfile
    dm = mf.init_guess_by_atom()
    mf.kernel(dm, xc='LDA')
    return mf

def run_lda_he(scf_checkfile):
    print("He atom neutral LDA spin=0")
    # mol = gto.M(atom="He 0. 0. 0.", basis="ccECP_cc-pVDZ", ecp="ccecp", unit='bohr')
    mol = gto.M(atom="He 0. 0. 0.", basis="ccpvdz", unit='bohr')    
    print("HF")
    mf = scf.UHF(mol)
    mf.kernel()
    print("LDA")    
    mf = dft.UKS(mol)
    # mf.verbose=6
    mf.chkfile = scf_checkfile
    dm = mf.init_guess_by_atom()
    mf.kernel(dm, xc='LDA')
    return mf

def run_lda_h2(scf_checkfile):
    mol = gto.M(atom="H 0. 0. 0.; H 0. 0. 2", spin = 2, basis=f'ccecpccpvdz', unit='bohr')
    mf = dft.UKS(mol)
    # mf.verbose=6
    mf.chkfile = scf_checkfile
    dm = mf.init_guess_by_atom()
    mf.xc='LDA, VWN'
    mf.kernel()    
    # mf.kernel(dm, xc='LDA,VWN')
    return mf

def run_lda(scf_checkfile):
    mol = gto.M(atom="H 0. 0. 0.", spin=1,basis=f'ccecpccpvdz', unit='bohr')
    mf = dft.UKS(mol)
    # mf.verbose=6
    mf.chkfile = scf_checkfile
    dm = mf.init_guess_by_atom()
    mf.kernel(dm, xc='LDA')
    return mf
    
def run_casscf(scf_checkfile, ci_checkfile):
    cell, mf = pyq.recover_pyscf(scf_checkfile, cancel_outputs=False)
    mc = mcscf.CASSCF(mf,2,2)
    mc.chkfile = ci_checkfile
    mc.kernel()
    with h5py.File(mc.chkfile, "a") as f:
        print("Available output from CASSCF:", f["mcscf"].keys())
        f["mcscf/nelecas"] = list(mc.nelecas)
        f["mcscf/ci"] = mc.ci
    return mc

def run_casci(scf_checkfile, ci_checkfile):
    cell, mf = pyq.recover_pyscf(scf_checkfile, cancel_outputs=False)
    # ncas: orbitals
    # nelecas: electrons
    ncas = 4
    nelecas = 2
    mc = mcscf.CASCI(mf, ncas, nelecas)
    mc.kernel()
    print(mc.__dict__.keys())
    with h5py.File(ci_checkfile, "a") as f:
        f.create_group("ci")
        f["ci/ncas"] = mc.ncas
        f["ci/nelecas"] = list(mc.nelecas)
        f["ci/ci"] = mc.ci
        f["ci/mo_coeff"] = mc.mo_coeff
        print("Available output from CASCI:", f["ci"].keys())
    return mc

def make_wf_object(scf_checkfile, ci_checkfile):
    mol, mf, mc = pyq.recover_pyscf(scf_checkfile, ci_checkfile=ci_checkfile)
    wf, _ = pyq.generate_wf(mol, mf, mc=mc)
    return wf

def stat_qmc(etot, filename):
    block_sizes = np.linspace(2,len(etot[discard:])//16, 10, dtype=int)
    reblocks = [len(etot)//s for s in block_sizes]

    plt.figure()
    df = pd.DataFrame([pyq.read_mc_output(filename, warmup=discard, reblock=reblock) for reblock in reblocks])
    df['block_size'] = block_sizes
    plt.plot("block_size",'energytotal_err',data=df, marker='o')
    plt.xlabel("Block size")
    plt.ylabel("Estimated uncertainty (Ha)")

def reblock(e, discard, reblock_size):
    e = e[discard:]
    vals = pyqmc.reblock.reblock(e,int(len(e)/reblock_size))
    # import pdb
    # pdb.set_trace()
    
    e_m  = np.mean(vals, axis=0)
    e_d  = scipy.stats.sem(vals, axis=0)    
    return e, e_m, e_d

scf_checkfile = "scf.hdf5"
ci_checkfile = "ci.hdf5"
# mf = run_scf(scf_checkfile)
mf_lda = run_lda_he(scf_checkfile)

# mc = run_casci(scf_checkfile, ci_checkfile)


tstep = 0.001
nconfig = 2000
nsteps = 1000
discard = 100
reblock_size = 50








import importlib, recipes, abdmc, wftools, bosonwf, determinant_tools, mc, dmc, slater, orbitals, accumulators, energy, jastrowspin, multiplywf
modules = [recipes, abdmc, wftools, bosonwf, determinant_tools, mc, dmc, slater, orbitals, accumulators, energy, jastrowspin, multiplywf] # Reloads recipes.py file after each update
for m in modules:
    importlib.reload(m)
import pyqmc.pyscftools as pyscftools
from accumulators import ABQMCEnergyAccumulator

def initialize_boson_qmc_objects(
    dft_checkfile,
):  
    mol, mf = pyscftools.recover_pyscf(scf_checkfile)
    wf, to_opt = wftools.generate_boson_wf(
        mol, mf, jastrow = None
    )
    return wf

def initialize_qmc_objects(
    dft_checkfile: str,
):
    mol, mf = pyscftools.recover_pyscf(dft_checkfile)
    wf, to_opt = wftools.generate_wf(
        mol, mf, jastrow=None
    )
    return wf



# Total value
trials = 100
for i in range(trials):
    nconfig = 100
    mol, mf = pyscftools.recover_pyscf(scf_checkfile)
    configs = mc.initial_guess(mol, nconfig)
    wfb = initialize_boson_qmc_objects(
        scf_checkfile,
    )
    wf = initialize_qmc_objects(
            scf_checkfile,
        )
    e=0
    sign, val = wf.recompute(configs)
    # g1, val2, (aograd, mograd) = wf.gradient_value(e, configs.electron(e))  
    # grad = - limdrift(np.real(g1.T))
    e=0
    signb, valb = wfb.recompute(configs)
    # g1b, valb2, (aogradb, mogradb) = wfb.gradient_value(e, configs.electron(e))
    # gradb = - limdrift(np.real(g1b.T))
    plt.scatter(np.exp(val), valb)
    # plt.scatter(grad,gradb/np.tile(valb, (3,1)).T)
    # plt.scatter(g1,g1b/np.tile(valb, (3,1)))
    
xmin = -0.1
xmax = 1
x = np.linspace(xmin, xmax, 100)
plt.plot(x,x)
plt.xlim((xmin*1.1, xmax*1.1))
plt.ylim((xmin*1.1, xmax*1.1))
plt.ylabel('Value bosonic no jastrow')
plt.xlabel('Absolute value fermionic no jastrow')
plt.title('Total value '+ str(trials) + ' configurations')


trials = 100
for i in range(trials):
    nconfig = 100
    mol, mf = pyscftools.recover_pyscf(scf_checkfile)
    configs = mc.initial_guess(mol, nconfig)
    wfb = initialize_boson_qmc_objects(
        scf_checkfile,
    )
    wf = initialize_qmc_objects(
            scf_checkfile,
        )
    e=0
    sign, val = wf.recompute(configs)
    g1, val2, (aograd, mograd) = wf.gradient_value(e, configs.electron(e))  
    # grad = - limdrift(np.real(g1.T))
    e=0
    signb, valb = wfb.recompute(configs)
    g1b, valb2, (aogradb, mogradb) = wfb.gradient_value(e, configs.electron(e))
    # gradb = - limdrift(np.real(g1b.T))
    # plt.scatter(np.exp(val), valb)
    # plt.scatter(grad,gradb/np.tile(valb, (3,1)).T)
    lngrad = np.linalg.norm(g1, axis=1)
    lngradb = np.linalg.norm(g1b/np.tile(valb, (3,1)), axis=1)
    plt.scatter(lngrad,lngradb)
    # plt.scatter(g1.flatten(),(g1b/np.tile(valb, (3,1))).flatten())
xmin = 0
xmax = 20
x = np.linspace(xmin, xmax, 100)
plt.plot(x,x)
plt.xlim((xmin*1.1, xmax*1.1))
plt.ylim((xmin*1.1, xmax*1.1))
plt.ylabel('Norm of grad bosonic no jastrow')
plt.xlabel('Norm of grad fermionic no jastrow')
plt.title(str(trials) + ' configurations before Umrigar\'s limdrift')


gg = g1
ggb = g1b/np.tile(valb, (3,1))

plt.scatter(gg, ggb)





# L. Wagner limdrift to both
import pdb
trials = 100
for i in range(trials):
    nconfig = 100
    mol, mf = pyscftools.recover_pyscf(scf_checkfile)
    configs = mc.initial_guess(mol, nconfig)
    wfb = initialize_boson_qmc_objects(
        scf_checkfile,
    )
    wf = initialize_qmc_objects(
            scf_checkfile,
        )
    e=0
    sign, val = wf.recompute(configs)
    g1, val2, (aograd, mograd) = wf.gradient_value(e, configs.electron(e))  
    aa = g1.copy()
    grad = - limdrift(np.real(g1.T))[0]
    e=0
    signb, valb = wfb.recompute(configs)
    g1b, valb2, (aogradb, mogradb) = wfb.gradient_value(e, configs.electron(e))
    gradb = - limdrift(np.real(g1b.T))[0]
    # plt.scatter(np.exp(val), valb)
    plt.scatter(np.linalg.norm(grad, axis=1),np.linalg.norm((gradb/np.tile(valb, (3,1)).T), axis=1))
    # plt.scatter(g1,g1b/np.tile(valb, (3,1)))
xmin = -5
xmax = 5
x = np.linspace(xmin, xmax, 100)
plt.plot(x,x)
plt.xlim((xmin*1.1, xmax*1.1))
plt.ylim((xmin*1.1, xmax*1.1))
plt.xlabel('Norm of grad fermionic no jastrow')
plt.ylabel('Norm of grad bosonic no jastrow')
plt.title(str(trials) + ' configurations after Umrigar\'s limdrift (using L. Wagner version)')


e=0
sign, val = wf.recompute(configs)
g1, val2, (aograd, mograd) = wf.gradient_value(e, configs.electron(e))  
g = g1.T
tot = np.linalg.norm(g, axis=1)
mask = tot>1


g1.T.shape


tot.shape


np.linalg.norm(g[mask, :] / tot[mask, np.newaxis], axis=1)


e=0
signb, valb = wfb.recompute(configs)
g1b, valb2, (aogradb, mogradb) = wfb.gradient_value(e, configs.electron(e))
gb = g1b.T/np.tile(valb, (3,1)).T
totb = np.linalg.norm(gb, axis=1)
maskb = totb>1


plt.plot(totb)


gb/np.tile(valb, (3,1)).T








gg = g1
ggb = g1b/np.tile(valb, (3,1))

plt.scatter(gg, ggb)








def limdrift(g, cutoff=1):
    """
    Limit a vector to have a maximum magnitude of cutoff while maintaining direction

    :parameter g: a [nconf,ndim] vector
    :parameter cutoff: the maximum magnitude
    :returns: The vector with the cutoff applied.
    """
    tot = np.linalg.norm(g, axis=1)
    mask = tot > cutoff
    g[mask, :] = cutoff * g[mask, :] / tot[mask, np.newaxis]
    return g

def limdrift2(g, val, cutoff=1):
    """
    Limit a vector to have a maximum magnitude of cutoff while maintaining direction

    :parameter g: a [nconf,ndim] vector
    :parameter cutoff: the maximum magnitude
    :returns: The vector with the cutoff applied.
    """
    # grat = g/np.tile(val, (3,1)).T
    
    tot = np.linalg.norm(g, axis=1)
    mask = tot > cutoff
    g[mask, :] = cutoff * g[mask, :] / tot[mask, np.newaxis]
    # g = grat*np.tile(val, (3,1)).T
    return g, mask


import pdb
trials = 1
for i in range(trials):
    nconfig = 100
    mol, mf = pyscftools.recover_pyscf(scf_checkfile)
    configs = mc.initial_guess(mol, nconfig, seed = 100)
    wfb = initialize_boson_qmc_objects(
        scf_checkfile,
    )
    wf = initialize_qmc_objects(
            scf_checkfile,
        )
    e=0
    sign, val = wf.recompute(configs)
    g1, val2, (aograd, mograd) = wf.gradient_value(e, configs.electron(e))  
    grad = - limdrift(np.real(g1.T), cutoff = 100)    
    
    e=0
    signb, valb = wfb.recompute(configs)
    g1b, valb2, (aogradb, mogradb) = wfb.gradient_value(e, configs.electron(e))
    
    ln_g1b = g1b/np.tile(valb, (3,1))
    limdb = limdrift(np.real(ln_g1b.T), cutoff = 100)
    gradb = - limdb * np.tile(valb, (3,1)).T
    

    # plt.scatter(np.exp(val), valb)
    g_norm = np.linalg.norm(grad, axis=1)
    gb_norm = np.linalg.norm((gradb/np.tile(valb, (3,1)).T), axis=1)
    plt.scatter(g_norm, gb_norm)
    # plt.scatter(g1,g1b/np.tile(valb, (3,1)))
xmin = 0
xmax = 10
x = np.linspace(xmin, xmax, 100)
plt.plot(x,x)
plt.xlim((xmin*1.1, xmax*1.1))
plt.ylim((xmin*1.1, xmax*1.1))
plt.xlabel('Grad bosonic no jastrow')
plt.ylabel('Grad fermionic no jastrow')
plt.title(str(trials) + ' configurations after Umrigar\'s limdrift (using modified version)')


gg = g1
ggb = g1b/np.tile(valb, (3,1))

plt.scatter(gg, ggb)
# tot = np.linalg.norm(np.real(g1.T), axis=1)
# b_tot = np.linalg.norm(np.real(g1b.T)/np.tile(valb, (3,1)).T, axis=1)








np.tile(valb, (3, 1)).T


tot.shape


np.linalg.norm(g1, axis=1),np.linalg.norm(g1b/np.tile(valb, (3,1)), axis=1))


b_tot/valb


plt.scatter(tot, b_tot)


plt.scatter(tot, b_tot/valb)


a1 = limdrift2(np.real(g1b.T), valb)


a2 = limdrift(np.real(g1b.T))


plt.plot(a2)


plt.scatter(g1, g1b/np.tile(valb, (3,1)))


plt.plot(g1[0,:], '-ok')















