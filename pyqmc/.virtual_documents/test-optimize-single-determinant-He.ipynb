import matplotlib.pyplot as plt
import numpy as np
import os
import h5py
import api as pyq 


# Wavefunction generation
from scf_runs import run_lda_he
scf_checkfile, opt_checkfile, mf_lda = run_lda_he()


import importlib, recipes, linemin, sample_many
modules = [recipes, linemin, sample_many]
for m in modules:
    importlib.reload(m)


for fname in ['sj.hdf5']:
    if os.path.isfile(fname):
        os.remove(fname)
print("RUNNING VMC OPTIMIZATION")

recipes.OPTIMIZE(scf_checkfile, "sj.hdf5", 
                 max_iterations=6, 
                 nconfig=10000, 
                 verbose=True,
                 # jastrow_kws={"ion_cusp":False}
                )

# Jastrow optimization results
df = recipes.read_opt("sj.hdf5")

# with h5py.File("sj.hdf5") as f:
#     print("keys", list(f.keys()))
#     print("wave function parameters", list(f['wf'].keys()))
#     ee_j = f['energy'][...]   
#     x = f['x'][...]
#     yfit = f['yfit'][...]
#     # pgrad = f['pgradient'][...]   
#     print(f['wf/wf2acoeff'][()])
#     print(f['wf/wf2bcoeff'][()])




df


import wftools, bosonrecipes, bosonaccumulators, bosonslater, linemin, accumulators, bosonwftools
modules = [bosonrecipes,wftools, bosonaccumulators, bosonslater, linemin, accumulators, bosonwftools]
for m in modules:
    importlib.reload(m)

# Boson Jastrow optimizationn
abvmc_file = 'abvmc-j-he_single.hdf5'
for fname in [abvmc_file]:
    if os.path.isfile(fname):
        os.remove(fname)
print("RUNNING ABVMC OPTIMIZATION")

nblocks = 100
nsteps_per_block = 10
tstep=0.3
nconfig=1000
bosonrecipes.ABOPTIMIZE(scf_checkfile, 
                  abvmc_file, 
                  max_iterations=6, 
                  verbose=True,  
                  # nblocks=nblocks, 
                  # nsteps_per_block=nsteps_per_block,
                  # tstep= tstep, 
                  nconfig=nconfig)
dfb2 = bosonrecipes.read_abopt("bosonsj.hdf5")


x = range(len(df['energy']))
plt.errorbar(x, df['energy'], yerr=df['var'], label='vmc')
plt.errorbar(x, dfb2['energy'], yerr=dfb2['var'], label='abvmc')
plt.legend()
x


# f = h5py.File("bosonsj.hdf5")
# print(f.keys())
# print(f['energy'][...],
# f['energy_error'][...])


def get_variance(df, 
                 discard = 10):
    keys = df.keys()
    numblocks = df[keys[0]].shape[0]
    num_used_blocks = numblocks - discard
    print('\t\t\t{:10s} {:6s} {:3s}'.format('Mean', 'Var', 'Ratio'))
    for k in keys:
        eb = df[k][discard:]
        mean = np.mean(eb)
        var = np.sqrt(1/(num_used_blocks - 1 ) * np.sum(eb**2 - mean**2))
        print('{} \t {:.6f} \t {:.6f} {:.3f}'.format(k, mean, var, np.abs(var/mean)))


get_variance(bosonrecipes.read_abvmc("bosonvmc.hdf5"),
            discard=0)
df2 = bosonrecipes.read_abvmc("bosonvmc.hdf5")
df2
plt.plot(df2['energytotal'], '-o', label='tot')
# plt.plot(df2['energyei'], label='ei')
# plt.plot(df2['energyee'], label='ee')
# plt.plot(df2['energyke'], label='ke')
# plt.plot(df2['energyvxc'], label='vxc')
# plt.axhline(y=0, linestyle='dashed')
plt.legend()


df.keys()





f = h5py.File("abvmc.hdf5") 
f.keys()


with h5py.File("bosonsj.hdf5") as f:
    print("keys", list(f.keys()))
    print("wave function parameters", list(f['wf'].keys()))
    ee_j = f['energy'][...]   
    x = f['x'][...]
    yfit = f['yfit'][...]
    # pgrad = f['pgradient'][...]   
    print(f['wf/wf2acoeff'][()])
    print(f['wf/wf2bcoeff'][()])



df2.keys()





f = h5py.File("bosonsj.hdf5")
y=f['energy'][...]
y=f['ratio'][...]
plt.plot(y, marker='o', label="etot")
# y=f['params'][...]

import matplotlib.pyplot as plt

plt.xlabel('Iteration')
# plt.ylabel('Value of Jastrow parameters')


plt.errorbar(df2['iteration'], df2['energy'], yerr=df2['error'],marker='o', label="etot")
plt.ylabel('Energy(Ha)')
plt.xlabel('Iteration')
plt.title('VMC optimization')


import importlib, recipes, bosonsamplemany, bosonrecipes, bosonslater, bosonwf, bosonaccumulators, bosonjastrowspin, bosonlinemin, bosonmc, bosonmultiplywf, bosonwftools 
modules = [recipes,bosonsamplemany, bosonrecipes, bosonrecipes, bosonslater, bosonwf, bosonaccumulators, bosonjastrowspin, bosonlinemin, bosonmc, bosonmultiplywf, bosonwftools] # Reloads recipes.py file after each update
for m in modules:
    importlib.reload(m)

# Boson Jastrow optimizationn
    
for fname in ['bosonsjnoi.hdf5']:
    if os.path.isfile(fname):
        os.remove(fname)
print("RUNNING ABVMC OPTIMIZATION NO ION CUSP")
wf, df = bosonrecipes.ABOPTIMIZE(scf_checkfile, "bosonsjnoi.hdf5", max_iterations=24, nconfig=1000, verbose=True,
                                jastrow_kws={"ion_cusp":False}
                                )

# Jastrow optimization results
dfnoi = pyq.read_opt("bosonsjnoi.hdf5")
dfnoi




with h5py.File("bosonsjnoi.hdf5") as f:
    print("keys", list(f.keys()))
    print("wave function parameters", list(f['wf'].keys()))
    ee_j = f['energy'][...]   
    x = f['x'][...]
    yfit = f['yfit'][...]
    pgrad = f['pgradient'][...]   
    print(f['wf/wf2acoeff'][()])
    print(f['wf/wf2bcoeff'][()])

import matplotlib.pyplot as plt
plt.plot(yfit, marker='o', label="etot")



f = h5py.File("bosonsjnoi.hdf5")
aa=f['params'][...]
import matplotlib.pyplot as plt
plt.plot(aa, marker='o', label="etot")
plt.xlabel('Iteration')
plt.ylabel('Value of Jastrow parameters')


import importlib, bosonsamplemany, recipes, bosonrecipes, bosonslater, bosonwf, bosonaccumulators, bosonjastrowspin, bosonlinemin2, bosonmc, bosonmultiplywf, bosonwftools 
modules = [recipes, bosonsamplemany, bosonrecipes, bosonrecipes, bosonslater, bosonwf, bosonaccumulators, bosonjastrowspin, bosonlinemin2, bosonmc, bosonmultiplywf, bosonwftools] # Reloads recipes.py file after each update
for m in modules:
    importlib.reload(m)

# Boson Jastrow optimizationn
    
for fname in ['bosonsj2.hdf5']:
    if os.path.isfile(fname):
        os.remove(fname)
print("RUNNING ABVMC OPTIMIZATION")
wf, df = bosonrecipes.ABOPTIMIZE2(scf_checkfile, "bosonsj2.hdf5", max_iterations=18, nconfig=1000, verbose=True)

# Jastrow optimization results
df3 = pyq.read_opt("bosonsj2.hdf5")
df3










df











tstep = 0.1
nconfig = 100
nblocks = 300
nsteps_per_block = 4
discard = 10


#PYQMC VMC with jastrow
#
#
import importlib, recipes, abdmc, wftools, bosonwf, determinant_tools, mc, dmc, slater, orbitals, accumulators, energy, jastrowspin, multiplywf
modules = [recipes, abdmc, wftools, bosonwf, determinant_tools, mc, dmc, slater, orbitals, accumulators, energy, jastrowspin, multiplywf] # Reloads recipes.py file after each update
for m in modules:
    importlib.reload(m)
# Jastrow optimization
for fname in ['vmc-j-001.hdf5']:
    if os.path.isfile(fname):
        os.remove(fname)
from recipes import ABDMC, DMC, ABVMC, VMC
VMC("scf.hdf5", "vmc-j-001.hdf5",
    load_parameters="sj.hdf5", verbose=True,
    nblocks=nblocks, 
    nsteps_per_block=nsteps_per_block,
    tstep= tstep,
    nconfig=nconfig)


def namestr(obj, namespace):
    return [name for name in namespace if namespace[name] is obj]

import matplotlib.pyplot as plt
with h5py.File("vmc-j-001.hdf5") as f:
    ee_j = f['energyee'][...]   
    ei_j = f['energyei'][...]
    # ii = f['energyii'][...]    
    ke_j = f['energyke'][...]
    etot_j = f['energytotal'][...]
plt.plot(etot_j, marker='o', label="etot")
# plt.plot(ee_j, marker='o', label="ee")
# plt.plot(ei_j, marker='o', label="ei")
# plt.plot(ke_j, marker='o', label="ke")

# plt.plot(vxc-vxc[0], marker='o', label="vxc")
plt.legend()
plt.xlabel("VMC step")
plt.ylabel("Energy (Hartree)")
# plt.xlim((200,500))
# plt.ylim((-10, 5))
plt.grid()
# plt.figure()
discard = 10
for e in [etot_j, ee_j, ei_j, ke_j]:
    e_m = np.mean(e[discard:])
    e_d = np.var(e[discard:])
    print("Mean ", namestr(e, globals())[0], ", ", e_m, "+/-", e_d)

# e_m = np.mean(etot[discard:])
# e_d = np.var(etot[discard:])
# # e_m2 = np.mean(etot2[discard:])
# # e_d2 = np.var(etot2[discard:])
# print("Mean VMC Energy, ", e_m, "+/-", e_d)
# print("LDA Energy, ", mf.energy_tot())
# plt.plot(ed, marker='o', label="ke")

# print('ee', np.mean(ee[discard:]))
# print('ei', np.mean(ei[discard:]))
# print('ke', np.mean(ke[discard:]))



#ABVMC with jastrows
#
#
import importlib, multiplywf, recipes, abdmc, wftools, bosonwf, determinant_tools, mc, dmc, slater, orbitals, accumulators, energy, jastrowspin, multiplywf
modules = [recipes, abdmc, wftools, bosonwf, determinant_tools, mc, dmc, slater, orbitals, accumulators, energy, jastrowspin, multiplywf] # Reloads recipes.py file after each update
for m in modules:
    importlib.reload(m)
# Jastrow optimization
for fname in ['abvmc-j-001.hdf5']:
    if os.path.isfile(fname):
        os.remove(fname)
from recipes import ABDMC, DMC, ABVMC, VMC

ABVMC("scf.hdf5", "abvmc-j-001.hdf5", 
      load_parameters="sj.hdf5", verbose=True,  
      nblocks=nblocks, 
      nsteps_per_block=nsteps_per_block,
      tstep= tstep, 
      nconfig=nconfig)


def namestr(obj, namespace):
    return [name for name in namespace if namespace[name] is obj]
import matplotlib.pyplot as plt
with h5py.File("abvmc-j-001.hdf5") as f:
    ee_abvmc = f['energyee'][...]   
    ei_abvmc = f['energyei'][...]
    vh_abvmc = f['energyvh'][...]   
    vxc_abvmc = f['energyvxc'][...]       
    # eid = f['energyeid'][...]    
    ii_abvmc = f['energyii'][...]    
    ke_abvmc = f['energyke'][...]
    ka_abvmc = f['energyka'][...]
    kb_abvmc = f['energykb'][...]   
    ecorr_abvmc = f['energycorr'][...]    
    etot_j_abvmc = f['energytotal'][...] 
vhxc_abvmc = vh_abvmc + vxc_abvmc

plt.plot(etot_j_abvmc, marker='o', label="etot")

plt.legend()
plt.xlabel("ABVMC step")
plt.ylabel("Energy (Hartree)")
plt.grid()
plt.title('ABVMC')
for e in [etot_j_abvmc]:
    e_m = np.mean(e[discard:])
    e_d = np.var(e[discard:])
    nn = namestr(e, globals())
    name = nn[0] if nn[0] != 'e' else nn[1]
    print("Mean ", name, ", ", e_m, "+/-", e_d)
print("LDA Energy, ", mf_lda.energy_tot())




plt.plot(etot_j, marker='o', color = 'r', label="VMC-Jastrow")
plt.plot(etot_j_abvmc, marker='o', color='b', label="ABVMC-Jastrow")

plt.legend()
plt.xlabel("VMC step")
plt.ylabel("Energy (Hartree)")
# plt.ylim((-1.4, -1))
# discard =  1000
# plt.axvline(discard, linestyle='dashed')
# plt.axhline(np.mean(etot_j[discard:]), color='r')
# plt.axhline(np.mean(etot_j_abvmc[discard:]), color='b')
plt.grid()






















