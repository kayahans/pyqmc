import matplotlib.pyplot as plt
import numpy as np
import copy
import h5py
import os
import seaborn as sns



from scf_runs import run_casci, run_lda_be
scf_checkfile, opt_checkfile, mf_lda = run_lda_be()
ci_checkfile, mc = run_casci(scf_checkfile, nroots=1, ncas =3, nelecas = (2,2))


import bosonrecipes
import importlib, bosonrecipes, linemin, bosonwftools, mc, bosonslater, bosonaccumulators, stochastic_reconfiguration
modules = [importlib, bosonrecipes, linemin, bosonwftools, mc, bosonslater, bosonaccumulators, stochastic_reconfiguration]
for m in modules:
    importlib.reload(m)



# abvmcopt_file = 'abvmc-j-opt-be.hdf5'
# for fname in [abvmcopt_file]:
#     if os.path.isfile(fname):
#         os.remove(fname)
# num_it = 40
# bosonrecipes.ABOPTIMIZE(scf_checkfile, 
#                         abvmcopt_file, 
#                         ci_checkfile   = ci_checkfile,
#                         max_iterations = num_it, 
#                         jastrow_kws    = {"ion_cusp":False, 'na':0},
#                         verbose        = True,                            
#                         nconfig        = 1000)  



import concurrent
abvmcopt_file = 'abvmc-j-opt-be.hdf5'
num_it = 20
ncore = 16 
for fname in [abvmcopt_file]:
    if os.path.isfile(fname):
        os.remove(fname)
with concurrent.futures.ProcessPoolExecutor(max_workers=ncore) as client:
    bosonrecipes.ABOPTIMIZE(scf_checkfile, 
                    abvmcopt_file, 
                    ci_checkfile = ci_checkfile,
                    max_iterations=num_it, 
                    verbose=True,  
                    load_parameters = None, 
                    jastrow_kws={"ion_cusp":False, 'na':0},
                    client = client, 
                    npartitions=ncore,                            
                    nconfig=1000)



import pyqmc.api as pyq
df = pyq.read_opt(abvmcopt_file)
df


import matplotlib.pyplot as plt
plt.plot(df['energy'], '-ok')









