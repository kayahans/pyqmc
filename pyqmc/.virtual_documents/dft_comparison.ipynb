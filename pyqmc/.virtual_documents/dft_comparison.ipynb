from pyscf import gto, dft, scf, mcscf
import pyscf


mol = gto.M(atom="Li 0. 0. 0.", spin=1, basis='aug-ccpvtz', unit='bohr')
mf = scf.UHF(mol)
mf.kernel()

cisolver = pyscf.fci.FCI(mf)
cisolver.nstates = 10
# print('E(FCI) = %.12f' % cisolver.kernel()[0])
energies, ci_coeff = cisolver.kernel()


27.211*(energies-energies[0])


mol = gto.M(atom="B 0. 0. 0.", spin=1, basis='aug-ccpvtz', unit='bohr')
mf = scf.UHF(mol)
mf.kernel()

cisolver = pyscf.fci.FCI(mf)
cisolver.nstates = 10
# print('E(FCI) = %.12f' % cisolver.kernel()[0])
energies, ci_coeff = cisolver.kernel()
27.211*(energies-energies[0])





mol = gto.M(atom="Li 0. 0. 0.", spin=1, basis='aug-ccpvqz', unit='bohr')
mf = scf.UHF(mol)
mf.kernel()
ncas, nelecas = (50, (2, 1))
mycas = mcscf.CASCI(mf, ncas, nelecas)
mycas.fcisolver.nroots = 10
mycas.verbose = 4
energies, eci, fci, mat, arr =mycas.kernel()
27.211*(energies-energies[0])


mol = gto.M(atom="Be 0. 0. 0.", spin=0, basis='aug-ccpvqz', unit='bohr')
mf = scf.UHF(mol)
mf.kernel()
ncas, nelecas = (30, (2, 2))
mycas = mcscf.CASCI(mf, ncas, nelecas)
mycas.fcisolver.nroots = 10
mycas.verbose = 4
energies, eci, fci, mat, arr =mycas.kernel()
27.211*(energies-energies[0])


mol = gto.M(atom="B 0. 0. 0.", spin=1, basis='ccpvtz', unit='bohr')
mf = scf.UHF(mol)
mf.kernel()
ncas, nelecas = (20, (3, 2))
mycas = mcscf.CASCI(mf, ncas, nelecas)
mycas.fcisolver.nroots = 10
mycas.verbose = 4
energies, eci, fci, mat, arr =mycas.kernel()
27.211*(energies-energies[0])


mol = gto.M(atom="B 0. 0. 0.", spin=1, basis='ccpvqz', unit='bohr')
mf = scf.UHF(mol)
mf.kernel()
ncas, nelecas = (20, (3, 2))
mycas = mcscf.CASCI(mf, ncas, nelecas)
mycas.fcisolver.nroots = 10
mycas.verbose = 4
energies, eci, fci, mat, arr =mycas.kernel()
27.211*(energies-energies[0])


mol = gto.M(atom="B 0. 0. 0.", spin=1, basis='aug-ccpvqz', unit='bohr')
mf = scf.UHF(mol)
mf.kernel()
ncas, nelecas = (18, (3, 2))
mycas = mcscf.CASCI(mf, ncas, nelecas)
mycas.fcisolver.nroots = 10
mycas.verbose = 4
energies, eci, fci, mat, arr =mycas.kernel()
27.211*(energies-energies[0])


mol = gto.M(atom="B 0. 0. 0.", spin=1, basis='aug-ccpvqz', unit='bohr')
mf = scf.UHF(mol)
mf.kernel()
ncas, nelecas = (27, (3, 2))
mycas = mcscf.CASCI(mf, ncas, nelecas)
mycas.fcisolver.nroots = 10
mycas.verbose = 4
energies, eci, fci, mat, arr =mycas.kernel()
27.211*(energies-energies[0])


mol = gto.M(atom="B 0. 0. 0.", spin=1, basis='aug-ccpvqz', unit='bohr')
mf = scf.UHF(mol)
mf.kernel()
ncas, nelecas = (27, (3, 2))
mycas = mcscf.CASCI(mf, ncas, nelecas)
mycas.fcisolver.nroots = 10
mycas.verbose = 4
energies, eci, fci, mat, arr =mycas.kernel()
27.211*(energies-energies[0])












