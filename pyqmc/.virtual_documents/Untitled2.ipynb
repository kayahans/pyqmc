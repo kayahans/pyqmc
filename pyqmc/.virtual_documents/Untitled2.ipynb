import numpy as np
import matplotlib.pyplot as plt


tstep = 1
nconf= 10000
gauss = np.random.normal(scale=np.sqrt(tstep), size=(nconf, 3))


plt.hist(gauss)



