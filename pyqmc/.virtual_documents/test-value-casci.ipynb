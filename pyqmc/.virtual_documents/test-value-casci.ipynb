import matplotlib.pyplot as plt
import numpy as np


# Wavefunction generation
from scf_runs import run_lda_he, run_casci
scf_checkfile, opt_checkfile, mf_lda = run_lda_he()
ci_checkfile, mc, opt_chkfile, vmc_chkfile = run_casci(scf_checkfile, nroots=4, ncas = 4)


# Multi determinant boson new gradient
import importlib, bosonrecipes, bosonslater, bosonwftools
modules = [importlib, bosonrecipes, bosonslater, bosonwftools]
for m in modules:
    importlib.reload(m)

import importlib, slater, pyscftools,recipes, wftools, mc
modules = [importlib, slater, pyscftools,recipes, wftools, mc]
for m in modules:
    importlib.reload(m)


# import pyqmc.pyscftools as pyscftools

nconfig = 323
multi = True
if multi:
    mol, mf, mcc = pyscftools.recover_pyscf(scf_checkfile, ci_checkfile = ci_checkfile)
    target_root = 0
    if not hasattr(mcc.ci, "shape") or len(mcc.ci.shape) == 3:
        mcc.ci = mcc.ci[target_root]
else:
    mol, mf = pyscftools.recover_pyscf(scf_checkfile)
    mcc = None
    
wfb, to_opt = bosonwftools.generate_boson_wf(
        mol, mf, mc=mcc, jastrow=None, jastrow_kws=None, slater_kws=None
        )

wfs, to_opt = wftools.generate_wf(
        mol, mf, mc=mcc, jastrow=None, jastrow_kws=None, slater_kws=None
        )






nconfig = 100
mol, mf = pyscftools.recover_pyscf(scf_checkfile)
configs = mc.initial_guess(mol, nconfig)
signb, phib = wfb.recompute(configs)
signs, phis = wfs.recompute(configs)


s, v = wfb.value_dets()
v.shape


wfb._det_map[0]


updets = wfs._dets[0][:, :, wfs._det_map[0]]
dndets = wfs._dets[1][:, :, wfs._det_map[1]]


import gpu 
# Value efficient
upref = gpu.cp.amax(updets[1]).real
dnref = gpu.cp.amax(dndets[1]).real
ndet = len(wfs._det_map[0])
logvals = 2*(updets[1] - upref + dndets[1] - dnref)
wf_val = 1./ndet * gpu.cp.einsum("id->i", gpu.cp.exp(logvals))

wf_sign = np.nan_to_num(wf_val / gpu.cp.abs(wf_val))
wf_logval = 1./2 * np.nan_to_num(gpu.cp.log(gpu.cp.abs(wf_val)) + 2*(upref + dnref))
wf_logval - wfb.value()[1]


wf








# Ovlp from slaters
nconf, nelec, _ = configs.configs.shape

for wfi in wfb.wfs:
    wfi.recompute(configs)

phib_sign, phib_logval = wfb.value() # Eq. 4
phib_val = phib_sign * np.nan_to_num(np.exp(phib_logval)) #[c]

phase, log_vals = [
    np.nan_to_num(np.array(x)) for x in zip(*[wfi.value() for wfi in wfb.wfs])
]

psi = phase * np.nan_to_num(np.exp(log_vals))
ovlp_ij = np.einsum("lc,nc, c->cln", psi.conj(), psi, (1./phib_val**2))


sign_list = []
logval_list = []
for i in range(ndet):
    updets = wfs._dets[0][:, :, wfs._det_map[0][i]]
    dndets = wfs._dets[1][:, :, wfs._det_map[1][i]]
    upref = gpu.cp.amax(updets[1]).real
    dnref = gpu.cp.amax(dndets[1]).real
    logvals = 2*(updets[1] - upref + dndets[1] - dnref)
    wf_val =  gpu.cp.exp(logvals)

    wf_sign = updets[0] * dndets[0]
    wf_logval = 1./2 * np.nan_to_num(gpu.cp.log(gpu.cp.abs(wf_val)) + 2*(upref + dnref))
    sign_list.append(wf_sign)
    logval_list.append(wf_logval)
phase2 = np.array(sign_list)
log_vals = np.array(logval_list)
psi2 = phase2 * np.nan_to_num(np.exp(log_vals))    
ovlp2_ij = np.einsum("lc,nc, c->cln", psi2.conj(), psi2, (1./phib_val**2))


np.max(phase - phase2)


np.max(ovlp_ij - ovlp2_ij)


# Gradient
e = 0
epos = configs.electron(e)
gradb, _, _ = wfb.gradient_value(e, epos)
gradb[0]


s = int(e >= wfs._nelec[0])
aograd = wfs.orbitals.aos("GTOval_sph_deriv1", epos)
mograd = wfs.orbitals.mos(aograd, s)
mograd_vals = mograd[:, :, wfs._det_occup[s]]
jacobi = gpu.cp.einsum(
    "ei...dj,idj...->ei...d",
    mograd_vals,
    wfs._inverse[s][..., e - s * wfs._nelec[0]],
)
det_coeff = 1./ndet
upref = gpu.cp.amax(wfs._dets[0][1]).real
dnref = gpu.cp.amax(wfs._dets[1][1]).real

det_array = (
    wfs._dets[0][0, :, wfs._det_map[0]]
    * wfs._dets[1][0, :, wfs._det_map[1]]
    * gpu.cp.exp(
        wfs._dets[0][1, :, wfs._det_map[0]]
        + wfs._dets[1][1, :, wfs._det_map[1]]
        - upref
        - dnref
    )
)

numer = det_coeff * gpu.cp.einsum(
    "ei...d,di->ei...",
    jacobi[..., wfs._det_map[s]],
    det_array**2
)

denom = det_coeff * gpu.cp.einsum(
    "di->i...",
    det_array**2
)
g2 = numer[1:] / denom


i = 2
gradb[i]/g2[i]


dv = wfb.value_dets()[1]
dv.shape


dg = wfb.gradient_dets(e, epos)
dg.shape


v = wfb.value()[1]
v.shape


gc = np.einsum('di,dei->ei', np.exp(2*(dv-v)), dg)


i = 2
gc[i] - gradb[i]


gc[i]


e=0
gradb, _, _ = wfb.gradient_value(e, configs.electron(e))
grads, _, _ = wfs.gradient_value(e, configs.electron(e))


# Differnce in gradients
plt.plot(gradb.flatten())
plt.plot(gradb.flatten()-grads.flatten())


gradbr, _ = wfb.gradient_value_real(e, configs.electron(e))
gradbl, _, _ = wfb.gradient_value_log(e, configs.electron(e))


# check between the real and log gradients
idx = 0
plt.plot(gradbl[idx])
plt.plot(gradbl[idx]-gradbr[idx]/np.exp(phib))












