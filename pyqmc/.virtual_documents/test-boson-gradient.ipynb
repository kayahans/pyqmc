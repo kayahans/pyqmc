import matplotlib.pyplot as plt
import numpy as np
import copy
import h5py
import os
import seaborn as sns
from pyscf.scf.uhf import det_ovlp


num_det = 2


# Wavefunction generation
from pyscf import lib, gto, scf
from pyscf import gto, mp, mcscf
def He_casci(scf_checkfile, ci_checkfile):
    mol = gto.M(
        atom="He 0. 0. 0.0;",
        basis=f"ccecpccpvqz",
        unit="bohr",
        charge=0,
        spin=0,
        verbose=1,
    )
    mf = scf.UHF(mol).run()
    mf.chkfile = scf_checkfile
    mf.kernel()
    mc = mcscf.CASCI(mf, num_det,2)
    # mc.fcisolver.nroots = 2
    mc.kernel()
    print(mc.__dict__.keys())
    with h5py.File(ci_checkfile, "a") as f:
        f.create_group("ci")
        f["ci/ncas"] = mc.ncas
        f["ci/nelecas"] = list(mc.nelecas)
        f["ci/ci"] = mc.ci
        f["ci/mo_coeff"] = mc.mo_coeff    
    return mol, mf, mc


scf_checkfile = 'rohf.chk'
ci_checkfile = 'casci.chk'
for fname in [scf_checkfile, ci_checkfile]:
    if os.path.isfile(fname):
        os.remove(fname)
mol, mf, mcc = He_casci(scf_checkfile, ci_checkfile)



mcc.ci


import pyqmc.api as pyq
from wftools import generate_slater


# Boson WF
import bosonwftools, jastrowspin, bosonslater
import pyscftools, mc
wf0, _ = bosonwftools.generate_boson_wf(mol, mf, mc=mcc)
wave_functions = wf0.wf_factors
for wave in wave_functions:
    if isinstance(wave, bosonslater.BosonWF):
        boson_wf = wave
    if isinstance(wave, jastrowspin.JastrowSpin):
        jastrow_wf = wave       
                



from wftools import generate_slater
wfs = []
num_det = mcc.ci.shape[0] * mcc.ci.shape[1]
for i in range(mcc.ci.shape[0]):
    for j in range(mcc.ci.shape[1]):
        mc0 = copy.copy(mcc)
        mc0.ci = mcc.ci * 0
        mc0.ci[i, j] = 1
        wf0, _ = generate_slater(mol, mf, mc=mc0, optimize_determinants=False)
        wfs.append(wf0)


mc0.ci


configs = pyq.initial_guess(mol, 1)
# configs.configs


configs.configs


# Boson grad
e = 0
boson_wf.recompute(configs)
g, _, _ = boson_wf.gradient_value(e, configs.electron(e))
gradb = mc.limdrift(np.real(g.T))
valueb = boson_wf.value()
gradb


# Fermion grad
e = 0
_ = [wf.recompute(configs) for wf in wfs]
grads = [np.real(wf.gradient(e, configs.electron(e)).T) for wf in wfs]
vals = [np.real(wf.value()) for wf in wfs]
grad = mc.limdrift(np.mean(grads, axis=0))
grad





# For some configurations, grad and gradb are of opposite sign and close in absolute value, try a few times and find such configurations
# 1. Use the configuration coordinates above, and then use fixed initial configs. 


# Fermion grad enhanced
import gpu
s = int(e >= wfs[0]._nelec[0])
epos = configs.electron(e)
aograd = wfs[0].orbitals.aos("GTOval_sph_deriv1", epos)
mograd = wfs[0].orbitals.mos(aograd, s)
mograd_vals = mograd[:, :, wfs[0]._det_occup[s]]
vec = mograd_vals

ratios = gpu.cp.einsum(
    "ei...dj,idj...->ei...d",
    vec,
    wfs[0]._inverse[s][..., e - s * wfs[0]._nelec[0]],
)
ratios


# Boson grad enhanced
import gpu
s = int(e >= boson_wf._nelec[0])
epos = configs.electron(e)
aograd = boson_wf.orbitals.aos("GTOval_sph_deriv1", epos)
mograd = boson_wf.orbitals.mos(aograd, s)
mograd_vals = mograd[:, :, boson_wf._det_occup[s]]
vec = mograd_vals

ratios = gpu.cp.einsum(
    "ei...dj,idj...->ei...d",
    vec,
    boson_wf._inverse[s][..., e - s * boson_wf._nelec[0]],
)

upref = gpu.cp.amax(boson_wf._dets[0][1]).real
dnref = gpu.cp.amax(boson_wf._dets[1][1]).real

det_array = (
    boson_wf._dets[0][0, :, boson_wf._det_map[0]]
    * boson_wf._dets[1][0, :, boson_wf._det_map[1]]
    * gpu.cp.exp(
        boson_wf._dets[0][1, :, boson_wf._det_map[0]]
        + boson_wf._dets[1][1, :, boson_wf._det_map[1]]
        - upref
        - dnref
    )
)

numer = 1./2 * gpu.cp.einsum(
    "ei...d,di->ei...",
    ratios[..., boson_wf._det_map[s]],
    # boson_wf.parameters["det_coeff"],
    det_array**2,
    # det_array_noref,
)

numera = 1./2 * gpu.cp.einsum(
    "ei...d,di->ei...",
    ratios[..., boson_wf._det_map[s]],
    # boson_wf.parameters["det_coeff"],
    det_array,
    # det_array_noref,
)

denom = gpu.cp.einsum(
    "di->i...",
    # boson_wf.parameters["det_coeff"],
    det_array**2,
)

denoma = gpu.cp.einsum(
    "di->i...",
    # boson_wf.parameters["det_coeff"],
    det_array,
)

res = numer / denom
res[1:]/res[0]



ratios[..., boson_wf._det_map[s]]


det_array


numer


numera


ratios[..., boson_wf._det_map[s]]


denoma


upref


dnref


boson_wf.parameters['det_coeff']


s = int(e >= boson_wf._nelec[0])
aograd = boson_wf.orbitals.aos("GTOval_sph_deriv1", configs.electron(e))
mograd = boson_wf.orbitals.mos(aograd, s)
mograd_vals = mograd[:, :, boson_wf._det_occup[s]]
ratios = boson_wf._testrowderiv(e, mograd_vals)
ratios


(ratios[1:] / ratios[0]).T


s = int(e >= wf._nelec[0])
aograd = wf.orbitals.aos("GTOval_sph_deriv1", configs.electron(e))
mograd = wf.orbitals.mos(aograd, s)
mograd_vals = mograd[:, :, wf._det_occup[s]]
ratios = wf._testrowderiv(e, mograd_vals)
ratios


















