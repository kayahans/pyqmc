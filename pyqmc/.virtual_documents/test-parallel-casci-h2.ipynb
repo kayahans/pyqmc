import matplotlib.pyplot as plt
import numpy as np
import copy
import h5py
import os
import seaborn as sns
import shutil




def plot_delta_ovlp(filename="abvmc.hdf5", discard = 2, annot=True):
    copyfile = "copy_" + filename
    shutil.copyfile(filename, copyfile)
    f = h5py.File(copyfile, "r")    
    keys = f.keys()
    
    fig, ax = plt.subplots(3, 2, figsize = (12, 15))    
    ovlp_ij_raw=np.array(f['excitationsovlp_ij'])
    delta_ij_raw=np.array(f['excitationsdelta'])
    discard = 2
    ovlp_ij = np.average(ovlp_ij_raw[discard:], axis=0)
    # plt.figure()
    sns.heatmap(ovlp_ij, ax=ax[0, 0], annot=annot)
    ax[0, 0].set_title('Overlap matrix')
    # plt.title('Overlap matrix')

    ovlp_ij_std = np.std(ovlp_ij_raw[discard:], axis=0)
    sns.heatmap(ovlp_ij_std, ax=ax[1, 0], annot=annot)
    ax[1, 0].set_title('Standard deviation of overlap matrix')
    
    filtered_ovlp_ij = copy.deepcopy(ovlp_ij)
    filtered_ovlp_ij[ovlp_ij_std>np.abs(ovlp_ij)] = 0
    sns.heatmap(filtered_ovlp_ij, ax=ax[2, 0], annot=annot)
    ax[2, 0].set_title('Filtered overlap matrix')
    


    delta_ij = np.average(delta_ij_raw[discard:], axis=0)
    sns.heatmap(delta_ij, ax=ax[0, 1], annot=annot)
    ax[0, 1].set_title('Delta matrix')
                       
    delta_ij_std = np.std(delta_ij_raw[discard:], axis=0)
    sns.heatmap(delta_ij_std, ax=ax[1, 1], annot=annot)
    ax[1, 1].set_title('Standard deviation of delta matrix')
    

    filtered_delta_ij = copy.deepcopy(delta_ij)
    filtered_delta_ij[delta_ij_std>np.abs(delta_ij)] = 0
    sns.heatmap(filtered_delta_ij, ax=ax[2, 1], annot=annot)
    ax[2, 1].set_title('Filtered Delta matrix')

    os.remove(copyfile)
    return {'filtered': [filtered_ovlp_ij, filtered_delta_ij], 
            'raw': [ovlp_ij_raw, delta_ij_raw]}
# res = plot_delta_ovlp()


import pyqmc.api as pyq
abvmcopt_file = "h2_opt_cas_3_nelecas_1_1.hdf5"
df = pyq.read_opt(abvmcopt_file)
df



y = df['energy']
x = np.arange(len(y))
plt.errorbar(x, y, yerr = df['error'])
plt.xlabel("Iteration")
plt.ylabel("Energy (Ha)")


res = plot_delta_ovlp("h2_vmc_cas_3_nelecas_1_1.hdf5", discard=15, annot=True)


plt.plot(res['raw'][0][:, 0,0])














import pyqmc.api as pyq
abvmcopt_file = "h2_opt_cas_3_nelecas_1_1-ion_cusp.hdf5"
df = pyq.read_opt(abvmcopt_file)
df



y = df['energy']
x = np.arange(len(y))
plt.errorbar(x, y, yerr = df['error'])
plt.xlabel("Iteration")
plt.ylabel("Energy (Ha)")


res = plot_delta_ovlp("h2_vmc_cas_3_nelecas_1_1-ion_cusp.hdf5", discard=10, annot=True)





import pyqmc.api as pyq
abvmcopt_file = "h2_opt_cas_3_nelecas_1_1-ion_cusp-na.hdf5"
df = pyq.read_opt(abvmcopt_file)
df



y = df['energy']
x = np.arange(len(y))
plt.errorbar(x, y, yerr = df['error'])
plt.xlabel("Iteration")
plt.ylabel("Energy (Ha)")


res = plot_delta_ovlp("h2_vmc_cas_3_nelecas_1_1-ion_cusp-na.hdf5", discard=10, annot=True)


# Jastrow as-is


import pyqmc.api as pyq
abvmcopt_file = "h2_opt_cas_3_nelecas_1_1.hdf5"
df = pyq.read_opt(abvmcopt_file)
df



y = df['energy']
x = np.arange(len(y))
plt.errorbar(x, y, yerr = df['error'])
plt.xlabel("Iteration")
plt.ylabel("Energy (Ha)")


res = plot_delta_ovlp("h2_vmc_cas_3_nelecas_1_1.hdf5", discard=10, annot=True)



