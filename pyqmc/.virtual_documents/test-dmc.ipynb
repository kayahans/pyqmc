# Wavefunction generation
from pyscf import mcscf, fci, lib 
from pyscf import gto, scf, tools, dft
import api as pyq 
import importlib
import os
import h5py
import pandas as pd
import pdb
import pyscf
import numpy as np
from pyscf.scf.hf import dump_scf_summary
from pyscf.scf.chkfile import dump_scf
print(pyq.__file__)
print(pyscf.__file__)


# H2 molecule
def run_scf(scf_checkfile):
    mol = gto.M(atom="H 0. 0. 0.;H 0. 0. 1.;", basis=f'ccecpccpvdz', unit='bohr')
    mf = scf.UHF(mol)
    mf.chkfile = scf_checkfile
    dm = mf.init_guess_by_atom()
    mf.kernel(dm)
    dump_scf(mf.mol, 'scf.hdf5', mf.energy_tot(), mf.mo_energy, mf.mo_coeff, mf.mo_occ)
    return mf

def run_lda_be(scf_checkfile):
    print("Be atom neutral LDA spin=2")
    mol = gto.M(atom="Be 0. 0. 0.", spin=2,basis=f'ccpvdz', unit='bohr')
    print("HF")
    mf = scf.UHF(mol)
    mf.kernel()
    print("LDA")        
    mf = dft.UKS(mol)
    # mf.verbose=6
    mf.chkfile = scf_checkfile
    dm = mf.init_guess_by_atom()
    mf.kernel(dm, xc='LDA')
    return mf

def run_lda_li(scf_checkfile):
    print("Li atom neutral LDA spin=1")
    mol = gto.M(atom="Li 0. 0. 0.",basis=f'ccpvtz', spin=1, unit='bohr')
    print("HF")
    mf = scf.UHF(mol)
    mf.kernel()
    print("LDA")    
    mf = dft.UKS(mol)
    # mf.verbose=6
    mf.chkfile = scf_checkfile
    dm = mf.init_guess_by_atom()
    mf.kernel(dm, xc='LDA')
    return mf

def run_lda_he(scf_checkfile):
    print("He atom neutral LDA spin=0")
    # mol = gto.M(atom="He 0. 0. 0.", basis="ccECP_cc-pVDZ", ecp="ccecp", unit='bohr')
    mol = gto.M(atom="He 0. 0. 0.", basis="ccpvdz", unit='bohr')    
    print("HF")
    mf = scf.UHF(mol)
    mf.kernel()
    print("LDA")    
    mf = dft.UKS(mol)
    # mf.verbose=6
    mf.chkfile = scf_checkfile
    dm = mf.init_guess_by_atom()
    mf.kernel(dm, xc='LDA')
    return mf

def run_lda_h2(scf_checkfile):
    mol = gto.M(atom="H 0. 0. 0.; H 0. 0. 20", spin = 2, basis=f'ccecpccpvdz', unit='bohr')
    mf = dft.UKS(mol)
    # mf.verbose=6
    mf.chkfile = scf_checkfile
    dm = mf.init_guess_by_atom()
    mf.xc='LDA, VWN'
    mf.kernel()    
    # mf.kernel(dm, xc='LDA,VWN')
    return mf

def run_lda(scf_checkfile):
    mol = gto.M(atom="H 0. 0. 0.", spin=1,basis=f'ccecpccpvdz', unit='bohr')
    mf = dft.UKS(mol)
    # mf.verbose=6
    mf.chkfile = scf_checkfile
    dm = mf.init_guess_by_atom()
    mf.kernel(dm, xc='LDA')
    return mf
    
def run_casscf(scf_checkfile, ci_checkfile):
    cell, mf = pyq.recover_pyscf(scf_checkfile, cancel_outputs=False)
    mc = mcscf.CASSCF(mf,2,2)
    mc.chkfile = ci_checkfile
    mc.kernel()
    with h5py.File(mc.chkfile, "a") as f:
        print("Available output from CASSCF:", f["mcscf"].keys())
        f["mcscf/nelecas"] = list(mc.nelecas)
        f["mcscf/ci"] = mc.ci
    return mc

def run_casci(scf_checkfile, ci_checkfile):
    cell, mf = pyq.recover_pyscf(scf_checkfile, cancel_outputs=False)
    # ncas: orbitals
    # nelecas: electrons
    ncas = 4
    nelecas = 2
    mc = mcscf.CASCI(mf, ncas, nelecas)
    mc.kernel()
    print(mc.__dict__.keys())
    with h5py.File(ci_checkfile, "a") as f:
        f.create_group("ci")
        f["ci/ncas"] = mc.ncas
        f["ci/nelecas"] = list(mc.nelecas)
        f["ci/ci"] = mc.ci
        f["ci/mo_coeff"] = mc.mo_coeff
        print("Available output from CASCI:", f["ci"].keys())
    return mc

def make_wf_object(scf_checkfile, ci_checkfile):
    mol, mf, mc = pyq.recover_pyscf(scf_checkfile, ci_checkfile=ci_checkfile)
    wf, _ = pyq.generate_wf(mol, mf, mc=mc)
    return wf

# for fname in ['scf.hdf5','ci.hdf5']:
#     if os.path.isfile(fname):
#         os.remove(fname)

scf_checkfile = "scf.hdf5"
ci_checkfile = "ci.hdf5"
# mf = run_scf(scf_checkfile)
mf_lda = run_lda_he(scf_checkfile)

# mc = run_casci(scf_checkfile, ci_checkfile)


from recipes import ABOPTIMIZE, OPTIMIZE
import importlib, recipes
modules = [recipes]
for m in modules:
    importlib.reload(m)

    # Jastrow optimization
for fname in ['sj.hdf5']:
    if os.path.isfile(fname):
        os.remove(fname)
print("RUNNING VMC OPTIMIZATION")
# pyq.OPTIMIZE(scf_checkfile, "sj.hdf5", ci_checkfile=ci_checkfile, max_iterations=2, verbose=False)
recipes.OPTIMIZE(scf_checkfile, "sj.hdf5", max_iterations=4, verbose=False)

# Jastrow optimization results
df = pyq.read_opt("sj.hdf5")
df


tstep = 0.001
nconfig = 200
nsteps = 2000
discard = 100


#ABDMC
#
#
import importlib, recipes, abdmc, wftools, bosonwf, determinant_tools, mc, dmc, slater, orbitals, accumulators, energy, jastrowspin, multiplywf
modules = [recipes, abdmc, wftools, bosonwf, determinant_tools, mc, dmc, slater, orbitals, accumulators, energy, jastrowspin, multiplywf] # Reloads recipes.py file after each update
for m in modules:
    importlib.reload(m)
# Jastrow optimization
for fname in ['abdmc.hdf5']:
    if os.path.isfile(fname):
        os.remove(fname)
from recipes import ABDMC, DMC, ABVMC, VMC
ABDMC("scf.hdf5", "abdmc.hdf5",  load_parameters="sj.hdf5", 
      accumulators = {"energy": True}, verbose=False, 
      nsteps = nsteps,
      tstep= tstep,
      nconfig=nconfig, 
      vmc_warmup=10)


def namestr(obj, namespace):
    return [name for name in namespace if namespace[name] is obj]
import matplotlib.pyplot as plt
with h5py.File("abdmc.hdf5") as f:
    ee_abdmc = f['energyee'][...]   
    ei_abdmc = f['energyei'][...]
    vh_abdmc = f['energyvh'][...]   
    vxc_abdmc = f['energyvxc'][...]       
    # eid = f['energyeid'][...]    
    ii_abdmc = f['energyii'][...]    
    ke_abdmc = f['energyke'][...]
    ka_abdmc = f['energyka'][...]
    kb_abdmc = f['energykb'][...]   
    ecorr_abdmc = f['energycorr'][...]    
    etot_abdmc = f['energytotal'][...] 
vhxc_abdmc = vxc_abdmc + vh_abdmc
plt.plot(etot_abdmc, marker='o', label="etot")
# plt.plot(ii_abdmc, marker='o', label="ii")
plt.plot(ee_abdmc, marker='o', label="ee")
plt.plot(ei_abdmc, marker='o', label="ei")
plt.plot(ke_abdmc, marker='o', label="ke")
# plt.plot(ka_abdmc, marker='o', label="ka")
# plt.plot(kb_abdmc, marker='o', label="kb")
plt.plot(vhxc_abdmc, marker='o', label="vhxc")
# plt.plot(ke_abdmc, marker='o', label="ke")

plt.legend()
plt.xlabel("ABDMC step")
plt.ylabel("Energy (Hartree)")
plt.grid()
plt.title('ABDMC')
for e in [etot_abdmc, ee_abdmc, vh_abdmc, vxc_abdmc, ecorr_abdmc, ei_abdmc, ii_abdmc, ke_abdmc]:
    e_m = np.mean(e[discard:])
    e_d = np.var(e[discard:])
    nn = namestr(e, globals())
    name = nn[0] if nn[0] != 'e' else nn[1]
    print("Mean ", name, ", ", e_m, "+/-", e_d)

# print("Mean VMC Energy, ", df.iloc[1].energy, "+/-", df.iloc[1].error)
print("LDA Energy, ", mf_lda.energy_tot())
# plt.plot(ed, marker='o', label="ke")




def namestr(obj, namespace):
    return [name for name in namespace if namespace[name] is obj]
import matplotlib.pyplot as plt
with h5py.File("abdmc.hdf5") as f:
    ee_abdmc = f['energyee'][...]   
    ei_abdmc = f['energyei'][...]
    vh_abdmc = f['energyvh'][...]   
    vxc_abdmc = f['energyvxc'][...]       
    # eid = f['energyeid'][...]    
    ii_abdmc = f['energyii'][...]    
    ke_abdmc = f['energyke'][...]
    ka_abdmc = f['energyka'][...]
    kb_abdmc = f['energykb'][...]   
    ecorr_abdmc = f['energycorr'][...]    
    etot_abdmc = f['energytotal'][...] 
vhxc_abdmc = vxc_abdmc + vh_abdmc
plt.plot(etot_abdmc, marker='o', label="etot")
# plt.plot(ii_abdmc, marker='o', label="ii")
plt.plot(ee_abdmc, marker='o', label="ee")
plt.plot(ei_abdmc, marker='o', label="ei")
plt.plot(ke_abdmc, marker='o', label="ke")
# plt.plot(ka_abdmc, marker='o', label="ka")
# plt.plot(kb_abdmc, marker='o', label="kb")
plt.plot(vhxc_abdmc, marker='o', label="vhxc")
# plt.plot(ke_abdmc, marker='o', label="ke")

plt.legend()
plt.xlabel("ABDMC step")
plt.ylabel("Energy (Hartree)")
plt.grid()
plt.title('ABDMC')
for e in [etot_abdmc, ee_abdmc, vh_abdmc, vxc_abdmc, ecorr_abdmc, ei_abdmc, ii_abdmc, ke_abdmc]:
    e_m = np.mean(e[discard:])
    e_d = np.var(e[discard:])
    nn = namestr(e, globals())
    name = nn[0] if nn[0] != 'e' else nn[1]
    print("Mean ", name, ", ", e_m, "+/-", e_d)

# print("Mean VMC Energy, ", df.iloc[1].energy, "+/-", df.iloc[1].error)
print("LDA Energy, ", mf_lda.energy_tot())
# plt.plot(ed, marker='o', label="ke")







import importlib, recipes, abdmc, wftools, bosonwf, determinant_tools, mc, dmc, slater, orbitals, accumulators, energy, jastrowspin, multiplywf
modules = [recipes, abdmc, wftools, bosonwf, determinant_tools, mc, dmc, slater, orbitals, accumulators, energy, jastrowspin, multiplywf] # Reloads recipes.py file after each update
for m in modules:
    importlib.reload(m)
# Jastrow optimization
for fname in ['dmc.hdf5']:
    if os.path.isfile(fname):
        os.remove(fname)
from recipes import ABDMC, DMC, ABVMC, VMC
import recipes
recipes.DMC("scf.hdf5", "dmc.hdf5",  load_parameters="sj.hdf5", 
    accumulators = {"energy": True}, verbose=False, 
    nsteps =nsteps, tstep= tstep, nconfig=nconfig, vmc_warmup=10)



def namestr(obj, namespace):
    return [name for name in namespace if namespace[name] is obj]
import matplotlib.pyplot as plt
with h5py.File("dmc.hdf5") as f:
    etot_dmc = f['energytotal'][...]   
    ee_dmc = f['energyee'][...]   
    ei_dmc = f['energyei'][...]
    ke_dmc = f['energyke'][...]
plt.plot(etot_dmc, marker='o', label="etot")
plt.plot(ee_dmc, marker='o', label="ee")
plt.plot(ei_dmc, marker='o', label="ei")
plt.plot(ke_dmc, marker='o', label="ke")

plt.legend()
plt.xlabel("DMC step")
plt.ylabel("Energy (Hartree)")
plt.grid()
plt.title('DMC')
for e in [etot_dmc, ee_dmc, ei_dmc,ke_dmc]:
    e_m = np.mean(e[discard:])
    e_d = np.var(e[discard:])
    nn = namestr(e, globals())
    name = nn[0] if nn[0] != 'e' else nn[1]
    print("Mean ", name, ", ", e_m, "+/-", e_d)

# print("Mean VMC Energy, ", df.iloc[1].energy, "+/-", df.iloc[1].error)
print("LDA Energy, ", mf_lda.energy_tot())
# plt.plot(ed, marker='o', label="ke")




etot_dmc.shape


#Compare ABDMC and DMC
plt.plot(etot_dmc, marker='o', color='r', label="etot_dmc")
plt.plot(etot_abdmc, marker='o', color='b', label="etot_abdmc")
plt.legend()
plt.xlabel("DMC step")
plt.ylabel("Energy (Hartree)")
plt.grid()

plt.axvline(discard, linestyle='dashed')
plt.axhline(np.mean(etot_dmc[discard:]), color='r')
plt.axhline(np.mean(etot_abdmc[discard:]), color='b')
plt.grid()
print(np.var(etot_dmc[discard:]),np.var(etot_abdmc[discard:]))










