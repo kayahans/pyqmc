import matplotlib.pyplot as plt
import numpy as np
import copy
import h5py
import os
import seaborn as sns
import pyqmc.api as pyq
from pyscf.scf.uhf import det_ovlp
import matplotlib.pyplot as plt


# Wavefunction generation
from pyscf import lib, gto, scf
from pyscf import gto, mp, mcscf
def H2_casci(scf_checkfile, ci_checkfile):
    mol = gto.M(
        atom="H 0. 0. 0.0; H 0. 0. 1.4",
        basis=f"ccecpccpvdz",
        unit="bohr",
        charge=0,
        spin=0,
        verbose=1,
    )
    mf = scf.UHF(mol).run()
    mf.chkfile = scf_checkfile
    mf.kernel()
    mc = mcscf.CASCI(mf, 3,2)
    mc.fcisolver.nroots = 2
    mc.kernel()
    print(mc.__dict__.keys())
    with h5py.File(ci_checkfile, "a") as f:
        f.create_group("ci")
        f["ci/ncas"] = mc.ncas
        f["ci/nelecas"] = list(mc.nelecas)
        f["ci/ci"] = mc.ci
        f["ci/mo_coeff"] = mc.mo_coeff    
    return mol, mf, mc
    
def HF_casci(scf_checkfile, ci_checkfile):
    mol = gto.M(
        atom="H 0. 0. 0.0; F 0. 0. 0.8",
        basis=f"ccecpccpvdz",
        unit="bohr",
        charge=0,
        spin=0,
        verbose=1,
    )
    mf = scf.UHF(mol).run()
    mf.chkfile = scf_checkfile
    mf.kernel()
    mc = mcscf.CASCI(mf, 6,2)
    # mc.fcisolver.nroots = 4
    mc.kernel()
    print(mc.__dict__.keys())
    with h5py.File(ci_checkfile, "a") as f:
        f.create_group("ci")
        f["ci/ncas"] = mc.ncas
        f["ci/nelecas"] = list(mc.nelecas)
        f["ci/ci"] = mc.ci
        f["ci/mo_coeff"] = mc.mo_coeff    
    return mol, mf, mc


scf_checkfile = 'rohf.chk'
ci_checkfile = 'casci.chk'
for fname in [scf_checkfile, ci_checkfile]:
    if os.path.isfile(fname):
        os.remove(fname)
mol, mf, mcc = H2_casci(scf_checkfile, ci_checkfile)
# mol, mf, mcc = HF_casci(scf_checkfile, ci_checkfile)


mcc.e_tot


mc1 = copy.copy(mcc)
mc2 = copy.copy(mcc)


mcc.ci


mc1.ci = mcc.ci[0] * 0 
mc1.ci[0,0] = 1

mc2.ci = mcc.ci[0] * 0 
mc2.ci[1,1] = 1


mc1.ci


# mc1.ci = mcc.ci[0]
# mc2.ci = (mcc.ci[0] + mcc.ci[1]) / np.sqrt(2)


mc1.ci


wf1, _ = pyq.generate_slater(mol, mf, mc=mc1, optimize_determinants=True)
wf2, _ = pyq.generate_slater(mol, mf, mc=mc2, optimize_determinants=True)


configs = pyq.initial_guess(mol, 2000)
_, configs = pyq.vmc(wf1, configs)


from sample_many import sample_overlap
from accumulators_multiwf import EnergyAccumulatorMultipleWF


energy = EnergyAccumulatorMultipleWF(pyq.EnergyAccumulator(mol))
data_weighted, data_unweighted, configs = sample_overlap(
        [wf1, wf2], configs, energy, nsteps=40, nblocks=20
    )


i = 0
j = 1
y = data_unweighted['overlap'][:,i,j]
plt.plot(y)



