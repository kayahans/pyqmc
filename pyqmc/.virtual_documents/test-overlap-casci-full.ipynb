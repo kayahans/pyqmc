import matplotlib.pyplot as plt
import numpy as np
import copy
import h5py
import os
import seaborn as sns
from pyscf.scf.uhf import det_ovlp


# Wavefunction generation
from pyscf import lib, gto, scf
from pyscf import gto, mp, mcscf
def HF_casci(scf_checkfile, ci_checkfile):
    mol = gto.M(
        atom="H 0. 0. 0.0; F 0. 0. 0.8",
        basis=f"ccecpccpvdz",
        unit="bohr",
        charge=0,
        spin=0,
        verbose=1,
    )
    mf = scf.UHF(mol).run()
    mf.chkfile = scf_checkfile
    mf.kernel()
    mc = mcscf.CASCI(mf, 3,2)
    # mc.fcisolver.nroots = 4
    mc.kernel()
    print(mc.__dict__.keys())
    with h5py.File(ci_checkfile, "a") as f:
        f.create_group("ci")
        f["ci/ncas"] = mc.ncas
        f["ci/nelecas"] = list(mc.nelecas)
        f["ci/ci"] = mc.ci
        f["ci/mo_coeff"] = mc.mo_coeff    
    return mol, mf, mc





# Wavefunction generation
from pyscf import lib, gto, scf
from pyscf import gto, mp, mcscf
def H2_casci(scf_checkfile, ci_checkfile):
    mol = gto.M(
        atom="H 0. 0. 0.0; H 0. 0. 1.4",
        basis=f"ccecpccpvqz",
        unit="bohr",
        charge=0,
        spin=0,
        verbose=1,
    )
    mf = scf.UHF(mol).run()
    mf.chkfile = scf_checkfile
    mf.kernel()
    mc = mcscf.CASCI(mf, 3,2)
    # mc.fcisolver.nroots = 4
    mc.kernel()
    print(mc.__dict__.keys())
    with h5py.File(ci_checkfile, "a") as f:
        f.create_group("ci")
        f["ci/ncas"] = mc.ncas
        f["ci/nelecas"] = list(mc.nelecas)
        f["ci/ci"] = mc.ci
        f["ci/mo_coeff"] = mc.mo_coeff    
    return mol, mf, mc





scf_checkfile = 'rohf.chk'
ci_checkfile = 'casci.chk'
for fname in [scf_checkfile, ci_checkfile]:
    if os.path.isfile(fname):
        os.remove(fname)
mol, mf, mcc = H2_casci(scf_checkfile, ci_checkfile)
# mol, mf, mcc = HF_casci(scf_checkfile, ci_checkfile)


# Orthogonality test


# FC = SCE Roothaan equation
C = mf.mo_coeff
Ca = C[0]
# C.T @ C
s0 = np.einsum('ij, jk->ik', Ca.T, Ca)
sns.heatmap(s0)


# C.T @ S @ C
s1 = np.einsum('ij, jk, kl->il', Ca.T, mf.get_ovlp(), Ca)
sns.heatmap(s1)
# Orthogonal in the overlap metric (get_ovlp)





import bosonslater 
import pyscftools, mc
wf1 = bosonslater.BosonWF(mol, mf, mc=mcc)

nconfig = 1000
mol, mf = pyscftools.recover_pyscf(scf_checkfile)
configs = mc.initial_guess(mol, nconfig)
# wf.parameters['det_coeff'] = np.ones(len(wf.parameters['det_coeff']))
signb, phib = wf1.recompute(configs)
num_ao = wf1._aovals.shape[-1]
print(num_ao)


det_dim_up = wf1._dets[0][1].shape[-1]
det_dim = det_dim_up
print(det_dim_up, ' up determinants')


det_dim_dn = wf1._dets[1][1].shape[-1]
print(det_dim_dn, ' down determinants')
print(det_dim_up * det_dim_dn, ' total number of determinants')



mcc_mo_coeff=copy.deepcopy(mf.mo_coeff)





n = np.array(wf1._det_occup)
print(n.shape)
occ_arr_shape = (n.shape[0], n.shape[1], num_ao)
occ_arr = np.zeros(occ_arr_shape)
for i in range(n.shape[0]):
    for j in range(n.shape[1]):
        occ_arr[i,j][n[i,j]]=1


occ_arr.shape


ovlp_mat = np.zeros((det_dim, det_dim))
for i1 in range(det_dim):
    for i2 in range(det_dim):
        det1_occ = np.array([occ_arr[0, i1], occ_arr[1, i1]])
        det2_occ = np.array([occ_arr[0, i2], occ_arr[1, i2]])
        # print(det1_occ, '\n\n', det2_occ, '\n===\n')
        ovlp, _ = det_ovlp(mcc_mo_coeff, mcc_mo_coeff, det1_occ, det2_occ, mf.get_ovlp())
        ovlp_mat[i1, i2] = ovlp


sns.heatmap(np.round(ovlp_mat,5), annot=True, linewidths=.5)





import bosonslater 
import pyscftools, mc
wf1 = bosonslater.BosonWF(mol, mf, mc=mcc)

nconfig = 1000
mol, mf = pyscftools.recover_pyscf(scf_checkfile)
configs = mc.initial_guess(mol, nconfig)
# wf.parameters['det_coeff'] = np.ones(len(wf.parameters['det_coeff']))
signb, phib = wf1.recompute(configs)
num_ao = wf1._aovals.shape[-1]
print(num_ao)


wf1._aovals.shape


det_dim_up = wf1._dets[0][1].shape[-1]
print(det_dim_up, ' up determinants')


det_dim_dn = wf1._dets[1][1].shape[-1]
print(det_dim_dn, ' down determinants')
det_dim = det_dim_up * det_dim_dn
print(det_dim, ' total number of determinants')


occ_arr = np.zeros((2,det_dim, 60))
for i in range(det_dim):
    up_i = wf1._det_map[0,i]
    dn_i = wf1._det_map[1,i]
    occ_arr[0, i][wf1._det_occup[0][up_i]] = 1
    occ_arr[1, i][wf1._det_occup[1][dn_i]] = 1
occ_arr.shape    


ovlp_mat = np.zeros((det_dim, det_dim))
mf_ovlp = mf.get_ovlp()
# mf_ovlp = np.eye(mf_ovlp.shape[0])
for i1 in range(det_dim):
    for i2 in range(det_dim):
        det1_occ = occ_arr[:, i1, :]
        det2_occ = occ_arr[:, i2, :]
        # print(det1_occ, '\n\n', det2_occ, '\n===\n')
        ovlp, _ = det_ovlp(mcc_mo_coeff, mcc_mo_coeff, det1_occ, det2_occ, mf_ovlp)
        ovlp_mat[i1, i2] = ovlp


sns.heatmap(np.round(ovlp_mat,5), annot=True, linewidths=.5)











import bosonslater 
import pyscftools, mc
wf1 = bosonslater.BosonWF(mol, mf, mc=mcc)

nconfig = 1000
mol, mf = pyscftools.recover_pyscf(scf_checkfile)
configs = mc.initial_guess(mol, nconfig)
signb, phib = wf1.recompute(configs)
sign, logval = wf1.value()
val = np.exp(logval)
rho = val**2 
rho.shape


wf1.parameters['det_coeff']
wf1._det_map


# import slater 
# import pyscftools, mc
# wfs = slater.Slater(mol, mf, mc=mcc)

# nconfig = 1000
# mol, mf = pyscftools.recover_pyscf(scf_checkfile)
# configs = mc.initial_guess(mol, nconfig)
# signb, phib = wfs.recompute(configs)
# sign, logval = wfs.value()
# val = np.exp(logval)
# rho_s = val**2 
# rho_s.shape


# wfs.parameters['det_coeff']
# wfs._det_map


# rho


updet_sign, updet_val = wf1._dets[0]
dndet_sign, dndet_val = wf1._dets[1]


nup_i = np.einsum('ni, ni->ni', updet_sign, np.exp(updet_val)) # ui
nup_ij = np.einsum('ni, nj->nij', nup_i, nup_i) # ui
nup_i.shape


nup_i.shape


mf.get_ovlp().shape


nup = np.einsum('ni, ni, nj, nj->nij', updet_sign, np.exp(updet_val), updet_sign, np.exp(updet_val)) # ui * uj
ndn = np.einsum('ni, ni, nj, nj->nij', dndet_sign, np.exp(dndet_val), dndet_sign, np.exp(dndet_val)) # di * dj 
psi_i = np.einsum('ni, ni, ni, ni->ni', updet_sign, np.exp(updet_val), dndet_sign, np.exp(dndet_val)) # ui * di 
nup.shape


ovlp_ij = np.einsum('nij, nij, n ->ij', nup, ndn, 1./rho) # w(R) * (ui * uj) * (di * dj), w = 1 / rho
print(ovlp_ij.shape)
sns.heatmap(ovlp_ij, annot=True)


norm_i = np.einsum('ni, ni, n ->i', psi_i, psi_i, 1./rho) # ni = < psi_i * psi_i / rho > 
norm_ij = np.sqrt(np.einsum('i, j ->ij', norm_i, norm_i)) # sqrt(ni * nj)
print(norm_ij.shape)
norm_ij


mat = ovlp_ij/norm_ij
sns.heatmap(mat, annot=True)





import bosonslater 
import pyscftools, mc
wf1 = bosonslater.BosonWF(mol, mf, mc=mcc)

nconfig = 1000
mol, mf = pyscftools.recover_pyscf(scf_checkfile)
configs = mc.initial_guess(mol, nconfig)
signb, phib = wf1.recompute(configs)
sign, logval = wf1.value()
val = np.exp(logval)
rho = val**2 
rho.shape


wf1._det_occup[0]


i = 0
j = 2
print((wf1._det_map[0][i], wf1._det_map[1][i]), (wf1._det_map[0][j], wf1._det_map[1][j]))


i = 0
j = 6
print((wf1._det_map[0][i], wf1._det_map[1][i]), (wf1._det_map[0][j], wf1._det_map[1][j]))


i = 1
j = 7
print((wf1._det_map[0][i], wf1._det_map[1][i]), (wf1._det_map[0][j], wf1._det_map[1][j]))


i = 3
j = 5
print((wf1._det_map[0][i], wf1._det_map[1][i]), (wf1._det_map[0][j], wf1._det_map[1][j]))


wf1._det_occup


updet_sign, updet_val = wf1._dets[0][:, :, wf1._det_map[0]]
dndet_sign, dndet_val = wf1._dets[1][:, :, wf1._det_map[1]]


nup = np.einsum('ni, ni, nj, nj->nij', updet_sign, np.exp(updet_val), updet_sign, np.exp(updet_val)) # ui * uj
ndn = np.einsum('ni, ni, nj, nj->nij', dndet_sign, np.exp(dndet_val), dndet_sign, np.exp(dndet_val)) # di * dj 
psi_i = np.einsum('ni, ni, ni, ni->ni', updet_sign, np.exp(updet_val), dndet_sign, np.exp(dndet_val)) # ui * di 
nup.shape






ovlp_ij = np.einsum('nij, nij, n ->ij', nup, ndn, 1./rho) # w(R) * (ui * uj) * (di * dj), w = 1 / rho
print(ovlp_ij.shape)
sns.heatmap(ovlp_ij, annot=True)


norm_i = np.einsum('ni, ni, n ->i', psi_i, psi_i, 1./rho) # ni = < psi_i * psi_i / rho > 
norm_ij = np.sqrt(np.einsum('i, j ->ij', norm_i, norm_i)) # sqrt(ni * nj)
print(norm_ij.shape)
norm_ij


mat = ovlp_ij/norm_ij
sns.heatmap(mat, annot=True)








import bosonslater 
import pyscftools, mc
boson_wf = bosonslater.BosonWF(mol, mf, mc=mcc)

nconfig = 1000
mol, mf = pyscftools.recover_pyscf(scf_checkfile)
configs = mc.initial_guess(mol, nconfig)
signb, phib = boson_wf.recompute(configs)
sign, logval = boson_wf.value()
val = np.exp(logval)
rho = val**2 
rho.shape


updet_sign, updet_val = boson_wf._dets[0][:, :, boson_wf._det_map[0]]
dndet_sign, dndet_val = boson_wf._dets[1][:, :, boson_wf._det_map[1]]

det_dim_up = boson_wf._dets[0][1].shape[-1]
det_dim_dn = boson_wf._dets[1][1].shape[-1]
det_dim = det_dim_up * det_dim_dn

occ_arr_shape = (2, det_dim, num_ao)
occ_arr = np.zeros(occ_arr_shape)
for i in range(det_dim):
    up_i = boson_wf._det_map[0,i]
    dn_i = boson_wf._det_map[1,i]
    occ_arr[0, i][boson_wf._det_occup[0][up_i]] = 1
    occ_arr[1, i][boson_wf._det_occup[1][dn_i]] = 1




nup_i = np.einsum('ni, ni->ni', updet_sign, np.exp(updet_val)) # ui
ndn_i = np.einsum('ni, ni->ni', dndet_sign, np.exp(dndet_val)) # uj


mf_ovlp = mf.get_ovlp()
ovlp = np.einsum('io, op, jp->ij',occ_arr[0], mf_ovlp, occ_arr[0])



nup_ij = np.einsum('ni, ij, nj->nij', nup_i, ovlp, nup_i) # ui * uj
ndn_ij = np.einsum('ni, ij, nj->nij', ndn_i, ovlp, ndn_i) # ui * uj

ovlp_ij = np.einsum('nij, nij, n ->ij', nup_ij, ndn_ij, 1./rho) # w(R) * (ui * uj) * (di * dj), w = 1 / rho
# ovlp_ij_avg = np.average(ovlp_ij, axis=0)

psi_i = np.einsum('ni, ni, ni, ni->ni', updet_sign, np.exp(updet_val), dndet_sign, np.exp(dndet_val)) # ui * di 
norm_i = np.einsum('ni, ni, n ->i', psi_i, psi_i, 1./rho)
norm_ij = np.sqrt(np.einsum('i, j ->ij', norm_i, norm_i)) # sqrt(ni * nj)



mat = ovlp_ij/norm_ij
sns.heatmap(mat, annot=True)




















import h5py 
import numpy as np
import matplotlib.pyplot as plt
f = h5py.File("abvmc.hdf5", "r")


f.keys()





import seaborn as sns

ovlp_ij=np.array(f['excitationsovlp_ij'])
delta_ij=np.array(f['excitationsdelta'])
# p_ovlp_ij=f['excitationsovlp_ij']
# p_psi_ij=f['excitationspsi_ij']
# print(nom.shape)
# nom_avg = np.average(nom, axis=0)
# sns.heatmap(nom_avg,  linewidths=.5)





discard = 0
nom_ij = np.average(ovlp_ij[discard:], axis=0)
sns.heatmap(nom_ij, annot=True)
plt.figure()
i = 8
j = 8
plt.plot(ovlp_ij[discard:,i, j], '-ok')


ovlp_ij_std = np.std(ovlp_ij[discard:], axis=0)
sns.heatmap(ovlp_ij_std, annot=True)


import copy
nom_new_s = copy.deepcopy(nom_ij)
nom_new_s[ovlp_ij_std>np.abs(nom_ij)] = 0
sns.heatmap(nom_new_s,  linewidths=.5, annot=True)


discard = 1
nom_ij = np.average(delta_ij[discard:], axis=0)
sns.heatmap(nom_ij, annot=True)
plt.figure()
i = 8
j = 8
plt.plot(delta_ij[discard:,i, j], '-ok')


delta_ij_std = np.std(delta_ij[discard:], axis=0)
sns.heatmap(delta_ij_std) #, annot=True)


import copy
nom_new = copy.deepcopy(nom_ij)
nom_new[delta_ij_std>np.abs(nom_ij)] = 0
sns.heatmap(nom_new,  linewidths=.5, annot=True)


sns.heatmap(nom_new_s,  linewidths=.5, annot=True)





import pyqmc.api as pyq



mcc.ci


configs = pyq.initial_guess(mol, 2000)
_, configs = pyq.vmc(wf1, configs)


wfs = []
num_det = mcc.ci.shape[0] * mcc.ci.shape[1]
for i in range(mcc.ci.shape[0]):
    for j in range(mcc.ci.shape[1]):
        mc0 = copy.copy(mcc)
        mc0.ci = mcc.ci * 0
        mc0.ci[i, j] = 1
        wf0, _ = generate_slater(mol, mf, mc=mc0, optimize_determinants=False)
        self.wfs.append(wf0)


from sample_many import sample_overlap
from accumulators_multiwf import EnergyAccumulatorMultipleWF


energy = EnergyAccumulatorMultipleWF(pyq.EnergyAccumulator(mol))
data_weighted, data_unweighted, configs = sample_overlap(
        wfs, configs, energy, nsteps=40, nblocks=20
)


y = data_unweighted['overlap']


wfs[1]._det_occup


# energy = EnergyAccumulatorMultipleWF(pyq.EnergyAccumulator(mol))
# with concurrent.futures.ProcessPoolExecutor(max_workers=ncore) as client:
#     data_weighted, data_unweighted, configs = sample_overlap(
#             wfs, configs, energy, nsteps=40, nblocks=20, client=client
#     )    


discard = 10


plt.plot(y[:,0,0])


y_avg = np.average(y[discard:], axis=0)
sns.heatmap(y_avg, annot=True)


y_std = np.std(y[discard:], axis=0)
sns.heatmap(y_std, annot=True)


import copy
nom_new = copy.deepcopy(y_avg)
nom_new[y_avg>np.abs(y_avg)] = 0
sns.heatmap(nom_new,  linewidths=.5)



