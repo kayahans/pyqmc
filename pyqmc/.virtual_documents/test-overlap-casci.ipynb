import matplotlib.pyplot as plt
import numpy as np
import copy
import h5py
import os


# Wavefunction generation
from pyscf import lib, gto, scf
from pyscf import gto, mp, mcscf
def H2_casci(scf_checkfile, ci_checkfile):
    mol = gto.M(
        atom="H 0. 0. 0.0; H 0. 0. 1.4",
        basis=f"ccecpccpvdz",
        unit="bohr",
        charge=0,
        spin=0,
        verbose=1,
    )
    mf = scf.ROHF(mol).run()
    mf.chkfile = scf_checkfile
    mf.kernel()
    mc = mcscf.CASCI(mf, 6, 2)
    mc.fcisolver.nroots = 4
    mc.kernel()
    print(mc.__dict__.keys())
    with h5py.File(ci_checkfile, "a") as f:
        f.create_group("ci")
        f["ci/ncas"] = mc.ncas
        f["ci/nelecas"] = list(mc.nelecas)
        f["ci/ci"] = mc.ci
        f["ci/mo_coeff"] = mc.mo_coeff    
    return mol, mf, mc


scf_checkfile = 'rohf.chk'
ci_checkfile = 'casci.chk'
for fname in [scf_checkfile, ci_checkfile]:
    if os.path.isfile(fname):
        os.remove(fname)
mol, mf, mc = H2_casci(scf_checkfile, ci_checkfile)





nstates = 3
mcs = [copy.copy(mc) for i in range(nstates)]
for i in range(nstates):
        mcs[i].ci = mc.ci[i]


# Multi determinant boson new gradient
import importlib, bosonrecipes, bosonslater, bosonwftools
modules = [importlib, bosonrecipes, bosonslater, bosonwftools]
for m in modules:
    importlib.reload(m)

import importlib, slater, pyscftools,recipes, wftools, mc, slater, determinant_tools
modules = [importlib, slater, pyscftools,recipes, wftools, mc, slater, determinant_tools]
for m in modules:
    importlib.reload(m)


# import pyqmc.pyscftools as pyscftools

nconfig = 323
multi = True
if multi:
    mol, mf, mcc = pyscftools.recover_pyscf(scf_checkfile, ci_checkfile = ci_checkfile)
    target_root = 0
    if not hasattr(mcc.ci, "shape") or len(mcc.ci.shape) == 3:
        mcc.ci = mcc.ci[target_root]
else:
    mol, mf = pyscftools.recover_pyscf(scf_checkfile)
    mcc = None

wf = slater.Slater(mol, mf, mc=mcc)


wf._det_map


nconfig = 1000
mol, mf = pyscftools.recover_pyscf(scf_checkfile)
configs = mc.initial_guess(mol, nconfig)
wf.parameters['det_coeff'] = np.ones(len(wf.parameters['det_coeff']))
signb, phib = wf.recompute(configs)
phib.shape


wf.parameters["det_coeff"]


updets = wf._dets[0][:, :, wf._det_map[0]]
dndets = wf._dets[1][:, :, wf._det_map[1]]
updets.shape


import pyqmc.gpu as gpu
upref = gpu.cp.amax(updets[1]).real
dnref = gpu.cp.amax(dndets[1]).real
phases = updets[0] * dndets[0]
logvals = updets[1] - upref + dndets[1] - dnref
phases = updets[0] * dndets[0]
wf_vals = phases * gpu.cp.exp(logvals)
    
wf_val = gpu.cp.einsum("id->i", phases * gpu.cp.exp(logvals)) # no def coeff
wf_sign = np.nan_to_num(wf_val / gpu.cp.abs(wf_val))
wf_logval = np.nan_to_num(gpu.cp.log(gpu.cp.abs(wf_val)) + upref + dnref)


wf_val.shape


ref = np.max(wf_vals, axis=0)
denominator = np.sum(np.exp(2 * (wf_vals - ref)), axis=0)
normalized_values = phases * np.exp(wf_vals - ref)


np.einsum(  # shape (wf, wf)
        "ik,jk->ij", normalized_values.conj(), normalized_values / denominator
    ) / len(ref)


weight = np.exp(-2 * (wf_vals[:, np.newaxis] - wf_vals))
weight = 1.0 / np.sum(weight, axis=1)


weight.shape


psi_i = np.einsum('ni, ni, ni, ni->ni', updets[0], np.exp(updets[1]), dndets[0], np.exp(dndets[1]))
rho = np.sum(psi_i**2, axis=1)
rho.shape


nup = np.einsum('ni, ni, nj, nj->nij', updets[0], np.exp(updets[1]), updets[0], np.exp(updets[1]))
ndn = np.einsum('ni, ni, nj, nj->nij', dndets[0], np.exp(dndets[1]), dndets[0], np.exp(dndets[1]))

psi_i = np.einsum('ni, ni, ni, ni->ni', updets[0], np.exp(updets[1]), dndets[0], np.exp(dndets[1]))
rho = np.sum(psi_i**2, axis=1)

ovlp_ij  = nup * ndn 
nom = np.einsum('nij, n->ij', ovlp_ij, rho)

d1 = np.einsum('ni, ni, n->i', psi_i, psi_i, rho)
d  = np.sqrt(np.einsum('i, j->ij', d1, d1))

ovlp = nom/d
import seaborn as sns
sns.heatmap(ovlp,  linewidths=.5)



































a = np.einsum('ni, nj->nij', psi_i, psi_i)
a.shape


import seaborn as sns
sns.heatmap(np.mean(nom, axis=0),  linewidths=.5)


psi_i = np.einsum('ni, ni, ni, ni->ni', np.exp(updets[1]), np.exp(dndets[1]), np.exp(updets[1]), np.exp(dndets[1]))
psi_i.shape


rho = np.sum(psi_i, axis=1)



psi_ij = np.einsum('ni, nj->nij', psi_i, psi_i)
psi_ij.shape


import seaborn as sns
sns.heatmap(np.mean(psi_ij, axis=0),  linewidths=.5)


div = np.mean(np.einsum('nij, n->nij', psi_ij, rho), axis=0)
div.shape


tr = np.diag(div)


denom = np.sqrt(np.einsum('i,j->ij', tr, tr))
denom.shape


s = div/denom


import seaborn as sns
sns.heatmap(s,  linewidths=.5)


s





nsum = np.sum(nii*nii, axis=1)


nii = np.einsum('ni, ni, ni, ni->ni', nii, nsum)








up_zero = wf._dets[0][:, :, [0]]
up_one = wf._dets[0][:, :, [1]]

dn_zero = wf._dets[1][:, :, [0]]
dn_one = wf._dets[1][:, :, [1]]

v = determinant_tools.compute_value(
            up_zero, up_zero, [1]
        )
phi_B = np.exp(phib)
# phi_B = np.ones(100000)
# val = v[0] * np.exp(v[1])/phi_val
np.average(val)


up_zero.shape


updets = wf._dets[0][:, :, wf._det_map[0]]
dndets = wf._dets[1][:, :, wf._det_map[1]]


# phi_val.shape


import matplotlib.pyplot as plt
nup = np.einsum('ni, ni, nj, nj, n->nij', updets[0], np.exp(updets[1]), updets[0], np.exp(updets[1]), phi_B)
ndn = np.einsum('ni, ni, nj, nj, n->nij', dndets[0], np.exp(dndets[1]), dndets[0], np.exp(dndets[1]), phi_B)
nb = np.sum(phi_B*phi_B, axis=0)
s = np.average(nup*ndn/nb, axis=0)
import seaborn as sns
sns.heatmap(s,  linewidths=.5)


np.sum(phi_B**2/nb)


dt1 = wf._dets[0][:, :, [0]]
dt2 = wf._dets[0][:, :, [1]]
sign, val = determinant_tools.compute_value(
            dt1, dt1, [1]
        )
valr = np.exp(val)
np.sum(sign*valr)





wf._det_map[0]


wf._det_map[1]


nconfig = 100
mol, mf = pyscftools.recover_pyscf(scf_checkfile)
configs = mc.initial_guess(mol, nconfig)
signb, phib = wfb.recompute(configs)
signs, phis = wfs.recompute(configs)


# Difference in values
plt.plot(phib-phis)


e=0
gradb, _, _ = wfb.gradient_value(e, configs.electron(e))
grads, _, _ = wfs.gradient_value(e, configs.electron(e))


# Differnce in gradients
plt.plot(gradb.flatten())
plt.plot(gradb.flatten()-grads.flatten())


gradbr, _ = wfb.gradient_value_real(e, configs.electron(e))
gradbl, _, _ = wfb.gradient_value_log(e, configs.electron(e))


# check between the real and log gradients
idx = 0
plt.plot(gradbl[idx])
plt.plot(gradbl[idx]-gradbr[idx]/np.exp(phib))


import h5py 
f = h5py.File("abvmc.hdf5", "r")


f.keys()


import seaborn as sns

nom=f['excitationsovlp_nom']
print(nom.shape)
nom_avg = np.average(nom, axis=0)
sns.heatmap(nom_avg,  linewidths=.5)


d1=f['excitationsovlp_d1']
print(d1.shape)

d1_avg = np.average(d1, axis=0)
denom = np.einsum('i, j->ij', d1_avg, d1_avg)
denom_avg = np.sqrt(denom)
res = nom_avg/denom_avg
sns.heatmap(res,  linewidths=.5)



denom.shape












