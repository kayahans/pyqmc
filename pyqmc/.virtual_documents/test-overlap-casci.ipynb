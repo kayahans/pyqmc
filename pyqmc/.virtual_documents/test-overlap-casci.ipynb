import matplotlib.pyplot as plt
import numpy as np
import copy
import h5py


# Wavefunction generation
from pyscf import lib, gto, scf
from pyscf import gto, mp, mcscf
def H2_casci(scf_checkfile, ci_checkfile):
    mol = gto.M(
        atom="H 0. 0. 0.0; H 0. 0. 1.4",
        basis=f"ccpvtz",
        unit="bohr",
        charge=0,
        spin=0,
        verbose=1,
    )
    mf = scf.ROHF(mol).run()
    mf.chkfile = scf_checkfile
    mf.kernel()
    mc = mcscf.CASCI(mf, 2, 2)
    mc.fcisolver.nroots = 4
    mc.kernel()
    print(mc.__dict__.keys())
    with h5py.File(ci_checkfile, "a") as f:
        f.create_group("ci")
        f["ci/ncas"] = mc.ncas
        f["ci/nelecas"] = list(mc.nelecas)
        f["ci/ci"] = mc.ci
        f["ci/mo_coeff"] = mc.mo_coeff    
    return mol, mf, mc


scf_checkfile = 'rohf.chk'
ci_checkfile = 'casci.chk'
mol, mf, mc = H2_casci(scf_checkfile, ci_checkfile)





nstates = 3
mcs = [copy.copy(mc) for i in range(nstates)]
for i in range(nstates):
        mcs[i].ci = mc.ci[i]


# Multi determinant boson new gradient
import importlib, bosonrecipes, bosonslater, bosonwftools
modules = [importlib, bosonrecipes, bosonslater, bosonwftools]
for m in modules:
    importlib.reload(m)

import importlib, slater, pyscftools,recipes, wftools, mc, slater, determinant_tools
modules = [importlib, slater, pyscftools,recipes, wftools, mc, slater, determinant_tools]
for m in modules:
    importlib.reload(m)


# import pyqmc.pyscftools as pyscftools

nconfig = 323
multi = True
if multi:
    mol, mf, mcc = pyscftools.recover_pyscf(scf_checkfile, ci_checkfile = ci_checkfile)
    target_root = 0
    if not hasattr(mcc.ci, "shape") or len(mcc.ci.shape) == 3:
        mcc.ci = mcc.ci[target_root]
else:
    mol, mf = pyscftools.recover_pyscf(scf_checkfile)
    mcc = None

wf = slater.Slater(mol, mf, mc=mcc)

# wfb, to_opt = bosonwftools.generate_boson_wf(
#         mol, mf, mc=mcc, jastrow=None, jastrow_kws=None, slater_kws=None
#         )

# wfs, to_opt = wftools.generate_wf(
#         mol, mf, mc=mcc, jastrow=None, jastrow_kws=None, slater_kws=None
#         )



wf._det_occup


wf._det_map





nconfig = 10000
mol, mf = pyscftools.recover_pyscf(scf_checkfile)
configs = mc.initial_guess(mol, nconfig)
signb, phib = wf.recompute(configs)
phib.shape


updet_sign, updet_val = wf._dets[0]
updet_val.shape


dndet_sign, dndet_val = wf._dets[1]
dndet_val.shape


wf._dets[0][:, :, 0]


up_zero = wf._dets[0][:, :, [0]]
up_one = wf._dets[0][:, :, [1]]

dn_zero = wf._dets[1][:, :, [0]]
dn_one = wf._dets[1][:, :, [1]]

v = determinant_tools.compute_value(
            up_zero, up_one, wf.parameters["det_coeff"]
        )
phi_val = signb * np.exp(phib)
val = v[0] * np.exp(v[1])/phi_val
np.sum(val)





np.sum(up_zero*up_one*dn_zero*dn_one)


np.sum(up_zero*up_zero*dn_zero*dn_one)


dt1 = wf._dets[0][:, :, [0]]
dt2 = wf._dets[0][:, :, [1]]
sign, val = determinant_tools.compute_value(
            dt1, dt1, [1]
        )
valr = np.exp(val)
np.sum(sign*valr)





wf._det_map[0]


wf._det_map[1]


nconfig = 100
mol, mf = pyscftools.recover_pyscf(scf_checkfile)
configs = mc.initial_guess(mol, nconfig)
signb, phib = wfb.recompute(configs)
signs, phis = wfs.recompute(configs)


# Difference in values
plt.plot(phib-phis)


e=0
gradb, _, _ = wfb.gradient_value(e, configs.electron(e))
grads, _, _ = wfs.gradient_value(e, configs.electron(e))


# Differnce in gradients
plt.plot(gradb.flatten())
plt.plot(gradb.flatten()-grads.flatten())


gradbr, _ = wfb.gradient_value_real(e, configs.electron(e))
gradbl, _, _ = wfb.gradient_value_log(e, configs.electron(e))


# check between the real and log gradients
idx = 0
plt.plot(gradbl[idx])
plt.plot(gradbl[idx]-gradbr[idx]/np.exp(phib))












