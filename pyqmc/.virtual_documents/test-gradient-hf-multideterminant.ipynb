# Wavefunction generation
from pyscf import mcscf, fci, lib 
from pyscf import gto, scf, tools, dft
import api as pyq 
import importlib
import os
import h5py
import pandas as pd
import pdb
import pyscf
import numpy as np
import pyqmc
import scipy
import matplotlib.pyplot as plt
from pyscf.scf.hf import dump_scf_summary
from concurrent.futures import ProcessPoolExecutor
from pyscf.scf.chkfile import dump_scf
print(pyq.__file__)
print(pyscf.__file__)


# H2 molecule
def run_scf(scf_checkfile):
    mol = gto.M(atom="H 0. 0. 0.;H 0. 0. 1.;", basis=f'ccecpccpvdz', unit='bohr')
    mf = scf.UHF(mol)
    mf.chkfile = scf_checkfile
    dm = mf.init_guess_by_atom()
    mf.kernel(dm)
    dump_scf(mf.mol, 'scf.hdf5', mf.energy_tot(), mf.mo_energy, mf.mo_coeff, mf.mo_occ)
    return mf

def run_lda_be(scf_checkfile):
    print("Be atom neutral LDA spin=2")
    mol = gto.M(atom="Be 0. 0. 0.", spin=2,basis=f'ccpvdz', unit='bohr')
    print("HF")
    mf = scf.UHF(mol)
    mf.kernel()
    print("LDA")        
    mf = dft.UKS(mol)
    # mf.verbose=6
    mf.chkfile = scf_checkfile
    dm = mf.init_guess_by_atom()
    mf.kernel(dm, xc='LDA')
    return mf

def run_lda_li(scf_checkfile):
    print("Li atom neutral LDA spin=1")
    mol = gto.M(atom="Li 0. 0. 0.",basis=f'ccpvtz', spin=1, unit='bohr')
    print("HF")
    mf = scf.UHF(mol)
    mf.kernel()
    print("LDA")    
    mf = dft.UKS(mol)
    # mf.verbose=6
    mf.chkfile = scf_checkfile
    dm = mf.init_guess_by_atom()
    mf.kernel(dm, xc='LDA')
    return mf

def run_lda_he(scf_checkfile):
    print("He atom neutral LDA spin=0")
    # mol = gto.M(atom="He 0. 0. 0.", basis="ccECP_cc-pVDZ", ecp="ccecp", unit='bohr')
    mol = gto.M(atom="He 0. 0. 0.", basis="ccpvdz", unit='bohr')    
    print("HF")
    mf = scf.UHF(mol)
    mf.kernel()
    print("LDA")    
    mf = dft.UKS(mol)
    # mf.verbose=6
    mf.chkfile = scf_checkfile
    dm = mf.init_guess_by_atom()
    mf.kernel(dm, xc='LDA')
    return mf

def run_lda_h2(scf_checkfile):
    mol = gto.M(atom="H 0. 0. 0.; H 0. 0. 2", spin = 2, basis=f'ccecpccpvdz', unit='bohr')
    mf = dft.UKS(mol)
    # mf.verbose=6
    mf.chkfile = scf_checkfile
    dm = mf.init_guess_by_atom()
    mf.xc='LDA, VWN'
    mf.kernel()    
    # mf.kernel(dm, xc='LDA,VWN')
    return mf

def run_lda(scf_checkfile):
    mol = gto.M(atom="H 0. 0. 0.", spin=1,basis=f'ccecpccpvdz', unit='bohr')
    mf = dft.UKS(mol)
    # mf.verbose=6
    mf.chkfile = scf_checkfile
    dm = mf.init_guess_by_atom()
    mf.kernel(dm, xc='LDA')
    return mf
    
def run_casscf(scf_checkfile, ci_checkfile):
    cell, mf = pyq.recover_pyscf(scf_checkfile, cancel_outputs=False)
    mc = mcscf.CASSCF(mf,2,2)
    mc.chkfile = ci_checkfile
    mc.kernel()
    with h5py.File(mc.chkfile, "a") as f:
        print("Available output from CASSCF:", f["mcscf"].keys())
        f["mcscf/nelecas"] = list(mc.nelecas)
        f["mcscf/ci"] = mc.ci
    return mc

def run_casci(scf_checkfile, ci_checkfile):
    cell, mf = pyq.recover_pyscf(scf_checkfile, cancel_outputs=False)
    # ncas: orbitals
    # nelecas: electrons
    ncas = 4
    nelecas = mf.nelec
    mc = mcscf.CASCI(mf, ncas, nelecas)
    mc.kernel()
    print(mc.__dict__.keys())
    with h5py.File(ci_checkfile, "a") as f:
        f.create_group("ci")
        f["ci/ncas"] = mc.ncas
        f["ci/nelecas"] = list(mc.nelecas)
        f["ci/ci"] = mc.ci
        f["ci/mo_coeff"] = mc.mo_coeff
        print("Available output from CASCI:", f["ci"].keys())
    return mc

def make_wf_object(scf_checkfile, ci_checkfile):
    mol, mf, mc = pyq.recover_pyscf(scf_checkfile, ci_checkfile=ci_checkfile)
    wf, _ = pyq.generate_wf(mol, mf, mc=mc)
    return wf

def stat_qmc(etot, filename):
    block_sizes = np.linspace(2,len(etot[discard:])//16, 10, dtype=int)
    reblocks = [len(etot)//s for s in block_sizes]

    plt.figure()
    df = pd.DataFrame([pyq.read_mc_output(filename, warmup=discard, reblock=reblock) for reblock in reblocks])
    df['block_size'] = block_sizes
    plt.plot("block_size",'energytotal_err',data=df, marker='o')
    plt.xlabel("Block size")
    plt.ylabel("Estimated uncertainty (Ha)")

def reblock(e, discard, reblock_size):
    e = e[discard:]
    vals = pyqmc.reblock.reblock(e,int(len(e)/reblock_size))
    # import pdb
    # pdb.set_trace()
    
    e_m  = np.mean(vals, axis=0)
    e_d  = scipy.stats.sem(vals, axis=0)    
    return e, e_m, e_d

for fname in ['scf.hdf5','ci.hdf5']:
    if os.path.isfile(fname):
        os.remove(fname)    
            
scf_checkfile = "scf.hdf5"
ci_checkfile = "ci.hdf5"
# mf = run_scf(scf_checkfile)
mf_lda = run_lda_h2(scf_checkfile)
mcc = run_casci(scf_checkfile, ci_checkfile)


# Multi determinant boson new gradient
import importlib, recipes, bosonrecipes, bosonslater, bosonaccumulators, bosonwftools, mc, bosonslater_wf_based
modules = [recipes, bosonrecipes, bosonrecipes, bosonslater, bosonaccumulators, bosonwftools, mc] # Reloads recipes.py file after each update
for m in modules:
    importlib.reload(m)
import pyqmc.pyscftools as pyscftools

nconfig = 323
multi = True
if multi:
    mol, mf, mcc = pyscftools.recover_pyscf(scf_checkfile, ci_checkfile = 'ci.hdf5')
    target_root = 0
    if not hasattr(mcc.ci, "shape") or len(mcc.ci.shape) == 3:
        mcc.ci = mcc.ci[target_root]
else:
    mol, mf = pyscftools.recover_pyscf(scf_checkfile)
    mcc = None
    
wf, to_opt = bosonwftools.generate_boson_wf(
        mol, mf, mc=mcc, jastrow = None, jastrow_kws=None, slater_kws=None
        )
wf    

wf2 = bosonslater_wf_based.BosonWF(mol, mf, mcc)





configs = mc.fixed_initial_guess(mol, nconfig)
configs.configs


configs = mc.fixed_initial_guess(mol, nconfig)
e=0
sign, val = wf.recompute(configs)
sign2, val2 = wf2.recompute(configs)
g1, _, _ = wf.gradient_value(e, configs.electron(e))
g2 = wf.gradient(e, configs.electron(e))
g3, _, _ = wf2.gradient_value(e, configs.electron(e))

_, psi1 = wf.value()

y1 = np.gradient(val)
y2 = g1
dx = configs.configs[1]-configs.configs[0]
dx = dx[dx!=0][0]
print(dx)

x = configs.configs[:,0][:,2]
h1 = (0,0, 0.0)
h2 = (2.0, 0.0)
e2pos = np.array2string(configs.configs[:,1][0])


plt.figure()
plt.plot(x,val, '-k', label='recompute')
plt.plot(x,val2, '-b', label='recompute2')

# plt.plot(x,val2, '-sb', label='from_grad')
# plt.plot(x,psi1, '-sr', label='from_val')
# plt.legend()
plt.xlabel('z-coordinate')
plt.ylabel(r'$\Psi_B(R)$')
plt.title('Multi determinant no jastrow $\Psi(R, R2) $, R2={}'.format(e2pos) )

plt.figure()
plt.plot(x,g2[2]-g1[2], '-ok', label='grad2-grad1')
plt.plot(x,g1[2], '-or', label='grad')
plt.plot(x,g3[2], '-ob', label='grad3')
plt.plot(x,y1/dx, '-b', label='num')
plt.xlabel('z-coordinate')
plt.ylabel(r'$\nabla\Psi_B(R)$')
plt.legend()
plt.title('Multi determinant no jastrow gradient $\Psi(R, R2) $, R2={}'.format(e2pos) )



# configs = mc.fixed_initial_guess(mol, nconfig)
# e=0
# sign, val = wf.recompute(configs)
# g1, _, _ = wf.gradient_value(e, configs.electron(e))

# _, psi1 = wf.value()

# y1 = np.gradient(val)
# y2 = g1
# dx = configs.configs[1]-configs.configs[0]
# dx = dx[dx!=0][0]
# print(dx)

# x = configs.configs[:,0][:,2]
# h1 = (0,0, 0.0)
# h2 = (2.0, 0.0)
# e2pos = np.array2string(configs.configs[:,1][0])


# plt.figure()
# plt.plot(x,val, '-k', label='recompute')
# # plt.plot(x,val2, '-sb', label='from_grad')
# # plt.plot(x,psi1, '-sr', label='from_val')
# # plt.legend()
# plt.xlabel('z-coordinate')
# plt.ylabel(r'$\Psi_B(R)$')
# plt.title('Multi determinant no jastrow $\Psi(R, R2) $, R2={}'.format(e2pos) )

# plt.figure()
# plt.plot(x,g1[2], '-or', label='grad')
# plt.plot(x,y1/dx, '-b', label='num')
# plt.xlabel('z-coordinate')
# plt.ylabel(r'$\nabla\Psi_B(R)$')
# plt.legend()
# plt.title('Multi determinant no jastrow gradient $\Psi(R, R2) $, R2={}'.format(e2pos) )



















