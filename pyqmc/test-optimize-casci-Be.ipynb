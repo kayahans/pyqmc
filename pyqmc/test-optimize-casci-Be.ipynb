{
 "cells": [
  {
   "cell_type": "code",
   "execution_count": 14,
   "id": "bcac56e6-5690-45d8-bf04-8278d8e9908d",
   "metadata": {
    "tags": []
   },
   "outputs": [],
   "source": [
    "import matplotlib.pyplot as plt\n",
    "import numpy as np\n",
    "import copy\n",
    "import h5py\n",
    "import os\n",
    "import seaborn as sns\n"
   ]
  },
  {
   "cell_type": "code",
   "execution_count": 15,
   "id": "6625c1e6-505e-4c73-bb02-071a75e92a71",
   "metadata": {
    "tags": []
   },
   "outputs": [
    {
     "name": "stdout",
     "output_type": "stream",
     "text": [
      "Be atom neutral LDA spin=0\n",
      "HF\n",
      "converged SCF energy = -14.5729681271986  <S^2> = 6.6613381e-16  2S+1 = 1\n",
      "LDA\n",
      "converged SCF energy = -14.4465058449002  <S^2> = 3.7747583e-15  2S+1 = 1\n",
      "CASCI nelecas up/down (2, 2)\n",
      "CASCI E = -14.5838197989191  E(CI) = -14.5838197989191  S^2 = 0.0000000\n",
      "Available output from CASCI: <KeysViewHDF5 ['ci', 'fci', 'mo_coeff', 'ncas', 'nelecas']>\n"
     ]
    }
   ],
   "source": [
    "from scf_runs import run_casci, run_lda_be\n",
    "scf_checkfile, opt_checkfile, mf_lda = run_lda_be()\n",
    "ci_checkfile, mc = run_casci(scf_checkfile, nroots=1, ncas =3, nelecas = (2,2))"
   ]
  },
  {
   "cell_type": "code",
   "execution_count": 16,
   "id": "7ac0e1fd-38b1-42a3-a1e2-c180a4d7ef29",
   "metadata": {},
   "outputs": [],
   "source": [
    "import bosonrecipes\n",
    "import importlib, bosonrecipes, linemin, bosonwftools, mc, bosonslater, bosonaccumulators, stochastic_reconfiguration\n",
    "modules = [importlib, bosonrecipes, linemin, bosonwftools, mc, bosonslater, bosonaccumulators, stochastic_reconfiguration]\n",
    "for m in modules:\n",
    "    importlib.reload(m)\n"
   ]
  },
  {
   "cell_type": "code",
   "execution_count": 17,
   "id": "e32d4e24-b3a5-4b9d-9757-7e918d36fb2a",
   "metadata": {},
   "outputs": [],
   "source": [
    "# abvmcopt_file = 'abvmc-j-opt-be.hdf5'\n",
    "# for fname in [abvmcopt_file]:\n",
    "#     if os.path.isfile(fname):\n",
    "#         os.remove(fname)\n",
    "# num_it = 40\n",
    "# bosonrecipes.ABOPTIMIZE(scf_checkfile, \n",
    "#                         abvmcopt_file, \n",
    "#                         ci_checkfile   = ci_checkfile,\n",
    "#                         max_iterations = num_it, \n",
    "#                         jastrow_kws    = {\"ion_cusp\":False, 'na':0},\n",
    "#                         verbose        = True,                            \n",
    "#                         nconfig        = 1000)  \n"
   ]
  },
  {
   "cell_type": "code",
   "execution_count": 18,
   "id": "976fc439-5c6a-476e-b531-424baff0a6e9",
   "metadata": {},
   "outputs": [
    {
     "name": "stdout",
     "output_type": "stream",
     "text": [
      "Warning: not using ECP and ion_cusp\n",
      "Using spherical guess\n",
      "starting warmup\n",
      "finished warmup\n",
      "----------vmc done\n",
      "Gradient norm:  1.2060380693199801\n",
      "Dot product between gradient and SR step:  0.78893886385957\n",
      "[ 0.09312619  0.09462315  0.25013974  0.25111786  0.3212172   0.32165813\n",
      "  0.23594928  0.23767848  0.0048993  -0.03319157  0.00882985 -0.00672263\n",
      " -0.08249049 -0.00388047 -0.0063255  -0.12036757 -0.00543988]\n",
      "descent en -13.419349709194615 0.005904207208597367\n",
      "energies from correlated sampling [-12.53448944 -12.8649407  -13.18286268 -13.45168386 -13.6239459 ]\n",
      "----------vmc done\n",
      "Gradient norm:  0.647847805443809\n",
      "Dot product between gradient and SR step:  0.8580071564625995\n"
     ]
    },
    {
     "name": "stderr",
     "output_type": "stream",
     "text": [
      "Process SpawnProcess-25:\n",
      "Traceback (most recent call last):\n",
      "  File \"/Users/ksu/Software/anaconda3/lib/python3.11/multiprocessing/process.py\", line 314, in _bootstrap\n",
      "    self.run()\n",
      "  File \"/Users/ksu/Software/anaconda3/lib/python3.11/multiprocessing/process.py\", line 108, in run\n",
      "    self._target(*self._args, **self._kwargs)\n",
      "  File \"/Users/ksu/Software/anaconda3/lib/python3.11/concurrent/futures/process.py\", line 249, in _process_worker\n",
      "    call_item = call_queue.get(block=True)\n",
      "                ^^^^^^^^^^^^^^^^^^^^^^^^^^\n",
      "  File \"/Users/ksu/Software/anaconda3/lib/python3.11/multiprocessing/queues.py\", line 103, in get\n",
      "    res = self._recv_bytes()\n",
      "          ^^^^^^^^^^^^^^^^^^\n",
      "  File \"/Users/ksu/Software/anaconda3/lib/python3.11/multiprocessing/connection.py\", line 216, in recv_bytes\n",
      "    buf = self._recv_bytes(maxlength)\n",
      "          ^^^^^^^^^^^^^^^^^^^^^^^^^^^\n",
      "  File \"/Users/ksu/Software/anaconda3/lib/python3.11/multiprocessing/connection.py\", line 430, in _recv_bytes\n",
      "    buf = self._recv(4)\n",
      "          ^^^^^^^^^^^^^\n",
      "  File \"/Users/ksu/Software/anaconda3/lib/python3.11/multiprocessing/connection.py\", line 395, in _recv\n",
      "    chunk = read(handle, remaining)\n",
      "            ^^^^^^^^^^^^^^^^^^^^^^^\n",
      "KeyboardInterrupt\n"
     ]
    },
    {
     "ename": "KeyboardInterrupt",
     "evalue": "",
     "output_type": "error",
     "traceback": [
      "\u001b[0;31m---------------------------------------------------------------------------\u001b[0m",
      "\u001b[0;31mKeyboardInterrupt\u001b[0m                         Traceback (most recent call last)",
      "Cell \u001b[0;32mIn[18], line 9\u001b[0m\n\u001b[1;32m      7\u001b[0m         os\u001b[38;5;241m.\u001b[39mremove(fname)\n\u001b[1;32m      8\u001b[0m \u001b[38;5;28;01mwith\u001b[39;00m concurrent\u001b[38;5;241m.\u001b[39mfutures\u001b[38;5;241m.\u001b[39mProcessPoolExecutor(max_workers\u001b[38;5;241m=\u001b[39mncore) \u001b[38;5;28;01mas\u001b[39;00m client:\n\u001b[0;32m----> 9\u001b[0m     bosonrecipes\u001b[38;5;241m.\u001b[39mABOPTIMIZE(scf_checkfile, \n\u001b[1;32m     10\u001b[0m                     abvmcopt_file, \n\u001b[1;32m     11\u001b[0m                     ci_checkfile \u001b[38;5;241m=\u001b[39m ci_checkfile,\n\u001b[1;32m     12\u001b[0m                     max_iterations\u001b[38;5;241m=\u001b[39mnum_it, \n\u001b[1;32m     13\u001b[0m                     verbose\u001b[38;5;241m=\u001b[39m\u001b[38;5;28;01mTrue\u001b[39;00m,  \n\u001b[1;32m     14\u001b[0m                     load_parameters \u001b[38;5;241m=\u001b[39m \u001b[38;5;28;01mNone\u001b[39;00m, \n\u001b[1;32m     15\u001b[0m                     jastrow_kws\u001b[38;5;241m=\u001b[39m{\u001b[38;5;124m\"\u001b[39m\u001b[38;5;124mion_cusp\u001b[39m\u001b[38;5;124m\"\u001b[39m:\u001b[38;5;28;01mFalse\u001b[39;00m},\n\u001b[1;32m     16\u001b[0m                     client \u001b[38;5;241m=\u001b[39m client, \n\u001b[1;32m     17\u001b[0m                     npartitions\u001b[38;5;241m=\u001b[39mncore,                            \n\u001b[1;32m     18\u001b[0m                     nconfig\u001b[38;5;241m=\u001b[39m\u001b[38;5;241m1000\u001b[39m)\n",
      "File \u001b[0;32m~/Documents/GitHub/pyqmc/pyqmc/bosonrecipes.py:72\u001b[0m, in \u001b[0;36mABOPTIMIZE\u001b[0;34m(dft_checkfile, output, nconfig, ci_checkfile, load_parameters, S, jastrow_kws, slater_kws, **linemin_kws)\u001b[0m\n\u001b[1;32m     69\u001b[0m \u001b[38;5;66;03m# import pdb\u001b[39;00m\n\u001b[1;32m     70\u001b[0m \u001b[38;5;66;03m# pdb.set_trace()\u001b[39;00m\n\u001b[1;32m     71\u001b[0m \u001b[38;5;28;01mif\u001b[39;00m anchors \u001b[38;5;129;01mis\u001b[39;00m \u001b[38;5;28;01mNone\u001b[39;00m:\n\u001b[0;32m---> 72\u001b[0m     wf, df \u001b[38;5;241m=\u001b[39m linemin\u001b[38;5;241m.\u001b[39mline_minimization(wf, configs, acc, \u001b[38;5;241m*\u001b[39m\u001b[38;5;241m*\u001b[39mlinemin_kws)\n\u001b[1;32m     73\u001b[0m \u001b[38;5;66;03m# else:\u001b[39;00m\n\u001b[1;32m     74\u001b[0m \u001b[38;5;66;03m#     wfs = []\u001b[39;00m\n\u001b[1;32m     75\u001b[0m \u001b[38;5;66;03m#     for i, a in enumerate(anchors):\u001b[39;00m\n\u001b[0;32m   (...)\u001b[0m\n\u001b[1;32m     88\u001b[0m \u001b[38;5;66;03m#     wfs.append(wf)\u001b[39;00m\n\u001b[1;32m     89\u001b[0m \u001b[38;5;66;03m#     optimize_ortho.optimize_orthogonal(wfs, configs, acc, **linemin_kws)\u001b[39;00m\n\u001b[1;32m     90\u001b[0m \u001b[38;5;28;01mreturn\u001b[39;00m wf, df\n",
      "File \u001b[0;32m~/Documents/GitHub/pyqmc/pyqmc/linemin.py:214\u001b[0m, in \u001b[0;36mline_minimization\u001b[0;34m(wf, coords, pgrad_acc, steprange, max_iterations, warmup_options, vmcoptions, lmoptions, correlatedoptions, update_kws, verbose, npts, hdf_file, client, npartitions)\u001b[0m\n\u001b[1;32m    211\u001b[0m step_data\u001b[38;5;241m.\u001b[39mupdate(update_report)\n\u001b[1;32m    212\u001b[0m params \u001b[38;5;241m=\u001b[39m [x0 \u001b[38;5;241m+\u001b[39m dp \u001b[38;5;28;01mfor\u001b[39;00m dp \u001b[38;5;129;01min\u001b[39;00m dps]\n\u001b[0;32m--> 214\u001b[0m stepsdata \u001b[38;5;241m=\u001b[39m correlated_compute(\n\u001b[1;32m    215\u001b[0m     wf,\n\u001b[1;32m    216\u001b[0m     coords,\n\u001b[1;32m    217\u001b[0m     params,\n\u001b[1;32m    218\u001b[0m     pgrad_acc,\n\u001b[1;32m    219\u001b[0m     client\u001b[38;5;241m=\u001b[39mclient,\n\u001b[1;32m    220\u001b[0m     npartitions\u001b[38;5;241m=\u001b[39mnpartitions,\n\u001b[1;32m    221\u001b[0m )\n\u001b[1;32m    223\u001b[0m w \u001b[38;5;241m=\u001b[39m stepsdata[\u001b[38;5;124m\"\u001b[39m\u001b[38;5;124mweight\u001b[39m\u001b[38;5;124m\"\u001b[39m]\n\u001b[1;32m    224\u001b[0m w \u001b[38;5;241m=\u001b[39m w \u001b[38;5;241m/\u001b[39m np\u001b[38;5;241m.\u001b[39mmean(w, axis\u001b[38;5;241m=\u001b[39m\u001b[38;5;241m1\u001b[39m, keepdims\u001b[38;5;241m=\u001b[39m\u001b[38;5;28;01mTrue\u001b[39;00m)\n",
      "File \u001b[0;32m~/Documents/GitHub/pyqmc/pyqmc/linemin.py:269\u001b[0m, in \u001b[0;36mcorrelated_compute\u001b[0;34m(wf, configs, params, pgrad_acc, client, npartitions, **kws)\u001b[0m\n\u001b[1;32m    267\u001b[0m     set_wf_params(wf_, p, pgrad_acc)\n\u001b[1;32m    268\u001b[0m \u001b[38;5;66;03m# sample combined distribution\u001b[39;00m\n\u001b[0;32m--> 269\u001b[0m _, _, configs \u001b[38;5;241m=\u001b[39m sm\u001b[38;5;241m.\u001b[39msample_overlap(\n\u001b[1;32m    270\u001b[0m     wfs, configs, \u001b[38;5;28;01mNone\u001b[39;00m, client\u001b[38;5;241m=\u001b[39mclient, npartitions\u001b[38;5;241m=\u001b[39mnpartitions, \u001b[38;5;241m*\u001b[39m\u001b[38;5;241m*\u001b[39mkws\n\u001b[1;32m    271\u001b[0m )\n\u001b[1;32m    273\u001b[0m \u001b[38;5;28;01mif\u001b[39;00m client \u001b[38;5;129;01mis\u001b[39;00m \u001b[38;5;28;01mNone\u001b[39;00m:\n\u001b[1;32m    274\u001b[0m     \u001b[38;5;28;01mreturn\u001b[39;00m correlated_compute_worker(wf, configs, params, pgrad_acc)\n",
      "File \u001b[0;32m~/Software/anaconda3/lib/python3.11/site-packages/pyqmc/sample_many.py:214\u001b[0m, in \u001b[0;36msample_overlap\u001b[0;34m(wfs, configs, energy, nsteps, nblocks, tstep, hdf_file, client, npartitions)\u001b[0m\n\u001b[1;32m    209\u001b[0m coord \u001b[38;5;241m=\u001b[39m configs\u001b[38;5;241m.\u001b[39msplit(npartitions)\n\u001b[1;32m    210\u001b[0m runs \u001b[38;5;241m=\u001b[39m [\n\u001b[1;32m    211\u001b[0m     client\u001b[38;5;241m.\u001b[39msubmit(sample_overlap_worker, wfs, conf, tstep, nsteps, nblocks, energy)\n\u001b[1;32m    212\u001b[0m     \u001b[38;5;28;01mfor\u001b[39;00m conf \u001b[38;5;129;01min\u001b[39;00m coord\n\u001b[1;32m    213\u001b[0m ]\n\u001b[0;32m--> 214\u001b[0m allresults \u001b[38;5;241m=\u001b[39m \u001b[38;5;28mlist\u001b[39m(\u001b[38;5;28mzip\u001b[39m(\u001b[38;5;241m*\u001b[39m[r\u001b[38;5;241m.\u001b[39mresult() \u001b[38;5;28;01mfor\u001b[39;00m r \u001b[38;5;129;01min\u001b[39;00m runs]))\n\u001b[1;32m    215\u001b[0m configs\u001b[38;5;241m.\u001b[39mjoin(allresults[\u001b[38;5;241m2\u001b[39m])\n\u001b[1;32m    216\u001b[0m confweight \u001b[38;5;241m=\u001b[39m np\u001b[38;5;241m.\u001b[39marray([\u001b[38;5;28mlen\u001b[39m(c\u001b[38;5;241m.\u001b[39mconfigs) \u001b[38;5;28;01mfor\u001b[39;00m c \u001b[38;5;129;01min\u001b[39;00m coord], dtype\u001b[38;5;241m=\u001b[39m\u001b[38;5;28mfloat\u001b[39m)\n",
      "File \u001b[0;32m~/Software/anaconda3/lib/python3.11/site-packages/pyqmc/sample_many.py:214\u001b[0m, in \u001b[0;36m<listcomp>\u001b[0;34m(.0)\u001b[0m\n\u001b[1;32m    209\u001b[0m coord \u001b[38;5;241m=\u001b[39m configs\u001b[38;5;241m.\u001b[39msplit(npartitions)\n\u001b[1;32m    210\u001b[0m runs \u001b[38;5;241m=\u001b[39m [\n\u001b[1;32m    211\u001b[0m     client\u001b[38;5;241m.\u001b[39msubmit(sample_overlap_worker, wfs, conf, tstep, nsteps, nblocks, energy)\n\u001b[1;32m    212\u001b[0m     \u001b[38;5;28;01mfor\u001b[39;00m conf \u001b[38;5;129;01min\u001b[39;00m coord\n\u001b[1;32m    213\u001b[0m ]\n\u001b[0;32m--> 214\u001b[0m allresults \u001b[38;5;241m=\u001b[39m \u001b[38;5;28mlist\u001b[39m(\u001b[38;5;28mzip\u001b[39m(\u001b[38;5;241m*\u001b[39m[r\u001b[38;5;241m.\u001b[39mresult() \u001b[38;5;28;01mfor\u001b[39;00m r \u001b[38;5;129;01min\u001b[39;00m runs]))\n\u001b[1;32m    215\u001b[0m configs\u001b[38;5;241m.\u001b[39mjoin(allresults[\u001b[38;5;241m2\u001b[39m])\n\u001b[1;32m    216\u001b[0m confweight \u001b[38;5;241m=\u001b[39m np\u001b[38;5;241m.\u001b[39marray([\u001b[38;5;28mlen\u001b[39m(c\u001b[38;5;241m.\u001b[39mconfigs) \u001b[38;5;28;01mfor\u001b[39;00m c \u001b[38;5;129;01min\u001b[39;00m coord], dtype\u001b[38;5;241m=\u001b[39m\u001b[38;5;28mfloat\u001b[39m)\n",
      "File \u001b[0;32m~/Software/anaconda3/lib/python3.11/concurrent/futures/_base.py:451\u001b[0m, in \u001b[0;36mFuture.result\u001b[0;34m(self, timeout)\u001b[0m\n\u001b[1;32m    448\u001b[0m \u001b[38;5;28;01melif\u001b[39;00m \u001b[38;5;28mself\u001b[39m\u001b[38;5;241m.\u001b[39m_state \u001b[38;5;241m==\u001b[39m FINISHED:\n\u001b[1;32m    449\u001b[0m     \u001b[38;5;28;01mreturn\u001b[39;00m \u001b[38;5;28mself\u001b[39m\u001b[38;5;241m.\u001b[39m__get_result()\n\u001b[0;32m--> 451\u001b[0m \u001b[38;5;28mself\u001b[39m\u001b[38;5;241m.\u001b[39m_condition\u001b[38;5;241m.\u001b[39mwait(timeout)\n\u001b[1;32m    453\u001b[0m \u001b[38;5;28;01mif\u001b[39;00m \u001b[38;5;28mself\u001b[39m\u001b[38;5;241m.\u001b[39m_state \u001b[38;5;129;01min\u001b[39;00m [CANCELLED, CANCELLED_AND_NOTIFIED]:\n\u001b[1;32m    454\u001b[0m     \u001b[38;5;28;01mraise\u001b[39;00m CancelledError()\n",
      "File \u001b[0;32m~/Software/anaconda3/lib/python3.11/threading.py:327\u001b[0m, in \u001b[0;36mCondition.wait\u001b[0;34m(self, timeout)\u001b[0m\n\u001b[1;32m    325\u001b[0m \u001b[38;5;28;01mtry\u001b[39;00m:    \u001b[38;5;66;03m# restore state no matter what (e.g., KeyboardInterrupt)\u001b[39;00m\n\u001b[1;32m    326\u001b[0m     \u001b[38;5;28;01mif\u001b[39;00m timeout \u001b[38;5;129;01mis\u001b[39;00m \u001b[38;5;28;01mNone\u001b[39;00m:\n\u001b[0;32m--> 327\u001b[0m         waiter\u001b[38;5;241m.\u001b[39macquire()\n\u001b[1;32m    328\u001b[0m         gotit \u001b[38;5;241m=\u001b[39m \u001b[38;5;28;01mTrue\u001b[39;00m\n\u001b[1;32m    329\u001b[0m     \u001b[38;5;28;01melse\u001b[39;00m:\n",
      "\u001b[0;31mKeyboardInterrupt\u001b[0m: "
     ]
    }
   ],
   "source": [
    "import concurrent\n",
    "abvmcopt_file = 'abvmc-j-opt-be.hdf5'\n",
    "num_it = 20\n",
    "ncore = 16 \n",
    "for fname in [abvmcopt_file]:\n",
    "    if os.path.isfile(fname):\n",
    "        os.remove(fname)\n",
    "with concurrent.futures.ProcessPoolExecutor(max_workers=ncore) as client:\n",
    "    bosonrecipes.ABOPTIMIZE(scf_checkfile, \n",
    "                    abvmcopt_file, \n",
    "                    ci_checkfile = ci_checkfile,\n",
    "                    max_iterations=num_it, \n",
    "                    verbose=True,  \n",
    "                    load_parameters = None, \n",
    "                    jastrow_kws={\"ion_cusp\":False, 'na':0},\n",
    "                    client = client, \n",
    "                    npartitions=ncore,                            \n",
    "                    nconfig=1000)\n"
   ]
  },
  {
   "cell_type": "code",
   "execution_count": null,
   "id": "2e21ec91-d930-418d-b1bc-633ea81b5138",
   "metadata": {},
   "outputs": [],
   "source": [
    "import pyqmc.api as pyq\n",
    "df = pyq.read_opt(abvmcopt_file)\n",
    "df"
   ]
  },
  {
   "cell_type": "code",
   "execution_count": null,
   "id": "94d034d5-cf99-4c45-b27b-2115cd99c5ab",
   "metadata": {},
   "outputs": [],
   "source": [
    "import matplotlib.pyplot as plt\n",
    "plt.plot(df['energy'], '-ok')"
   ]
  },
  {
   "cell_type": "code",
   "execution_count": null,
   "id": "b9e85c35-0e5e-4166-b550-5698c7f17ade",
   "metadata": {},
   "outputs": [],
   "source": []
  },
  {
   "cell_type": "code",
   "execution_count": null,
   "id": "48b12e22-975d-4c4e-b5f9-ba3dbf92ebba",
   "metadata": {},
   "outputs": [],
   "source": []
  },
  {
   "cell_type": "code",
   "execution_count": null,
   "id": "a20d9633-ece1-488e-a90a-845b1e2ddbe3",
   "metadata": {},
   "outputs": [],
   "source": []
  }
 ],
 "metadata": {
  "kernelspec": {
   "display_name": "Python 3 (ipykernel)",
   "language": "python",
   "name": "python3"
  },
  "language_info": {
   "codemirror_mode": {
    "name": "ipython",
    "version": 3
   },
   "file_extension": ".py",
   "mimetype": "text/x-python",
   "name": "python",
   "nbconvert_exporter": "python",
   "pygments_lexer": "ipython3",
   "version": "3.11.6"
  }
 },
 "nbformat": 4,
 "nbformat_minor": 5
}
