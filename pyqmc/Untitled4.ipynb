{
 "cells": [
  {
   "cell_type": "code",
   "execution_count": 1,
   "id": "4f94c9cb-f171-439d-aaa3-4e5e8ff3655f",
   "metadata": {},
   "outputs": [
    {
     "name": "stdout",
     "output_type": "stream",
     "text": [
      "/Users/ksu/Documents/GitHub/pyqmc/pyqmc/api.py\n",
      "/usr/local/anaconda3/lib/python3.9/site-packages/pyscf/__init__.py\n"
     ]
    }
   ],
   "source": [
    "# Wavefunction generation\n",
    "from pyscf import mcscf, fci, lib \n",
    "from pyscf import gto, scf, tools, dft\n",
    "from pyscf.dft import numint\n",
    "import api as pyq \n",
    "import matplotlib.pyplot as plt\n",
    "import importlib\n",
    "import os\n",
    "import h5py\n",
    "import pdb\n",
    "import pyscf\n",
    "import numpy as np\n",
    "from pyscf.scf.hf import dump_scf_summary\n",
    "print(pyq.__file__)\n",
    "print(pyscf.__file__)"
   ]
  },
  {
   "cell_type": "code",
   "execution_count": 7,
   "id": "6c0c5400-3a2d-4e4a-b2a0-eff695a89108",
   "metadata": {},
   "outputs": [
    {
     "name": "stdout",
     "output_type": "stream",
     "text": [
      "converged SCF energy = -0.666036215097532  <S^2> = 2  2S+1 = 3\n"
     ]
    }
   ],
   "source": [
    "def run_lda_h2(scf_checkfile):\n",
    "    mol = gto.M(atom=\"H 0. 0. 0.; H 0. 0. 1.2\", spin = 2, basis=f'ccecpccpvdz', unit='bohr')\n",
    "    mf = dft.UKS(mol)\n",
    "    # mf.verbose=6\n",
    "    mf.chkfile = scf_checkfile\n",
    "    dm = mf.init_guess_by_atom()\n",
    "    mf.kernel(dm, xc='LDA,VWN')\n",
    "    return mf\n",
    "\n",
    "mf = run_lda_h2(None)\n",
    "mol = mf.mol"
   ]
  },
  {
   "cell_type": "code",
   "execution_count": 8,
   "id": "660b603d-568a-4f8e-93b9-5d04fe675fa2",
   "metadata": {},
   "outputs": [],
   "source": [
    "dm = mf.make_rdm1()\n",
    "kin = mf.mol.intor_symmetric('int1e_kin')\n",
    "ein = mf.mol.intor_symmetric('int1e_nuc')\n",
    "j, k= mf.get_jk(mf.mol, dm)"
   ]
  },
  {
   "cell_type": "code",
   "execution_count": 9,
   "id": "c35bab94-7206-4fab-a3ee-997bc2a72273",
   "metadata": {},
   "outputs": [
    {
     "name": "stdout",
     "output_type": "stream",
     "text": [
      "e1 -1.910866543412935 coul 1.039378217566682 nuc 0.8333333333333334\n",
      "{'e1': -1.9108665434129342, 'coul': 1.039378217566682, 'exc': -0.6278812225846137, 'nuc': 0.8333333333333334}\n"
     ]
    }
   ],
   "source": [
    "#Ekin\n",
    "ekin = np.einsum('ij,sji->', kin, dm).real\n",
    "#EI\n",
    "ei = np.einsum('ij,sji->', ein, dm).real\n",
    "#EJ\n",
    "ej = 0.5*np.einsum('sij,sji->', j, dm).real\n",
    "ek = 0.5*np.einsum('sij,sji->', k, dm).real\n",
    "#ENUC\n",
    "enuc = mf.energy_nuc()\n",
    "print('e1', ekin + ei, 'coul', ej, 'nuc', enuc)\n",
    "#Compare to PYSCF\n",
    "mf.energy_tot()\n",
    "print(mf.scf_summary)"
   ]
  },
  {
   "cell_type": "code",
   "execution_count": 14,
   "id": "a8aed511-02ad-4ff1-a520-ba2e8c95893d",
   "metadata": {},
   "outputs": [],
   "source": [
    "#Grid\n",
    "size = 1000\n",
    "pos = np.linspace([0.,0.,0.],[0.,0., 1.2], size)\n",
    "r = np.linalg.norm(pos, axis=1)"
   ]
  },
  {
   "cell_type": "code",
   "execution_count": 15,
   "id": "361ea541-e9c8-4d3c-b86c-b6ebfe7031b3",
   "metadata": {},
   "outputs": [],
   "source": [
    "#Overlaps\n",
    "aox = dft.numint.eval_ao(mol, pos, deriv=2)\n",
    "ao0 = aox[0]\n",
    "ao1 = aox[1:4]\n",
    "ao2 = aox[4:4]\n",
    "orb_coeffs = mf.mo_coeff[0]\n",
    "\n",
    "#Density Matrix\n",
    "dm = mf.make_rdm1()"
   ]
  },
  {
   "cell_type": "code",
   "execution_count": 16,
   "id": "7d97a46e-57b8-407f-ab0d-ed492c1a2fe3",
   "metadata": {},
   "outputs": [],
   "source": [
    "mo_value = np.einsum('ij,sjk,sk->ik', ao0, mf.mo_coeff, mf.mo_occ)\n",
    "rho = np.einsum('ij,ji->i', mo_value, mo_value.T)"
   ]
  },
  {
   "cell_type": "code",
   "execution_count": 17,
   "id": "b94130b3-81d7-40db-8915-80e7b42de122",
   "metadata": {},
   "outputs": [
    {
     "data": {
      "text/plain": [
       "<matplotlib.legend.Legend at 0x7f81a9caec10>"
      ]
     },
     "execution_count": 17,
     "metadata": {},
     "output_type": "execute_result"
    },
    {
     "data": {
      "image/png": "[encoded data removed]",
      "text/plain": [
       "<Figure size 640x480 with 1 Axes>"
      ]
     },
     "metadata": {},
     "output_type": "display_data"
    }
   ],
   "source": [
    "#user RHO\n",
    "plt.scatter(r, rho, label='rho')\n",
    "plt.legend()"
   ]
  },
  {
   "cell_type": "code",
   "execution_count": 18,
   "id": "d42d7f5f-7423-4f8f-86be-fa7ad731512e",
   "metadata": {},
   "outputs": [
    {
     "name": "stdout",
     "output_type": "stream",
     "text": [
      "Tot e:  2.000000002384147\n"
     ]
    }
   ],
   "source": [
    "# Above curve is inconsistent, lets calculate Eh using with regular grid to calculate the total hartree energy\n",
    "mol = mf.mol\n",
    "coords = mf.grids.coords\n",
    "weights = mf.grids.weights\n",
    "ao_reg_grid = numint.eval_ao(mol, coords)\n",
    "\n",
    "mo_value_grid = np.einsum('ij,sjk,sk->ik', ao_reg_grid, mf.mo_coeff, mf.mo_occ)\n",
    "mo_value_grid.shape\n",
    "rho_grid = np.einsum('ij,ji, i->i', mo_value_grid, mo_value_grid.T, weights)\n",
    "r_grid = np.linalg.norm(coords, axis=1)\n",
    "print('Tot e: ', np.sum(rho_grid))"
   ]
  },
  {
   "cell_type": "code",
   "execution_count": 19,
   "id": "569b2512-30db-4095-9954-d7480e217818",
   "metadata": {},
   "outputs": [],
   "source": [
    "# using 4 different ways: https://github.com/pyscf/pyscf/blob/master/examples/1-advanced/031-MEP.py\n",
    "# method 2 is wrong, does not solve poisson equation\n",
    "vh = []\n",
    "eh = []\n",
    "for i, ri in enumerate(coords):\n",
    "    with mol.with_rinv_origin(ri):\n",
    "        vh.append(np.einsum('ij,sij->', mol.intor('int1e_rinv'), dm).real)\n",
    "        eh.append(np.einsum('ij,sij->', mol.intor('int1e_rinv'), dm).real*rho_grid[i])\n",
    "vh = np.array(vh)\n",
    "eh = np.array(eh)\n",
    "vh_2 = np.einsum('ij,sjk,ki->i', mo_value_grid, j, mo_value_grid.T).real    \n",
    "\n",
    "\n",
    "from pyscf import df\n",
    "fakemol = gto.fakemol_for_charges(coords)\n",
    "vh_3 = np.einsum('ijp,sij->p', df.incore.aux_e2(mol, fakemol), mf.make_rdm1())\n",
    "\n",
    "vh_4 = np.einsum('pij,sij->p', mol.intor('int1e_grids', grids=coords), mf.make_rdm1())"
   ]
  },
  {
   "cell_type": "code",
   "execution_count": 20,
   "id": "2f6f3971-0ede-4f34-91ca-ac432ddeec87",
   "metadata": {},
   "outputs": [
    {
     "name": "stdout",
     "output_type": "stream",
     "text": [
      "1.039378219844115 1.039378217566682\n",
      "0.10645029071617806 1.039378217566682\n",
      "1.0393782198441142 1.039378217566682\n",
      "1.0393782198441148 1.039378217566682\n"
     ]
    }
   ],
   "source": [
    "#Total energies compared\n",
    "eh_1 = 0.5 *  np.einsum('i,i->', vh, rho_grid)\n",
    "print(eh_1, ej)\n",
    "eh_2 = np.einsum('i,i->', vh_2, rho_grid)\n",
    "print(eh_2, ej)\n",
    "eh_3 = 0.5 * np.einsum('i,i->', vh_3, rho_grid)\n",
    "print(eh_3, ej)\n",
    "eh_4 = 0.5 * np.einsum('i,i->', vh_4, rho_grid)\n",
    "print(eh_4, ej)"
   ]
  },
  {
   "cell_type": "code",
   "execution_count": 21,
   "id": "c25b819a-3b5e-4d0e-8fa9-312c9a20f5f4",
   "metadata": {},
   "outputs": [
    {
     "data": {
      "text/plain": [
       "(2, 10, 10)"
      ]
     },
     "execution_count": 21,
     "metadata": {},
     "output_type": "execute_result"
    }
   ],
   "source": [
    "dm.shape"
   ]
  },
  {
   "cell_type": "code",
   "execution_count": null,
   "id": "2df1b9bb-4ed2-4460-abbc-1eba16e74719",
   "metadata": {},
   "outputs": [],
   "source": []
  }
 ],
 "metadata": {
  "kernelspec": {
   "display_name": "Python 3 (ipykernel)",
   "language": "python",
   "name": "python3"
  },
  "language_info": {
   "codemirror_mode": {
    "name": "ipython",
    "version": 3
   },
   "file_extension": ".py",
   "mimetype": "text/x-python",
   "name": "python",
   "nbconvert_exporter": "python",
   "pygments_lexer": "ipython3",
   "version": "3.9.13"
  }
 },
 "nbformat": 4,
 "nbformat_minor": 5
}
