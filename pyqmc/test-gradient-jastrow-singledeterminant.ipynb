{
 "cells": [
  {
   "cell_type": "code",
   "execution_count": 13,
   "id": "bcac56e6-5690-45d8-bf04-8278d8e9908d",
   "metadata": {
    "tags": []
   },
   "outputs": [
    {
     "name": "stdout",
     "output_type": "stream",
     "text": [
      "/Users/ksu/Documents/GitHub/pyqmc/pyqmc/api.py\n",
      "/Users/ksu/Software/anaconda3/lib/python3.11/site-packages/pyscf/__init__.py\n"
     ]
    }
   ],
   "source": [
    "# Wavefunction generation\n",
    "from pyscf import mcscf, fci, lib \n",
    "from pyscf import gto, scf, tools, dft\n",
    "import api as pyq \n",
    "import importlib\n",
    "import os\n",
    "import h5py\n",
    "import pandas as pd\n",
    "import pdb\n",
    "import pyscf\n",
    "import numpy as np\n",
    "import pyqmc\n",
    "import scipy\n",
    "\n",
    "import jastrowspin\n",
    "import matplotlib.pyplot as plt\n",
    "from pyscf.scf.hf import dump_scf_summary\n",
    "from concurrent.futures import ProcessPoolExecutor\n",
    "from pyscf.scf.chkfile import dump_scf\n",
    "print(pyq.__file__)\n",
    "print(pyscf.__file__)"
   ]
  },
  {
   "cell_type": "code",
   "execution_count": 2,
   "id": "6625c1e6-505e-4c73-bb02-071a75e92a71",
   "metadata": {
    "tags": []
   },
   "outputs": [
    {
     "name": "stdout",
     "output_type": "stream",
     "text": [
      "/Users/ksu/Documents/GitHub/pyqmc/pyqmc/api.py\n",
      "/Users/ksu/Software/anaconda3/lib/python3.11/site-packages/pyscf/__init__.py\n",
      "He atom neutral LDA spin=0\n",
      "HF\n",
      "converged SCF energy = -2.85516047724274  <S^2> = 0  2S+1 = 1\n",
      "LDA\n",
      "converged SCF energy = -2.82670655418611  <S^2> = 4.4408921e-16  2S+1 = 1\n",
      "\n",
      "WARN: Mulitple states found in CASCI solver. First state is used to compute the Fock matrix and natural orbitals in active space.\n",
      "\n",
      "CASCI state   0  E = -2.88192509025559  E(CI) = -2.88192509025559  S^2 = 0.0000000\n",
      "CASCI state   1  E = -1.40116327670131  E(CI) = -1.40116327670131  S^2 = 2.0000000\n",
      "CASCI state   2  E = -0.951769234759041  E(CI) = -0.951769234759041  S^2 = 0.0000000\n",
      "CASCI state   3  E = -0.384692858905305  E(CI) = -0.384692858905305  S^2 = 2.0000000\n",
      "Available output from CASCI: <KeysViewHDF5 ['ci', 'fci', 'mo_coeff', 'ncas', 'nelecas']>\n"
     ]
    }
   ],
   "source": [
    "# Wavefunction generation\n",
    "from scf_runs import run_lda_he, run_casci\n",
    "scf_checkfile, opt_checkfile, mf_lda = run_lda_he()\n",
    "ci_checkfile, mcc = run_casci(scf_checkfile, ncas=4, nroots=4)"
   ]
  },
  {
   "cell_type": "code",
   "execution_count": 3,
   "id": "dd4a4b8e-f86e-4889-88f3-2871ba7e674a",
   "metadata": {},
   "outputs": [
    {
     "name": "stdout",
     "output_type": "stream",
     "text": [
      "starting warmup\n",
      "finished warmup\n",
      "----------vmc done\n",
      "Gradient norm:  0.7041909386558276\n",
      "Dot product between gradient and SR step:  0.8886545027535966\n",
      "descent en -2.73279034061291 0.008898899232847925\n",
      "energies from correlated sampling [-2.64603664 -2.8280682  -2.9104952  -2.92557065 -2.89696308]\n",
      "----------vmc done\n",
      "Gradient norm:  0.08092609371050113\n",
      "Dot product between gradient and SR step:  0.9958284002778185\n",
      "descent en -2.8890670870712363 0.004468142562363857\n",
      "energies from correlated sampling [-2.84207997 -2.85174123 -2.86067623 -2.86889453 -2.87640538]\n"
     ]
    },
    {
     "data": {
      "text/html": [
       "<div>\n",
       "<style scoped>\n",
       "    .dataframe tbody tr th:only-of-type {\n",
       "        vertical-align: middle;\n",
       "    }\n",
       "\n",
       "    .dataframe tbody tr th {\n",
       "        vertical-align: top;\n",
       "    }\n",
       "\n",
       "    .dataframe thead th {\n",
       "        text-align: right;\n",
       "    }\n",
       "</style>\n",
       "<table border=\"1\" class=\"dataframe\">\n",
       "  <thead>\n",
       "    <tr style=\"text-align: right;\">\n",
       "      <th></th>\n",
       "      <th>energy</th>\n",
       "      <th>iteration</th>\n",
       "      <th>error</th>\n",
       "      <th>fname</th>\n",
       "    </tr>\n",
       "  </thead>\n",
       "  <tbody>\n",
       "    <tr>\n",
       "      <th>0</th>\n",
       "      <td>-2.732790</td>\n",
       "      <td>0</td>\n",
       "      <td>0.008899</td>\n",
       "      <td>he-sj.hdf5</td>\n",
       "    </tr>\n",
       "    <tr>\n",
       "      <th>1</th>\n",
       "      <td>-2.889067</td>\n",
       "      <td>1</td>\n",
       "      <td>0.004468</td>\n",
       "      <td>he-sj.hdf5</td>\n",
       "    </tr>\n",
       "  </tbody>\n",
       "</table>\n",
       "</div>"
      ],
      "text/plain": [
       "     energy  iteration     error       fname\n",
       "0 -2.732790          0  0.008899  he-sj.hdf5\n",
       "1 -2.889067          1  0.004468  he-sj.hdf5"
      ]
     },
     "execution_count": 3,
     "metadata": {},
     "output_type": "execute_result"
    }
   ],
   "source": [
    "import importlib, recipes\n",
    "modules = [recipes]\n",
    "for m in modules:\n",
    "    importlib.reload(m)\n",
    "\n",
    "    # Jastrow optimizationn\n",
    "    \n",
    "for fname in [opt_checkfile]:\n",
    "    if os.path.isfile(fname):\n",
    "        os.remove(fname)\n",
    "\n",
    "# pyq.OPTIMIZE(scf_checkfile, \"sj.hdf5\", ci_checkfile=ci_checkfile, max_iterations=2, verbose=False)\n",
    "# bosonrecipes.ABOPTIMIZE(scf_checkfile, \"sj.hdf5\", max_iterations=2, nconfig=100, verbose=False)\n",
    "recipes.OPTIMIZE(scf_checkfile, opt_checkfile, max_iterations=2, nconfig=1000, verbose=True)\n",
    "# Jastrow optimization results\n",
    "df = pyq.read_opt(opt_checkfile)\n",
    "df"
   ]
  },
  {
   "cell_type": "code",
   "execution_count": 4,
   "id": "0b22521d-3373-41e0-bcef-1b55cb7bbb1f",
   "metadata": {},
   "outputs": [],
   "source": [
    "def limdrift(g, cutoff=1):\n",
    "    \"\"\"\n",
    "    Limit a vector to have a maximum magnitude of cutoff while maintaining direction\n",
    "\n",
    "    :parameter g: a [nconf,ndim] vector\n",
    "    :parameter cutoff: the maximum magnitude\n",
    "    :returns: The vector with the cutoff applied.\n",
    "    \"\"\"\n",
    "    tot = np.linalg.norm(g, axis=1)\n",
    "    mask = tot > cutoff\n",
    "    g[mask, :] = cutoff * g[mask, :] / tot[mask, np.newaxis]\n",
    "    return g"
   ]
  },
  {
   "cell_type": "code",
   "execution_count": 6,
   "id": "8b9a711d-e662-4dc1-85fe-d246c29b1440",
   "metadata": {},
   "outputs": [
    {
     "name": "stdout",
     "output_type": "stream",
     "text": [
      "kayahan [[0]\n",
      " [0]]\n"
     ]
    },
    {
     "data": {
      "text/plain": [
       "<multiplywf.MultiplyWF at 0x34ada9190>"
      ]
     },
     "execution_count": 6,
     "metadata": {},
     "output_type": "execute_result"
    }
   ],
   "source": [
    "# Multi determinant boson new gradient\n",
    "import importlib, recipes, bosonrecipes, bosonslater, bosonaccumulators, bosonwftools, wftools, mc\n",
    "modules = [recipes, bosonrecipes, bosonrecipes, bosonslater, bosonaccumulators, bosonwftools, wftools, mc] # Reloads recipes.py file after each update\n",
    "for m in modules:\n",
    "    importlib.reload(m)\n",
    "import pyqmc.pyscftools as pyscftools\n",
    "\n",
    "nconfig = 323\n",
    "mol, mf = pyscftools.recover_pyscf(scf_checkfile)\n",
    "    \n",
    "wf, to_opt = bosonwftools.generate_boson_wf(\n",
    "        mol, mf)\n",
    "\n",
    "load_parameters = opt_checkfile\n",
    "wftools.read_wf(wf, load_parameters)      "
   ]
  },
  {
   "cell_type": "code",
   "execution_count": 7,
   "id": "817fef51-f0a5-4172-9496-b55cf27a30ad",
   "metadata": {},
   "outputs": [
    {
     "data": {
      "text/plain": [
       "<multiplywf.MultiplyWF at 0x34ada9190>"
      ]
     },
     "execution_count": 7,
     "metadata": {},
     "output_type": "execute_result"
    }
   ],
   "source": [
    "wf"
   ]
  },
  {
   "cell_type": "code",
   "execution_count": 14,
   "id": "e1643cc4-9d7c-413f-954a-7ecff5c53a8c",
   "metadata": {},
   "outputs": [],
   "source": [
    "wave_functions = wf.wf_factors\n",
    "for wave in wave_functions:\n",
    "    if isinstance(wave, bosonslater.BosonWF):\n",
    "        boson_wf = wave\n",
    "    if isinstance(wave, jastrowspin.JastrowSpin):\n",
    "        jastrow_wf = wave        "
   ]
  },
  {
   "cell_type": "code",
   "execution_count": 15,
   "id": "a939b13c-8735-4c72-8935-5b258164c101",
   "metadata": {},
   "outputs": [],
   "source": [
    "configs = mc.fixed_initial_guess(mol, nconfig)\n",
    "e=0\n"
   ]
  },
  {
   "cell_type": "code",
   "execution_count": 16,
   "id": "5f67eac0-182c-4bdc-92e9-4334be1b6b41",
   "metadata": {},
   "outputs": [],
   "source": [
    "# sign, val = wf.recompute(configs)\n",
    "sign, val = boson_wf.recompute(configs)"
   ]
  },
  {
   "cell_type": "code",
   "execution_count": 18,
   "id": "c1fa7f33-0e19-4d91-bed0-cb546a153aae",
   "metadata": {},
   "outputs": [
    {
     "data": {
      "text/plain": [
       "Text(0.5, 1.0, 'Single determinant with no jastrow gradient $\\\\Psi(R, R2) $, R2=[-0.1  0.9 -1. ]')"
      ]
     },
     "execution_count": 18,
     "metadata": {},
     "output_type": "execute_result"
    },
    {
     "data": {
      "image/png": "[encoded data removed]",
      "text/plain": [
       "<Figure size 640x480 with 1 Axes>"
      ]
     },
     "metadata": {},
     "output_type": "display_data"
    },
    {
     "data": {
      "image/png": "[encoded data removed]",
      "text/plain": [
       "<Figure size 640x480 with 1 Axes>"
      ]
     },
     "metadata": {},
     "output_type": "display_data"
    }
   ],
   "source": [
    "# g1, _, _ = wf.gradient_value(e, configs.electron(e))\n",
    "g1, _, _ = boson_wf.gradient_value(e, configs.electron(e))\n",
    "\n",
    "# val2 = saved['psi']\n",
    "# _, psi1 = wf.value()\n",
    "_, psi1 = boson_wf.value()\n",
    "\n",
    "y1 = np.gradient(val)\n",
    "y2 = g1\n",
    "dx = configs.configs[1]-configs.configs[0]\n",
    "dx = dx[dx!=0][0]\n",
    "# print(dx)\n",
    "\n",
    "x = configs.configs[:,0][:,2]\n",
    "h1 = (0,0, 0.0)\n",
    "h2 = (2.0, 0.0)\n",
    "e2pos = np.array2string(configs.configs[:,1][0])\n",
    "\n",
    "\n",
    "\n",
    "\n",
    "plt.figure()\n",
    "plt.plot(x,val, '-k', label='recompute')\n",
    "# plt.plot(x,val2, '-sb', label='from_grad')\n",
    "# plt.plot(x,psi1, '-sr', label='from_val')\n",
    "# plt.legend()\n",
    "plt.xlabel('z-coordinate')\n",
    "plt.ylabel(r'$\\Psi_B(R)$')\n",
    "plt.title('Single determinant with no Jastrow $\\Psi(R, R2) $, R2={}'.format(e2pos) )\n",
    "\n",
    "plt.figure()\n",
    "plt.plot(x,g1[2], '-or', label='grad')\n",
    "plt.plot(x,y1/dx, '-b', label='num')\n",
    "plt.xlabel('z-coordinate')\n",
    "plt.ylabel(r'$\\nabla\\Psi_B(R)$')\n",
    "plt.legend()\n",
    "plt.title('Single determinant with no jastrow gradient $\\Psi(R, R2) $, R2={}'.format(e2pos) )\n",
    "\n",
    "\n"
   ]
  },
  {
   "cell_type": "code",
   "execution_count": null,
   "id": "8e34509c-6bc9-4189-ae5a-c97c93bd285d",
   "metadata": {
    "tags": []
   },
   "outputs": [],
   "source": []
  },
  {
   "cell_type": "code",
   "execution_count": null,
   "id": "8378bd95-ed23-4b8e-9a40-9cde21d9fd23",
   "metadata": {
    "tags": []
   },
   "outputs": [],
   "source": []
  },
  {
   "cell_type": "code",
   "execution_count": null,
   "id": "62b65e8a-04e8-48a3-bc21-4cc868ef6b5e",
   "metadata": {
    "tags": []
   },
   "outputs": [],
   "source": []
  },
  {
   "cell_type": "code",
   "execution_count": null,
   "id": "ff822448-a946-4832-b959-59d840f792b1",
   "metadata": {
    "tags": []
   },
   "outputs": [],
   "source": []
  },
  {
   "cell_type": "code",
   "execution_count": null,
   "id": "de922162-5a41-4578-baa6-2dd1f5359bd8",
   "metadata": {},
   "outputs": [],
   "source": []
  },
  {
   "cell_type": "code",
   "execution_count": null,
   "id": "c9a78037-26cc-4551-8a17-f76eb6866f67",
   "metadata": {},
   "outputs": [],
   "source": []
  }
 ],
 "metadata": {
  "kernelspec": {
   "display_name": "Python 3 (ipykernel)",
   "language": "python",
   "name": "python3"
  },
  "language_info": {
   "codemirror_mode": {
    "name": "ipython",
    "version": 3
   },
   "file_extension": ".py",
   "mimetype": "text/x-python",
   "name": "python",
   "nbconvert_exporter": "python",
   "pygments_lexer": "ipython3",
   "version": "3.11.6"
  }
 },
 "nbformat": 4,
 "nbformat_minor": 5
}
