{
 "cells": [
  {
   "cell_type": "code",
   "execution_count": 28,
   "id": "ee491383-15c8-499a-b74d-8764351ad7e5",
   "metadata": {},
   "outputs": [],
   "source": [
    "#!/usr/bin/env python\n",
    "from typing import TYPE_CHECKING, Any, Callable, Dict, Iterable, List, Optional, Union\n",
    "from functools import wraps\n",
    "\n",
    "class Workflow:\n",
    "    def __init__(self,\n",
    "                 wf_function : Callable):\n",
    "        self.wf_function = wf_function\n",
    "\n",
    "    def __call__(self, *args, **kwargs):\n",
    "        print(args)\n",
    "        pass\n",
    "    \n",
    "    def build_nodes(self, *args, **kwargs):\n",
    "        pass\n",
    "\n",
    "class Task:\n",
    "    def __init__(self, \n",
    "        function : Callable,\n",
    "        id: int=None ):\n",
    "        self.f = function\n",
    "        self.id = id\n",
    "\n",
    "    def __call__(self, *args, **kwargs):\n",
    "        return self.f(*args, **kwargs)\n",
    "    \n",
    "    def wait(child, parents):\n",
    "        active_lattice = active_lattice_manager.get_active_lattice()\n",
    "\n",
    "        if active_lattice and not active_lattice.post_processing:\n",
    "            return child.wait_for(parents)\n",
    "        else:\n",
    "            return child\n",
    "    #end def \n",
    "    \n",
    "    def wait_for(self, electrons):\n",
    "        \n",
    "class Dispatcher:\n",
    "    def dispatch(orig_wf : Workflow) -> Callable:\n",
    "        @wraps(orig_wf)\n",
    "        def wrapper(*args, **kwargs):\n",
    "            wf = deepcopy(orig_wf)\n",
    "            wf.build_nodes(*args, **kwargs)\n",
    "            dispatch_id = 0\n",
    "        return dispatch_id\n",
    "    \n",
    "        \n",
    "\n",
    "        \n",
    "def task(func: Callable = None) -> Task:\n",
    "    task = Task(func)\n",
    "    @wraps(func)\n",
    "    def wrapper(*args, **kwargs):\n",
    "        print(args)\n",
    "        return task(*args, **kwargs)\n",
    "    return wrapper\n",
    "\n",
    "\n",
    "def workflow(func : Callable = None) -> Workflow:\n",
    "    @wraps(func)\n",
    "    def wrapper(*args, **kwargs):\n",
    "        wf = Workflow(wf_function=func)\n",
    "        return wf\n",
    "    return wrapper\n",
    "\n",
    "    "
   ]
  },
  {
   "cell_type": "code",
   "execution_count": 29,
   "id": "e8594e4d-b1b8-42c8-9654-25dc6f73be8b",
   "metadata": {},
   "outputs": [],
   "source": [
    "@task\n",
    "def add(x,y):\n",
    "    return x + y #return x + y\n"
   ]
  },
  {
   "cell_type": "code",
   "execution_count": 30,
   "id": "8bd91b55-7400-4180-9202-2b264a13949d",
   "metadata": {},
   "outputs": [
    {
     "name": "stdout",
     "output_type": "stream",
     "text": [
      "(2, 2)\n"
     ]
    },
    {
     "data": {
      "text/plain": [
       "4"
      ]
     },
     "execution_count": 30,
     "metadata": {},
     "output_type": "execute_result"
    }
   ],
   "source": [
    "add(2,2)"
   ]
  },
  {
   "cell_type": "code",
   "execution_count": 33,
   "id": "f54ae01c-bebf-4fd0-aa8f-b2e0f48ec35e",
   "metadata": {},
   "outputs": [],
   "source": [
    "@workflow\n",
    "def double_add(x, y):\n",
    "    import pdb\n",
    "    pdb.set_trace()\n",
    "    xx = add(x,y)\n",
    "    yy = add(xx,y)\n",
    "    return xx + yy"
   ]
  },
  {
   "cell_type": "code",
   "execution_count": 34,
   "id": "7e52b9ae-4b31-4515-bd32-849c1c486497",
   "metadata": {},
   "outputs": [
    {
     "data": {
      "text/plain": [
       "<__main__.Workflow at 0x7f87c89204c0>"
      ]
     },
     "execution_count": 34,
     "metadata": {},
     "output_type": "execute_result"
    }
   ],
   "source": [
    "double_add(2,3)"
   ]
  },
  {
   "cell_type": "code",
   "execution_count": null,
   "id": "6489901d-ff01-49b9-a201-8a265fa12fda",
   "metadata": {},
   "outputs": [],
   "source": [
    "def simulator(func: Callable = None) -> Simulation:\n",
    "    @wraps(func)\n",
    "    def wrapper(*args, **kwargs):\n",
    "        f = "
   ]
  },
  {
   "cell_type": "code",
   "execution_count": null,
   "id": "42d39f34-9525-4133-833c-dde3de3851ef",
   "metadata": {},
   "outputs": [],
   "source": []
  },
  {
   "cell_type": "code",
   "execution_count": null,
   "id": "fc211062-ebd3-4abc-95a1-22e10ebe16a3",
   "metadata": {},
   "outputs": [],
   "source": []
  }
 ],
 "metadata": {
  "kernelspec": {
   "display_name": "Python 3 (ipykernel)",
   "language": "python",
   "name": "python3"
  },
  "language_info": {
   "codemirror_mode": {
    "name": "ipython",
    "version": 3
   },
   "file_extension": ".py",
   "mimetype": "text/x-python",
   "name": "python",
   "nbconvert_exporter": "python",
   "pygments_lexer": "ipython3",
   "version": "3.9.13"
  }
 },
 "nbformat": 4,
 "nbformat_minor": 5
}
