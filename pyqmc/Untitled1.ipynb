{
 "cells": [
  {
   "cell_type": "code",
   "execution_count": 2,
   "id": "b5a48f97-4221-4251-b141-74707e7189fc",
   "metadata": {},
   "outputs": [],
   "source": [
    "import matplotlib.pyplot as plt\n",
    "import numpy as np\n",
    "import copy\n",
    "import h5py\n",
    "import os\n",
    "import seaborn as sns\n",
    "from pyscf.scf.uhf import det_ovlp"
   ]
  },
  {
   "cell_type": "code",
   "execution_count": 13,
   "id": "2c8e6c78-5219-46b7-a480-f24b6a4aec8e",
   "metadata": {},
   "outputs": [],
   "source": [
    "# Wavefunction generation\n",
    "from pyscf import lib, gto, scf\n",
    "from pyscf import gto, mp, mcscf\n",
    "def H2_casci(scf_checkfile, ci_checkfile):\n",
    "    mol = gto.M(\n",
    "        atom=\"H 0. 0. 0.0; H 0. 0. 1.4\",\n",
    "        basis=f\"ccecpccpvdz\",\n",
    "        unit=\"bohr\",\n",
    "        charge=0,\n",
    "        spin=0,\n",
    "        verbose=1,\n",
    "    )\n",
    "    mf = scf.UHF(mol).run()\n",
    "    mf.chkfile = scf_checkfile\n",
    "    mf.kernel()\n",
    "    mc = mcscf.CASCI(mf, 3,2)\n",
    "    # mc.fcisolver.nroots = 4\n",
    "    mc.kernel()\n",
    "    print(mc.__dict__.keys())\n",
    "    with h5py.File(ci_checkfile, \"a\") as f:\n",
    "        f.create_group(\"ci\")\n",
    "        f[\"ci/ncas\"] = mc.ncas\n",
    "        f[\"ci/nelecas\"] = list(mc.nelecas)\n",
    "        f[\"ci/ci\"] = mc.ci\n",
    "        f[\"ci/mo_coeff\"] = mc.mo_coeff    \n",
    "    return mol, mf, mc\n",
    "    \n",
    "def HF_casci(scf_checkfile, ci_checkfile):\n",
    "    mol = gto.M(\n",
    "        atom=\"H 0. 0. 0.0; F 0. 0. 0.8\",\n",
    "        basis=f\"ccecpccpvdz\",\n",
    "        unit=\"bohr\",\n",
    "        charge=0,\n",
    "        spin=0,\n",
    "        verbose=1,\n",
    "    )\n",
    "    mf = scf.UHF(mol).run()\n",
    "    mf.chkfile = scf_checkfile\n",
    "    mf.kernel()\n",
    "    mc = mcscf.CASCI(mf, 6,2)\n",
    "    # mc.fcisolver.nroots = 4\n",
    "    mc.kernel()\n",
    "    print(mc.__dict__.keys())\n",
    "    with h5py.File(ci_checkfile, \"a\") as f:\n",
    "        f.create_group(\"ci\")\n",
    "        f[\"ci/ncas\"] = mc.ncas\n",
    "        f[\"ci/nelecas\"] = list(mc.nelecas)\n",
    "        f[\"ci/ci\"] = mc.ci\n",
    "        f[\"ci/mo_coeff\"] = mc.mo_coeff    \n",
    "    return mol, mf, mc"
   ]
  },
  {
   "cell_type": "code",
   "execution_count": 14,
   "id": "a0dd45e6-cf22-47df-beb6-ea2fe1f1647f",
   "metadata": {},
   "outputs": [
    {
     "name": "stdout",
     "output_type": "stream",
     "text": [
      "dict_keys(['mol', '_scf', 'verbose', 'stdout', 'max_memory', 'ncas', 'nelecas', '_ncore', 'fcisolver', 'frozen', 'extrasym', 'e_tot', 'e_cas', 'ci', 'mo_coeff', 'mo_energy', 'mo_occ', 'converged'])\n"
     ]
    }
   ],
   "source": [
    "scf_checkfile = 'rohf.chk'\n",
    "ci_checkfile = 'casci.chk'\n",
    "for fname in [scf_checkfile, ci_checkfile]:\n",
    "    if os.path.isfile(fname):\n",
    "        os.remove(fname)\n",
    "mol, mf, mcc = H2_casci(scf_checkfile, ci_checkfile)\n",
    "# mol, mf, mcc = HF_casci(scf_checkfile, ci_checkfile)"
   ]
  },
  {
   "cell_type": "code",
   "execution_count": 15,
   "id": "0bc38e5e-0251-4e5f-8785-a827b55bee86",
   "metadata": {},
   "outputs": [
    {
     "name": "stdout",
     "output_type": "stream",
     "text": [
      "10\n"
     ]
    }
   ],
   "source": [
    "import bosonslater \n",
    "import pyscftools, mc\n",
    "boson_wf = bosonslater.BosonWF(mol, mf, mc=mcc)\n",
    "\n",
    "nconfig = 1000\n",
    "mol, mf = pyscftools.recover_pyscf(scf_checkfile)\n",
    "configs = mc.initial_guess(mol, nconfig)\n",
    "# wf.parameters['det_coeff'] = np.ones(len(wf.parameters['det_coeff']))\n",
    "signb, phib = boson_wf.recompute(configs)\n",
    "num_ao = boson_wf._aovals.shape[-1]\n",
    "print(num_ao)"
   ]
  },
  {
   "cell_type": "code",
   "execution_count": 22,
   "id": "16e7ab45-6848-4514-abfc-de97ee9d5c71",
   "metadata": {},
   "outputs": [
    {
     "data": {
      "text/plain": [
       "array([[ 1.        ,  0.92555844,  0.        ,  0.        ,  0.        ,\n",
       "         0.7529535 ,  0.78435096,  0.        ,  0.        , -0.3941519 ],\n",
       "       [ 0.92555844,  1.        ,  0.        ,  0.        ,  0.        ,\n",
       "         0.78435096,  0.87263951,  0.        ,  0.        , -0.1887443 ],\n",
       "       [ 0.        ,  0.        ,  1.        ,  0.        ,  0.        ,\n",
       "         0.        ,  0.        ,  0.48412712,  0.        , -0.        ],\n",
       "       [ 0.        ,  0.        ,  0.        ,  1.        ,  0.        ,\n",
       "         0.        ,  0.        ,  0.        ,  0.48412712, -0.        ],\n",
       "       [ 0.        ,  0.        ,  0.        ,  0.        ,  1.        ,\n",
       "         0.3941519 ,  0.1887443 ,  0.        ,  0.        , -0.21825202],\n",
       "       [ 0.7529535 ,  0.78435096,  0.        ,  0.        ,  0.3941519 ,\n",
       "         1.        ,  0.92555844,  0.        ,  0.        ,  0.        ],\n",
       "       [ 0.78435096,  0.87263951,  0.        ,  0.        ,  0.1887443 ,\n",
       "         0.92555844,  1.        ,  0.        ,  0.        ,  0.        ],\n",
       "       [ 0.        ,  0.        ,  0.48412712,  0.        ,  0.        ,\n",
       "         0.        ,  0.        ,  1.        ,  0.        ,  0.        ],\n",
       "       [ 0.        ,  0.        ,  0.        ,  0.48412712,  0.        ,\n",
       "         0.        ,  0.        ,  0.        ,  1.        ,  0.        ],\n",
       "       [-0.3941519 , -0.1887443 , -0.        , -0.        , -0.21825202,\n",
       "         0.        ,  0.        ,  0.        ,  0.        ,  1.        ]])"
      ]
     },
     "execution_count": 22,
     "metadata": {},
     "output_type": "execute_result"
    }
   ],
   "source": [
    "mf.get_ovlp()"
   ]
  },
  {
   "cell_type": "code",
   "execution_count": 19,
   "id": "3fb4e6e5-3d45-40cb-bc22-9ceaaad0d920",
   "metadata": {},
   "outputs": [
    {
     "data": {
      "text/plain": [
       "(2, 10, 10)"
      ]
     },
     "execution_count": 19,
     "metadata": {},
     "output_type": "execute_result"
    }
   ],
   "source": [
    "mf.mo_coeff.shape\n",
    "# nup = np.einsum('ni, ni, nj, nj->nij', updet_sign, np.exp(updet_val), updet_sign, np.exp(updet_val)) # ui * uj"
   ]
  },
  {
   "cell_type": "code",
   "execution_count": 30,
   "id": "c0c82ca0-4f58-479c-948a-e989fb0f946b",
   "metadata": {},
   "outputs": [
    {
     "data": {
      "text/plain": [
       "array([[ 0., -0., -0.,  0., -0., -0.,  0., -0.,  0.,  0.],\n",
       "       [-0.,  0.,  0.,  0., -0.,  0.,  0.,  0.,  0.,  0.],\n",
       "       [-0.,  0., -0.,  0.,  0., -0.,  0., -0.,  0., -0.],\n",
       "       [ 0.,  0.,  0., -0., -0.,  0.,  0.,  0.,  0.,  0.],\n",
       "       [-0., -0.,  0., -0., -0., -0., -0., -0., -0.,  0.],\n",
       "       [-0.,  0., -0.,  0., -0.,  0.,  0., -0.,  0.,  0.],\n",
       "       [ 0.,  0.,  0.,  0., -0.,  0.,  0.,  0.,  0.,  0.],\n",
       "       [-0.,  0., -0.,  0., -0., -0.,  0., -0.,  0., -0.],\n",
       "       [ 0.,  0.,  0.,  0., -0.,  0.,  0.,  0., -0.,  0.],\n",
       "       [ 0.,  0., -0.,  0.,  0.,  0.,  0., -0.,  0., -0.]])"
      ]
     },
     "execution_count": 30,
     "metadata": {},
     "output_type": "execute_result"
    }
   ],
   "source": [
    "np.round(mf.get_ovlp() - np.einsum('ij,jk->ik', np.linalg.inv(mf.mo_coeff[0]).T, np.linalg.inv(mf.mo_coeff[0])), 6) # ui * uj"
   ]
  },
  {
   "cell_type": "code",
   "execution_count": null,
   "id": "6303f971-e193-4acb-a84b-c22068f0a81b",
   "metadata": {},
   "outputs": [],
   "source": []
  }
 ],
 "metadata": {
  "kernelspec": {
   "display_name": "Python 3 (ipykernel)",
   "language": "python",
   "name": "python3"
  },
  "language_info": {
   "codemirror_mode": {
    "name": "ipython",
    "version": 3
   },
   "file_extension": ".py",
   "mimetype": "text/x-python",
   "name": "python",
   "nbconvert_exporter": "python",
   "pygments_lexer": "ipython3",
   "version": "3.11.6"
  }
 },
 "nbformat": 4,
 "nbformat_minor": 5
}
