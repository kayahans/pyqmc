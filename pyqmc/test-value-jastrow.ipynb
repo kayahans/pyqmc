{
 "cells": [
  {
   "cell_type": "code",
   "execution_count": 40,
   "id": "bcac56e6-5690-45d8-bf04-8278d8e9908d",
   "metadata": {
    "tags": []
   },
   "outputs": [
    {
     "name": "stdout",
     "output_type": "stream",
     "text": [
      "/Users/ksu/Documents/GitHub/pyqmc2/pyqmc/pyqmc/api.py\n",
      "/Users/ksu/Software/anaconda3/lib/python3.11/site-packages/pyscf/__init__.py\n"
     ]
    }
   ],
   "source": [
    "# Wavefunction generation\n",
    "from pyscf import mcscf, fci, lib \n",
    "from pyscf import gto, scf, tools, dft\n",
    "import api as pyq \n",
    "import importlib\n",
    "import os\n",
    "import h5py\n",
    "import pandas as pd\n",
    "import pdb\n",
    "import pyscf\n",
    "import numpy as np\n",
    "import pyqmc\n",
    "import scipy\n",
    "import matplotlib.pyplot as plt\n",
    "from pyscf.scf.hf import dump_scf_summary\n",
    "from concurrent.futures import ProcessPoolExecutor\n",
    "from pyscf.scf.chkfile import dump_scf\n",
    "print(pyq.__file__)\n",
    "print(pyscf.__file__)"
   ]
  },
  {
   "cell_type": "code",
   "execution_count": 46,
   "id": "6625c1e6-505e-4c73-bb02-071a75e92a71",
   "metadata": {
    "tags": []
   },
   "outputs": [
    {
     "name": "stdout",
     "output_type": "stream",
     "text": [
      "Be atom neutral LDA spin=2\n",
      "HF\n",
      "converged SCF energy = -14.5119275266939  <S^2> = 2.0000034  2S+1 = 3.0000023\n",
      "LDA\n",
      "converged SCF energy = -14.3541362022289  <S^2> = 2.0000041  2S+1 = 3.0000028\n"
     ]
    }
   ],
   "source": [
    "# H2 molecule\n",
    "def run_scf(scf_checkfile):\n",
    "    mol = gto.M(atom=\"H 0. 0. 0.;H 0. 0. 1.;\", basis=f'ccecpccpvdz', unit='bohr')\n",
    "    mf = scf.UHF(mol)\n",
    "    mf.chkfile = scf_checkfile\n",
    "    dm = mf.init_guess_by_atom()\n",
    "    mf.kernel(dm)\n",
    "    dump_scf(mf.mol, 'scf.hdf5', mf.energy_tot(), mf.mo_energy, mf.mo_coeff, mf.mo_occ)\n",
    "    return mf\n",
    "\n",
    "def run_lda_be(scf_checkfile):\n",
    "    print(\"Be atom neutral LDA spin=2\")\n",
    "    mol = gto.M(atom=\"Be 0. 0. 0.\", spin=2,basis=f'ccpvdz', unit='bohr')\n",
    "    print(\"HF\")\n",
    "    mf = scf.UHF(mol)\n",
    "    mf.kernel()\n",
    "    print(\"LDA\")        \n",
    "    mf = dft.UKS(mol)\n",
    "    # mf.verbose=6\n",
    "    mf.chkfile = scf_checkfile\n",
    "    dm = mf.init_guess_by_atom()\n",
    "    mf.kernel(dm, xc='LDA')\n",
    "    return mf\n",
    "\n",
    "def run_lda_li(scf_checkfile):\n",
    "    print(\"Li atom neutral LDA spin=1\")\n",
    "    mol = gto.M(atom=\"Li 0. 0. 0.\",basis=f'ccpvtz', spin=1, unit='bohr')\n",
    "    print(\"HF\")\n",
    "    mf = scf.UHF(mol)\n",
    "    mf.kernel()\n",
    "    print(\"LDA\")    \n",
    "    mf = dft.UKS(mol)\n",
    "    # mf.verbose=6\n",
    "    mf.chkfile = scf_checkfile\n",
    "    dm = mf.init_guess_by_atom()\n",
    "    mf.kernel(dm, xc='LDA')\n",
    "    return mf\n",
    "\n",
    "def run_lda_he(scf_checkfile):\n",
    "    print(\"He atom neutral LDA spin=0\")\n",
    "    # mol = gto.M(atom=\"He 0. 0. 0.\", basis=\"ccECP_cc-pVDZ\", ecp=\"ccecp\", unit='bohr')\n",
    "    mol = gto.M(atom=\"He 0. 0. 0.\", basis=\"ccpvdz\", unit='bohr')    \n",
    "    print(\"HF\")\n",
    "    mf = scf.UHF(mol)\n",
    "    mf.kernel()\n",
    "    print(\"LDA\")    \n",
    "    mf = dft.UKS(mol)\n",
    "    # mf.verbose=6\n",
    "    mf.chkfile = scf_checkfile\n",
    "    dm = mf.init_guess_by_atom()\n",
    "    mf.kernel(dm, xc='LDA')\n",
    "    return mf\n",
    "\n",
    "def run_lda_h2(scf_checkfile):\n",
    "    mol = gto.M(atom=\"H 0. 0. 0.; H 0. 0. 2\", spin = 2, basis=f'ccecpccpvdz', unit='bohr')\n",
    "    mf = dft.UKS(mol)\n",
    "    # mf.verbose=6\n",
    "    mf.chkfile = scf_checkfile\n",
    "    dm = mf.init_guess_by_atom()\n",
    "    mf.xc='LDA, VWN'\n",
    "    mf.kernel()    \n",
    "    # mf.kernel(dm, xc='LDA,VWN')\n",
    "    return mf\n",
    "\n",
    "def run_lda(scf_checkfile):\n",
    "    mol = gto.M(atom=\"H 0. 0. 0.\", spin=1,basis=f'ccecpccpvdz', unit='bohr')\n",
    "    mf = dft.UKS(mol)\n",
    "    # mf.verbose=6\n",
    "    mf.chkfile = scf_checkfile\n",
    "    dm = mf.init_guess_by_atom()\n",
    "    mf.kernel(dm, xc='LDA')\n",
    "    return mf\n",
    "    \n",
    "def run_casscf(scf_checkfile, ci_checkfile):\n",
    "    cell, mf = pyq.recover_pyscf(scf_checkfile, cancel_outputs=False)\n",
    "    mc = mcscf.CASSCF(mf,2,2)\n",
    "    mc.chkfile = ci_checkfile\n",
    "    mc.kernel()\n",
    "    with h5py.File(mc.chkfile, \"a\") as f:\n",
    "        print(\"Available output from CASSCF:\", f[\"mcscf\"].keys())\n",
    "        f[\"mcscf/nelecas\"] = list(mc.nelecas)\n",
    "        f[\"mcscf/ci\"] = mc.ci\n",
    "    return mc\n",
    "\n",
    "def run_casci(scf_checkfile, ci_checkfile):\n",
    "    cell, mf = pyq.recover_pyscf(scf_checkfile, cancel_outputs=False)\n",
    "    # ncas: orbitals\n",
    "    # nelecas: electrons\n",
    "    ncas = 4\n",
    "    nelecas = 2\n",
    "    mc = mcscf.CASCI(mf, ncas, nelecas)\n",
    "    mc.kernel()\n",
    "    print(mc.__dict__.keys())\n",
    "    with h5py.File(ci_checkfile, \"a\") as f:\n",
    "        f.create_group(\"ci\")\n",
    "        f[\"ci/ncas\"] = mc.ncas\n",
    "        f[\"ci/nelecas\"] = list(mc.nelecas)\n",
    "        f[\"ci/ci\"] = mc.ci\n",
    "        f[\"ci/mo_coeff\"] = mc.mo_coeff\n",
    "        print(\"Available output from CASCI:\", f[\"ci\"].keys())\n",
    "    return mc\n",
    "\n",
    "def make_wf_object(scf_checkfile, ci_checkfile):\n",
    "    mol, mf, mc = pyq.recover_pyscf(scf_checkfile, ci_checkfile=ci_checkfile)\n",
    "    wf, _ = pyq.generate_wf(mol, mf, mc=mc)\n",
    "    return wf\n",
    "\n",
    "def stat_qmc(etot, filename):\n",
    "    block_sizes = np.linspace(2,len(etot[discard:])//16, 10, dtype=int)\n",
    "    reblocks = [len(etot)//s for s in block_sizes]\n",
    "\n",
    "    plt.figure()\n",
    "    df = pd.DataFrame([pyq.read_mc_output(filename, warmup=discard, reblock=reblock) for reblock in reblocks])\n",
    "    df['block_size'] = block_sizes\n",
    "    plt.plot(\"block_size\",'energytotal_err',data=df, marker='o')\n",
    "    plt.xlabel(\"Block size\")\n",
    "    plt.ylabel(\"Estimated uncertainty (Ha)\")\n",
    "\n",
    "def reblock(e, discard, reblock_size):\n",
    "    e = e[discard:]\n",
    "    vals = pyqmc.reblock.reblock(e,int(len(e)/reblock_size))\n",
    "    # import pdb\n",
    "    # pdb.set_trace()\n",
    "    \n",
    "    e_m  = np.mean(vals, axis=0)\n",
    "    e_d  = scipy.stats.sem(vals, axis=0)    \n",
    "    return e, e_m, e_d\n",
    "\n",
    "scf_checkfile = \"scf.hdf5\"\n",
    "ci_checkfile = \"ci.hdf5\"\n",
    "# mf = run_scf(scf_checkfile)\n",
    "mf_lda = run_lda_be(scf_checkfile)\n",
    "\n",
    "# mc = run_casci(scf_checkfile, ci_checkfile)"
   ]
  },
  {
   "cell_type": "code",
   "execution_count": 47,
   "id": "6df2d3c1-328a-434c-b66b-712b56def7e5",
   "metadata": {},
   "outputs": [
    {
     "name": "stdout",
     "output_type": "stream",
     "text": [
      "step  0\n",
      "step  1\n",
      "step  2\n",
      "step  3\n",
      "step  4\n"
     ]
    },
    {
     "data": {
      "text/html": [
       "<div>\n",
       "<style scoped>\n",
       "    .dataframe tbody tr th:only-of-type {\n",
       "        vertical-align: middle;\n",
       "    }\n",
       "\n",
       "    .dataframe tbody tr th {\n",
       "        vertical-align: top;\n",
       "    }\n",
       "\n",
       "    .dataframe thead th {\n",
       "        text-align: right;\n",
       "    }\n",
       "</style>\n",
       "<table border=\"1\" class=\"dataframe\">\n",
       "  <thead>\n",
       "    <tr style=\"text-align: right;\">\n",
       "      <th></th>\n",
       "      <th>energy</th>\n",
       "      <th>iteration</th>\n",
       "      <th>error</th>\n",
       "      <th>fname</th>\n",
       "    </tr>\n",
       "  </thead>\n",
       "  <tbody>\n",
       "    <tr>\n",
       "      <th>0</th>\n",
       "      <td>-14.001176</td>\n",
       "      <td>0</td>\n",
       "      <td>0.193588</td>\n",
       "      <td>sj.hdf5</td>\n",
       "    </tr>\n",
       "    <tr>\n",
       "      <th>1</th>\n",
       "      <td>-11.674860</td>\n",
       "      <td>1</td>\n",
       "      <td>0.182114</td>\n",
       "      <td>sj.hdf5</td>\n",
       "    </tr>\n",
       "    <tr>\n",
       "      <th>2</th>\n",
       "      <td>-10.323343</td>\n",
       "      <td>2</td>\n",
       "      <td>0.074085</td>\n",
       "      <td>sj.hdf5</td>\n",
       "    </tr>\n",
       "    <tr>\n",
       "      <th>3</th>\n",
       "      <td>-9.489546</td>\n",
       "      <td>3</td>\n",
       "      <td>0.138127</td>\n",
       "      <td>sj.hdf5</td>\n",
       "    </tr>\n",
       "    <tr>\n",
       "      <th>4</th>\n",
       "      <td>-8.084029</td>\n",
       "      <td>4</td>\n",
       "      <td>0.275783</td>\n",
       "      <td>sj.hdf5</td>\n",
       "    </tr>\n",
       "  </tbody>\n",
       "</table>\n",
       "</div>"
      ],
      "text/plain": [
       "      energy  iteration     error    fname\n",
       "0 -14.001176          0  0.193588  sj.hdf5\n",
       "1 -11.674860          1  0.182114  sj.hdf5\n",
       "2 -10.323343          2  0.074085  sj.hdf5\n",
       "3  -9.489546          3  0.138127  sj.hdf5\n",
       "4  -8.084029          4  0.275783  sj.hdf5"
      ]
     },
     "execution_count": 47,
     "metadata": {},
     "output_type": "execute_result"
    }
   ],
   "source": [
    "import importlib, recipes, bosonrecipes, bosonslater, bosonwf, bosonaccumulators, bosonjastrowspin, bosonlinemin, bosonmc, bosonmultiplywf, bosonwftools \n",
    "modules = [recipes, bosonrecipes, bosonrecipes, bosonslater, bosonwf, bosonaccumulators, bosonjastrowspin, bosonlinemin, bosonmc, bosonmultiplywf, bosonwftools] # Reloads recipes.py file after each update\n",
    "for m in modules:\n",
    "    importlib.reload(m)\n",
    "\n",
    "    # Jastrow optimizationn\n",
    "    \n",
    "for fname in ['sj.hdf5']:\n",
    "    if os.path.isfile(fname):\n",
    "        os.remove(fname)\n",
    "\n",
    "# pyq.OPTIMIZE(scf_checkfile, \"sj.hdf5\", ci_checkfile=ci_checkfile, max_iterations=2, verbose=False)\n",
    "# bosonrecipes.ABOPTIMIZE(scf_checkfile, \"sj.hdf5\", max_iterations=2, nconfig=100, verbose=False)\n",
    "recipes.OPTIMIZE(scf_checkfile, \"sj.hdf5\", max_iterations=5, nconfig=1000, verbose=False)\n",
    "# Jastrow optimization results\n",
    "df = pyq.read_opt(\"sj.hdf5\")\n",
    "df"
   ]
  },
  {
   "cell_type": "code",
   "execution_count": 48,
   "id": "a21b12c9-2f91-4520-bfdb-8af35de38c53",
   "metadata": {
    "tags": []
   },
   "outputs": [],
   "source": [
    "tstep = 0.001\n",
    "nconfig = 2000\n",
    "nsteps = 1000\n",
    "discard = 100\n",
    "reblock_size = 50"
   ]
  },
  {
   "cell_type": "code",
   "execution_count": 49,
   "id": "1e5ec896-5c38-49be-a9c2-bf0ec1dc7fd2",
   "metadata": {
    "tags": []
   },
   "outputs": [],
   "source": [
    "import importlib, recipes, abdmc, wftools, bosonslater, bosonwftools, determinant_tools, mc, dmc, slater, orbitals, accumulators, energy, jastrowspin, multiplywf\n",
    "modules = [recipes, abdmc, wftools, bosonslater, bosonwftools, determinant_tools, mc, dmc, slater, orbitals, accumulators, energy, jastrowspin, multiplywf] # Reloads recipes.py file after each update\n",
    "for m in modules:\n",
    "    importlib.reload(m)\n",
    "import pyqmc.pyscftools as pyscftools\n",
    "\n",
    "def initialize_boson_qmc_objects_j(\n",
    "    dft_checkfile,\n",
    "):  \n",
    "    mol, mf = pyscftools.recover_pyscf(scf_checkfile)\n",
    "    wf, to_opt = bosonwftools.generate_boson_wf(\n",
    "        mol, mf,\n",
    "    )\n",
    "    load_parameters = 'sj.hdf5'\n",
    "    wftools.read_wf(wf, load_parameters)      \n",
    "    return wf\n",
    "\n",
    "def initialize_qmc_objects_j(\n",
    "    dft_checkfile: str,\n",
    "):\n",
    "    mol, mf = pyscftools.recover_pyscf(dft_checkfile)\n",
    "    wf, to_opt = wftools.generate_wf(\n",
    "        mol, mf, \n",
    "    )\n",
    "    load_parameters = 'sj.hdf5'\n",
    "    wftools.read_wf(wf, load_parameters)      \n",
    "    return wf"
   ]
  },
  {
   "cell_type": "code",
   "execution_count": null,
   "id": "82cbd819-208b-4279-b4ba-154e02a5e681",
   "metadata": {},
   "outputs": [],
   "source": []
  },
  {
   "cell_type": "code",
   "execution_count": null,
   "id": "8d898801-3a11-4ec2-b0b1-0a18d2699b3b",
   "metadata": {},
   "outputs": [],
   "source": []
  },
  {
   "cell_type": "code",
   "execution_count": 51,
   "id": "7acd1e65-5689-4745-ac50-9629b41578e7",
   "metadata": {},
   "outputs": [
    {
     "data": {
      "text/plain": [
       "Text(0.5, 1.0, '100 trials')"
      ]
     },
     "execution_count": 51,
     "metadata": {},
     "output_type": "execute_result"
    },
    {
     "data": {
      "image/png": "[encoded data removed]",
      "text/plain": [
       "<Figure size 640x480 with 1 Axes>"
      ]
     },
     "metadata": {},
     "output_type": "display_data"
    }
   ],
   "source": [
    "#phi and phib\n",
    "trials = 100\n",
    "for i in range(trials):\n",
    "    nconfig = 100\n",
    "    mol, mf = pyscftools.recover_pyscf(scf_checkfile)\n",
    "    configs = bosonmc.initial_guess(mol, nconfig, seed = i)\n",
    "    wfb = initialize_boson_qmc_objects_j(\n",
    "        scf_checkfile,\n",
    "    )\n",
    "    wf = initialize_qmc_objects_j(\n",
    "            scf_checkfile,\n",
    "        )\n",
    "    e=0\n",
    "    sign, phi1 = wf.recompute(configs)\n",
    "    g1, phi, saved1 = wf.gradient_value(e, configs.electron(e))  \n",
    "    # phi1a = saved['phi']\n",
    "    e=0\n",
    "    signb, phi2 = wfb.recompute(configs)\n",
    "    g1b, saved2 = wfb.gradient_value(e, configs.electron(e))\n",
    "    phi2a = saved2['psi']\n",
    "    \n",
    "    plt.scatter(np.exp(phi1), phi2)\n",
    "x = np.linspace(0, 0.2, 100)\n",
    "plt.plot(x,x)\n",
    "plt.xlabel(r'$\\Psi_B(R)$')\n",
    "plt.ylabel(r'Abs($e^{log(\\Psi(R))}$)')\n",
    "plt.title(str(trials) + ' trials')"
   ]
  },
  {
   "cell_type": "code",
   "execution_count": 36,
   "id": "4a2b66fa-7ba6-4076-9658-7fd824dfe4fa",
   "metadata": {
    "tags": []
   },
   "outputs": [
    {
     "data": {
      "text/plain": [
       "Text(0.5, 1.0, '100 configurations')"
      ]
     },
     "execution_count": 36,
     "metadata": {},
     "output_type": "execute_result"
    },
    {
     "data": {
      "image/png": "[encoded data removed]",
      "text/plain": [
       "<Figure size 640x480 with 1 Axes>"
      ]
     },
     "metadata": {},
     "output_type": "display_data"
    }
   ],
   "source": [
    "#Val and valb\n",
    "trials = 100\n",
    "for i in range(trials):\n",
    "    nconfig = 100\n",
    "    mol, mf = pyscftools.recover_pyscf(scf_checkfile)\n",
    "    configs = bosonmc.initial_guess(mol, nconfig, seed = i)\n",
    "    wfb = initialize_boson_qmc_objects_j(\n",
    "        scf_checkfile,\n",
    "    )\n",
    "    wf = initialize_qmc_objects_j(\n",
    "            scf_checkfile,\n",
    "        )\n",
    "    e=0\n",
    "    sign, val = wf.recompute(configs)\n",
    "    g1, val2, (aograd, mograd) = wf.gradient_value(e, configs.electron(e))  \n",
    "    e=0\n",
    "    signb, valb = wfb.recompute(configs)\n",
    "    g1b, saved = wfb.gradient_value(e, configs.electron(e))\n",
    "    valb2 = saved['psi']\n",
    "    plt.scatter(np.exp(val), valb)\n",
    "x = np.linspace(0, 0.7, 100)\n",
    "plt.plot(x,x)\n",
    "plt.xlabel('Bosonic with jastrow')\n",
    "plt.ylabel('Fermionic with jastrow')\n",
    "plt.title(str(trials) + ' configurations')"
   ]
  },
  {
   "cell_type": "code",
   "execution_count": null,
   "id": "f5fb4753-dbf3-432f-9fc6-4a6b3c2a28fc",
   "metadata": {},
   "outputs": [],
   "source": []
  },
  {
   "cell_type": "code",
   "execution_count": null,
   "id": "ff73869b-908d-4a4e-8057-68e79318cacf",
   "metadata": {},
   "outputs": [],
   "source": []
  }
 ],
 "metadata": {
  "kernelspec": {
   "display_name": "Python 3 (ipykernel)",
   "language": "python",
   "name": "python3"
  },
  "language_info": {
   "codemirror_mode": {
    "name": "ipython",
    "version": 3
   },
   "file_extension": ".py",
   "mimetype": "text/x-python",
   "name": "python",
   "nbconvert_exporter": "python",
   "pygments_lexer": "ipython3",
   "version": "3.11.6"
  }
 },
 "nbformat": 4,
 "nbformat_minor": 5
}
