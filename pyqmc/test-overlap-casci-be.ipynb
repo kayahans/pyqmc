{
 "cells": [
  {
   "cell_type": "code",
   "execution_count": 10,
   "id": "bcac56e6-5690-45d8-bf04-8278d8e9908d",
   "metadata": {
    "tags": []
   },
   "outputs": [],
   "source": [
    "import matplotlib.pyplot as plt\n",
    "import numpy as np\n",
    "import copy\n",
    "import h5py\n",
    "import os\n",
    "import seaborn as sns\n",
    "from pyscf.scf.uhf import det_ovlp"
   ]
  },
  {
   "cell_type": "markdown",
   "id": "ef3a5139-7fae-4b57-a8d2-386912139c29",
   "metadata": {},
   "source": [
    "# Testing in parallel code"
   ]
  },
  {
   "cell_type": "code",
   "execution_count": 11,
   "id": "6a0cd3fa-8d97-452f-b762-a0a8d2b9fdfb",
   "metadata": {},
   "outputs": [],
   "source": [
    "def plot_delta_ovlp(filename=\"abvmc.hdf5\", discard = 2, annot=True):\n",
    "    f = h5py.File(filename, \"r\")    \n",
    "    keys = f.keys()\n",
    "    \n",
    "    fig, ax = plt.subplots(3, 2, figsize = (12, 15))    \n",
    "    ovlp_ij_raw=np.array(f['excitationsovlp_ij'])\n",
    "    delta_ij_raw=np.array(f['excitationsdelta'])\n",
    "    discard = 2\n",
    "    ovlp_ij = np.average(ovlp_ij_raw[discard:], axis=0)\n",
    "    # plt.figure()\n",
    "    sns.heatmap(ovlp_ij, ax=ax[0, 0], annot=annot)\n",
    "    ax[0, 0].set_title('Overlap matrix')\n",
    "    # plt.title('Overlap matrix')\n",
    "\n",
    "    ovlp_ij_std = np.std(ovlp_ij_raw[discard:], axis=0)\n",
    "    sns.heatmap(ovlp_ij_std, ax=ax[1, 0], annot=annot)\n",
    "    ax[1, 0].set_title('Standard deviation of overlap matrix')\n",
    "    \n",
    "    filtered_ovlp_ij = copy.deepcopy(ovlp_ij)\n",
    "    filtered_ovlp_ij[ovlp_ij_std>np.abs(ovlp_ij)] = 0\n",
    "    sns.heatmap(filtered_ovlp_ij, ax=ax[2, 0], annot=annot)\n",
    "    ax[2, 0].set_title('Filtered overlap matrix')\n",
    "    \n",
    "\n",
    "\n",
    "    delta_ij = np.average(delta_ij_raw[discard:], axis=0)\n",
    "    sns.heatmap(delta_ij, ax=ax[0, 1], annot=annot)\n",
    "    ax[0, 1].set_title('Delta matrix')\n",
    "                       \n",
    "    delta_ij_std = np.std(delta_ij_raw[discard:], axis=0)\n",
    "    sns.heatmap(delta_ij_std, ax=ax[1, 1], annot=annot)\n",
    "    ax[1, 1].set_title('Standard deviation of delta matrix')\n",
    "    \n",
    "\n",
    "    filtered_delta_ij = copy.deepcopy(delta_ij)\n",
    "    filtered_delta_ij[delta_ij_std>np.abs(delta_ij)] = 0\n",
    "    sns.heatmap(filtered_delta_ij, ax=ax[2, 1], annot=annot)\n",
    "    ax[2, 1].set_title('Filtered Delta matrix')\n",
    "    \n",
    "    return {'filtered': [filtered_ovlp_ij, filtered_delta_ij], \n",
    "            'raw': [ovlp_ij_raw, delta_ij_raw]}\n",
    "# res = plot_delta_ovlp()"
   ]
  },
  {
   "cell_type": "code",
   "execution_count": null,
   "id": "0eaac2d5-5e1c-430d-b393-20f1a351953e",
   "metadata": {},
   "outputs": [],
   "source": [
    "res = plot_delta_ovlp(\"li_vmc_cas_3_nelecas_2_1.hdf\", discard=10, annot=True)"
   ]
  },
  {
   "cell_type": "code",
   "execution_count": 5,
   "id": "fe5af799-5e48-4c33-bf75-9744dce22f93",
   "metadata": {},
   "outputs": [],
   "source": []
  },
  {
   "cell_type": "code",
   "execution_count": null,
   "id": "a19057a0-3ed0-4aa8-98a0-68d6faf5bb5c",
   "metadata": {},
   "outputs": [],
   "source": []
  },
  {
   "cell_type": "code",
   "execution_count": null,
   "id": "5e084d7b-e71a-4e7e-af55-9cbed41cfefb",
   "metadata": {},
   "outputs": [],
   "source": []
  },
  {
   "cell_type": "code",
   "execution_count": null,
   "id": "cd4868fd-8ce4-4d53-a476-4ed112e87cee",
   "metadata": {},
   "outputs": [],
   "source": []
  },
  {
   "cell_type": "code",
   "execution_count": null,
   "id": "12f1c071-2f57-4947-8a07-9c6ba60577da",
   "metadata": {},
   "outputs": [],
   "source": []
  },
  {
   "cell_type": "code",
   "execution_count": null,
   "id": "cb15cc83-ac81-4ba9-af79-1f911aab5067",
   "metadata": {},
   "outputs": [],
   "source": []
  }
 ],
 "metadata": {
  "kernelspec": {
   "display_name": "Python 3 (ipykernel)",
   "language": "python",
   "name": "python3"
  },
  "language_info": {
   "codemirror_mode": {
    "name": "ipython",
    "version": 3
   },
   "file_extension": ".py",
   "mimetype": "text/x-python",
   "name": "python",
   "nbconvert_exporter": "python",
   "pygments_lexer": "ipython3",
   "version": "3.11.6"
  }
 },
 "nbformat": 4,
 "nbformat_minor": 5
}
