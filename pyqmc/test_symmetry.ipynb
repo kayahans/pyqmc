{
 "cells": [
  {
   "cell_type": "code",
   "execution_count": 1,
   "id": "21949930-59e0-4d33-a47e-6905676c3dab",
   "metadata": {},
   "outputs": [],
   "source": [
    "import matplotlib.pyplot as plt\n",
    "import numpy as np\n",
    "import copy\n",
    "import h5py\n",
    "import os\n",
    "import seaborn as sns\n",
    "from pyscf.scf.uhf import det_ovlp"
   ]
  },
  {
   "cell_type": "code",
   "execution_count": 2,
   "id": "4e08c468-94f3-430d-b468-346b8de8fa1e",
   "metadata": {},
   "outputs": [],
   "source": [
    "# Wavefunction generation\n",
    "from pyscf import lib, gto, scf\n",
    "from pyscf import gto, mp, mcscf\n",
    "def H2_casci(scf_checkfile, ci_checkfile):\n",
    "    mol = gto.M(\n",
    "        atom=\"H 0. 0. 0.0; H 0. 0. 1.4\",\n",
    "        basis=f\"ccecpccpvqz\",\n",
    "        unit=\"bohr\",\n",
    "        charge=0,\n",
    "        spin=0,\n",
    "        verbose=1,\n",
    "    )\n",
    "    mf = scf.UHF(mol).run()\n",
    "    mf.chkfile = scf_checkfile\n",
    "    mf.kernel()\n",
    "    mc = mcscf.CASCI(mf, 3,2)\n",
    "    # mc.fcisolver.nroots = 4\n",
    "    mc.kernel()\n",
    "    print(mc.__dict__.keys())\n",
    "    with h5py.File(ci_checkfile, \"a\") as f:\n",
    "        f.create_group(\"ci\")\n",
    "        f[\"ci/ncas\"] = mc.ncas\n",
    "        f[\"ci/nelecas\"] = list(mc.nelecas)\n",
    "        f[\"ci/ci\"] = mc.ci\n",
    "        f[\"ci/mo_coeff\"] = mc.mo_coeff    \n",
    "    return mol, mf, mc"
   ]
  },
  {
   "cell_type": "code",
   "execution_count": 3,
   "id": "42ee52fe-9f61-4068-b586-553668c1e7a5",
   "metadata": {},
   "outputs": [
    {
     "name": "stdout",
     "output_type": "stream",
     "text": [
      "dict_keys(['mol', '_scf', 'verbose', 'stdout', 'max_memory', 'ncas', 'nelecas', '_ncore', 'fcisolver', 'frozen', 'extrasym', 'e_tot', 'e_cas', 'ci', 'mo_coeff', 'mo_energy', 'mo_occ', 'converged'])\n"
     ]
    }
   ],
   "source": [
    "scf_checkfile = 'rohf.chk'\n",
    "ci_checkfile = 'casci.chk'\n",
    "for fname in [scf_checkfile, ci_checkfile]:\n",
    "    if os.path.isfile(fname):\n",
    "        os.remove(fname)\n",
    "mol, mf, mcc = H2_casci(scf_checkfile, ci_checkfile)"
   ]
  },
  {
   "cell_type": "code",
   "execution_count": null,
   "id": "d5c5e2b4-420f-40cd-b177-da00881023d9",
   "metadata": {},
   "outputs": [],
   "source": []
  },
  {
   "cell_type": "code",
   "execution_count": 4,
   "id": "92de75fb-707b-487e-b162-49d7af670581",
   "metadata": {},
   "outputs": [],
   "source": [
    "import bosonslater \n",
    "import pyscftools, mc\n",
    "wf1 = bosonslater.BosonWF(mol, mf, mc=mcc)\n",
    "\n",
    "nconfig = 1000\n",
    "mol, mf = pyscftools.recover_pyscf(scf_checkfile)\n",
    "configs = mc.initial_guess(mol, nconfig)"
   ]
  },
  {
   "cell_type": "code",
   "execution_count": null,
   "id": "f4bda2d8-c3aa-4f19-9f3d-c5d633715bed",
   "metadata": {},
   "outputs": [],
   "source": [
    "signb, phib = wf1.recompute(configs)\n",
    "sign, logval = wf1.value()\n",
    "val = np.exp(logval)\n",
    "rho = val**2 \n",
    "rho.shape"
   ]
  },
  {
   "cell_type": "code",
   "execution_count": null,
   "id": "56404564-7919-4b56-bb65-51b383e62776",
   "metadata": {},
   "outputs": [],
   "source": [
    "inv_center = np.array([0., 0., 0.7])"
   ]
  },
  {
   "cell_type": "code",
   "execution_count": 26,
   "id": "65d0ed8e-ea39-4614-a488-1b6d8bb6afcf",
   "metadata": {},
   "outputs": [],
   "source": [
    "from wftools import generate_slater\n",
    "wfs = []\n",
    "num_det = mcc.ci.shape[0] * mcc.ci.shape[1]\n",
    "\n",
    "for i in range(mcc.ci.shape[0]):\n",
    "    for j in range(mcc.ci.shape[1]):\n",
    "        mc0 = copy.copy(mcc)\n",
    "        mc0.ci = mcc.ci * 0\n",
    "        mc0.ci[i, j] = 1 # zero all coefficients except one, this is probably quite inefficient, but should work for now.\n",
    "        wf0, _ = generate_slater(mol, mf, mc=mc0, optimize_determinants=False)\n",
    "        wfs.append(wf0)"
   ]
  },
  {
   "cell_type": "code",
   "execution_count": 60,
   "id": "2912fac1-fc94-4c03-bbbc-2460e1f5fdcb",
   "metadata": {},
   "outputs": [
    {
     "data": {
      "text/plain": [
       "array([[-0.16270017, -0.96467596, -1.70554183],\n",
       "       [-0.95214724,  1.39128028,  2.15723709]])"
      ]
     },
     "execution_count": 60,
     "metadata": {},
     "output_type": "execute_result"
    }
   ],
   "source": [
    "configs.configs[0]"
   ]
  },
  {
   "cell_type": "markdown",
   "id": "ec9c1d34-7649-4408-9fdc-e99f239154e1",
   "metadata": {},
   "source": [
    "# Inversion"
   ]
  },
  {
   "cell_type": "code",
   "execution_count": 61,
   "id": "f79812d3-b702-4df9-b157-84f3d68b4df2",
   "metadata": {},
   "outputs": [
    {
     "data": {
      "text/plain": [
       "array([[ 0.16270017,  0.96467596,  3.10554183],\n",
       "       [ 0.95214724, -1.39128028, -0.75723709]])"
      ]
     },
     "execution_count": 61,
     "metadata": {},
     "output_type": "execute_result"
    }
   ],
   "source": [
    "conf2 = copy.deepcopy(configs)\n",
    "conf2.configs = 2*inv_center - conf2.configs\n",
    "conf2.configs[0]"
   ]
  },
  {
   "cell_type": "code",
   "execution_count": 109,
   "id": "2a691b81-a262-4ff8-8f96-aba5f06158f8",
   "metadata": {},
   "outputs": [
    {
     "data": {
      "text/plain": [
       "array([[-0.16270017, -0.96467596, -1.70554183],\n",
       "       [-0.95214724,  1.39128028,  2.15723709]])"
      ]
     },
     "execution_count": 109,
     "metadata": {},
     "output_type": "execute_result"
    }
   ],
   "source": [
    "configs.configs[0]"
   ]
  },
  {
   "cell_type": "code",
   "execution_count": 57,
   "id": "77156930-638c-4685-9d72-3f3e538e8052",
   "metadata": {},
   "outputs": [
    {
     "name": "stdout",
     "output_type": "stream",
     "text": [
      "0 1\n",
      "1 -1\n",
      "2 1\n",
      "3 -1\n",
      "4 1\n",
      "5 -1\n",
      "6 1\n",
      "7 -1\n",
      "8 1\n"
     ]
    }
   ],
   "source": [
    "for i, wf in enumerate(wfs): \n",
    "    s0, lv0 = wf.recompute(configs)\n",
    "    s1, lv1 = wf.recompute(conf2)\n",
    "    # print(np.sum(s0), np.sum(s1))\n",
    "    v0 = s0 * np.exp(lv0)\n",
    "    v1 = s1 * np.exp(lv1)\n",
    "    if (np.abs(v1 - v0) < 10**-12).all():\n",
    "        print(i, '1')\n",
    "    elif (np.abs(v1 + v0) < 10**-12).all():\n",
    "        print(i, '-1')\n",
    "        \n",
    "    # prod = s1 * np.exp("
   ]
  },
  {
   "cell_type": "markdown",
   "id": "fa5c761c-cbb4-4fe9-bf19-811d2d17baab",
   "metadata": {},
   "source": [
    "# Reflection on YZ plane"
   ]
  },
  {
   "cell_type": "code",
   "execution_count": 106,
   "id": "ddcc1b02-1ad8-4826-943a-1c3413e0c883",
   "metadata": {},
   "outputs": [
    {
     "data": {
      "text/plain": [
       "array([[ 0.16270017, -0.96467596, -1.70554183],\n",
       "       [ 0.95214724,  1.39128028,  2.15723709]])"
      ]
     },
     "execution_count": 106,
     "metadata": {},
     "output_type": "execute_result"
    }
   ],
   "source": [
    "conf2 = copy.deepcopy(configs)\n",
    "# conf2.configs = conf2.configs * np.array([-1, 1, 1])\n",
    "conf2.configs[:, :, 0]= 2*inv_center[0] - conf2.configs[:, :, 0]\n",
    "conf2.configs[0]"
   ]
  },
  {
   "cell_type": "code",
   "execution_count": 107,
   "id": "55c8236a-c654-4783-87fa-2b431076d8fb",
   "metadata": {},
   "outputs": [
    {
     "name": "stdout",
     "output_type": "stream",
     "text": [
      "0 1\n",
      "1 1\n",
      "2 1\n",
      "3 1\n",
      "4 1\n",
      "5 1\n",
      "6 1\n",
      "7 1\n",
      "8 1\n"
     ]
    }
   ],
   "source": [
    "for i, wf in enumerate(wfs): \n",
    "    s0, lv0 = wf.recompute(configs)\n",
    "    s1, lv1 = wf.recompute(conf2)\n",
    "    # print(np.sum(s0), np.sum(s1))\n",
    "    v0 = s0 * np.exp(lv0)\n",
    "    v1 = s1 * np.exp(lv1)\n",
    "    if (np.abs(v1 - v0) < 10**-12).all():\n",
    "        print(i, '1')\n",
    "    elif (np.abs(v1 + v0) < 10**-12).all():\n",
    "        print(i, '-1')\n",
    "        \n",
    "    # prod = s1 * np.exp("
   ]
  },
  {
   "cell_type": "markdown",
   "id": "2c54c9e8-baa8-4715-b27b-2ffe9cbb4b0c",
   "metadata": {},
   "source": [
    "# Reflection on XZ plane"
   ]
  },
  {
   "cell_type": "code",
   "execution_count": 104,
   "id": "197b0f55-2986-4eac-86db-4a057f719782",
   "metadata": {},
   "outputs": [
    {
     "data": {
      "text/plain": [
       "array([[-0.16270017,  0.96467596, -1.70554183],\n",
       "       [-0.95214724, -1.39128028,  2.15723709]])"
      ]
     },
     "execution_count": 104,
     "metadata": {},
     "output_type": "execute_result"
    }
   ],
   "source": [
    "conf2 = copy.deepcopy(configs)\n",
    "# conf2.configs = conf2.configs * np.array([1, -1, 1])\n",
    "conf2.configs[:, :, 1]= 2*inv_center[1] - conf2.configs[:, :, 1]\n",
    "conf2.configs[0]"
   ]
  },
  {
   "cell_type": "code",
   "execution_count": 108,
   "id": "92c960be-cdaa-4269-8327-f381b11814f1",
   "metadata": {},
   "outputs": [
    {
     "data": {
      "text/plain": [
       "array([[-0.16270017, -0.96467596, -1.70554183],\n",
       "       [-0.95214724,  1.39128028,  2.15723709]])"
      ]
     },
     "execution_count": 108,
     "metadata": {},
     "output_type": "execute_result"
    }
   ],
   "source": [
    "configs.configs[0]"
   ]
  },
  {
   "cell_type": "code",
   "execution_count": 105,
   "id": "4a42fbd7-ed41-4f0d-89bd-dd934204622f",
   "metadata": {},
   "outputs": [
    {
     "name": "stdout",
     "output_type": "stream",
     "text": [
      "0 1\n",
      "1 1\n",
      "2 1\n",
      "3 1\n",
      "4 1\n",
      "5 1\n",
      "6 1\n",
      "7 1\n",
      "8 1\n"
     ]
    }
   ],
   "source": [
    "for i, wf in enumerate(wfs): \n",
    "    s0, lv0 = wf.recompute(configs)\n",
    "    s1, lv1 = wf.recompute(conf2)\n",
    "    # print(np.sum(s0), np.sum(s1))\n",
    "    v0 = s0 * np.exp(lv0)\n",
    "    v1 = s1 * np.exp(lv1)\n",
    "    if (np.abs(v1 - v0) < 10**-12).all():\n",
    "        print(i, '1')\n",
    "    elif (np.abs(v1 + v0) < 10**-12).all():\n",
    "        print(i, '-1')\n",
    "        \n",
    "    # prod = s1 * np.exp("
   ]
  },
  {
   "cell_type": "markdown",
   "id": "00115cdd-4cf0-4187-a800-4ef96bf56300",
   "metadata": {},
   "source": [
    "# Reflection on XY plane"
   ]
  },
  {
   "cell_type": "code",
   "execution_count": 99,
   "id": "bbea7632-cad7-403a-a08a-da408343df23",
   "metadata": {},
   "outputs": [
    {
     "data": {
      "text/plain": [
       "array([[-0.16270017, -0.96467596,  3.10554183],\n",
       "       [-0.95214724,  1.39128028, -0.75723709]])"
      ]
     },
     "execution_count": 99,
     "metadata": {},
     "output_type": "execute_result"
    }
   ],
   "source": [
    "conf2 = copy.deepcopy(configs)\n",
    "conf2.configs[:, :, 2]= 2*inv_center[2] - conf2.configs[:, :, 2]\n",
    "conf2.configs[0]"
   ]
  },
  {
   "cell_type": "code",
   "execution_count": 100,
   "id": "285217d9-cea5-419f-8710-258f7bcd9623",
   "metadata": {},
   "outputs": [
    {
     "data": {
      "text/plain": [
       "array([[-0.16270017, -0.96467596, -1.70554183],\n",
       "       [-0.95214724,  1.39128028,  2.15723709]])"
      ]
     },
     "execution_count": 100,
     "metadata": {},
     "output_type": "execute_result"
    }
   ],
   "source": [
    "configs.configs[0]"
   ]
  },
  {
   "cell_type": "code",
   "execution_count": 103,
   "id": "5ab3868a-bd53-4dcb-8926-50315240ec82",
   "metadata": {},
   "outputs": [
    {
     "name": "stdout",
     "output_type": "stream",
     "text": [
      "0 1\n",
      "1 -1\n",
      "2 1\n",
      "3 -1\n",
      "4 1\n",
      "5 -1\n",
      "6 1\n",
      "7 -1\n",
      "8 1\n"
     ]
    }
   ],
   "source": [
    "for i, wf in enumerate(wfs): \n",
    "    s0, lv0 = wf.recompute(configs)\n",
    "    s1, lv1 = wf.recompute(conf2)\n",
    "    # print(np.sum(s0), np.sum(s1))\n",
    "    v0 = s0 * np.exp(lv0)\n",
    "    v1 = s1 * np.exp(lv1)\n",
    "    if (np.abs(v1 - v0) < 10**-12).all():\n",
    "        print(i, '1')\n",
    "    elif (np.abs(v1 + v0) < 10**-12).all():\n",
    "        print(i, '-1')\n",
    "        \n",
    "    # prod = s1 * np.exp("
   ]
  },
  {
   "cell_type": "code",
   "execution_count": null,
   "id": "601be2e0-4ca7-47fd-92ed-4439cf6b2196",
   "metadata": {},
   "outputs": [],
   "source": []
  },
  {
   "cell_type": "code",
   "execution_count": null,
   "id": "7cdaf5e6-c0e3-45b8-9dfb-669873906aa0",
   "metadata": {},
   "outputs": [],
   "source": []
  },
  {
   "cell_type": "code",
   "execution_count": null,
   "id": "40a02199-4214-4db6-affa-442653d8c7ce",
   "metadata": {},
   "outputs": [],
   "source": []
  }
 ],
 "metadata": {
  "kernelspec": {
   "display_name": "Python 3 (ipykernel)",
   "language": "python",
   "name": "python3"
  },
  "language_info": {
   "codemirror_mode": {
    "name": "ipython",
    "version": 3
   },
   "file_extension": ".py",
   "mimetype": "text/x-python",
   "name": "python",
   "nbconvert_exporter": "python",
   "pygments_lexer": "ipython3",
   "version": "3.11.6"
  }
 },
 "nbformat": 4,
 "nbformat_minor": 5
}
