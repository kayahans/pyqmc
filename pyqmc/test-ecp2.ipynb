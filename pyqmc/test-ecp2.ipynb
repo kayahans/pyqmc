{
 "cells": [
  {
   "cell_type": "code",
   "execution_count": 1,
   "id": "bcac56e6-5690-45d8-bf04-8278d8e9908d",
   "metadata": {
    "tags": []
   },
   "outputs": [
    {
     "name": "stderr",
     "output_type": "stream",
     "text": [
      "/Users/ksu/Software/anaconda3/lib/python3.11/site-packages/pyscf/dft/libxc.py:771: UserWarning: Since PySCF-2.3, B3LYP (and B3P86) are changed to the VWN-RPA variant, corresponding to the original definition by Stephens et al. (issue 1480) and the same as the B3LYP functional in Gaussian. To restore the VWN5 definition, you can put the setting \"B3LYP_WITH_VWN5 = True\" in pyscf_conf.py\n",
      "  warnings.warn('Since PySCF-2.3, B3LYP (and B3P86) are changed to the VWN-RPA variant, '\n"
     ]
    }
   ],
   "source": [
    "import matplotlib.pyplot as plt\n",
    "import numpy as np\n",
    "import os\n",
    "import h5py\n",
    "import api as pyq "
   ]
  },
  {
   "cell_type": "code",
   "execution_count": 2,
   "id": "6625c1e6-505e-4c73-bb02-071a75e92a71",
   "metadata": {
    "tags": []
   },
   "outputs": [
    {
     "name": "stdout",
     "output_type": "stream",
     "text": [
      "/Users/ksu/Documents/GitHub/pyqmc/pyqmc/api.py\n",
      "/Users/ksu/Software/anaconda3/lib/python3.11/site-packages/pyscf/__init__.py\n",
      "He atom neutral LDA spin=0\n",
      "HF\n",
      "converged SCF energy = -2.85516047724274  <S^2> = 0  2S+1 = 1\n",
      "LDA\n",
      "converged SCF energy = -2.82670655418611  <S^2> = 4.4408921e-16  2S+1 = 1\n"
     ]
    }
   ],
   "source": [
    "# Wavefunction generation\n",
    "from scf_runs import run_lda_he, run_casci\n",
    "scf_checkfile, opt_checkfile, mf_lda = run_lda_he()\n",
    "ci_checkfile, mc = run_casci(scf_checkfile, nroots=4)"
   ]
  },
  {
   "cell_type": "code",
   "execution_count": 14,
   "id": "f5fb4753-dbf3-432f-9fc6-4a6b3c2a28fc",
   "metadata": {},
   "outputs": [],
   "source": [
    "import importlib, slater, pyscftools,recipes, wftools, mc\n",
    "modules = [importlib, slater, pyscftools,recipes, wftools, mc]\n",
    "for m in modules:\n",
    "    importlib.reload(m)\n",
    "from pyscf.dft import numint, libxc\n",
    "\n",
    "mol, mf = pyscftools.recover_pyscf(scf_checkfile)\n",
    "wfs, to_opt = wftools.generate_wf(\n",
    "        mol, mf, mc=None, jastrow=None, jastrow_kws=None, slater_kws=None\n",
    "        )\n",
    "\n",
    "\n",
    "nconf = 100\n",
    "configs = mc.initial_guess(mol, nconf)\n",
    "# signs, phis = wfs.recompute(configs)\n",
    "\n"
   ]
  },
  {
   "cell_type": "code",
   "execution_count": 23,
   "id": "ff73869b-908d-4a4e-8057-68e79318cacf",
   "metadata": {},
   "outputs": [],
   "source": [
    "# value\n",
    "# import pyqmc.gpu as gpu\n",
    "# nelec = 2\n",
    "# e = 0\n",
    "# aos = wfs.orbitals.aos(\"GTOval_sph\", configs)\n",
    "# wfs._aovals = aos.reshape(-1, nconf, nelec, aos.shape[-1])\n",
    "# s = 0\n",
    "# begin = wfs._nelec[0] * s\n",
    "# end = wfs._nelec[0] + wfs._nelec[1] * s\n",
    "# mo = wfs.orbitals.mos(wfs._aovals[:, :, begin:end, :], s)\n",
    "# mo_vals = gpu.cp.swapaxes(mo[:, :, wfs._det_occup[s]], 1, 2)"
   ]
  },
  {
   "cell_type": "code",
   "execution_count": 27,
   "id": "8e49f9eb-7947-4835-bc0e-05d7accc5cd1",
   "metadata": {},
   "outputs": [],
   "source": [
    "# gradient\n",
    "# e = 0\n",
    "# epos = configs.electron(e)\n",
    "# s = int(e >= wfs._nelec[0])\n",
    "# aograd = wfs.orbitals.aos(\"GTOval_sph_deriv1\", epos)\n",
    "# mograd = wfs.orbitals.mos(aograd, s)\n",
    "# mograd_vals = mograd[:, :, wfs._det_occup[s]]"
   ]
  },
  {
   "cell_type": "code",
   "execution_count": 28,
   "id": "d17a528a-ab4c-4a89-ad2e-3c55a085ea90",
   "metadata": {},
   "outputs": [
    {
     "data": {
      "text/plain": [
       "(4, 100, 1, 1)"
      ]
     },
     "execution_count": 28,
     "metadata": {},
     "output_type": "execute_result"
    }
   ],
   "source": [
    "mograd_vals.shape"
   ]
  },
  {
   "cell_type": "code",
   "execution_count": 36,
   "id": "2bde85ba-fb11-4b6f-9304-15404219c182",
   "metadata": {},
   "outputs": [],
   "source": [
    "# val(x1), grad(x3), laplacian(x1)\n",
    "# e = 0\n",
    "# epos = configs.electron(e)\n",
    "s = int(e >= wfs._nelec[0])\n",
    "ao = wfs.orbitals.aos(\"GTOval_sph_deriv2\", epos)\n",
    "ao_val = ao[:, 0, :, :]\n",
    "ao_lap = gpu.cp.sum(ao[:, [4, 7, 9], :, :], axis=1)\n",
    "\n",
    "ao = gpu.cp.concatenate(\n",
    "            [ao[:, 0:4, ...], ao[:, [4, 7, 9], ...].sum(axis=1, keepdims=True)], axis=1\n",
    "        )\n",
    "mo = wfs.orbitals.mos(ao, s)\n",
    "mo_vals = mo[:, :, wfs._det_occup[s]]"
   ]
  },
  {
   "cell_type": "code",
   "execution_count": 39,
   "id": "f9dc71be-b73e-45cf-9055-8fc2faf6c4d3",
   "metadata": {},
   "outputs": [
    {
     "data": {
      "text/plain": [
       "(100, 1, 1)"
      ]
     },
     "execution_count": 39,
     "metadata": {},
     "output_type": "execute_result"
    }
   ],
   "source": [
    "kinetic = -mo_vals[-1]/(2*mo_vals[-1])\n",
    "kinetic.shape"
   ]
  },
  {
   "cell_type": "code",
   "execution_count": 44,
   "id": "4f92de87-f3f9-4f75-ac83-567b4a999ea3",
   "metadata": {},
   "outputs": [
    {
     "data": {
      "text/plain": [
       "(1, 1)"
      ]
     },
     "execution_count": 44,
     "metadata": {},
     "output_type": "execute_result"
    }
   ],
   "source": [
    "mo_energy = mf.mo_energy[s, wfs._det_occup[s]]\n",
    "mo_energy.shape\n",
    "# dir(mf)"
   ]
  },
  {
   "cell_type": "code",
   "execution_count": 56,
   "id": "993e9f68-2ea0-4900-9ffd-eb20c7c7aba1",
   "metadata": {},
   "outputs": [
    {
     "data": {
      "text/plain": [
       "(100,)"
      ]
     },
     "execution_count": 56,
     "metadata": {},
     "output_type": "execute_result"
    }
   ],
   "source": [
    "dm = mf.make_rdm1()\n",
    "ao_value = numint.eval_ao(mol, configs.configs[:,e,:])\n",
    "rho_u = numint.eval_rho(mol, ao_value, dm[0], xctype='LDA')\n",
    "rho_d = numint.eval_rho(mol, ao_value, dm[1], xctype='LDA')\n",
    "xc = 'LDA,VWN'\n",
    "excd, vxcs  = libxc.eval_xc(xc, np.array([rho_u, rho_d]), spin=1)[:2]\n",
    "vxc = np.zeros(nconf)\n",
    "vj = np.zeros(nconf)\n",
    "vxc += vxcs[0][:,s]\n",
    "vj += np.einsum('pij,sij->p', mol.intor('int1e_grids', grids=configs.configs[:,e,:]), dm)\n",
    "vee = vxc + vj\n",
    "vee.shape"
   ]
  },
  {
   "cell_type": "code",
   "execution_count": 59,
   "id": "6343c148-d6af-4a6f-bf92-568cfdb087df",
   "metadata": {},
   "outputs": [
    {
     "data": {
      "text/plain": [
       "array([-1.89282077, -1.84934078, -1.47431872, -1.75034511, -1.64697852,\n",
       "       -1.46433377, -1.31117807, -1.32216718, -2.1500698 , -1.84259816,\n",
       "       -1.19015433, -2.06619407, -1.41689617, -1.68331818, -1.3702327 ,\n",
       "       -1.65765474, -1.6425335 , -1.66651462, -1.3981506 , -1.1710012 ,\n",
       "       -1.47700416, -1.45193394, -1.13144348, -1.85324143, -1.25169461,\n",
       "       -1.11655931, -1.05552077, -1.93276162, -1.88777211, -1.97115482,\n",
       "       -1.82357488, -1.26110164, -1.70621148, -1.26968534, -1.3993994 ,\n",
       "       -1.45442079, -1.45080179, -2.04250899, -1.41259072, -1.62410177,\n",
       "       -1.52755566, -1.8600861 , -1.54874208, -1.81866203, -1.21104103,\n",
       "       -1.86672775, -1.35238269, -1.16392984, -1.64991859, -1.26056854,\n",
       "       -1.39402639, -1.25993863, -1.14639941, -1.43904013, -2.19389576,\n",
       "       -1.73804436, -1.08539934, -1.25431358, -1.93682018, -1.19495227,\n",
       "       -1.70787412, -1.89121716, -2.36777612, -1.55025304, -2.20829124,\n",
       "       -2.01420252, -1.67102783, -1.92854544, -1.51133399, -1.23843323,\n",
       "       -1.76526332, -1.26744412, -1.32015433, -1.4790909 , -1.57070351,\n",
       "       -1.94722519, -1.24169238, -1.5415043 , -1.47661989, -1.38291852,\n",
       "       -1.75093078, -1.39350729, -1.30284657, -1.25146986, -1.56852646,\n",
       "       -1.67508034, -1.13044053, -1.18067095, -1.7175804 , -1.84505346,\n",
       "       -1.28669265, -1.24571248, -1.27481125, -1.92776389, -1.38308129,\n",
       "       -1.47480402, -1.11853426, -1.56819898, -1.93531562, -1.08170578])"
      ]
     },
     "execution_count": 59,
     "metadata": {},
     "output_type": "execute_result"
    }
   ],
   "source": [
    "kinetic[:,0,0]-vee"
   ]
  },
  {
   "cell_type": "code",
   "execution_count": 47,
   "id": "f1e4556b-163f-4818-b857-5e2ca4299ed7",
   "metadata": {},
   "outputs": [
    {
     "data": {
      "text/plain": [
       "['CASCI',\n",
       " 'CASSCF',\n",
       " 'CCSD',\n",
       " 'CISD',\n",
       " 'COSX',\n",
       " 'DDCOSMO',\n",
       " 'DFMP2',\n",
       " 'DIIS',\n",
       " 'Gradients',\n",
       " 'Hessian',\n",
       " 'MP2',\n",
       " 'QCISD',\n",
       " 'QMMM',\n",
       " 'TDA',\n",
       " 'TDHF',\n",
       " '__call__',\n",
       " '__class__',\n",
       " '__delattr__',\n",
       " '__dict__',\n",
       " '__dir__',\n",
       " '__doc__',\n",
       " '__eq__',\n",
       " '__format__',\n",
       " '__ge__',\n",
       " '__getattribute__',\n",
       " '__getstate__',\n",
       " '__gt__',\n",
       " '__hash__',\n",
       " '__init__',\n",
       " '__init_subclass__',\n",
       " '__le__',\n",
       " '__lt__',\n",
       " '__module__',\n",
       " '__ne__',\n",
       " '__new__',\n",
       " '__reduce__',\n",
       " '__reduce_ex__',\n",
       " '__repr__',\n",
       " '__setattr__',\n",
       " '__sizeof__',\n",
       " '__str__',\n",
       " '__subclasshook__',\n",
       " '__weakref__',\n",
       " '_chkfile',\n",
       " '_eigh',\n",
       " '_eri',\n",
       " '_finalize',\n",
       " '_is_mem_enough',\n",
       " '_keys',\n",
       " '_nelec',\n",
       " '_opt',\n",
       " '_transfer_attrs_',\n",
       " 'analyze',\n",
       " 'apply',\n",
       " 'as_scanner',\n",
       " 'build',\n",
       " 'callback',\n",
       " 'canonicalize',\n",
       " 'check_convergence',\n",
       " 'check_sanity',\n",
       " 'chkfile',\n",
       " 'conv_check',\n",
       " 'conv_tol',\n",
       " 'conv_tol_grad',\n",
       " 'converged',\n",
       " 'convert_from_',\n",
       " 'copy',\n",
       " 'damp',\n",
       " 'ddCOSMO',\n",
       " 'density_fit',\n",
       " 'det_ovlp',\n",
       " 'diis',\n",
       " 'diis_file',\n",
       " 'diis_space',\n",
       " 'diis_space_rollback',\n",
       " 'diis_start_cycle',\n",
       " 'dip_moment',\n",
       " 'direct_scf',\n",
       " 'direct_scf_tol',\n",
       " 'dump_chk',\n",
       " 'dump_flags',\n",
       " 'dump_scf_summary',\n",
       " 'e_tot',\n",
       " 'eig',\n",
       " 'energy_elec',\n",
       " 'energy_nuc',\n",
       " 'energy_tot',\n",
       " 'from_chk',\n",
       " 'from_fcidump',\n",
       " 'gen_response',\n",
       " 'get_fock',\n",
       " 'get_grad',\n",
       " 'get_hcore',\n",
       " 'get_init_guess',\n",
       " 'get_j',\n",
       " 'get_jk',\n",
       " 'get_k',\n",
       " 'get_occ',\n",
       " 'get_ovlp',\n",
       " 'get_veff',\n",
       " 'init_direct_scf',\n",
       " 'init_guess',\n",
       " 'init_guess_breaksym',\n",
       " 'init_guess_by_1e',\n",
       " 'init_guess_by_atom',\n",
       " 'init_guess_by_chkfile',\n",
       " 'init_guess_by_huckel',\n",
       " 'init_guess_by_minao',\n",
       " 'init_guess_by_mod_huckel',\n",
       " 'kernel',\n",
       " 'level_shift',\n",
       " 'make_asym_dm',\n",
       " 'make_rdm1',\n",
       " 'make_rdm2',\n",
       " 'max_cycle',\n",
       " 'max_memory',\n",
       " 'mo_coeff',\n",
       " 'mo_energy',\n",
       " 'mo_occ',\n",
       " 'mol',\n",
       " 'mulliken_meta',\n",
       " 'mulliken_meta_spin',\n",
       " 'mulliken_pop',\n",
       " 'mulliken_pop_meta_lowdin_ao',\n",
       " 'mulliken_spin_pop',\n",
       " 'nelec',\n",
       " 'nelectron_alpha',\n",
       " 'newton',\n",
       " 'nuc_grad_method',\n",
       " 'opt',\n",
       " 'pop',\n",
       " 'post_kernel',\n",
       " 'pre_kernel',\n",
       " 'remove_soscf',\n",
       " 'reset',\n",
       " 'run',\n",
       " 'scf',\n",
       " 'scf_summary',\n",
       " 'set',\n",
       " 'sfx2c1e',\n",
       " 'spin_square',\n",
       " 'stability',\n",
       " 'stdout',\n",
       " 'to_ghf',\n",
       " 'to_gks',\n",
       " 'to_ks',\n",
       " 'to_rhf',\n",
       " 'to_rks',\n",
       " 'to_uhf',\n",
       " 'to_uks',\n",
       " 'update',\n",
       " 'update_',\n",
       " 'update_from_chk',\n",
       " 'update_from_chk_',\n",
       " 'verbose',\n",
       " 'view',\n",
       " 'x2c',\n",
       " 'x2c1e']"
      ]
     },
     "execution_count": 47,
     "metadata": {},
     "output_type": "execute_result"
    }
   ],
   "source": [
    "dir(mf)"
   ]
  },
  {
   "cell_type": "code",
   "execution_count": null,
   "id": "2986aab3-3368-4f43-8012-e0a53ac47313",
   "metadata": {},
   "outputs": [],
   "source": []
  }
 ],
 "metadata": {
  "kernelspec": {
   "display_name": "Python 3 (ipykernel)",
   "language": "python",
   "name": "python3"
  },
  "language_info": {
   "codemirror_mode": {
    "name": "ipython",
    "version": 3
   },
   "file_extension": ".py",
   "mimetype": "text/x-python",
   "name": "python",
   "nbconvert_exporter": "python",
   "pygments_lexer": "ipython3",
   "version": "3.11.6"
  }
 },
 "nbformat": 4,
 "nbformat_minor": 5
}
