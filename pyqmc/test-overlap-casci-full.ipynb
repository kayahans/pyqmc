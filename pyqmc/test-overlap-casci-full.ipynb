{
 "cells": [
  {
   "cell_type": "code",
   "execution_count": 1,
   "id": "bcac56e6-5690-45d8-bf04-8278d8e9908d",
   "metadata": {
    "tags": []
   },
   "outputs": [],
   "source": [
    "import matplotlib.pyplot as plt\n",
    "import numpy as np\n",
    "import copy\n",
    "import h5py\n",
    "import os\n",
    "import seaborn as sns\n",
    "from pyscf.scf.uhf import det_ovlp"
   ]
  },
  {
   "cell_type": "code",
   "execution_count": 2,
   "id": "198ffdbf-35dc-438f-9359-b7ebaf05320d",
   "metadata": {},
   "outputs": [],
   "source": [
    "# Wavefunction generation\n",
    "from pyscf import lib, gto, scf\n",
    "from pyscf import gto, mp, mcscf\n",
    "def HF_casci(scf_checkfile, ci_checkfile):\n",
    "    mol = gto.M(\n",
    "        atom=\"H 0. 0. 0.0; F 0. 0. 0.8\",\n",
    "        basis=f\"ccecpccpvdz\",\n",
    "        unit=\"bohr\",\n",
    "        charge=0,\n",
    "        spin=0,\n",
    "        verbose=1,\n",
    "    )\n",
    "    mf = scf.UHF(mol).run()\n",
    "    mf.chkfile = scf_checkfile\n",
    "    mf.kernel()\n",
    "    mc = mcscf.CASCI(mf, 6,2)\n",
    "    # mc.fcisolver.nroots = 4\n",
    "    mc.kernel()\n",
    "    print(mc.__dict__.keys())\n",
    "    with h5py.File(ci_checkfile, \"a\") as f:\n",
    "        f.create_group(\"ci\")\n",
    "        f[\"ci/ncas\"] = mc.ncas\n",
    "        f[\"ci/nelecas\"] = list(mc.nelecas)\n",
    "        f[\"ci/ci\"] = mc.ci\n",
    "        f[\"ci/mo_coeff\"] = mc.mo_coeff    \n",
    "    return mol, mf, mc"
   ]
  },
  {
   "cell_type": "code",
   "execution_count": null,
   "id": "f5159b03-01c8-4339-940e-253d5f44de50",
   "metadata": {},
   "outputs": [],
   "source": []
  },
  {
   "cell_type": "code",
   "execution_count": 3,
   "id": "6625c1e6-505e-4c73-bb02-071a75e92a71",
   "metadata": {
    "tags": []
   },
   "outputs": [],
   "source": [
    "# Wavefunction generation\n",
    "from pyscf import lib, gto, scf\n",
    "from pyscf import gto, mp, mcscf\n",
    "def H2_casci(scf_checkfile, ci_checkfile):\n",
    "    mol = gto.M(\n",
    "        atom=\"H 0. 0. 0.0; H 0. 0. 1.4\",\n",
    "        basis=f\"ccecpccpvdz\",\n",
    "        unit=\"bohr\",\n",
    "        charge=0,\n",
    "        spin=0,\n",
    "        verbose=1,\n",
    "    )\n",
    "    mf = scf.UHF(mol).run()\n",
    "    mf.chkfile = scf_checkfile\n",
    "    mf.kernel()\n",
    "    mc = mcscf.CASCI(mf, 6,2)\n",
    "    # mc.fcisolver.nroots = 4\n",
    "    mc.kernel()\n",
    "    print(mc.__dict__.keys())\n",
    "    with h5py.File(ci_checkfile, \"a\") as f:\n",
    "        f.create_group(\"ci\")\n",
    "        f[\"ci/ncas\"] = mc.ncas\n",
    "        f[\"ci/nelecas\"] = list(mc.nelecas)\n",
    "        f[\"ci/ci\"] = mc.ci\n",
    "        f[\"ci/mo_coeff\"] = mc.mo_coeff    \n",
    "    return mol, mf, mc"
   ]
  },
  {
   "cell_type": "code",
   "execution_count": null,
   "id": "9f9541b7-b53a-4740-b932-e98d7c598be3",
   "metadata": {},
   "outputs": [],
   "source": []
  },
  {
   "cell_type": "code",
   "execution_count": 35,
   "id": "7ac0e1fd-38b1-42a3-a1e2-c180a4d7ef29",
   "metadata": {},
   "outputs": [
    {
     "name": "stdout",
     "output_type": "stream",
     "text": [
      "dict_keys(['mol', '_scf', 'verbose', 'stdout', 'max_memory', 'ncas', 'nelecas', '_ncore', 'fcisolver', 'frozen', 'extrasym', 'e_tot', 'e_cas', 'ci', 'mo_coeff', 'mo_energy', 'mo_occ', 'converged'])\n"
     ]
    }
   ],
   "source": [
    "scf_checkfile = 'rohf.chk'\n",
    "ci_checkfile = 'casci.chk'\n",
    "for fname in [scf_checkfile, ci_checkfile]:\n",
    "    if os.path.isfile(fname):\n",
    "        os.remove(fname)\n",
    "# mol, mf, mc = H2_casci(scf_checkfile, ci_checkfile)\n",
    "mol, mf, mcc = HF_casci(scf_checkfile, ci_checkfile)"
   ]
  },
  {
   "cell_type": "markdown",
   "id": "55507b37-07f4-444b-b6c0-f5f603e1ef57",
   "metadata": {},
   "source": [
    "# Using PYSCF method using output from PYQMC"
   ]
  },
  {
   "cell_type": "code",
   "execution_count": 36,
   "id": "983db5c1-6890-4ffe-8400-da689bccf22d",
   "metadata": {},
   "outputs": [],
   "source": [
    "import bosonslater \n",
    "import pyscftools, mc\n",
    "wf1 = bosonslater.BosonWF(mol, mf, mc=mcc)\n",
    "\n",
    "nconfig = 1000\n",
    "mol, mf = pyscftools.recover_pyscf(scf_checkfile)\n",
    "configs = mc.initial_guess(mol, nconfig)\n",
    "# wf.parameters['det_coeff'] = np.ones(len(wf.parameters['det_coeff']))\n",
    "signb, phib = wf1.recompute(configs)\n",
    "num_ao = wf1._aovals.shape[-1]"
   ]
  },
  {
   "cell_type": "code",
   "execution_count": 37,
   "id": "2135253c-6824-40ee-94c7-6b8633c07610",
   "metadata": {},
   "outputs": [],
   "source": [
    "det_dim = wf1._dets[0][1].shape[-1]"
   ]
  },
  {
   "cell_type": "code",
   "execution_count": 38,
   "id": "542737f9-6b18-453f-a2b5-43a934654222",
   "metadata": {},
   "outputs": [],
   "source": [
    "n = np.array(wf1._det_occup)\n",
    "occ_arr_shape = (n.shape[0], n.shape[1], num_ao)\n",
    "occ_arr = np.zeros(occ_arr_shape)\n",
    "for i in range(n.shape[0]):\n",
    "    for j in range(n.shape[1]):\n",
    "        occ_arr[i,j][n[i,j]]=1"
   ]
  },
  {
   "cell_type": "code",
   "execution_count": 39,
   "id": "57b6cb6b-481c-4c5b-a2d4-0b50bfe44637",
   "metadata": {},
   "outputs": [],
   "source": [
    "mcc.mo_coeff = np.array([mcc.mo_coeff, mcc.mo_coeff]) "
   ]
  },
  {
   "cell_type": "code",
   "execution_count": 41,
   "id": "f0538d59-b1f0-4e66-b287-e3d8c70775c0",
   "metadata": {},
   "outputs": [],
   "source": [
    "ovlp_mat = np.zeros((det_dim, det_dim))\n",
    "for i1 in range(det_dim):\n",
    "    for i2 in range(det_dim):\n",
    "        det1_occ = np.array([occ_arr[0, i1], occ_arr[1, i1]])\n",
    "        det2_occ = np.array([occ_arr[0, i2], occ_arr[1, i2]])\n",
    "        \n",
    "        ovlp, _ = det_ovlp(mcc.mo_coeff,mcc.mo_coeff, det1_occ, det2_occ, mf.get_ovlp())\n",
    "        ovlp_mat[i1, i2] = ovlp"
   ]
  },
  {
   "cell_type": "code",
   "execution_count": 42,
   "id": "f6b25b5b-45f4-470c-9373-19d6a11c6adb",
   "metadata": {},
   "outputs": [
    {
     "data": {
      "text/plain": [
       "<Axes: >"
      ]
     },
     "execution_count": 42,
     "metadata": {},
     "output_type": "execute_result"
    },
    {
     "data": {
      "image/png": "[encoded data removed]",
      "text/plain": [
       "<Figure size 640x480 with 2 Axes>"
      ]
     },
     "metadata": {},
     "output_type": "display_data"
    }
   ],
   "source": [
    "sns.heatmap(ovlp_mat, annot=True, linewidths=.5)"
   ]
  },
  {
   "cell_type": "markdown",
   "id": "7cd0b7b0-86d8-4bc8-9614-bbe00c1012fd",
   "metadata": {},
   "source": [
    "# Using statistical PYQMC method"
   ]
  },
  {
   "cell_type": "code",
   "execution_count": 72,
   "id": "45f0a491-158b-40af-98bc-a17c310fd742",
   "metadata": {},
   "outputs": [],
   "source": [
    "import bosonslater \n",
    "import pyscftools, mc\n",
    "wf1 = bosonslater.BosonWF(mol, mf, mc=mcc)\n",
    "\n",
    "nconfig = 1000\n",
    "mol, mf = pyscftools.recover_pyscf(scf_checkfile)\n",
    "configs = mc.initial_guess(mol, nconfig)\n",
    "# wf.parameters['det_coeff'] = np.ones(len(wf.parameters['det_coeff']))\n",
    "signb, phib = wf1.recompute(configs)\n",
    "sign, logval = wf1.value()\n",
    "val = np.exp(logval)\n",
    "rho = val **2 "
   ]
  },
  {
   "cell_type": "code",
   "execution_count": 46,
   "id": "dac3a2d5-8e63-440e-aefa-d71dda19fe13",
   "metadata": {},
   "outputs": [],
   "source": [
    "updets = wf1._dets[0][:, :, wf1._det_map[0]]\n",
    "dndets = wf1._dets[1][:, :, wf1._det_map[1]]\n",
    "\n",
    "# nup = np.einsum('ni, ni, nj, nj->nij', updets[0], np.exp(updets[1]), updets[0], np.exp(updets[1]))\n",
    "# ndn = np.einsum('ni, ni, nj, nj->nij', dndets[0], np.exp(dndets[1]), dndets[0], np.exp(dndets[1]))"
   ]
  },
  {
   "cell_type": "code",
   "execution_count": 54,
   "id": "0a670992-acf6-46cf-9b64-80c802696a27",
   "metadata": {},
   "outputs": [
    {
     "data": {
      "text/plain": [
       "(2, 1000, 36)"
      ]
     },
     "execution_count": 54,
     "metadata": {},
     "output_type": "execute_result"
    }
   ],
   "source": [
    "updets.shape"
   ]
  },
  {
   "cell_type": "code",
   "execution_count": 55,
   "id": "fe1b6a39-e751-4db7-811d-0a15a73beccc",
   "metadata": {},
   "outputs": [
    {
     "data": {
      "text/plain": [
       "(2, 1000, 36)"
      ]
     },
     "execution_count": 55,
     "metadata": {},
     "output_type": "execute_result"
    }
   ],
   "source": [
    "dndets.shape"
   ]
  },
  {
   "cell_type": "code",
   "execution_count": 104,
   "id": "c69099ed-d0dd-4f61-bacc-aa6d72f2bd4c",
   "metadata": {},
   "outputs": [],
   "source": [
    "norm_rho = rho/np.sum(rho)"
   ]
  },
  {
   "cell_type": "code",
   "execution_count": 96,
   "id": "9c790cf1-d7e8-4d52-8a6c-305ebc1534e1",
   "metadata": {},
   "outputs": [],
   "source": [
    "nup = np.einsum('ni, ni, ni, ni->ni', updets[0], np.exp(updets[1]), updets[0], np.exp(updets[1]))\n",
    "ndn = np.einsum('ni, ni, ni, ni->ni', dndets[0], np.exp(dndets[1]), dndets[0], np.exp(dndets[1]))\n",
    "psi_i = np.einsum('ni, ni, ni, ni->ni', updets[0], np.exp(updets[1]), dndets[0], np.exp(dndets[1]))\n",
    "psi_ij = np.sqrt(np.einsum('ni, ni->ni', psi_i, psi_i))\n",
    "psi_ij = psi_ij.reshape(1000, 6,6)"
   ]
  },
  {
   "cell_type": "code",
   "execution_count": 101,
   "id": "6a0cd3fa-8d97-452f-b762-a0a8d2b9fdfb",
   "metadata": {},
   "outputs": [
    {
     "data": {
      "text/plain": [
       "(1000, 36)"
      ]
     },
     "execution_count": 101,
     "metadata": {},
     "output_type": "execute_result"
    }
   ],
   "source": [
    "nup.shape"
   ]
  },
  {
   "cell_type": "code",
   "execution_count": 105,
   "id": "e8e4dd75-549f-48ee-88ea-2e8c51c711b9",
   "metadata": {},
   "outputs": [],
   "source": [
    "ovlp_ij  = nup * ndn \n",
    "w_ovlp_ij = np.einsum('ni, ni, n ->ni', nup, ndn, norm_rho)"
   ]
  },
  {
   "cell_type": "code",
   "execution_count": null,
   "id": "c20fec33-8a9f-4112-ad70-1e75121df84b",
   "metadata": {},
   "outputs": [],
   "source": [
    "m_ovlp_ij = ovlp_ij.reshape(1000, 6,6)\n",
    "m_w_ovlp_ij = w_ovlp_ij.reshape(1000, 6,6)"
   ]
  },
  {
   "cell_type": "code",
   "execution_count": 106,
   "id": "4a584d88-4dc9-4e81-831a-020b95504374",
   "metadata": {},
   "outputs": [
    {
     "data": {
      "text/plain": [
       "<Axes: >"
      ]
     },
     "execution_count": 106,
     "metadata": {},
     "output_type": "execute_result"
    },
    {
     "data": {
      "image/png": "[encoded data removed]",
      "text/plain": [
       "<Figure size 640x480 with 2 Axes>"
      ]
     },
     "metadata": {},
     "output_type": "display_data"
    }
   ],
   "source": [
    "mat = np.average(m_w_ovlp_ij, axis=0) \n",
    "sns.heatmap(mat)"
   ]
  },
  {
   "cell_type": "code",
   "execution_count": 92,
   "id": "59e30d77-9716-4afd-b2d7-1a911f6da8e2",
   "metadata": {},
   "outputs": [],
   "source": []
  },
  {
   "cell_type": "code",
   "execution_count": 93,
   "id": "c82c27fb-c2a1-4904-b650-3f2a0d58e8e6",
   "metadata": {},
   "outputs": [
    {
     "data": {
      "text/plain": [
       "<Axes: >"
      ]
     },
     "execution_count": 93,
     "metadata": {},
     "output_type": "execute_result"
    },
    {
     "data": {
      "image/png": "[encoded data removed]",
      "text/plain": [
       "<Figure size 640x480 with 2 Axes>"
      ]
     },
     "metadata": {},
     "output_type": "display_data"
    }
   ],
   "source": [
    "mat = np.average(m_ovlp_ij/psi_ij, axis=0) \n",
    "sns.heatmap(mat)"
   ]
  },
  {
   "cell_type": "code",
   "execution_count": 94,
   "id": "123362a2-e397-4861-91ae-344efec80e8b",
   "metadata": {},
   "outputs": [
    {
     "data": {
      "text/plain": [
       "<Axes: >"
      ]
     },
     "execution_count": 94,
     "metadata": {},
     "output_type": "execute_result"
    },
    {
     "data": {
      "image/png": "[encoded data removed]",
      "text/plain": [
       "<Figure size 640x480 with 2 Axes>"
      ]
     },
     "metadata": {},
     "output_type": "display_data"
    }
   ],
   "source": [
    "mat = np.average(m_w_ovlp_ij/psi_ij, axis=0) \n",
    "sns.heatmap(mat)"
   ]
  },
  {
   "cell_type": "code",
   "execution_count": 46,
   "id": "30c5fb9e-4d80-44aa-b3e6-b3ed0efbf67d",
   "metadata": {},
   "outputs": [],
   "source": [
    "# mc.verbose = 4\n",
    "# _ = mc.analyze()"
   ]
  },
  {
   "cell_type": "code",
   "execution_count": 9,
   "id": "3d10ea7a-1aae-43a0-9a01-37fc0e1c9e91",
   "metadata": {},
   "outputs": [],
   "source": [
    "# tol = 10**-2\n",
    "# mc.fcisolver.large_ci(mc.ci[0], mc.ncas, mc.nelecas, tol, return_strs=False)"
   ]
  },
  {
   "cell_type": "code",
   "execution_count": 10,
   "id": "e78695f7-44cc-4676-8cdb-cc1769425bbc",
   "metadata": {},
   "outputs": [],
   "source": [
    "# tol = 10**-2\n",
    "# mc.fcisolver.large_ci(mc.ci[1], mc.ncas, mc.nelecas, tol, return_strs=False)"
   ]
  },
  {
   "cell_type": "code",
   "execution_count": 11,
   "id": "819210f7-c90d-46ba-9247-156eefa1d0b7",
   "metadata": {},
   "outputs": [],
   "source": [
    "# # np.max(np.abs(mc.ci), axis=0)\n",
    "\n",
    "\n",
    "# addra, addrb = numpy.where(abs(mc.ci) > tol)\n",
    "# addra, addrb"
   ]
  },
  {
   "cell_type": "code",
   "execution_count": 12,
   "id": "26ebabdf-3058-47c3-be5b-4755a32abb14",
   "metadata": {},
   "outputs": [],
   "source": [
    "from recipes import initialize_qmc_objects\n",
    "wf0, _, _ = initialize_qmc_objects(scf_checkfile, nconfig=1000, ci_checkfile=ci_checkfile, target_root=0, jastrow_kws=None)"
   ]
  },
  {
   "cell_type": "code",
   "execution_count": 29,
   "id": "fffdd2cd-e95e-4e4c-9c8a-f35605854119",
   "metadata": {},
   "outputs": [
    {
     "name": "stdout",
     "output_type": "stream",
     "text": [
      "> \u001b[0;32m/Users/ksu/Documents/GitHub/pyqmc/pyqmc/recipes.py\u001b[0m(214)\u001b[0;36minitialize_qmc_objects\u001b[0;34m()\u001b[0m\n",
      "\u001b[0;32m    212 \u001b[0;31m    \u001b[0;32mimport\u001b[0m \u001b[0mpdb\u001b[0m\u001b[0;34m\u001b[0m\u001b[0;34m\u001b[0m\u001b[0m\n",
      "\u001b[0m\u001b[0;32m    213 \u001b[0;31m    \u001b[0mpdb\u001b[0m\u001b[0;34m.\u001b[0m\u001b[0mset_trace\u001b[0m\u001b[0;34m(\u001b[0m\u001b[0;34m)\u001b[0m\u001b[0;34m\u001b[0m\u001b[0;34m\u001b[0m\u001b[0m\n",
      "\u001b[0m\u001b[0;32m--> 214 \u001b[0;31m    wf, to_opt = wftools.generate_wf(\n",
      "\u001b[0m\u001b[0;32m    215 \u001b[0;31m        \u001b[0mmol\u001b[0m\u001b[0;34m,\u001b[0m \u001b[0mmf\u001b[0m\u001b[0;34m,\u001b[0m \u001b[0mmc\u001b[0m\u001b[0;34m=\u001b[0m\u001b[0mmc\u001b[0m\u001b[0;34m,\u001b[0m \u001b[0mjastrow_kws\u001b[0m\u001b[0;34m=\u001b[0m\u001b[0mjastrow_kws\u001b[0m\u001b[0;34m,\u001b[0m \u001b[0mslater_kws\u001b[0m\u001b[0;34m=\u001b[0m\u001b[0mslater_kws\u001b[0m\u001b[0;34m\u001b[0m\u001b[0;34m\u001b[0m\u001b[0m\n",
      "\u001b[0m\u001b[0;32m    216 \u001b[0;31m    )\n",
      "\u001b[0m\n"
     ]
    },
    {
     "name": "stdin",
     "output_type": "stream",
     "text": [
      "ipdb>  c\n"
     ]
    }
   ],
   "source": [
    "wf1, _, _ = initialize_qmc_objects(scf_checkfile, nconfig=1000, ci_checkfile=ci_checkfile, target_root=1)\n"
   ]
  },
  {
   "cell_type": "code",
   "execution_count": 30,
   "id": "3a9b5490-2d78-465e-88e5-01b310276b78",
   "metadata": {},
   "outputs": [
    {
     "data": {
      "text/plain": [
       "[[[0, 1, 2, 3, 4],\n",
       "  [0, 1, 2, 3, 5],\n",
       "  [0, 1, 2, 3, 6],\n",
       "  [0, 1, 2, 3, 7],\n",
       "  [0, 1, 2, 3, 8],\n",
       "  [0, 1, 2, 3, 9]],\n",
       " [[0, 1, 2, 3, 4],\n",
       "  [0, 1, 2, 3, 5],\n",
       "  [0, 1, 2, 3, 6],\n",
       "  [0, 1, 2, 3, 7],\n",
       "  [0, 1, 2, 3, 8],\n",
       "  [0, 1, 2, 3, 9]]]"
      ]
     },
     "execution_count": 30,
     "metadata": {},
     "output_type": "execute_result"
    }
   ],
   "source": [
    "wf0.wf_factors[0]._det_occup"
   ]
  },
  {
   "cell_type": "code",
   "execution_count": 31,
   "id": "07df61c8-ed84-48ac-9843-5f811df26862",
   "metadata": {},
   "outputs": [
    {
     "data": {
      "text/plain": [
       "[[[0, 1, 2, 3, 4],\n",
       "  [0, 1, 2, 3, 5],\n",
       "  [0, 1, 2, 3, 6],\n",
       "  [0, 1, 2, 3, 7],\n",
       "  [0, 1, 2, 3, 8],\n",
       "  [0, 1, 2, 3, 9]],\n",
       " [[0, 1, 2, 3, 4],\n",
       "  [0, 1, 2, 3, 5],\n",
       "  [0, 1, 2, 3, 6],\n",
       "  [0, 1, 2, 3, 7],\n",
       "  [0, 1, 2, 3, 8],\n",
       "  [0, 1, 2, 3, 9]]]"
      ]
     },
     "execution_count": 31,
     "metadata": {},
     "output_type": "execute_result"
    }
   ],
   "source": [
    "wf1.wf_factors[0]._det_occup"
   ]
  },
  {
   "cell_type": "code",
   "execution_count": 35,
   "id": "d1a3727e-4693-4b31-9f08-43c3b3b39f32",
   "metadata": {},
   "outputs": [
    {
     "data": {
      "text/plain": [
       "array([[0, 0, 0, 0, 0, 0, 1, 1, 1, 1, 1, 1, 2, 2, 2, 2, 2, 2, 3, 3, 3, 3,\n",
       "        3, 3, 4, 4, 4, 4, 4, 4, 5, 5, 5, 5, 5, 5],\n",
       "       [0, 1, 2, 3, 4, 5, 0, 1, 2, 3, 4, 5, 0, 1, 2, 3, 4, 5, 0, 1, 2, 3,\n",
       "        4, 5, 0, 1, 2, 3, 4, 5, 0, 1, 2, 3, 4, 5]])"
      ]
     },
     "execution_count": 35,
     "metadata": {},
     "output_type": "execute_result"
    }
   ],
   "source": [
    "wf0.wf_factors[0]._det_map"
   ]
  },
  {
   "cell_type": "code",
   "execution_count": 37,
   "id": "b6d7bed3-a758-4a12-b6bb-576dd54a61d9",
   "metadata": {},
   "outputs": [
    {
     "data": {
      "text/plain": [
       "array([[0, 0, 0, 0, 0, 0, 1, 1, 1, 1, 1, 1, 2, 2, 2, 2, 2, 2, 3, 3, 3, 3,\n",
       "        3, 3, 4, 4, 4, 4, 4, 4, 5, 5, 5, 5, 5, 5],\n",
       "       [0, 1, 2, 3, 4, 5, 0, 1, 2, 3, 4, 5, 0, 1, 2, 3, 4, 5, 0, 1, 2, 3,\n",
       "        4, 5, 0, 1, 2, 3, 4, 5, 0, 1, 2, 3, 4, 5]])"
      ]
     },
     "execution_count": 37,
     "metadata": {},
     "output_type": "execute_result"
    }
   ],
   "source": [
    "wf1.wf_factors[0]._det_map"
   ]
  },
  {
   "cell_type": "code",
   "execution_count": 447,
   "id": "7fe17d0c-cf3b-4f07-a232-0e126ac530c5",
   "metadata": {},
   "outputs": [],
   "source": [
    "# i = 0\n",
    "# j = 1\n",
    "# ovlp = numpy.dot(mc.ci[i].ravel().conj(),mc.ci[j].ravel())\n",
    "# ovlp"
   ]
  },
  {
   "cell_type": "code",
   "execution_count": 448,
   "id": "3f0f637b-6899-4bf7-984f-6a4f535d0931",
   "metadata": {},
   "outputs": [],
   "source": [
    "# ci0 = copy.deepcopy(mc.ci[0])\n",
    "# ci1 = copy.deepcopy(mc.ci[0])\n",
    "# ci0[1]*=0\n",
    "# ci0[2]*=0\n",
    "# ci0[3]*=0\n",
    "# ci0[4]*=0\n",
    "# ci0[5]*=0\n",
    "\n",
    "# ci1[1]*=0\n",
    "# ci1[2]*=0\n",
    "# ci1[3]*=0\n",
    "# ci1[4]*=0\n",
    "# ci1[5]*=0\n",
    "# ovlp = numpy.dot(ci0.ravel().conj(),ci1.ravel())\n",
    "# ovlp"
   ]
  },
  {
   "cell_type": "code",
   "execution_count": null,
   "id": "a886853e-a847-484f-93cc-d88a69f43df7",
   "metadata": {},
   "outputs": [],
   "source": []
  },
  {
   "cell_type": "code",
   "execution_count": 335,
   "id": "d5735e5d-86e5-49cf-972d-44b7ab972fae",
   "metadata": {},
   "outputs": [],
   "source": [
    "myhf1 = gto.M(atom='H 0 0 0; F 0 0 1.1', basis='6-31g', verbose=0).apply(scf.RHF).run()\n",
    "norb = 4\n",
    "nelec = 4\n",
    "mc1 = mcscf.CASCI(myhf1, norb, nelec).run()\n",
    "# mo0 = mc1.mo_coeff\n",
    "# ci0 = mc1.ci\n",
    "# ci1 = copy.deepcopy(mc1.ci)\n",
    "# ci0[0]*=0\n",
    "# ci0[2]*=0\n",
    "# ci0[3]*=0\n",
    "# ci0[4]*=0\n",
    "# ci0[5]*=0\n",
    "\n",
    "# ci1[0]*=0\n",
    "# ci1[2]*=0\n",
    "# ci1[3]*=0\n",
    "# ci1[4]*=0\n",
    "# ci1[5]*=0\n",
    "\n",
    "# print('CASCI energy of mol1', mc1.e_tot)\n",
    "\n",
    "# i = 5\n",
    "# j = i\n",
    "# s = numpy.einsum('pi,pq,qj->ij', mo0[:,i:i+norb], myhf1.get_ovlp(), mo0[:,j:j+norb])\n",
    "# # here s = 1\n",
    "# # s12 = pyscf.gto.intor_cross('int1e_ovlp', myhf1.mol, myhf1.mol)\n",
    "# # s12 is equal to myhf1.get_ovlp()\n",
    "\n",
    "# # fci.addons.overlap(ci0,ci1, norb, nelec, s)\n",
    "# # When s = 1, above is equal to ci0.ravel().conj()*ci1.ravel()\n",
    "# ovlp = numpy.dot(ci0.ravel().conj(),ci1.ravel())\n",
    "# ovlp"
   ]
  },
  {
   "cell_type": "code",
   "execution_count": 336,
   "id": "d1ea4eb9-d2e5-45bc-a4d9-99ad067e15bb",
   "metadata": {},
   "outputs": [
    {
     "name": "stdout",
     "output_type": "stream",
     "text": [
      "\n",
      "******** CASCI flags ********\n",
      "CAS (2e+2e, 4o), ncore = 3, nvir = 4\n",
      "natorb = False\n",
      "canonicalization = True\n",
      "sorting_mo_energy = False\n",
      "max_memory 4000 (MB)\n",
      "******** <class 'pyscf.fci.direct_spin1.FCISolver'> ********\n",
      "max. cycles = 200\n",
      "conv_tol = 1e-08\n",
      "davidson only = False\n",
      "linear dependence = 1e-12\n",
      "level shift = 0.001\n",
      "max iter space = 12\n",
      "max_memory 4000 MB\n",
      "nroots = 1\n",
      "pspace_size = 400\n",
      "spin = None\n"
     ]
    },
    {
     "data": {
      "text/plain": [
       "<pyscf.mcscf.casci.CASCI at 0x32cdd0310>"
      ]
     },
     "execution_count": 336,
     "metadata": {},
     "output_type": "execute_result"
    }
   ],
   "source": [
    "mc1.dump_flags(verbose=5)"
   ]
  },
  {
   "cell_type": "code",
   "execution_count": 337,
   "id": "18a767cb-ceb6-4ed7-b81a-cf76ddf3097c",
   "metadata": {},
   "outputs": [],
   "source": [
    "mo_coeff=mc1.mo_coeff\n",
    "ncore = mc1.ncore\n",
    "ncas = mc1.ncas\n",
    "nocc = ncore + ncas\n",
    "nelecas = mc1.nelecas\n",
    "nmo = mo_coeff.shape[1]"
   ]
  },
  {
   "cell_type": "code",
   "execution_count": 338,
   "id": "cdaddeb9-11a9-484c-8a16-4ce1f64c65f5",
   "metadata": {},
   "outputs": [
    {
     "name": "stdout",
     "output_type": "stream",
     "text": [
      "3 4 7 (2, 2) 11\n"
     ]
    }
   ],
   "source": [
    "print(ncore, ncas, nocc, nelecas, nmo)"
   ]
  },
  {
   "cell_type": "code",
   "execution_count": 306,
   "id": "871c98db-0525-4d5f-9a5a-7259177e34a3",
   "metadata": {},
   "outputs": [],
   "source": [
    "from pyscf.scf.uhf import det_ovlp"
   ]
  },
  {
   "cell_type": "code",
   "execution_count": 317,
   "id": "437958f6-67f9-45e3-af20-e60f55bb91fe",
   "metadata": {},
   "outputs": [
    {
     "data": {
      "text/plain": [
       "FCIvector([[ 9.99783973e-01, -8.32667268e-17,  1.13059448e-18,\n",
       "            -1.40306585e-17,  4.63983384e-18,  3.56889192e-19],\n",
       "           [ 2.20927839e-18, -1.24280732e-02, -1.56013432e-19,\n",
       "            -5.17695209e-03,  6.87437708e-19, -9.56092958e-20],\n",
       "           [-2.38629365e-17, -5.13587344e-19, -1.24280732e-02,\n",
       "             3.48524248e-19, -5.17695209e-03,  2.85868189e-19],\n",
       "           [-6.04319748e-18, -5.17695209e-03,  3.74941747e-19,\n",
       "            -2.81861070e-03, -3.16171529e-20, -3.75837210e-20],\n",
       "           [ 1.98686150e-18,  4.92676974e-19, -5.17695209e-03,\n",
       "             1.49450867e-19, -2.81861070e-03,  2.10775094e-19],\n",
       "           [ 3.49356679e-19, -1.52128135e-19,  5.84462372e-20,\n",
       "            -8.71383179e-20,  3.61515266e-20,  2.03837436e-05]])"
      ]
     },
     "execution_count": 317,
     "metadata": {},
     "output_type": "execute_result"
    }
   ],
   "source": [
    "mc1.ci"
   ]
  },
  {
   "cell_type": "code",
   "execution_count": 322,
   "id": "a72f77bc-767b-417e-9983-8b751bdf8693",
   "metadata": {},
   "outputs": [],
   "source": [
    "mo_coeff=mc1.mo_coeff.shape"
   ]
  },
  {
   "cell_type": "code",
   "execution_count": 308,
   "id": "00891e62-5218-433e-b7bc-37731107e649",
   "metadata": {},
   "outputs": [
    {
     "ename": "TypeError",
     "evalue": "'NoneType' object is not subscriptable",
     "output_type": "error",
     "traceback": [
      "\u001b[0;31m---------------------------------------------------------------------------\u001b[0m",
      "\u001b[0;31mTypeError\u001b[0m                                 Traceback (most recent call last)",
      "Cell \u001b[0;32mIn[308], line 1\u001b[0m\n\u001b[0;32m----> 1\u001b[0m det_ovlp(mc1\u001b[38;5;241m.\u001b[39mmo_coeff[\u001b[38;5;241m0\u001b[39m],mc1\u001b[38;5;241m.\u001b[39mmo_coeff[\u001b[38;5;241m1\u001b[39m], mc1\u001b[38;5;241m.\u001b[39mmo_occ[\u001b[38;5;241m0\u001b[39m], mc1\u001b[38;5;241m.\u001b[39mmo_occ[\u001b[38;5;241m1\u001b[39m], myhf1\u001b[38;5;241m.\u001b[39mget_ovlp())\n",
      "\u001b[0;31mTypeError\u001b[0m: 'NoneType' object is not subscriptable"
     ]
    }
   ],
   "source": [
    "det_ovlp(mc1.mo_coeff[0],mc1.mo_coeff[1], mc1.mo_occ[0], mc1.mo_occ[1], myhf1.get_ovlp())"
   ]
  },
  {
   "cell_type": "code",
   "execution_count": 318,
   "id": "31e3e0f8-261e-45d0-bd96-b962810b9fdf",
   "metadata": {},
   "outputs": [
    {
     "data": {
      "text/plain": [
       "['COSX',\n",
       " 'DDCOSMO',\n",
       " 'Gradients',\n",
       " 'QMMM',\n",
       " '__call__',\n",
       " '__class__',\n",
       " '__delattr__',\n",
       " '__dict__',\n",
       " '__dir__',\n",
       " '__doc__',\n",
       " '__eq__',\n",
       " '__format__',\n",
       " '__ge__',\n",
       " '__getattribute__',\n",
       " '__getstate__',\n",
       " '__gt__',\n",
       " '__hash__',\n",
       " '__init__',\n",
       " '__init_subclass__',\n",
       " '__le__',\n",
       " '__lt__',\n",
       " '__module__',\n",
       " '__ne__',\n",
       " '__new__',\n",
       " '__reduce__',\n",
       " '__reduce_ex__',\n",
       " '__repr__',\n",
       " '__setattr__',\n",
       " '__sizeof__',\n",
       " '__str__',\n",
       " '__subclasshook__',\n",
       " '__weakref__',\n",
       " '_eig',\n",
       " '_finalize',\n",
       " '_keys',\n",
       " '_ncore',\n",
       " '_scf',\n",
       " 'analyze',\n",
       " 'ao2mo',\n",
       " 'apply',\n",
       " 'as_scanner',\n",
       " 'canonicalization',\n",
       " 'canonicalize',\n",
       " 'canonicalize_',\n",
       " 'cas_natorb',\n",
       " 'cas_natorb_',\n",
       " 'casci',\n",
       " 'check_sanity',\n",
       " 'ci',\n",
       " 'converged',\n",
       " 'copy',\n",
       " 'ddCOSMO',\n",
       " 'density_fit',\n",
       " 'dump_flags',\n",
       " 'e_cas',\n",
       " 'e_tot',\n",
       " 'energy_nuc',\n",
       " 'extrasym',\n",
       " 'fcisolver',\n",
       " 'fix_spin',\n",
       " 'fix_spin_',\n",
       " 'frozen',\n",
       " 'get_fock',\n",
       " 'get_h1cas',\n",
       " 'get_h1eff',\n",
       " 'get_h2cas',\n",
       " 'get_h2eff',\n",
       " 'get_hcore',\n",
       " 'get_jk',\n",
       " 'get_veff',\n",
       " 'h1e_for_cas',\n",
       " 'kernel',\n",
       " 'make_rdm1',\n",
       " 'make_rdm1s',\n",
       " 'max_memory',\n",
       " 'mo_coeff',\n",
       " 'mo_energy',\n",
       " 'mo_occ',\n",
       " 'mol',\n",
       " 'natorb',\n",
       " 'ncas',\n",
       " 'ncore',\n",
       " 'nelecas',\n",
       " 'nuc_grad_method',\n",
       " 'post_kernel',\n",
       " 'pre_kernel',\n",
       " 'reset',\n",
       " 'run',\n",
       " 'set',\n",
       " 'sfx2c1e',\n",
       " 'sort_mo',\n",
       " 'sorting_mo_energy',\n",
       " 'state_average',\n",
       " 'state_average_',\n",
       " 'state_specific_',\n",
       " 'stdout',\n",
       " 'verbose',\n",
       " 'view',\n",
       " 'x2c',\n",
       " 'x2c1e']"
      ]
     },
     "execution_count": 318,
     "metadata": {},
     "output_type": "execute_result"
    }
   ],
   "source": [
    "dir(mc1)"
   ]
  },
  {
   "cell_type": "code",
   "execution_count": 312,
   "id": "73d90607-97cf-44f7-a879-4b7bf20965e7",
   "metadata": {},
   "outputs": [
    {
     "name": "stdout",
     "output_type": "stream",
     "text": [
      "FCI energy of mol1 -100.1021146566482\n"
     ]
    }
   ],
   "source": [
    "myhf1 = pyscf.M(atom='H 0 0 0; F 0 0 1.1', basis='6-31g', verbose=0).RHF().run()\n",
    "e1, ci1 = pyscf.fci.FCI(myhf1).kernel()\n",
    "print('FCI energy of mol1', e1)"
   ]
  },
  {
   "cell_type": "code",
   "execution_count": 313,
   "id": "7dd6a56e-7075-42e1-a77f-3830ea5446e5",
   "metadata": {},
   "outputs": [
    {
     "ename": "AttributeError",
     "evalue": "'FCIvector' object has no attribute 'mo_occ'",
     "output_type": "error",
     "traceback": [
      "\u001b[0;31m---------------------------------------------------------------------------\u001b[0m",
      "\u001b[0;31mAttributeError\u001b[0m                            Traceback (most recent call last)",
      "Cell \u001b[0;32mIn[313], line 1\u001b[0m\n\u001b[0;32m----> 1\u001b[0m ci1\u001b[38;5;241m.\u001b[39mmo_occ\n",
      "\u001b[0;31mAttributeError\u001b[0m: 'FCIvector' object has no attribute 'mo_occ'"
     ]
    }
   ],
   "source": [
    "ci1.mo_occ"
   ]
  },
  {
   "cell_type": "code",
   "execution_count": null,
   "id": "b3164014-9079-4f53-a2b4-4123ce8f56ab",
   "metadata": {},
   "outputs": [],
   "source": []
  },
  {
   "cell_type": "code",
   "execution_count": null,
   "id": "9e860d98-3af6-41e7-8beb-77df0e792868",
   "metadata": {},
   "outputs": [],
   "source": []
  },
  {
   "cell_type": "code",
   "execution_count": 296,
   "id": "7b3878f1-6c6a-4fdf-a28c-d9773fd688f9",
   "metadata": {},
   "outputs": [
    {
     "name": "stdout",
     "output_type": "stream",
     "text": [
      "FCI energy of mol1 -100.1021146566482\n",
      "FCI energy of mol2 -100.08393757040976\n"
     ]
    }
   ],
   "source": [
    "myhf1 = pyscf.M(atom='H 0 0 0; F 0 0 1.1', basis='6-31g', verbose=0).RHF().run()\n",
    "e1, ci1 = pyscf.fci.FCI(myhf1).kernel()\n",
    "print('FCI energy of mol1', e1)\n",
    "\n",
    "myhf2 = pyscf.M(atom='H 0 0 0; F 0 0 1.2', basis='6-31g', verbose=0).RHF().run()\n",
    "e2, ci2 = pyscf.fci.FCI(myhf2).kernel()\n",
    "print('FCI energy of mol2', e2)"
   ]
  },
  {
   "cell_type": "code",
   "execution_count": 297,
   "id": "d49f69ff-2414-4d4a-ae63-cce0e9316bed",
   "metadata": {},
   "outputs": [],
   "source": [
    "s12 = pyscf.gto.intor_cross('int1e_ovlp', myhf1.mol, myhf2.mol)\n",
    "s12 = reduce(numpy.dot, (myhf1.mo_coeff.T, s12, myhf2.mo_coeff))"
   ]
  },
  {
   "cell_type": "code",
   "execution_count": null,
   "id": "e12a67fe-2e18-4c95-938f-2b5ab93d0cff",
   "metadata": {},
   "outputs": [],
   "source": []
  },
  {
   "cell_type": "code",
   "execution_count": 299,
   "id": "3edf19df-e422-4bd9-943a-e19715f0e7f5",
   "metadata": {},
   "outputs": [
    {
     "name": "stdout",
     "output_type": "stream",
     "text": [
      "<FCI-mol1|FCI-mol2> =  0.39963236744209335\n"
     ]
    }
   ],
   "source": [
    "norb = myhf2.mo_energy.size\n",
    "nelec = myhf2.mol.nelectron\n",
    "print('<FCI-mol1|FCI-mol2> = ', pyscf.fci.addons.overlap(ci1, ci2, norb, nelec, s12))"
   ]
  },
  {
   "cell_type": "code",
   "execution_count": 293,
   "id": "113af95a-28cd-42b6-a0e1-0cda8e49c29f",
   "metadata": {},
   "outputs": [
    {
     "data": {
      "text/plain": [
       "(6, 6)"
      ]
     },
     "execution_count": 293,
     "metadata": {},
     "output_type": "execute_result"
    }
   ],
   "source": [
    "ci1.shape"
   ]
  },
  {
   "cell_type": "code",
   "execution_count": 286,
   "id": "06633482-ea87-45fb-86c6-ca9ebb118f25",
   "metadata": {},
   "outputs": [
    {
     "data": {
      "text/plain": [
       "FCIvector([[ 9.77930458e-01, -8.66822956e-18, -4.80516072e-17, ...,\n",
       "            -5.46783436e-20,  4.39942545e-08, -2.06192228e-07],\n",
       "           [-8.66822956e-18, -1.03109302e-02, -3.33555068e-19, ...,\n",
       "            -6.90896377e-07, -2.25751916e-22, -1.18573500e-22],\n",
       "           [-4.80516072e-17,  6.07343277e-18, -1.03109302e-02, ...,\n",
       "            -1.38800602e-12, -5.32659154e-23, -4.17753258e-23],\n",
       "           ...,\n",
       "           [-5.46783436e-20, -6.90896377e-07, -1.38800602e-12, ...,\n",
       "             1.49703075e-07,  6.04115599e-24,  6.31239743e-24],\n",
       "           [ 4.39942545e-08, -2.25751916e-22, -5.32659154e-23, ...,\n",
       "             6.04115599e-24, -1.18210289e-08, -9.31122348e-09],\n",
       "           [-2.06192228e-07, -1.18573500e-22, -4.17753258e-23, ...,\n",
       "             6.31239743e-24, -9.31122348e-09, -5.37955222e-09]])"
      ]
     },
     "execution_count": 286,
     "metadata": {},
     "output_type": "execute_result"
    }
   ],
   "source": [
    "ci2"
   ]
  },
  {
   "cell_type": "code",
   "execution_count": 287,
   "id": "d89e49b8-a61e-4fee-98eb-7578c0e7cddd",
   "metadata": {},
   "outputs": [],
   "source": [
    "norb = 4\n",
    "nelec = (2,2)\n",
    "ua = numpy.linalg.svd(numpy.random.random((norb+1,norb+1)))[0]\n",
    "ub = numpy.linalg.svd(numpy.random.random((norb+1,norb+1)))[0]\n",
    "s = numpy.dot(ua[:,:norb].T, ub[:,:norb])\n",
    "\n",
    "strs = fci.cistring.make_strings(range(norb), nelec[0])\n",
    "na = len(strs)\n",
    "ci0 = numpy.random.random((na,na))\n",
    "ci0 /= numpy.linalg.norm(ci0)\n",
    "ci1 = numpy.random.random((na,na))\n",
    "ci1 /= numpy.linalg.norm(ci1)\n",
    "\n",
    "ovlpa = numpy.zeros((na,na))\n",
    "ovlpb = numpy.zeros((na,na))"
   ]
  },
  {
   "cell_type": "code",
   "execution_count": 288,
   "id": "7e6745b3-8635-41be-9352-689a59b4b4bd",
   "metadata": {},
   "outputs": [],
   "source": [
    "for ia in range(na):\n",
    "    for ja in range(na):\n",
    "        ovlpa[ia,ja] = fci.addons.det_overlap(strs[ia], strs[ja], norb, s)\n",
    "for ib in range(na):\n",
    "    for jb in range(na):\n",
    "        ovlpb[ib,jb] = fci.addons.det_overlap(strs[ib], strs[jb], norb, s)"
   ]
  },
  {
   "cell_type": "code",
   "execution_count": 289,
   "id": "9b059ccf-65c7-4a73-b5db-024ce7b932c7",
   "metadata": {},
   "outputs": [
    {
     "data": {
      "text/plain": [
       "0.40933867366503973"
      ]
     },
     "execution_count": 289,
     "metadata": {},
     "output_type": "execute_result"
    }
   ],
   "source": [
    "ovlp = numpy.einsum('ab,ij,ai,bj->', ci0, ci1, ovlpa, ovlpb)\n",
    "ovlp"
   ]
  },
  {
   "cell_type": "code",
   "execution_count": 290,
   "id": "5818f0c9-981d-4647-bd85-fbdd2cf432e8",
   "metadata": {},
   "outputs": [
    {
     "data": {
      "text/plain": [
       "0.40933867366504006"
      ]
     },
     "execution_count": 290,
     "metadata": {},
     "output_type": "execute_result"
    }
   ],
   "source": [
    "ref = fci.addons.overlap(ci0, ci1, norb, nelec, s)\n",
    "ref"
   ]
  },
  {
   "cell_type": "code",
   "execution_count": 291,
   "id": "b9a4a2d2-0e5e-4557-be67-5e6599ff15b5",
   "metadata": {},
   "outputs": [
    {
     "data": {
      "text/plain": [
       "array([[0.03546438, 0.20179611, 0.14692615, 0.27683846, 0.01854947,\n",
       "        0.22235997],\n",
       "       [0.08242887, 0.08249887, 0.07659947, 0.13148787, 0.11128222,\n",
       "        0.07239524],\n",
       "       [0.04203102, 0.06464754, 0.23305195, 0.24006813, 0.0135056 ,\n",
       "        0.24808928],\n",
       "       [0.2353393 , 0.17337076, 0.04691203, 0.29987965, 0.26301981,\n",
       "        0.28355574],\n",
       "       [0.223648  , 0.20429019, 0.1508745 , 0.05637182, 0.21169015,\n",
       "        0.09628538],\n",
       "       [0.03420679, 0.09363167, 0.19342157, 0.09357964, 0.13951434,\n",
       "        0.03872691]])"
      ]
     },
     "execution_count": 291,
     "metadata": {},
     "output_type": "execute_result"
    }
   ],
   "source": [
    "ci0"
   ]
  },
  {
   "cell_type": "code",
   "execution_count": 292,
   "id": "429828b0-b1f0-429e-8178-a4d8d8439f7a",
   "metadata": {},
   "outputs": [
    {
     "data": {
      "text/plain": [
       "array([[0.02518823, 0.19108996, 0.09776841, 0.2092653 , 0.25466587,\n",
       "        0.02884808],\n",
       "       [0.25482225, 0.12541528, 0.01234738, 0.15846791, 0.20287342,\n",
       "        0.13484991],\n",
       "       [0.2233843 , 0.05574918, 0.08716499, 0.00569521, 0.27302234,\n",
       "        0.0552286 ],\n",
       "       [0.26897095, 0.27050457, 0.01506731, 0.01059174, 0.28459986,\n",
       "        0.09485897],\n",
       "       [0.1020365 , 0.19078723, 0.00590164, 0.1060402 , 0.10499965,\n",
       "        0.19388801],\n",
       "       [0.22884708, 0.12130395, 0.15338096, 0.19544475, 0.17372968,\n",
       "        0.19687523]])"
      ]
     },
     "execution_count": 292,
     "metadata": {},
     "output_type": "execute_result"
    }
   ],
   "source": [
    "ci1"
   ]
  },
  {
   "cell_type": "code",
   "execution_count": null,
   "id": "dd376bda-4a2f-4c76-9138-60cbe4574783",
   "metadata": {},
   "outputs": [],
   "source": []
  },
  {
   "cell_type": "code",
   "execution_count": null,
   "id": "008269ad-8b49-422c-9dd0-0780c3a551aa",
   "metadata": {},
   "outputs": [],
   "source": []
  },
  {
   "cell_type": "code",
   "execution_count": null,
   "id": "be3f06ed-a06b-4210-bedb-427b1875be84",
   "metadata": {},
   "outputs": [],
   "source": []
  }
 ],
 "metadata": {
  "kernelspec": {
   "display_name": "Python 3 (ipykernel)",
   "language": "python",
   "name": "python3"
  },
  "language_info": {
   "codemirror_mode": {
    "name": "ipython",
    "version": 3
   },
   "file_extension": ".py",
   "mimetype": "text/x-python",
   "name": "python",
   "nbconvert_exporter": "python",
   "pygments_lexer": "ipython3",
   "version": "3.11.6"
  }
 },
 "nbformat": 4,
 "nbformat_minor": 5
}
