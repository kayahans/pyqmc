{
 "cells": [
  {
   "cell_type": "code",
   "execution_count": 1,
   "id": "bcac56e6-5690-45d8-bf04-8278d8e9908d",
   "metadata": {
    "tags": []
   },
   "outputs": [],
   "source": [
    "import matplotlib.pyplot as plt\n",
    "import numpy as np\n",
    "import copy\n",
    "import h5py\n",
    "import os\n",
    "import seaborn as sns\n"
   ]
  },
  {
   "cell_type": "code",
   "execution_count": 245,
   "id": "6625c1e6-505e-4c73-bb02-071a75e92a71",
   "metadata": {
    "tags": []
   },
   "outputs": [],
   "source": [
    "# Wavefunction generation\n",
    "from pyscf import lib, gto, scf\n",
    "from pyscf import gto, mp, mcscf\n",
    "def H2_casci(scf_checkfile, ci_checkfile):\n",
    "    mol = gto.M(\n",
    "        atom=\"H 0. 0. 0.0; H 0. 0. 1.4\",\n",
    "        basis=f\"ccecpccpvdz\",\n",
    "        unit=\"bohr\",\n",
    "        charge=0,\n",
    "        spin=0,\n",
    "        verbose=1,\n",
    "    )\n",
    "    mf = scf.ROHF(mol).run()\n",
    "    mf.chkfile = scf_checkfile\n",
    "    mf.kernel()\n",
    "    mc = mcscf.CASCI(mf, 6, 2)\n",
    "    # mc.fcisolver.nroots = 4\n",
    "    mc.kernel()\n",
    "    print(mc.__dict__.keys())\n",
    "    with h5py.File(ci_checkfile, \"a\") as f:\n",
    "        f.create_group(\"ci\")\n",
    "        f[\"ci/ncas\"] = mc.ncas\n",
    "        f[\"ci/nelecas\"] = list(mc.nelecas)\n",
    "        f[\"ci/ci\"] = mc.ci\n",
    "        f[\"ci/mo_coeff\"] = mc.mo_coeff    \n",
    "    return mol, mf, mc"
   ]
  },
  {
   "cell_type": "code",
   "execution_count": 246,
   "id": "7ac0e1fd-38b1-42a3-a1e2-c180a4d7ef29",
   "metadata": {},
   "outputs": [
    {
     "name": "stdout",
     "output_type": "stream",
     "text": [
      "dict_keys(['mol', '_scf', 'verbose', 'stdout', 'max_memory', 'ncas', 'nelecas', '_ncore', 'fcisolver', 'frozen', 'extrasym', 'e_tot', 'e_cas', 'ci', 'mo_coeff', 'mo_energy', 'mo_occ', 'converged'])\n"
     ]
    }
   ],
   "source": [
    "scf_checkfile = 'rohf.chk'\n",
    "ci_checkfile = 'casci.chk'\n",
    "for fname in [scf_checkfile, ci_checkfile]:\n",
    "    if os.path.isfile(fname):\n",
    "        os.remove(fname)\n",
    "mol, mf, mc = H2_casci(scf_checkfile, ci_checkfile)"
   ]
  },
  {
   "cell_type": "code",
   "execution_count": 247,
   "id": "7fe17d0c-cf3b-4f07-a232-0e126ac530c5",
   "metadata": {},
   "outputs": [
    {
     "data": {
      "text/plain": [
       "9.758567103948153e-16"
      ]
     },
     "execution_count": 247,
     "metadata": {},
     "output_type": "execute_result"
    }
   ],
   "source": [
    "i = 0\n",
    "j = 1\n",
    "ovlp = numpy.dot(mc.ci[i].ravel().conj(),mc.ci[j].ravel())\n",
    "ovlp"
   ]
  },
  {
   "cell_type": "code",
   "execution_count": 252,
   "id": "3f0f637b-6899-4bf7-984f-6a4f535d0931",
   "metadata": {},
   "outputs": [
    {
     "data": {
      "text/plain": [
       "0.9838400648615034"
      ]
     },
     "execution_count": 252,
     "metadata": {},
     "output_type": "execute_result"
    }
   ],
   "source": [
    "ci0 = copy.deepcopy(mc.ci[0])\n",
    "ci1 = copy.deepcopy(mc.ci[0])\n",
    "ci0[1]*=0\n",
    "ci0[2]*=0\n",
    "ci0[3]*=0\n",
    "ci0[4]*=0\n",
    "ci0[5]*=0\n",
    "\n",
    "ci1[1]*=0\n",
    "ci1[2]*=0\n",
    "ci1[3]*=0\n",
    "ci1[4]*=0\n",
    "ci1[5]*=0\n",
    "ovlp = numpy.dot(ci0.ravel().conj(),ci1.ravel())\n",
    "ovlp"
   ]
  },
  {
   "cell_type": "code",
   "execution_count": null,
   "id": "a886853e-a847-484f-93cc-d88a69f43df7",
   "metadata": {},
   "outputs": [],
   "source": []
  },
  {
   "cell_type": "code",
   "execution_count": 254,
   "id": "d5735e5d-86e5-49cf-972d-44b7ab972fae",
   "metadata": {},
   "outputs": [
    {
     "name": "stdout",
     "output_type": "stream",
     "text": [
      "CASCI energy of mol1 -99.95988952535133\n"
     ]
    },
    {
     "data": {
      "text/plain": [
       "0.00018125783588489701"
      ]
     },
     "execution_count": 254,
     "metadata": {},
     "output_type": "execute_result"
    }
   ],
   "source": [
    "myhf1 = gto.M(atom='H 0 0 0; F 0 0 1.1', basis='6-31g', verbose=0).apply(scf.RHF).run()\n",
    "norb = 4\n",
    "nelec = 4\n",
    "mc1 = mcscf.CASCI(myhf1, norb, nelec).run()\n",
    "mo0 = mc1.mo_coeff\n",
    "ci0 = mc1.ci\n",
    "ci1 = copy.deepcopy(mc1.ci)\n",
    "ci0[0]*=0\n",
    "ci0[2]*=0\n",
    "ci0[3]*=0\n",
    "ci0[4]*=0\n",
    "ci0[5]*=0\n",
    "\n",
    "ci1[0]*=0\n",
    "ci1[2]*=0\n",
    "ci1[3]*=0\n",
    "ci1[4]*=0\n",
    "ci1[5]*=0\n",
    "\n",
    "print('CASCI energy of mol1', mc1.e_tot)\n",
    "\n",
    "i = 5\n",
    "j = i\n",
    "s = numpy.einsum('pi,pq,qj->ij', mo0[:,i:i+norb], myhf1.get_ovlp(), mo0[:,j:j+norb])\n",
    "# here s = 1\n",
    "# s12 = pyscf.gto.intor_cross('int1e_ovlp', myhf1.mol, myhf1.mol)\n",
    "# s12 is equal to myhf1.get_ovlp()\n",
    "\n",
    "# fci.addons.overlap(ci0,ci1, norb, nelec, s)\n",
    "# When s = 1, above is equal to ci0.ravel().conj()*ci1.ravel()\n",
    "ovlp = numpy.dot(ci0.ravel().conj(),ci1.ravel())\n",
    "ovlp"
   ]
  },
  {
   "cell_type": "code",
   "execution_count": 238,
   "id": "31e3e0f8-261e-45d0-bd96-b962810b9fdf",
   "metadata": {},
   "outputs": [
    {
     "data": {
      "text/plain": [
       "FCIvector([[ 9.99783973e-01, -8.32667268e-17,  1.13059448e-18,\n",
       "            -1.40306585e-17,  4.63983384e-18,  3.56889192e-19],\n",
       "           [ 0.00000000e+00, -0.00000000e+00, -0.00000000e+00,\n",
       "            -0.00000000e+00,  0.00000000e+00, -0.00000000e+00],\n",
       "           [-0.00000000e+00, -0.00000000e+00, -0.00000000e+00,\n",
       "             0.00000000e+00, -0.00000000e+00,  0.00000000e+00],\n",
       "           [-0.00000000e+00, -0.00000000e+00,  0.00000000e+00,\n",
       "            -0.00000000e+00, -0.00000000e+00, -0.00000000e+00],\n",
       "           [ 0.00000000e+00,  0.00000000e+00, -0.00000000e+00,\n",
       "             0.00000000e+00, -0.00000000e+00,  0.00000000e+00],\n",
       "           [ 0.00000000e+00, -0.00000000e+00,  0.00000000e+00,\n",
       "            -0.00000000e+00,  0.00000000e+00,  0.00000000e+00]])"
      ]
     },
     "execution_count": 238,
     "metadata": {},
     "output_type": "execute_result"
    }
   ],
   "source": [
    "ci0"
   ]
  },
  {
   "cell_type": "code",
   "execution_count": null,
   "id": "73d90607-97cf-44f7-a879-4b7bf20965e7",
   "metadata": {},
   "outputs": [],
   "source": []
  },
  {
   "cell_type": "code",
   "execution_count": null,
   "id": "7dd6a56e-7075-42e1-a77f-3830ea5446e5",
   "metadata": {},
   "outputs": [],
   "source": []
  },
  {
   "cell_type": "code",
   "execution_count": null,
   "id": "b3164014-9079-4f53-a2b4-4123ce8f56ab",
   "metadata": {},
   "outputs": [],
   "source": []
  },
  {
   "cell_type": "code",
   "execution_count": null,
   "id": "9e860d98-3af6-41e7-8beb-77df0e792868",
   "metadata": {},
   "outputs": [],
   "source": []
  },
  {
   "cell_type": "code",
   "execution_count": 255,
   "id": "7b3878f1-6c6a-4fdf-a28c-d9773fd688f9",
   "metadata": {},
   "outputs": [
    {
     "name": "stdout",
     "output_type": "stream",
     "text": [
      "FCI energy of mol1 -100.1021146566482\n",
      "FCI energy of mol2 -100.08393757040976\n"
     ]
    }
   ],
   "source": [
    "myhf1 = pyscf.M(atom='H 0 0 0; F 0 0 1.1', basis='6-31g', verbose=0).RHF().run()\n",
    "e1, ci1 = pyscf.fci.FCI(myhf1).kernel()\n",
    "print('FCI energy of mol1', e1)\n",
    "\n",
    "myhf2 = pyscf.M(atom='H 0 0 0; F 0 0 1.2', basis='6-31g', verbose=0).RHF().run()\n",
    "e2, ci2 = pyscf.fci.FCI(myhf2).kernel()\n",
    "print('FCI energy of mol2', e2)"
   ]
  },
  {
   "cell_type": "code",
   "execution_count": 256,
   "id": "d49f69ff-2414-4d4a-ae63-cce0e9316bed",
   "metadata": {},
   "outputs": [],
   "source": [
    "s12 = pyscf.gto.intor_cross('int1e_ovlp', myhf1.mol, myhf2.mol)\n",
    "s12 = reduce(numpy.dot, (myhf1.mo_coeff.T, s12, myhf2.mo_coeff))"
   ]
  },
  {
   "cell_type": "code",
   "execution_count": 257,
   "id": "3edf19df-e422-4bd9-943a-e19715f0e7f5",
   "metadata": {},
   "outputs": [
    {
     "name": "stdout",
     "output_type": "stream",
     "text": [
      "<FCI-mol1|FCI-mol2> =  0.39963236744209335\n"
     ]
    }
   ],
   "source": [
    "norb = myhf2.mo_energy.size\n",
    "nelec = myhf2.mol.nelectron\n",
    "print('<FCI-mol1|FCI-mol2> = ', pyscf.fci.addons.overlap(ci1, ci2, norb, nelec, s12))"
   ]
  },
  {
   "cell_type": "code",
   "execution_count": 258,
   "id": "113af95a-28cd-42b6-a0e1-0cda8e49c29f",
   "metadata": {},
   "outputs": [
    {
     "data": {
      "text/plain": [
       "FCIvector([[ 9.77930458e-01, -8.66822956e-18, -4.80516072e-17, ...,\n",
       "            -5.46783436e-20,  4.39942545e-08, -2.06192228e-07],\n",
       "           [-8.66822956e-18, -1.03109302e-02, -3.33555068e-19, ...,\n",
       "            -6.90896377e-07, -2.25751916e-22, -1.18573500e-22],\n",
       "           [-4.80516072e-17,  6.07343277e-18, -1.03109302e-02, ...,\n",
       "            -1.38800602e-12, -5.32659154e-23, -4.17753258e-23],\n",
       "           ...,\n",
       "           [-5.46783436e-20, -6.90896377e-07, -1.38800602e-12, ...,\n",
       "             1.49703075e-07,  6.04115599e-24,  6.31239743e-24],\n",
       "           [ 4.39942545e-08, -2.25751916e-22, -5.32659154e-23, ...,\n",
       "             6.04115599e-24, -1.18210289e-08, -9.31122348e-09],\n",
       "           [-2.06192228e-07, -1.18573500e-22, -4.17753258e-23, ...,\n",
       "             6.31239743e-24, -9.31122348e-09, -5.37955222e-09]])"
      ]
     },
     "execution_count": 258,
     "metadata": {},
     "output_type": "execute_result"
    }
   ],
   "source": [
    "ci1"
   ]
  },
  {
   "cell_type": "code",
   "execution_count": 260,
   "id": "06633482-ea87-45fb-86c6-ca9ebb118f25",
   "metadata": {},
   "outputs": [
    {
     "data": {
      "text/plain": [
       "FCIvector([[ 9.73631787e-01, -3.29055833e-17, -2.72022635e-17, ...,\n",
       "             9.20832073e-21,  1.33857331e-07, -1.71869554e-07],\n",
       "           [-3.29055833e-17, -1.09924665e-02, -7.65279639e-18, ...,\n",
       "            -6.24654459e-07,  4.15850600e-22,  3.44380213e-22],\n",
       "           [-2.72022635e-17, -5.89268937e-18, -1.09924665e-02, ...,\n",
       "            -3.24046528e-12, -4.14672828e-22, -8.11320060e-23],\n",
       "           ...,\n",
       "           [ 9.20832073e-21, -6.24654459e-07, -3.24046529e-12, ...,\n",
       "             1.57243756e-07, -5.17748283e-23, -3.72015098e-24],\n",
       "           [ 1.33857331e-07,  4.15850600e-22, -4.14672828e-22, ...,\n",
       "            -5.17748283e-23, -1.76982575e-08, -1.00673075e-08],\n",
       "           [-1.71869554e-07,  3.44380213e-22, -8.11320060e-23, ...,\n",
       "            -3.72015098e-24, -1.00673075e-08, -3.98094148e-09]])"
      ]
     },
     "execution_count": 260,
     "metadata": {},
     "output_type": "execute_result"
    }
   ],
   "source": [
    "ci2"
   ]
  },
  {
   "cell_type": "code",
   "execution_count": 262,
   "id": "d89e49b8-a61e-4fee-98eb-7578c0e7cddd",
   "metadata": {},
   "outputs": [],
   "source": [
    "norb = 4\n",
    "nelec = (2,2)\n",
    "ua = numpy.linalg.svd(numpy.random.random((norb+1,norb+1)))[0]\n",
    "ub = numpy.linalg.svd(numpy.random.random((norb+1,norb+1)))[0]\n",
    "s = numpy.dot(ua[:,:norb].T, ub[:,:norb])\n",
    "\n",
    "strs = fci.cistring.make_strings(range(norb), nelec[0])\n",
    "na = len(strs)\n",
    "ci0 = numpy.random.random((na,na))\n",
    "ci0 /= numpy.linalg.norm(ci0)\n",
    "ci1 = numpy.random.random((na,na))\n",
    "ci1 /= numpy.linalg.norm(ci1)\n",
    "\n",
    "ovlpa = numpy.zeros((na,na))\n",
    "ovlpb = numpy.zeros((na,na))"
   ]
  },
  {
   "cell_type": "code",
   "execution_count": 268,
   "id": "7e6745b3-8635-41be-9352-689a59b4b4bd",
   "metadata": {},
   "outputs": [],
   "source": [
    "for ia in range(na):\n",
    "    for ja in range(na):\n",
    "        ovlpa[ia,ja] = fci.addons.det_overlap(strs[ia], strs[ja], norb, s)\n",
    "for ib in range(na):\n",
    "    for jb in range(na):\n",
    "        ovlpb[ib,jb] = fci.addons.det_overlap(strs[ib], strs[jb], norb, s)"
   ]
  },
  {
   "cell_type": "code",
   "execution_count": 271,
   "id": "9b059ccf-65c7-4a73-b5db-024ce7b932c7",
   "metadata": {},
   "outputs": [
    {
     "data": {
      "text/plain": [
       "0.00880458950546415"
      ]
     },
     "execution_count": 271,
     "metadata": {},
     "output_type": "execute_result"
    }
   ],
   "source": [
    "ovlp = numpy.einsum('ab,ij,ai,bj->', ci0, ci1, ovlpa, ovlpb)\n",
    "ovlp"
   ]
  },
  {
   "cell_type": "code",
   "execution_count": 272,
   "id": "5818f0c9-981d-4647-bd85-fbdd2cf432e8",
   "metadata": {},
   "outputs": [
    {
     "data": {
      "text/plain": [
       "0.008804589505464165"
      ]
     },
     "execution_count": 272,
     "metadata": {},
     "output_type": "execute_result"
    }
   ],
   "source": [
    "ref = fci.addons.overlap(ci0, ci1, norb, nelec, s)\n",
    "ref"
   ]
  },
  {
   "cell_type": "code",
   "execution_count": 273,
   "id": "b9a4a2d2-0e5e-4557-be67-5e6599ff15b5",
   "metadata": {},
   "outputs": [
    {
     "data": {
      "text/plain": [
       "array([[0.13350769, 0.04004684, 0.14499192, 0.19060605, 0.22783624,\n",
       "        0.12476813],\n",
       "       [0.14113332, 0.19598968, 0.16305336, 0.24460255, 0.01669965,\n",
       "        0.23528007],\n",
       "       [0.19158664, 0.23112693, 0.23156954, 0.28439579, 0.22270361,\n",
       "        0.18156047],\n",
       "       [0.08718169, 0.08487368, 0.00516769, 0.14530301, 0.00578207,\n",
       "        0.04255375],\n",
       "       [0.04531161, 0.21573867, 0.13073697, 0.22694107, 0.18254903,\n",
       "        0.01521281],\n",
       "       [0.14005073, 0.15994695, 0.17569505, 0.05969608, 0.25997719,\n",
       "        0.11142458]])"
      ]
     },
     "execution_count": 273,
     "metadata": {},
     "output_type": "execute_result"
    }
   ],
   "source": [
    "ci0"
   ]
  },
  {
   "cell_type": "code",
   "execution_count": 274,
   "id": "429828b0-b1f0-429e-8178-a4d8d8439f7a",
   "metadata": {},
   "outputs": [
    {
     "data": {
      "text/plain": [
       "array([[0.18082025, 0.21059378, 0.09876194, 0.19482774, 0.24737115,\n",
       "        0.00859667],\n",
       "       [0.10105422, 0.25109129, 0.09339583, 0.11734425, 0.23848057,\n",
       "        0.12197454],\n",
       "       [0.10201867, 0.17062388, 0.12710073, 0.16731576, 0.01581493,\n",
       "        0.21333788],\n",
       "       [0.2250545 , 0.26141065, 0.11345579, 0.06748957, 0.26105286,\n",
       "        0.03143701],\n",
       "       [0.13663547, 0.00689583, 0.09464234, 0.18208695, 0.01201575,\n",
       "        0.06479511],\n",
       "       [0.26693888, 0.16923   , 0.13961166, 0.16288811, 0.24112239,\n",
       "        0.2055747 ]])"
      ]
     },
     "execution_count": 274,
     "metadata": {},
     "output_type": "execute_result"
    }
   ],
   "source": [
    "ci1"
   ]
  },
  {
   "cell_type": "code",
   "execution_count": null,
   "id": "dd376bda-4a2f-4c76-9138-60cbe4574783",
   "metadata": {},
   "outputs": [],
   "source": []
  }
 ],
 "metadata": {
  "kernelspec": {
   "display_name": "Python 3 (ipykernel)",
   "language": "python",
   "name": "python3"
  },
  "language_info": {
   "codemirror_mode": {
    "name": "ipython",
    "version": 3
   },
   "file_extension": ".py",
   "mimetype": "text/x-python",
   "name": "python",
   "nbconvert_exporter": "python",
   "pygments_lexer": "ipython3",
   "version": "3.11.6"
  }
 },
 "nbformat": 4,
 "nbformat_minor": 5
}
