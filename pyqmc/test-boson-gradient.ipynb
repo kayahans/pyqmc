{
 "cells": [
  {
   "cell_type": "code",
   "execution_count": 259,
   "id": "2d44d25d-a2d6-4c68-9594-3e54fbc3e7f4",
   "metadata": {},
   "outputs": [],
   "source": [
    "import matplotlib.pyplot as plt\n",
    "import numpy as np\n",
    "import copy\n",
    "import h5py\n",
    "import os\n",
    "import seaborn as sns\n",
    "from pyscf.scf.uhf import det_ovlp"
   ]
  },
  {
   "cell_type": "code",
   "execution_count": 260,
   "id": "a352e7c1-99ec-4d81-b38a-a5188ecbe2a2",
   "metadata": {},
   "outputs": [],
   "source": [
    "num_det = 2"
   ]
  },
  {
   "cell_type": "code",
   "execution_count": 261,
   "id": "6fe51529-964b-46af-a2a4-92c3603cf990",
   "metadata": {},
   "outputs": [],
   "source": [
    "# Wavefunction generation\n",
    "from pyscf import lib, gto, scf\n",
    "from pyscf import gto, mp, mcscf\n",
    "def He_casci(scf_checkfile, ci_checkfile):\n",
    "    mol = gto.M(\n",
    "        atom=\"He 0. 0. 0.0;\",\n",
    "        basis=f\"ccecpccpvqz\",\n",
    "        unit=\"bohr\",\n",
    "        charge=0,\n",
    "        spin=0,\n",
    "        verbose=1,\n",
    "    )\n",
    "    mf = scf.UHF(mol).run()\n",
    "    mf.chkfile = scf_checkfile\n",
    "    mf.kernel()\n",
    "    mc = mcscf.CASCI(mf, num_det,2)\n",
    "    # mc.fcisolver.nroots = 2\n",
    "    mc.kernel()\n",
    "    print(mc.__dict__.keys())\n",
    "    with h5py.File(ci_checkfile, \"a\") as f:\n",
    "        f.create_group(\"ci\")\n",
    "        f[\"ci/ncas\"] = mc.ncas\n",
    "        f[\"ci/nelecas\"] = list(mc.nelecas)\n",
    "        f[\"ci/ci\"] = mc.ci\n",
    "        f[\"ci/mo_coeff\"] = mc.mo_coeff    \n",
    "    return mol, mf, mc"
   ]
  },
  {
   "cell_type": "code",
   "execution_count": 262,
   "id": "c1dbef09-7ec8-42fa-ba16-a92399d93a9f",
   "metadata": {},
   "outputs": [
    {
     "name": "stdout",
     "output_type": "stream",
     "text": [
      "dict_keys(['mol', '_scf', 'verbose', 'stdout', 'max_memory', 'ncas', 'nelecas', '_ncore', 'fcisolver', 'frozen', 'extrasym', 'e_tot', 'e_cas', 'ci', 'mo_coeff', 'mo_energy', 'mo_occ', 'converged'])\n"
     ]
    }
   ],
   "source": [
    "scf_checkfile = 'rohf.chk'\n",
    "ci_checkfile = 'casci.chk'\n",
    "for fname in [scf_checkfile, ci_checkfile]:\n",
    "    if os.path.isfile(fname):\n",
    "        os.remove(fname)\n",
    "mol, mf, mcc = He_casci(scf_checkfile, ci_checkfile)\n"
   ]
  },
  {
   "cell_type": "code",
   "execution_count": 263,
   "id": "0e5154f5-2f67-474c-839a-aba9f7d1b20c",
   "metadata": {},
   "outputs": [
    {
     "data": {
      "text/plain": [
       "FCIvector([[ 0.99897607,  0.00661145],\n",
       "           [ 0.00661145, -0.04426495]])"
      ]
     },
     "execution_count": 263,
     "metadata": {},
     "output_type": "execute_result"
    }
   ],
   "source": [
    "mcc.ci"
   ]
  },
  {
   "cell_type": "code",
   "execution_count": 264,
   "id": "ed528686-5c75-492b-b91f-414737c344fe",
   "metadata": {},
   "outputs": [],
   "source": [
    "import pyqmc.api as pyq\n",
    "from wftools import generate_slater"
   ]
  },
  {
   "cell_type": "code",
   "execution_count": 265,
   "id": "5d62ee66-28d1-48a2-be91-bdf077fd737d",
   "metadata": {},
   "outputs": [],
   "source": [
    "# Boson WF\n",
    "import bosonwftools, jastrowspin, bosonslater\n",
    "import pyscftools, mc\n",
    "wf0, _ = bosonwftools.generate_boson_wf(mol, mf, mc=mcc)\n",
    "wave_functions = wf0.wf_factors\n",
    "for wave in wave_functions:\n",
    "    if isinstance(wave, bosonslater.BosonWF):\n",
    "        boson_wf = wave\n",
    "    if isinstance(wave, jastrowspin.JastrowSpin):\n",
    "        jastrow_wf = wave       \n",
    "                \n"
   ]
  },
  {
   "cell_type": "code",
   "execution_count": 266,
   "id": "f63b32d6-47c4-4e86-b927-6fd6da552f28",
   "metadata": {},
   "outputs": [],
   "source": [
    "from wftools import generate_slater\n",
    "wfs = []\n",
    "num_det = mcc.ci.shape[0] * mcc.ci.shape[1]\n",
    "for i in range(mcc.ci.shape[0]):\n",
    "    for j in range(mcc.ci.shape[1]):\n",
    "        mc0 = copy.copy(mcc)\n",
    "        mc0.ci = mcc.ci * 0\n",
    "        mc0.ci[i, j] = 1\n",
    "        wf0, _ = generate_slater(mol, mf, mc=mc0, optimize_determinants=False)\n",
    "        wfs.append(wf0)"
   ]
  },
  {
   "cell_type": "code",
   "execution_count": 267,
   "id": "ff3c4681-b13f-494d-a2d2-a2870328545e",
   "metadata": {},
   "outputs": [
    {
     "data": {
      "text/plain": [
       "FCIvector([[0., 0.],\n",
       "           [0., 1.]])"
      ]
     },
     "execution_count": 267,
     "metadata": {},
     "output_type": "execute_result"
    }
   ],
   "source": [
    "mc0.ci"
   ]
  },
  {
   "cell_type": "code",
   "execution_count": 268,
   "id": "fcf4f0da-d69b-45ea-a44c-8c1f11207c4a",
   "metadata": {},
   "outputs": [],
   "source": [
    "configs = pyq.initial_guess(mol, 1)\n",
    "# configs.configs"
   ]
  },
  {
   "cell_type": "code",
   "execution_count": 269,
   "id": "cb2406db-421e-4397-a314-e98db18802ef",
   "metadata": {},
   "outputs": [
    {
     "data": {
      "text/plain": [
       "array([[[-1.23143631, -0.19862703,  1.64616772],\n",
       "        [ 0.60530748, -2.30397613, -0.4127462 ]]])"
      ]
     },
     "execution_count": 269,
     "metadata": {},
     "output_type": "execute_result"
    }
   ],
   "source": [
    "configs.configs"
   ]
  },
  {
   "cell_type": "code",
   "execution_count": 270,
   "id": "7036ceca-4873-4384-bafd-50e150ea0840",
   "metadata": {},
   "outputs": [
    {
     "data": {
      "text/plain": [
       "array([[ 0.19461724,  0.03139119, -0.26016175]])"
      ]
     },
     "execution_count": 270,
     "metadata": {},
     "output_type": "execute_result"
    }
   ],
   "source": [
    "# Boson grad\n",
    "e = 0\n",
    "boson_wf.recompute(configs)\n",
    "g, _, _ = boson_wf.gradient_value(e, configs.electron(e))\n",
    "gradb = mc.limdrift(np.real(g.T))\n",
    "valueb = boson_wf.value()\n",
    "gradb"
   ]
  },
  {
   "cell_type": "code",
   "execution_count": 271,
   "id": "f8475b11-26b2-4b16-9463-8ae722725e82",
   "metadata": {},
   "outputs": [
    {
     "data": {
      "text/plain": [
       "array([[ 0.48490057,  0.07821303, -0.64820865]])"
      ]
     },
     "execution_count": 271,
     "metadata": {},
     "output_type": "execute_result"
    }
   ],
   "source": [
    "# Fermion grad\n",
    "e = 0\n",
    "_ = [wf.recompute(configs) for wf in wfs]\n",
    "grads = [np.real(wf.gradient(e, configs.electron(e)).T) for wf in wfs]\n",
    "vals = [np.real(wf.value()) for wf in wfs]\n",
    "grad = mc.limdrift(np.mean(grads, axis=0))\n",
    "grad"
   ]
  },
  {
   "cell_type": "code",
   "execution_count": null,
   "id": "0974e3d1-985e-4ba2-bb91-bc8854889f23",
   "metadata": {},
   "outputs": [],
   "source": []
  },
  {
   "cell_type": "code",
   "execution_count": 272,
   "id": "b56f04f7-14bd-4c8a-8e04-a8f5c6b22f4d",
   "metadata": {},
   "outputs": [],
   "source": [
    "# For some configurations, grad and gradb are of opposite sign and close in absolute value, try a few times and find such configurations\n",
    "# 1. Use the configuration coordinates above, and then use fixed initial configs. "
   ]
  },
  {
   "cell_type": "code",
   "execution_count": 273,
   "id": "6e4732df-2245-4d8c-ab7a-166037039b83",
   "metadata": {},
   "outputs": [
    {
     "data": {
      "text/plain": [
       "array([[[ 1.        ,  1.        ]],\n",
       "\n",
       "       [[ 0.89424967,  0.07555148]],\n",
       "\n",
       "       [[ 0.14423983,  0.01218623]],\n",
       "\n",
       "       [[-1.19542109, -0.10099621]]])"
      ]
     },
     "execution_count": 273,
     "metadata": {},
     "output_type": "execute_result"
    }
   ],
   "source": [
    "# Fermion grad enhanced\n",
    "import gpu\n",
    "s = int(e >= wfs[0]._nelec[0])\n",
    "epos = configs.electron(e)\n",
    "aograd = wfs[0].orbitals.aos(\"GTOval_sph_deriv1\", epos)\n",
    "mograd = wfs[0].orbitals.mos(aograd, s)\n",
    "mograd_vals = mograd[:, :, wfs[0]._det_occup[s]]\n",
    "vec = mograd_vals\n",
    "\n",
    "ratios = gpu.cp.einsum(\n",
    "    \"ei...dj,idj...->ei...d\",\n",
    "    vec,\n",
    "    wfs[0]._inverse[s][..., e - s * wfs[0]._nelec[0]],\n",
    ")\n",
    "ratios"
   ]
  },
  {
   "cell_type": "code",
   "execution_count": 274,
   "id": "993fc2eb-bdf1-4ce6-aced-248356846a92",
   "metadata": {},
   "outputs": [
    {
     "data": {
      "text/plain": [
       "array([[ 0.19461724],\n",
       "       [ 0.03139119],\n",
       "       [-0.26016175]])"
      ]
     },
     "execution_count": 274,
     "metadata": {},
     "output_type": "execute_result"
    }
   ],
   "source": [
    "# Boson grad enhanced\n",
    "import gpu\n",
    "s = int(e >= boson_wf._nelec[0])\n",
    "epos = configs.electron(e)\n",
    "aograd = boson_wf.orbitals.aos(\"GTOval_sph_deriv1\", epos)\n",
    "mograd = boson_wf.orbitals.mos(aograd, s)\n",
    "mograd_vals = mograd[:, :, boson_wf._det_occup[s]]\n",
    "vec = mograd_vals\n",
    "\n",
    "ratios = gpu.cp.einsum(\n",
    "    \"ei...dj,idj...->ei...d\",\n",
    "    vec,\n",
    "    boson_wf._inverse[s][..., e - s * boson_wf._nelec[0]],\n",
    ")\n",
    "\n",
    "upref = gpu.cp.amax(boson_wf._dets[0][1]).real\n",
    "dnref = gpu.cp.amax(boson_wf._dets[1][1]).real\n",
    "\n",
    "det_array = (\n",
    "    boson_wf._dets[0][0, :, boson_wf._det_map[0]]\n",
    "    * boson_wf._dets[1][0, :, boson_wf._det_map[1]]\n",
    "    * gpu.cp.exp(\n",
    "        boson_wf._dets[0][1, :, boson_wf._det_map[0]]\n",
    "        + boson_wf._dets[1][1, :, boson_wf._det_map[1]]\n",
    "        - upref\n",
    "        - dnref\n",
    "    )\n",
    ")\n",
    "\n",
    "numer = 1./2 * gpu.cp.einsum(\n",
    "    \"ei...d,di->ei...\",\n",
    "    ratios[..., boson_wf._det_map[s]],\n",
    "    # boson_wf.parameters[\"det_coeff\"],\n",
    "    det_array**2,\n",
    "    # det_array_noref,\n",
    ")\n",
    "\n",
    "numera = 1./2 * gpu.cp.einsum(\n",
    "    \"ei...d,di->ei...\",\n",
    "    ratios[..., boson_wf._det_map[s]],\n",
    "    # boson_wf.parameters[\"det_coeff\"],\n",
    "    det_array,\n",
    "    # det_array_noref,\n",
    ")\n",
    "\n",
    "denom = gpu.cp.einsum(\n",
    "    \"di->i...\",\n",
    "    # boson_wf.parameters[\"det_coeff\"],\n",
    "    det_array**2,\n",
    ")\n",
    "\n",
    "denoma = gpu.cp.einsum(\n",
    "    \"di->i...\",\n",
    "    # boson_wf.parameters[\"det_coeff\"],\n",
    "    det_array,\n",
    ")\n",
    "\n",
    "res = numer / denom\n",
    "res[1:]/res[0]\n"
   ]
  },
  {
   "cell_type": "code",
   "execution_count": 275,
   "id": "eafd4a7a-aba2-462c-bc1a-a56ff7a8c2c9",
   "metadata": {},
   "outputs": [
    {
     "data": {
      "text/plain": [
       "array([[[ 1.        ,  1.        ,  1.        ,  1.        ]],\n",
       "\n",
       "       [[ 0.89424967,  0.89424967,  0.07555148,  0.07555148]],\n",
       "\n",
       "       [[ 0.14423983,  0.14423983,  0.01218623,  0.01218623]],\n",
       "\n",
       "       [[-1.19542109, -1.19542109, -0.10099621, -0.10099621]]])"
      ]
     },
     "execution_count": 275,
     "metadata": {},
     "output_type": "execute_result"
    }
   ],
   "source": [
    "ratios[..., boson_wf._det_map[s]]"
   ]
  },
  {
   "cell_type": "code",
   "execution_count": 276,
   "id": "d05eec8a-efd6-48d2-865f-48761ad2f2be",
   "metadata": {},
   "outputs": [
    {
     "data": {
      "text/plain": [
       "array([[0.11647871],\n",
       "       [0.41253281],\n",
       "       [0.28235018],\n",
       "       [1.        ]])"
      ]
     },
     "execution_count": 276,
     "metadata": {},
     "output_type": "execute_result"
    }
   ],
   "source": [
    "det_array"
   ]
  },
  {
   "cell_type": "code",
   "execution_count": 277,
   "id": "861e56f2-e89a-44be-bfb9-316e784f38fb",
   "metadata": {},
   "outputs": [
    {
     "data": {
      "text/plain": [
       "array([[ 0.63173611],\n",
       "       [ 0.12294674],\n",
       "       [ 0.01983095],\n",
       "       [-0.16435357]])"
      ]
     },
     "execution_count": 277,
     "metadata": {},
     "output_type": "execute_result"
    }
   ],
   "source": [
    "numer"
   ]
  },
  {
   "cell_type": "code",
   "execution_count": 278,
   "id": "232ed9d0-4215-472a-a5c5-2afc6fe001fe",
   "metadata": {},
   "outputs": [
    {
     "data": {
      "text/plain": [
       "array([[ 0.90568085],\n",
       "       [ 0.28497591],\n",
       "       [ 0.04596577],\n",
       "       [-0.38095202]])"
      ]
     },
     "execution_count": 278,
     "metadata": {},
     "output_type": "execute_result"
    }
   ],
   "source": [
    "numera"
   ]
  },
  {
   "cell_type": "code",
   "execution_count": 279,
   "id": "bd38a0e0-5af8-4cae-b786-264fe708e4c7",
   "metadata": {},
   "outputs": [
    {
     "data": {
      "text/plain": [
       "array([[[ 1.        ,  1.        ,  1.        ,  1.        ]],\n",
       "\n",
       "       [[ 0.89424967,  0.89424967,  0.07555148,  0.07555148]],\n",
       "\n",
       "       [[ 0.14423983,  0.14423983,  0.01218623,  0.01218623]],\n",
       "\n",
       "       [[-1.19542109, -1.19542109, -0.10099621, -0.10099621]]])"
      ]
     },
     "execution_count": 279,
     "metadata": {},
     "output_type": "execute_result"
    }
   ],
   "source": [
    "ratios[..., boson_wf._det_map[s]]"
   ]
  },
  {
   "cell_type": "code",
   "execution_count": 280,
   "id": "d5d422aa-a424-44bf-8308-19e7e218cf21",
   "metadata": {},
   "outputs": [
    {
     "data": {
      "text/plain": [
       "array([1.8113617])"
      ]
     },
     "execution_count": 280,
     "metadata": {},
     "output_type": "execute_result"
    }
   ],
   "source": [
    "denoma"
   ]
  },
  {
   "cell_type": "code",
   "execution_count": 281,
   "id": "4bfbc7d2-7bbe-475a-8ff4-dd2cdf7ff6bd",
   "metadata": {},
   "outputs": [
    {
     "data": {
      "text/plain": [
       "-2.2685737911496364"
      ]
     },
     "execution_count": 281,
     "metadata": {},
     "output_type": "execute_result"
    }
   ],
   "source": [
    "upref"
   ]
  },
  {
   "cell_type": "code",
   "execution_count": 282,
   "id": "947ffe24-3f41-40f7-95d9-c51005a42a6f",
   "metadata": {},
   "outputs": [
    {
     "data": {
      "text/plain": [
       "-2.4139247348177166"
      ]
     },
     "execution_count": 282,
     "metadata": {},
     "output_type": "execute_result"
    }
   ],
   "source": [
    "dnref"
   ]
  },
  {
   "cell_type": "code",
   "execution_count": 283,
   "id": "c1011c9f-5389-4185-bf54-1faee4ebfb23",
   "metadata": {},
   "outputs": [
    {
     "data": {
      "text/plain": [
       "array([0.25, 0.25, 0.25, 0.25])"
      ]
     },
     "execution_count": 283,
     "metadata": {},
     "output_type": "execute_result"
    }
   ],
   "source": [
    "boson_wf.parameters['det_coeff']"
   ]
  },
  {
   "cell_type": "code",
   "execution_count": 284,
   "id": "a6a94680-a42b-45a7-a04f-b02ea48d91b6",
   "metadata": {},
   "outputs": [
    {
     "data": {
      "text/plain": [
       "array([[ 0.5       ],\n",
       "       [ 0.09730862],\n",
       "       [ 0.01569559],\n",
       "       [-0.13008088]])"
      ]
     },
     "execution_count": 284,
     "metadata": {},
     "output_type": "execute_result"
    }
   ],
   "source": [
    "s = int(e >= boson_wf._nelec[0])\n",
    "aograd = boson_wf.orbitals.aos(\"GTOval_sph_deriv1\", configs.electron(e))\n",
    "mograd = boson_wf.orbitals.mos(aograd, s)\n",
    "mograd_vals = mograd[:, :, boson_wf._det_occup[s]]\n",
    "ratios = boson_wf._testrowderiv(e, mograd_vals)\n",
    "ratios"
   ]
  },
  {
   "cell_type": "code",
   "execution_count": 285,
   "id": "b69d530e-9e6f-44a3-bb30-eb9cc3529922",
   "metadata": {},
   "outputs": [
    {
     "data": {
      "text/plain": [
       "array([[ 0.19461724,  0.03139119, -0.26016175]])"
      ]
     },
     "execution_count": 285,
     "metadata": {},
     "output_type": "execute_result"
    }
   ],
   "source": [
    "(ratios[1:] / ratios[0]).T"
   ]
  },
  {
   "cell_type": "code",
   "execution_count": 286,
   "id": "5fccd7c9-8d53-4823-b1e4-9cc6ae070da7",
   "metadata": {},
   "outputs": [
    {
     "ename": "AttributeError",
     "evalue": "'MultiplyWF' object has no attribute '_nelec'",
     "output_type": "error",
     "traceback": [
      "\u001b[0;31m---------------------------------------------------------------------------\u001b[0m",
      "\u001b[0;31mAttributeError\u001b[0m                            Traceback (most recent call last)",
      "Cell \u001b[0;32mIn[286], line 1\u001b[0m\n\u001b[0;32m----> 1\u001b[0m s \u001b[38;5;241m=\u001b[39m \u001b[38;5;28mint\u001b[39m(e \u001b[38;5;241m>\u001b[39m\u001b[38;5;241m=\u001b[39m wf\u001b[38;5;241m.\u001b[39m_nelec[\u001b[38;5;241m0\u001b[39m])\n\u001b[1;32m      2\u001b[0m aograd \u001b[38;5;241m=\u001b[39m wf\u001b[38;5;241m.\u001b[39morbitals\u001b[38;5;241m.\u001b[39maos(\u001b[38;5;124m\"\u001b[39m\u001b[38;5;124mGTOval_sph_deriv1\u001b[39m\u001b[38;5;124m\"\u001b[39m, configs\u001b[38;5;241m.\u001b[39melectron(e))\n\u001b[1;32m      3\u001b[0m mograd \u001b[38;5;241m=\u001b[39m wf\u001b[38;5;241m.\u001b[39morbitals\u001b[38;5;241m.\u001b[39mmos(aograd, s)\n",
      "\u001b[0;31mAttributeError\u001b[0m: 'MultiplyWF' object has no attribute '_nelec'"
     ]
    }
   ],
   "source": [
    "s = int(e >= wf._nelec[0])\n",
    "aograd = wf.orbitals.aos(\"GTOval_sph_deriv1\", configs.electron(e))\n",
    "mograd = wf.orbitals.mos(aograd, s)\n",
    "mograd_vals = mograd[:, :, wf._det_occup[s]]\n",
    "ratios = wf._testrowderiv(e, mograd_vals)\n",
    "ratios"
   ]
  },
  {
   "cell_type": "code",
   "execution_count": null,
   "id": "97d65d30-a5be-41e2-b1e7-b3c474e33863",
   "metadata": {},
   "outputs": [],
   "source": []
  },
  {
   "cell_type": "code",
   "execution_count": null,
   "id": "f8d82cdc-d147-4b09-bfe9-489178057ad3",
   "metadata": {},
   "outputs": [],
   "source": []
  },
  {
   "cell_type": "code",
   "execution_count": null,
   "id": "33f5b441-1ab2-41b5-9509-b248f3b8cf4c",
   "metadata": {},
   "outputs": [],
   "source": []
  },
  {
   "cell_type": "code",
   "execution_count": null,
   "id": "f76f679e-9895-418d-9d61-2c00cb223fb9",
   "metadata": {},
   "outputs": [],
   "source": []
  },
  {
   "cell_type": "code",
   "execution_count": null,
   "id": "633c0884-8b0e-42ba-a16d-4585bc24fc34",
   "metadata": {},
   "outputs": [],
   "source": []
  },
  {
   "cell_type": "code",
   "execution_count": null,
   "id": "07000d31-f7bc-43db-b711-6591c7e5eaf4",
   "metadata": {},
   "outputs": [],
   "source": []
  }
 ],
 "metadata": {
  "kernelspec": {
   "display_name": "Python 3 (ipykernel)",
   "language": "python",
   "name": "python3"
  },
  "language_info": {
   "codemirror_mode": {
    "name": "ipython",
    "version": 3
   },
   "file_extension": ".py",
   "mimetype": "text/x-python",
   "name": "python",
   "nbconvert_exporter": "python",
   "pygments_lexer": "ipython3",
   "version": "3.11.6"
  }
 },
 "nbformat": 4,
 "nbformat_minor": 5
}
