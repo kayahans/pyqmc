{
 "cells": [
  {
   "cell_type": "code",
   "execution_count": 45,
   "id": "bcac56e6-5690-45d8-bf04-8278d8e9908d",
   "metadata": {
    "tags": []
   },
   "outputs": [
    {
     "name": "stdout",
     "output_type": "stream",
     "text": [
      "/Users/ksu/Documents/GitHub/pyqmc/pyqmc/api.py\n",
      "/Users/ksu/Software/anaconda3/lib/python3.11/site-packages/pyscf/__init__.py\n"
     ]
    }
   ],
   "source": [
    "# Wavefunction generation\n",
    "from pyscf import mcscf, fci, lib \n",
    "from pyscf import gto, scf, tools, dft\n",
    "import api as pyq \n",
    "import importlib\n",
    "import os\n",
    "import h5py\n",
    "import pandas as pd\n",
    "import pdb\n",
    "import pyscf\n",
    "import numpy as np\n",
    "import pyqmc\n",
    "import scipy\n",
    "import matplotlib.pyplot as plt\n",
    "from pyscf.scf.hf import dump_scf_summary\n",
    "from concurrent.futures import ProcessPoolExecutor\n",
    "from pyscf.scf.chkfile import dump_scf\n",
    "print(pyq.__file__)\n",
    "print(pyscf.__file__)"
   ]
  },
  {
   "cell_type": "code",
   "execution_count": 46,
   "id": "6625c1e6-505e-4c73-bb02-071a75e92a71",
   "metadata": {
    "scrolled": true,
    "tags": []
   },
   "outputs": [
    {
     "name": "stdout",
     "output_type": "stream",
     "text": [
      "converged SCF energy = -0.856973623578646  <S^2> = 2  2S+1 = 3\n",
      "CASCI E = -0.889083104158968  E(CI) = -1.38908310415897  S^2 = 2.0000000\n",
      "dict_keys(['mol', '_scf', 'verbose', 'stdout', 'max_memory', 'ncas', 'nelecas', '_ncore', 'fcisolver', 'frozen', 'extrasym', 'e_tot', 'e_cas', 'ci', 'mo_coeff', 'mo_energy', 'mo_occ', 'converged'])\n",
      "Available output from CASCI: <KeysViewHDF5 ['ci', 'mo_coeff', 'ncas', 'nelecas']>\n"
     ]
    }
   ],
   "source": [
    "# H2 molecule\n",
    "def run_scf(scf_checkfile):\n",
    "    mol = gto.M(atom=\"H 0. 0. 0.;H 0. 0. 1.;\", basis=f'ccecpccpvdz', unit='bohr')\n",
    "    mf = scf.UHF(mol)\n",
    "    mf.chkfile = scf_checkfile\n",
    "    dm = mf.init_guess_by_atom()\n",
    "    mf.kernel(dm)\n",
    "    dump_scf(mf.mol, 'scf.hdf5', mf.energy_tot(), mf.mo_energy, mf.mo_coeff, mf.mo_occ)\n",
    "    return mf\n",
    "\n",
    "def run_lda_be(scf_checkfile):\n",
    "    print(\"Be atom neutral LDA spin=2\")\n",
    "    mol = gto.M(atom=\"Be 0. 0. 0.\", spin=2,basis=f'ccpvdz', unit='bohr')\n",
    "    print(\"HF\")\n",
    "    mf = scf.UHF(mol)\n",
    "    mf.kernel()\n",
    "    print(\"LDA\")        \n",
    "    mf = dft.UKS(mol)\n",
    "    # mf.verbose=6\n",
    "    mf.chkfile = scf_checkfile\n",
    "    dm = mf.init_guess_by_atom()\n",
    "    mf.kernel(dm, xc='LDA')\n",
    "    return mf\n",
    "\n",
    "def run_lda_li(scf_checkfile):\n",
    "    print(\"Li atom neutral LDA spin=1\")\n",
    "    mol = gto.M(atom=\"Li 0. 0. 0.\",basis=f'ccpvtz', spin=1, unit='bohr')\n",
    "    print(\"HF\")\n",
    "    mf = scf.UHF(mol)\n",
    "    mf.kernel()\n",
    "    print(\"LDA\")    \n",
    "    mf = dft.UKS(mol)\n",
    "    # mf.verbose=6\n",
    "    mf.chkfile = scf_checkfile\n",
    "    dm = mf.init_guess_by_atom()\n",
    "    mf.kernel(dm, xc='LDA')\n",
    "    return mf\n",
    "\n",
    "def run_lda_he(scf_checkfile):\n",
    "    print(\"He atom neutral LDA spin=0\")\n",
    "    # mol = gto.M(atom=\"He 0. 0. 0.\", basis=\"ccECP_cc-pVDZ\", ecp=\"ccecp\", unit='bohr')\n",
    "    mol = gto.M(atom=\"He 0. 0. 0.\", basis=\"ccpvdz\", unit='bohr')    \n",
    "    print(\"HF\")\n",
    "    mf = scf.UHF(mol)\n",
    "    mf.kernel()\n",
    "    print(\"LDA\")    \n",
    "    mf = dft.UKS(mol)\n",
    "    # mf.verbose=6\n",
    "    mf.chkfile = scf_checkfile\n",
    "    dm = mf.init_guess_by_atom()\n",
    "    mf.kernel(dm, xc='LDA')\n",
    "    return mf\n",
    "\n",
    "def run_lda_h2(scf_checkfile):\n",
    "    mol = gto.M(atom=\"H 0. 0. 0.; H 0. 0. 2\", spin = 2, basis=f'ccecpccpvdz', unit='bohr')\n",
    "    mf = dft.UKS(mol)\n",
    "    # mf.verbose=6\n",
    "    mf.chkfile = scf_checkfile\n",
    "    dm = mf.init_guess_by_atom()\n",
    "    mf.xc='LDA, VWN'\n",
    "    mf.kernel()    \n",
    "    # mf.kernel(dm, xc='LDA,VWN')\n",
    "    return mf\n",
    "\n",
    "def run_lda(scf_checkfile):\n",
    "    mol = gto.M(atom=\"H 0. 0. 0.\", spin=1,basis=f'ccecpccpvdz', unit='bohr')\n",
    "    mf = dft.UKS(mol)\n",
    "    # mf.verbose=6\n",
    "    mf.chkfile = scf_checkfile\n",
    "    dm = mf.init_guess_by_atom()\n",
    "    mf.kernel(dm, xc='LDA')\n",
    "    return mf\n",
    "    \n",
    "def run_casscf(scf_checkfile, ci_checkfile):\n",
    "    cell, mf = pyq.recover_pyscf(scf_checkfile, cancel_outputs=False)\n",
    "    mc = mcscf.CASSCF(mf,2,2)\n",
    "    mc.chkfile = ci_checkfile\n",
    "    mc.kernel()\n",
    "    with h5py.File(mc.chkfile, \"a\") as f:\n",
    "        print(\"Available output from CASSCF:\", f[\"mcscf\"].keys())\n",
    "        f[\"mcscf/nelecas\"] = list(mc.nelecas)\n",
    "        f[\"mcscf/ci\"] = mc.ci\n",
    "    return mc\n",
    "\n",
    "def run_casci(scf_checkfile, ci_checkfile):\n",
    "    cell, mf = pyq.recover_pyscf(scf_checkfile, cancel_outputs=False)\n",
    "    # ncas: orbitals\n",
    "    # nelecas: electrons\n",
    "    ncas = 4\n",
    "    nelecas = mf.nelec\n",
    "    mc = mcscf.CASCI(mf, ncas, nelecas)\n",
    "    mc.kernel()\n",
    "    print(mc.__dict__.keys())\n",
    "    with h5py.File(ci_checkfile, \"a\") as f:\n",
    "        f.create_group(\"ci\")\n",
    "        f[\"ci/ncas\"] = mc.ncas\n",
    "        f[\"ci/nelecas\"] = list(mc.nelecas)\n",
    "        f[\"ci/ci\"] = mc.ci\n",
    "        f[\"ci/mo_coeff\"] = mc.mo_coeff\n",
    "        print(\"Available output from CASCI:\", f[\"ci\"].keys())\n",
    "    return mc\n",
    "\n",
    "def make_wf_object(scf_checkfile, ci_checkfile):\n",
    "    mol, mf, mc = pyq.recover_pyscf(scf_checkfile, ci_checkfile=ci_checkfile)\n",
    "    wf, _ = pyq.generate_wf(mol, mf, mc=mc)\n",
    "    return wf\n",
    "\n",
    "def stat_qmc(etot, filename):\n",
    "    block_sizes = np.linspace(2,len(etot[discard:])//16, 10, dtype=int)\n",
    "    reblocks = [len(etot)//s for s in block_sizes]\n",
    "\n",
    "    plt.figure()\n",
    "    df = pd.DataFrame([pyq.read_mc_output(filename, warmup=discard, reblock=reblock) for reblock in reblocks])\n",
    "    df['block_size'] = block_sizes\n",
    "    plt.plot(\"block_size\",'energytotal_err',data=df, marker='o')\n",
    "    plt.xlabel(\"Block size\")\n",
    "    plt.ylabel(\"Estimated uncertainty (Ha)\")\n",
    "\n",
    "def reblock(e, discard, reblock_size):\n",
    "    e = e[discard:]\n",
    "    vals = pyqmc.reblock.reblock(e,int(len(e)/reblock_size))\n",
    "    # import pdb\n",
    "    # pdb.set_trace()\n",
    "    \n",
    "    e_m  = np.mean(vals, axis=0)\n",
    "    e_d  = scipy.stats.sem(vals, axis=0)    \n",
    "    return e, e_m, e_d\n",
    "\n",
    "for fname in ['scf.hdf5','ci.hdf5']:\n",
    "    if os.path.isfile(fname):\n",
    "        os.remove(fname)    \n",
    "            \n",
    "scf_checkfile = \"scf.hdf5\"\n",
    "ci_checkfile = \"ci.hdf5\"\n",
    "# mf = run_scf(scf_checkfile)\n",
    "mf_lda = run_lda_h2(scf_checkfile)\n",
    "mcc = run_casci(scf_checkfile, ci_checkfile)"
   ]
  },
  {
   "cell_type": "code",
   "execution_count": 47,
   "id": "8b9a711d-e662-4dc1-85fe-d246c29b1440",
   "metadata": {},
   "outputs": [],
   "source": [
    "# Multi determinant boson new gradient\n",
    "import importlib, recipes, bosonrecipes, bosonslater, bosonaccumulators, bosonwftools, mc, bosonslater_wf_based\n",
    "modules = [recipes, bosonrecipes, bosonrecipes, bosonslater, bosonaccumulators, bosonwftools, mc] # Reloads recipes.py file after each update\n",
    "for m in modules:\n",
    "    importlib.reload(m)\n",
    "import pyqmc.pyscftools as pyscftools\n",
    "\n",
    "nconfig = 323\n",
    "multi = True\n",
    "if multi:\n",
    "    mol, mf, mcc = pyscftools.recover_pyscf(scf_checkfile, ci_checkfile = 'ci.hdf5')\n",
    "    target_root = 0\n",
    "    if not hasattr(mcc.ci, \"shape\") or len(mcc.ci.shape) == 3:\n",
    "        mcc.ci = mcc.ci[target_root]\n",
    "else:\n",
    "    mol, mf = pyscftools.recover_pyscf(scf_checkfile)\n",
    "    mcc = None\n",
    "    \n",
    "wf, to_opt = bosonwftools.generate_boson_wf(\n",
    "        mol, mf, mc=mcc, jastrow = None, jastrow_kws=None, slater_kws=None\n",
    "        )\n",
    "wf    \n",
    "\n",
    "wf2 = bosonslater_wf_based.BosonWF(mol, mf, mcc)"
   ]
  },
  {
   "cell_type": "code",
   "execution_count": null,
   "id": "abdbd270-81af-42fc-85a9-3279b1e95359",
   "metadata": {},
   "outputs": [],
   "source": []
  },
  {
   "cell_type": "code",
   "execution_count": 48,
   "id": "c3831bdc-66b2-4c47-b0dc-580f886cbb93",
   "metadata": {},
   "outputs": [
    {
     "data": {
      "text/plain": [
       "array([[[-0.1       , -0.1       , -1.        ],\n",
       "        [-0.1       ,  0.9       , -1.        ]],\n",
       "\n",
       "       [[-0.1       , -0.1       , -0.98757764],\n",
       "        [-0.1       ,  0.9       , -1.        ]],\n",
       "\n",
       "       [[-0.1       , -0.1       , -0.97515528],\n",
       "        [-0.1       ,  0.9       , -1.        ]],\n",
       "\n",
       "       ...,\n",
       "\n",
       "       [[-0.1       , -0.1       ,  2.97515528],\n",
       "        [-0.1       ,  0.9       , -1.        ]],\n",
       "\n",
       "       [[-0.1       , -0.1       ,  2.98757764],\n",
       "        [-0.1       ,  0.9       , -1.        ]],\n",
       "\n",
       "       [[-0.1       , -0.1       ,  3.        ],\n",
       "        [-0.1       ,  0.9       , -1.        ]]])"
      ]
     },
     "execution_count": 48,
     "metadata": {},
     "output_type": "execute_result"
    }
   ],
   "source": [
    "configs = mc.fixed_initial_guess(mol, nconfig)\n",
    "configs.configs"
   ]
  },
  {
   "cell_type": "code",
   "execution_count": 49,
   "id": "9af51f7b-a353-4727-aefb-a467ba62f92f",
   "metadata": {},
   "outputs": [
    {
     "name": "stdout",
     "output_type": "stream",
     "text": [
      "0.012422360248447228\n"
     ]
    },
    {
     "data": {
      "text/plain": [
       "Text(0.5, 1.0, 'Multi determinant no jastrow gradient $\\\\Psi(R, R2) $, R2=[-0.1  0.9 -1. ]')"
      ]
     },
     "execution_count": 49,
     "metadata": {},
     "output_type": "execute_result"
    },
    {
     "data": {
      "image/png": "[encoded data removed]",
      "text/plain": [
       "<Figure size 640x480 with 1 Axes>"
      ]
     },
     "metadata": {},
     "output_type": "display_data"
    },
    {
     "data": {
      "image/png": "[encoded data removed]",
      "text/plain": [
       "<Figure size 640x480 with 1 Axes>"
      ]
     },
     "metadata": {},
     "output_type": "display_data"
    }
   ],
   "source": [
    "configs = mc.fixed_initial_guess(mol, nconfig)\n",
    "e=0\n",
    "sign, val = wf.recompute(configs)\n",
    "sign2, val2 = wf2.recompute(configs)\n",
    "g1, _, _ = wf.gradient_value(e, configs.electron(e))\n",
    "g2 = wf.gradient(e, configs.electron(e))\n",
    "g3, _, _ = wf2.gradient_value(e, configs.electron(e))\n",
    "\n",
    "_, psi1 = wf.value()\n",
    "\n",
    "y1 = np.gradient(val)\n",
    "y2 = g1\n",
    "dx = configs.configs[1]-configs.configs[0]\n",
    "dx = dx[dx!=0][0]\n",
    "print(dx)\n",
    "\n",
    "x = configs.configs[:,0][:,2]\n",
    "h1 = (0,0, 0.0)\n",
    "h2 = (2.0, 0.0)\n",
    "e2pos = np.array2string(configs.configs[:,1][0])\n",
    "\n",
    "\n",
    "plt.figure()\n",
    "plt.plot(x,val, '-k', label='recompute')\n",
    "plt.plot(x,val2, '-b', label='recompute2')\n",
    "\n",
    "# plt.plot(x,val2, '-sb', label='from_grad')\n",
    "# plt.plot(x,psi1, '-sr', label='from_val')\n",
    "# plt.legend()\n",
    "plt.xlabel('z-coordinate')\n",
    "plt.ylabel(r'$\\Psi_B(R)$')\n",
    "plt.title('Multi determinant no jastrow $\\Psi(R, R2) $, R2={}'.format(e2pos) )\n",
    "\n",
    "plt.figure()\n",
    "plt.plot(x,g2[2]-g1[2], '-ok', label='grad2-grad1')\n",
    "plt.plot(x,g1[2], '-or', label='grad')\n",
    "plt.plot(x,g3[2], '-ob', label='grad3')\n",
    "plt.plot(x,y1/dx, '-b', label='num')\n",
    "plt.xlabel('z-coordinate')\n",
    "plt.ylabel(r'$\\nabla\\Psi_B(R)$')\n",
    "plt.legend()\n",
    "plt.title('Multi determinant no jastrow gradient $\\Psi(R, R2) $, R2={}'.format(e2pos) )\n"
   ]
  },
  {
   "cell_type": "code",
   "execution_count": 39,
   "id": "a939b13c-8735-4c72-8935-5b258164c101",
   "metadata": {},
   "outputs": [],
   "source": [
    "# configs = mc.fixed_initial_guess(mol, nconfig)\n",
    "# e=0\n",
    "# sign, val = wf.recompute(configs)\n",
    "# g1, _, _ = wf.gradient_value(e, configs.electron(e))\n",
    "\n",
    "# _, psi1 = wf.value()\n",
    "\n",
    "# y1 = np.gradient(val)\n",
    "# y2 = g1\n",
    "# dx = configs.configs[1]-configs.configs[0]\n",
    "# dx = dx[dx!=0][0]\n",
    "# print(dx)\n",
    "\n",
    "# x = configs.configs[:,0][:,2]\n",
    "# h1 = (0,0, 0.0)\n",
    "# h2 = (2.0, 0.0)\n",
    "# e2pos = np.array2string(configs.configs[:,1][0])\n",
    "\n",
    "\n",
    "# plt.figure()\n",
    "# plt.plot(x,val, '-k', label='recompute')\n",
    "# # plt.plot(x,val2, '-sb', label='from_grad')\n",
    "# # plt.plot(x,psi1, '-sr', label='from_val')\n",
    "# # plt.legend()\n",
    "# plt.xlabel('z-coordinate')\n",
    "# plt.ylabel(r'$\\Psi_B(R)$')\n",
    "# plt.title('Multi determinant no jastrow $\\Psi(R, R2) $, R2={}'.format(e2pos) )\n",
    "\n",
    "# plt.figure()\n",
    "# plt.plot(x,g1[2], '-or', label='grad')\n",
    "# plt.plot(x,y1/dx, '-b', label='num')\n",
    "# plt.xlabel('z-coordinate')\n",
    "# plt.ylabel(r'$\\nabla\\Psi_B(R)$')\n",
    "# plt.legend()\n",
    "# plt.title('Multi determinant no jastrow gradient $\\Psi(R, R2) $, R2={}'.format(e2pos) )\n"
   ]
  },
  {
   "cell_type": "code",
   "execution_count": null,
   "id": "8e34509c-6bc9-4189-ae5a-c97c93bd285d",
   "metadata": {
    "tags": []
   },
   "outputs": [],
   "source": []
  },
  {
   "cell_type": "code",
   "execution_count": null,
   "id": "8378bd95-ed23-4b8e-9a40-9cde21d9fd23",
   "metadata": {
    "tags": []
   },
   "outputs": [],
   "source": []
  },
  {
   "cell_type": "code",
   "execution_count": null,
   "id": "62b65e8a-04e8-48a3-bc21-4cc868ef6b5e",
   "metadata": {
    "tags": []
   },
   "outputs": [],
   "source": []
  },
  {
   "cell_type": "code",
   "execution_count": null,
   "id": "ff822448-a946-4832-b959-59d840f792b1",
   "metadata": {
    "tags": []
   },
   "outputs": [],
   "source": []
  },
  {
   "cell_type": "code",
   "execution_count": null,
   "id": "de922162-5a41-4578-baa6-2dd1f5359bd8",
   "metadata": {},
   "outputs": [],
   "source": []
  },
  {
   "cell_type": "code",
   "execution_count": null,
   "id": "c9a78037-26cc-4551-8a17-f76eb6866f67",
   "metadata": {},
   "outputs": [],
   "source": []
  }
 ],
 "metadata": {
  "kernelspec": {
   "display_name": "Python 3 (ipykernel)",
   "language": "python",
   "name": "python3"
  },
  "language_info": {
   "codemirror_mode": {
    "name": "ipython",
    "version": 3
   },
   "file_extension": ".py",
   "mimetype": "text/x-python",
   "name": "python",
   "nbconvert_exporter": "python",
   "pygments_lexer": "ipython3",
   "version": "3.11.6"
  }
 },
 "nbformat": 4,
 "nbformat_minor": 5
}
