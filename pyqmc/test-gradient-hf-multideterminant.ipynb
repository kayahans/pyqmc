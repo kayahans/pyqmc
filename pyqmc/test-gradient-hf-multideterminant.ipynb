{
 "cells": [
  {
   "cell_type": "code",
   "execution_count": 1,
   "id": "bcac56e6-5690-45d8-bf04-8278d8e9908d",
   "metadata": {
    "tags": []
   },
   "outputs": [
    {
     "name": "stderr",
     "output_type": "stream",
     "text": [
      "/Users/ksu/Software/anaconda3/lib/python3.11/site-packages/pyscf/dft/libxc.py:771: UserWarning: Since PySCF-2.3, B3LYP (and B3P86) are changed to the VWN-RPA variant, corresponding to the original definition by Stephens et al. (issue 1480) and the same as the B3LYP functional in Gaussian. To restore the VWN5 definition, you can put the setting \"B3LYP_WITH_VWN5 = True\" in pyscf_conf.py\n",
      "  warnings.warn('Since PySCF-2.3, B3LYP (and B3P86) are changed to the VWN-RPA variant, '\n"
     ]
    },
    {
     "name": "stdout",
     "output_type": "stream",
     "text": [
      "/Users/ksu/Documents/GitHub/pyqmc/pyqmc/api.py\n",
      "/Users/ksu/Software/anaconda3/lib/python3.11/site-packages/pyscf/__init__.py\n"
     ]
    }
   ],
   "source": [
    "# Wavefunction generation\n",
    "from pyscf import mcscf, fci, lib \n",
    "from pyscf import gto, scf, tools, dft\n",
    "import api as pyq \n",
    "import importlib\n",
    "import os\n",
    "import h5py\n",
    "import pandas as pd\n",
    "import pdb\n",
    "import pyscf\n",
    "import numpy as np\n",
    "import pyqmc\n",
    "import scipy\n",
    "import matplotlib.pyplot as plt\n",
    "from pyscf.scf.hf import dump_scf_summary\n",
    "from concurrent.futures import ProcessPoolExecutor\n",
    "from pyscf.scf.chkfile import dump_scf\n",
    "print(pyq.__file__)\n",
    "print(pyscf.__file__)"
   ]
  },
  {
   "cell_type": "code",
   "execution_count": 2,
   "id": "6625c1e6-505e-4c73-bb02-071a75e92a71",
   "metadata": {
    "tags": []
   },
   "outputs": [
    {
     "name": "stdout",
     "output_type": "stream",
     "text": [
      "converged SCF energy = -0.856973623578646  <S^2> = 2  2S+1 = 3\n",
      "CASCI E = -0.887221354814972  E(CI) = -1.38722135481497  S^2 = 2.0000000\n",
      "dict_keys(['mol', '_scf', 'verbose', 'stdout', 'max_memory', 'ncas', 'nelecas', '_ncore', 'fcisolver', 'frozen', 'extrasym', 'e_tot', 'e_cas', 'ci', 'mo_coeff', 'mo_energy', 'mo_occ', 'converged'])\n",
      "Available output from CASCI: <KeysViewHDF5 ['ci', 'mo_coeff', 'ncas', 'nelecas']>\n"
     ]
    }
   ],
   "source": [
    "# H2 molecule\n",
    "def run_scf(scf_checkfile):\n",
    "    mol = gto.M(atom=\"H 0. 0. 0.;H 0. 0. 1.;\", basis=f'ccecpccpvdz', unit='bohr')\n",
    "    mf = scf.UHF(mol)\n",
    "    mf.chkfile = scf_checkfile\n",
    "    dm = mf.init_guess_by_atom()\n",
    "    mf.kernel(dm)\n",
    "    dump_scf(mf.mol, 'scf.hdf5', mf.energy_tot(), mf.mo_energy, mf.mo_coeff, mf.mo_occ)\n",
    "    return mf\n",
    "\n",
    "def run_lda_be(scf_checkfile):\n",
    "    print(\"Be atom neutral LDA spin=2\")\n",
    "    mol = gto.M(atom=\"Be 0. 0. 0.\", spin=2,basis=f'ccpvdz', unit='bohr')\n",
    "    print(\"HF\")\n",
    "    mf = scf.UHF(mol)\n",
    "    mf.kernel()\n",
    "    print(\"LDA\")        \n",
    "    mf = dft.UKS(mol)\n",
    "    # mf.verbose=6\n",
    "    mf.chkfile = scf_checkfile\n",
    "    dm = mf.init_guess_by_atom()\n",
    "    mf.kernel(dm, xc='LDA')\n",
    "    return mf\n",
    "\n",
    "def run_lda_li(scf_checkfile):\n",
    "    print(\"Li atom neutral LDA spin=1\")\n",
    "    mol = gto.M(atom=\"Li 0. 0. 0.\",basis=f'ccpvtz', spin=1, unit='bohr')\n",
    "    print(\"HF\")\n",
    "    mf = scf.UHF(mol)\n",
    "    mf.kernel()\n",
    "    print(\"LDA\")    \n",
    "    mf = dft.UKS(mol)\n",
    "    # mf.verbose=6\n",
    "    mf.chkfile = scf_checkfile\n",
    "    dm = mf.init_guess_by_atom()\n",
    "    mf.kernel(dm, xc='LDA')\n",
    "    return mf\n",
    "\n",
    "def run_lda_he(scf_checkfile):\n",
    "    print(\"He atom neutral LDA spin=0\")\n",
    "    # mol = gto.M(atom=\"He 0. 0. 0.\", basis=\"ccECP_cc-pVDZ\", ecp=\"ccecp\", unit='bohr')\n",
    "    mol = gto.M(atom=\"He 0. 0. 0.\", basis=\"ccpvdz\", unit='bohr')    \n",
    "    print(\"HF\")\n",
    "    mf = scf.UHF(mol)\n",
    "    mf.kernel()\n",
    "    print(\"LDA\")    \n",
    "    mf = dft.UKS(mol)\n",
    "    # mf.verbose=6\n",
    "    mf.chkfile = scf_checkfile\n",
    "    dm = mf.init_guess_by_atom()\n",
    "    mf.kernel(dm, xc='LDA')\n",
    "    return mf\n",
    "\n",
    "def run_lda_h2(scf_checkfile):\n",
    "    mol = gto.M(atom=\"H 0. 0. 0.; H 0. 0. 2\", spin = 2, basis=f'ccecpccpvdz', unit='bohr')\n",
    "    mf = dft.UKS(mol)\n",
    "    # mf.verbose=6\n",
    "    mf.chkfile = scf_checkfile\n",
    "    dm = mf.init_guess_by_atom()\n",
    "    mf.xc='LDA, VWN'\n",
    "    mf.kernel()    \n",
    "    # mf.kernel(dm, xc='LDA,VWN')\n",
    "    return mf\n",
    "\n",
    "def run_lda(scf_checkfile):\n",
    "    mol = gto.M(atom=\"H 0. 0. 0.\", spin=1,basis=f'ccecpccpvdz', unit='bohr')\n",
    "    mf = dft.UKS(mol)\n",
    "    # mf.verbose=6\n",
    "    mf.chkfile = scf_checkfile\n",
    "    dm = mf.init_guess_by_atom()\n",
    "    mf.kernel(dm, xc='LDA')\n",
    "    return mf\n",
    "    \n",
    "def run_casscf(scf_checkfile, ci_checkfile):\n",
    "    cell, mf = pyq.recover_pyscf(scf_checkfile, cancel_outputs=False)\n",
    "    mc = mcscf.CASSCF(mf,2,2)\n",
    "    mc.chkfile = ci_checkfile\n",
    "    mc.kernel()\n",
    "    with h5py.File(mc.chkfile, \"a\") as f:\n",
    "        print(\"Available output from CASSCF:\", f[\"mcscf\"].keys())\n",
    "        f[\"mcscf/nelecas\"] = list(mc.nelecas)\n",
    "        f[\"mcscf/ci\"] = mc.ci\n",
    "    return mc\n",
    "\n",
    "def run_casci(scf_checkfile, ci_checkfile):\n",
    "    cell, mf = pyq.recover_pyscf(scf_checkfile, cancel_outputs=False)\n",
    "    # ncas: orbitals\n",
    "    # nelecas: electrons\n",
    "    ncas = 2\n",
    "    nelecas = mf.nelec\n",
    "    mc = mcscf.CASCI(mf, ncas, nelecas)\n",
    "    mc.kernel()\n",
    "    print(mc.__dict__.keys())\n",
    "    with h5py.File(ci_checkfile, \"a\") as f:\n",
    "        f.create_group(\"ci\")\n",
    "        f[\"ci/ncas\"] = mc.ncas\n",
    "        f[\"ci/nelecas\"] = list(mc.nelecas)\n",
    "        f[\"ci/ci\"] = mc.ci\n",
    "        f[\"ci/mo_coeff\"] = mc.mo_coeff\n",
    "        print(\"Available output from CASCI:\", f[\"ci\"].keys())\n",
    "    return mc\n",
    "\n",
    "def make_wf_object(scf_checkfile, ci_checkfile):\n",
    "    mol, mf, mc = pyq.recover_pyscf(scf_checkfile, ci_checkfile=ci_checkfile)\n",
    "    wf, _ = pyq.generate_wf(mol, mf, mc=mc)\n",
    "    return wf\n",
    "\n",
    "def stat_qmc(etot, filename):\n",
    "    block_sizes = np.linspace(2,len(etot[discard:])//16, 10, dtype=int)\n",
    "    reblocks = [len(etot)//s for s in block_sizes]\n",
    "\n",
    "    plt.figure()\n",
    "    df = pd.DataFrame([pyq.read_mc_output(filename, warmup=discard, reblock=reblock) for reblock in reblocks])\n",
    "    df['block_size'] = block_sizes\n",
    "    plt.plot(\"block_size\",'energytotal_err',data=df, marker='o')\n",
    "    plt.xlabel(\"Block size\")\n",
    "    plt.ylabel(\"Estimated uncertainty (Ha)\")\n",
    "\n",
    "def reblock(e, discard, reblock_size):\n",
    "    e = e[discard:]\n",
    "    vals = pyqmc.reblock.reblock(e,int(len(e)/reblock_size))\n",
    "    # import pdb\n",
    "    # pdb.set_trace()\n",
    "    \n",
    "    e_m  = np.mean(vals, axis=0)\n",
    "    e_d  = scipy.stats.sem(vals, axis=0)    \n",
    "    return e, e_m, e_d\n",
    "\n",
    "for fname in ['scf.hdf5','ci.hdf5']:\n",
    "    if os.path.isfile(fname):\n",
    "        os.remove(fname)    \n",
    "            \n",
    "scf_checkfile = \"scf.hdf5\"\n",
    "ci_checkfile = \"ci.hdf5\"\n",
    "# mf = run_scf(scf_checkfile)\n",
    "mf_lda = run_lda_h2(scf_checkfile)\n",
    "mcc = run_casci(scf_checkfile, ci_checkfile)"
   ]
  },
  {
   "cell_type": "code",
   "execution_count": null,
   "id": "a21b12c9-2f91-4520-bfdb-8af35de38c53",
   "metadata": {
    "tags": []
   },
   "outputs": [],
   "source": []
  },
  {
   "cell_type": "code",
   "execution_count": null,
   "id": "57efad5e-e3ae-478d-bcfe-a43cb036c08e",
   "metadata": {
    "tags": []
   },
   "outputs": [],
   "source": []
  },
  {
   "cell_type": "code",
   "execution_count": null,
   "id": "77075405-6920-419a-aa0d-b8558d2ed480",
   "metadata": {
    "tags": []
   },
   "outputs": [],
   "source": []
  },
  {
   "cell_type": "code",
   "execution_count": 3,
   "id": "1e5ec896-5c38-49be-a9c2-bf0ec1dc7fd2",
   "metadata": {
    "tags": []
   },
   "outputs": [],
   "source": [
    "import importlib, recipes, abdmc, wftools, bosonwf, determinant_tools, mc, dmc, slater, orbitals, accumulators, energy, jastrowspin, multiplywf\n",
    "modules = [recipes, abdmc, wftools, bosonwf, determinant_tools, mc, dmc, slater, orbitals, accumulators, energy, jastrowspin, multiplywf] # Reloads recipes.py file after each update\n",
    "for m in modules:\n",
    "    importlib.reload(m)\n",
    "import pyqmc.pyscftools as pyscftools\n",
    "from accumulators import ABQMCEnergyAccumulator\n",
    "\n",
    "# def initialize_boson_qmc_objects(\n",
    "#     dft_checkfile,\n",
    "# ):  \n",
    "#     mol, mf, mc = pyscftools.recover_pyscf(scf_checkfile, ci_checkfile = 'ci.hdf5')\n",
    "#     wf, to_opt = wftools.generate_boson_wf(\n",
    "#         mol, mf, jastrow = None\n",
    "#     )\n",
    "#     return wf\n",
    "\n",
    "# def initialize_qmc_objects(\n",
    "#     dft_checkfile: str,\n",
    "# ):\n",
    "#     mol, mf, mc = pyscftools.recover_pyscf(dft_checkfile, ci_checkfile = 'ci.hdf5')\n",
    "#     wf, to_opt = wftools.generate_wf(\n",
    "#         mol, mf, jastrow=None\n",
    "#     )\n",
    "#     return wf"
   ]
  },
  {
   "cell_type": "code",
   "execution_count": 4,
   "id": "4a2b66fa-7ba6-4076-9658-7fd824dfe4fa",
   "metadata": {
    "tags": []
   },
   "outputs": [],
   "source": [
    "# trials = 1\n",
    "# for i in range(trials):\n",
    "#     nconfig = 123\n",
    "#     mol, mf, mcc = pyscftools.recover_pyscf(scf_checkfile, ci_checkfile = 'ci.hdf5')\n",
    "#     target_root = 0\n",
    "#     if not hasattr(mcc.ci, \"shape\") or len(mcc.ci.shape) == 3:\n",
    "#             mcc.ci = mcc.ci[target_root]\n",
    "#     wf, to_opt = wftools.generate_boson_wf(\n",
    "#             mol, mf, mc=mcc, jastrow = None, jastrow_kws=None, slater_kws=None\n",
    "#         )\n",
    "\n",
    "#     configs = mc.fixed_initial_guess(mol, nconfig)\n",
    "#     configs = mc.initial_guess(mol, nconfig, seed = 100)\n",
    "    \n",
    "#     e=0\n",
    "#     sign, val, _ = wf.recompute(configs)\n",
    "#     # import pdb\n",
    "#     # pdb.set_trace()\n",
    "#     g1, val2, _ = wf.gradient_value(e, configs.electron(e))\n",
    "#     # plt.scatter(np.exp(val), valb)\n",
    "# # x = np.linspace(0, 0.7, 100)\n",
    "# # plt.plot(x,x)\n",
    "# # plt.xlabel('Grad bosonic no jastrow')\n",
    "# # plt.ylabel('Grad fermionic no jastrow')\n",
    "# # plt.title(str(trials) + ' configurations')"
   ]
  },
  {
   "cell_type": "code",
   "execution_count": 5,
   "id": "0b22521d-3373-41e0-bcef-1b55cb7bbb1f",
   "metadata": {},
   "outputs": [],
   "source": [
    "def limdrift(g, cutoff=1):\n",
    "    \"\"\"\n",
    "    Limit a vector to have a maximum magnitude of cutoff while maintaining direction\n",
    "\n",
    "    :parameter g: a [nconf,ndim] vector\n",
    "    :parameter cutoff: the maximum magnitude\n",
    "    :returns: The vector with the cutoff applied.\n",
    "    \"\"\"\n",
    "    tot = np.linalg.norm(g, axis=1)\n",
    "    mask = tot > cutoff\n",
    "    g[mask, :] = cutoff * g[mask, :] / tot[mask, np.newaxis]\n",
    "    return g"
   ]
  },
  {
   "cell_type": "code",
   "execution_count": 26,
   "id": "8b9a711d-e662-4dc1-85fe-d246c29b1440",
   "metadata": {},
   "outputs": [
    {
     "name": "stdout",
     "output_type": "stream",
     "text": [
      "Number of determinants in the bosonic wavefunction= 1\n"
     ]
    },
    {
     "data": {
      "text/plain": [
       "<bosonwf.BosonWF at 0x177698650>"
      ]
     },
     "execution_count": 26,
     "metadata": {},
     "output_type": "execute_result"
    }
   ],
   "source": [
    "# Multi determinant boson new gradient\n",
    "import importlib, recipes, abdmc, wftools, bosonwf, determinant_tools, mc, dmc, slater, orbitals, accumulators, energy, jastrowspin, multiplywf\n",
    "modules = [recipes, abdmc, wftools, bosonwf, determinant_tools, mc, dmc, slater, orbitals, accumulators, energy, jastrowspin, multiplywf] # Reloads recipes.py file after each update\n",
    "for m in modules:\n",
    "    importlib.reload(m)\n",
    "import pyqmc.pyscftools as pyscftools\n",
    "\n",
    "nconfig = 323\n",
    "multi = False\n",
    "if multi:\n",
    "    mol, mf, mcc = pyscftools.recover_pyscf(scf_checkfile, ci_checkfile = 'ci.hdf5')\n",
    "    target_root = 0\n",
    "    if not hasattr(mcc.ci, \"shape\") or len(mcc.ci.shape) == 3:\n",
    "        mcc.ci = mcc.ci[target_root]\n",
    "else:\n",
    "    mol, mf = pyscftools.recover_pyscf(scf_checkfile)\n",
    "    \n",
    "wf, to_opt = wftools.generate_boson_wf(\n",
    "        mol, mf, mc=mcc, jastrow = None, jastrow_kws=None, slater_kws=None\n",
    "        )\n",
    "wf    \n"
   ]
  },
  {
   "cell_type": "code",
   "execution_count": 27,
   "id": "a939b13c-8735-4c72-8935-5b258164c101",
   "metadata": {},
   "outputs": [
    {
     "name": "stdout",
     "output_type": "stream",
     "text": [
      "0.012422360248447228\n"
     ]
    },
    {
     "data": {
      "text/plain": [
       "Text(0.5, 1.0, 'Multi determinant boson new gradient, e2 at [ -0.1   0.9 -10. ]')"
      ]
     },
     "execution_count": 27,
     "metadata": {},
     "output_type": "execute_result"
    },
    {
     "data": {
      "image/png": "[encoded data removed]",
      "text/plain": [
       "<Figure size 640x480 with 1 Axes>"
      ]
     },
     "metadata": {},
     "output_type": "display_data"
    }
   ],
   "source": [
    "configs = mc.fixed_initial_guess(mol, nconfig)\n",
    "e=0\n",
    "sign, val = wf.recompute(configs)\n",
    "g1, saved = wf.gradient_value(e, configs.electron(e))\n",
    "\n",
    "val2 = saved['psi']\n",
    "_, psi1 = wf.value()\n",
    "\n",
    "y1 = np.gradient(val2)\n",
    "y2 = g1\n",
    "dx = configs.configs[1]-configs.configs[0]\n",
    "dx = dx[dx!=0][0]\n",
    "print(dx)\n",
    "\n",
    "x = configs.configs[:,0][:,2]\n",
    "h1 = (0,0, 0.0)\n",
    "h2 = (2.0, 0.0)\n",
    "e2pos = np.array2string(configs.configs[:,1][0])\n",
    "\n",
    "\n",
    "\n",
    "\n",
    "# plt.figure()\n",
    "# plt.plot(x,val, '-sk', label='recompute')\n",
    "# plt.plot(x,val2, '-sb', label='from_grad')\n",
    "# plt.plot(x,psi1, '-sr', label='from_val')\n",
    "# plt.legend()\n",
    "# plt.xlabel('z-coordinate')\n",
    "# plt.title('Multi determinant boson new gradient, e2 at {}'.format(e2pos) )\n",
    "\n",
    "# plt.figure()\n",
    "plt.plot(x,g1[2], '-ok', label='grad')\n",
    "plt.plot(x,y1/dx, '-ob', label='num')\n",
    "plt.xlabel('z-coordinate')\n",
    "plt.legend()\n",
    "plt.title('Multi determinant boson new gradient, e2 at {}'.format(e2pos))\n",
    "\n",
    "\n"
   ]
  },
  {
   "cell_type": "code",
   "execution_count": null,
   "id": "c1fa7f33-0e19-4d91-bed0-cb546a153aae",
   "metadata": {},
   "outputs": [],
   "source": []
  },
  {
   "cell_type": "code",
   "execution_count": 105,
   "id": "071c32b2-81ce-47a2-b233-cc96febec707",
   "metadata": {},
   "outputs": [],
   "source": [
    "tstep = 0.3\n",
    "nconf = psi1.shape[0]\n",
    "lng1 = g1/np.tile(psi1, (3,1))\n",
    "grad = - limdrift(np.real(lng1.T))\n",
    "rng = np.random #.RandomState(i)\n",
    "gauss = rng.normal(scale=np.sqrt(tstep), size=(nconf, 3))*0.0 + 1.0\n",
    "\n",
    "newcoorde = configs.configs[:, e, :] + gauss #+ grad * tstep\n",
    "newcoorde = configs.make_irreducible(e, newcoorde)"
   ]
  },
  {
   "cell_type": "code",
   "execution_count": 106,
   "id": "f2894d01-f84b-468d-9a01-0275e03c84c5",
   "metadata": {},
   "outputs": [],
   "source": [
    "g2, new_val, saved = wf.gradient_value(e, newcoorde, configs=configs) \n",
    "cf = configs.copy()\n",
    "cf.configs[:,e,:] = newcoorde.configs\n",
    "sign2, val2, vald2 = wf.value_updated(cf) \n",
    "psi2 = saved['psi']  \n",
    "lng2 = g2/np.tile(psi2, (3,1))\n",
    "new_grad = -limdrift(np.real(lng2.T))\n",
    "forward = np.sum(gauss**2, axis=1)\n",
    "backward = np.sum((gauss + tstep * (grad + new_grad)) ** 2, axis=1)\n",
    "\n",
    "t_prob = np.exp(1 / (2 * tstep) * (forward - backward))\n",
    "ratio = np.abs(new_val) ** 2 * t_prob\n",
    "\n",
    "accept = ratio > np.random.rand(nconf)"
   ]
  },
  {
   "cell_type": "code",
   "execution_count": 110,
   "id": "db0fe4c2-7834-4021-ae9d-3e7b09371498",
   "metadata": {},
   "outputs": [
    {
     "name": "stdout",
     "output_type": "stream",
     "text": [
      "0.012422360248447228\n"
     ]
    },
    {
     "data": {
      "text/plain": [
       "<Figure size 640x480 with 0 Axes>"
      ]
     },
     "execution_count": 110,
     "metadata": {},
     "output_type": "execute_result"
    },
    {
     "data": {
      "text/plain": [
       "<Figure size 640x480 with 0 Axes>"
      ]
     },
     "metadata": {},
     "output_type": "display_data"
    }
   ],
   "source": [
    "y1 = np.gradient(psi2)\n",
    "y2 = g2\n",
    "dx = newcoorde.configs[1]-newcoorde.configs[0]\n",
    "dx = dx[dx!=0][0]\n",
    "print(dx)\n",
    "\n",
    "x = newcoorde.configs[:,2]\n",
    "h1 = (0,0, 0.0)\n",
    "h2 = (2.0, 0.0)\n",
    "e2pos = 'unk'\n",
    "plt.figure()\n",
    "# plt.plot(x,val, '-sk', label='value')\n",
    "# plt.plot(x,psi2, '-sb', label='from_grad')\n",
    "# val\n",
    "# plt.legend()\n",
    "# plt.xlabel('z-coordinate')\n",
    "# plt.title('Multi determinant boson new gradient, e2 at {}'.format(e2pos) )\n",
    "\n",
    "# plt.figure()\n",
    "# plt.plot(x,g2[2], '-ok', label='grad')\n",
    "# plt.plot(x,y1/dx, '-ob', label='num')\n",
    "# plt.xlabel('z-coordinate')\n",
    "# plt.legend()\n",
    "# plt.title('Multi determinant boson new gradient, e2 at {}'.format(e2pos))\n",
    "\n",
    "\n"
   ]
  },
  {
   "cell_type": "code",
   "execution_count": 111,
   "id": "968c71f7-2b12-402d-af2d-a8f5c06b7ce1",
   "metadata": {},
   "outputs": [
    {
     "data": {
      "text/plain": [
       "(323, 3)"
      ]
     },
     "execution_count": 111,
     "metadata": {},
     "output_type": "execute_result"
    }
   ],
   "source": [
    "newcoorde.configs.shape"
   ]
  },
  {
   "cell_type": "code",
   "execution_count": 109,
   "id": "e0cb868c-6587-4193-ba5d-4ad79468f840",
   "metadata": {},
   "outputs": [
    {
     "data": {
      "text/plain": [
       "array([0.9       , 0.9       , 0.01242236])"
      ]
     },
     "execution_count": 109,
     "metadata": {},
     "output_type": "execute_result"
    }
   ],
   "source": [
    "newcoorde.configs[1]"
   ]
  },
  {
   "cell_type": "code",
   "execution_count": 38,
   "id": "d5d435a7-5e50-4e3f-930d-c9bfcecd8bad",
   "metadata": {},
   "outputs": [
    {
     "name": "stdout",
     "output_type": "stream",
     "text": [
      "> \u001b[0;32m/Users/ksu/Documents/GitHub/pyqmc/pyqmc/wftools.py\u001b[0m(320)\u001b[0;36mgenerate_boson_wf\u001b[0;34m()\u001b[0m\n",
      "\u001b[0;32m    318 \u001b[0;31m    \u001b[0;32mimport\u001b[0m \u001b[0mpdb\u001b[0m\u001b[0;34m\u001b[0m\u001b[0;34m\u001b[0m\u001b[0m\n",
      "\u001b[0m\u001b[0;32m    319 \u001b[0;31m    \u001b[0mpdb\u001b[0m\u001b[0;34m.\u001b[0m\u001b[0mset_trace\u001b[0m\u001b[0;34m(\u001b[0m\u001b[0;34m)\u001b[0m\u001b[0;34m\u001b[0m\u001b[0;34m\u001b[0m\u001b[0m\n",
      "\u001b[0m\u001b[0;32m--> 320 \u001b[0;31m    \u001b[0;32mif\u001b[0m \u001b[0mjastrow\u001b[0m \u001b[0;34m==\u001b[0m \u001b[0;32mNone\u001b[0m\u001b[0;34m:\u001b[0m\u001b[0;34m\u001b[0m\u001b[0;34m\u001b[0m\u001b[0m\n",
      "\u001b[0m\u001b[0;32m    321 \u001b[0;31m        \u001b[0mwf\u001b[0m\u001b[0;34m,\u001b[0m \u001b[0mto_opt1\u001b[0m \u001b[0;34m=\u001b[0m \u001b[0mgenerate_boson\u001b[0m\u001b[0;34m(\u001b[0m\u001b[0mmol\u001b[0m\u001b[0;34m,\u001b[0m \u001b[0mmf\u001b[0m\u001b[0;34m,\u001b[0m \u001b[0mmc\u001b[0m\u001b[0;34m=\u001b[0m\u001b[0mmc\u001b[0m\u001b[0;34m,\u001b[0m \u001b[0;34m**\u001b[0m\u001b[0mslater_kws\u001b[0m\u001b[0;34m)\u001b[0m\u001b[0;34m\u001b[0m\u001b[0;34m\u001b[0m\u001b[0m\n",
      "\u001b[0m\u001b[0;32m    322 \u001b[0;31m        \u001b[0mto_opt\u001b[0m \u001b[0;34m=\u001b[0m \u001b[0;34m{\u001b[0m\u001b[0;34m\"wf1\"\u001b[0m \u001b[0;34m+\u001b[0m \u001b[0mk\u001b[0m\u001b[0;34m:\u001b[0m \u001b[0mv\u001b[0m \u001b[0;32mfor\u001b[0m \u001b[0mk\u001b[0m\u001b[0;34m,\u001b[0m \u001b[0mv\u001b[0m \u001b[0;32min\u001b[0m \u001b[0mto_opt1\u001b[0m\u001b[0;34m.\u001b[0m\u001b[0mitems\u001b[0m\u001b[0;34m(\u001b[0m\u001b[0;34m)\u001b[0m\u001b[0;34m}\u001b[0m\u001b[0;34m\u001b[0m\u001b[0;34m\u001b[0m\u001b[0m\n",
      "\u001b[0m\n"
     ]
    },
    {
     "name": "stdin",
     "output_type": "stream",
     "text": [
      "ipdb>  c\n"
     ]
    },
    {
     "name": "stdout",
     "output_type": "stream",
     "text": [
      "Number of determinants in the bosonic wavefunction= 1\n",
      "> \u001b[0;32m/Users/ksu/Documents/GitHub/pyqmc/pyqmc/bosonwf.py\u001b[0m(140)\u001b[0;36mrecompute\u001b[0;34m()\u001b[0m\n",
      "\u001b[0;32m    138 \u001b[0;31m        \u001b[0;32mimport\u001b[0m \u001b[0mpdb\u001b[0m\u001b[0;34m\u001b[0m\u001b[0;34m\u001b[0m\u001b[0m\n",
      "\u001b[0m\u001b[0;32m    139 \u001b[0;31m        \u001b[0mpdb\u001b[0m\u001b[0;34m.\u001b[0m\u001b[0mset_trace\u001b[0m\u001b[0;34m(\u001b[0m\u001b[0;34m)\u001b[0m\u001b[0;34m\u001b[0m\u001b[0;34m\u001b[0m\u001b[0m\n",
      "\u001b[0m\u001b[0;32m--> 140 \u001b[0;31m        \u001b[0mnconf\u001b[0m\u001b[0;34m,\u001b[0m \u001b[0mnelec\u001b[0m\u001b[0;34m,\u001b[0m \u001b[0mndim\u001b[0m \u001b[0;34m=\u001b[0m \u001b[0mconfigs\u001b[0m\u001b[0;34m.\u001b[0m\u001b[0mconfigs\u001b[0m\u001b[0;34m.\u001b[0m\u001b[0mshape\u001b[0m\u001b[0;34m\u001b[0m\u001b[0;34m\u001b[0m\u001b[0m\n",
      "\u001b[0m\u001b[0;32m    141 \u001b[0;31m        \u001b[0maos\u001b[0m \u001b[0;34m=\u001b[0m \u001b[0mself\u001b[0m\u001b[0;34m.\u001b[0m\u001b[0morbitals\u001b[0m\u001b[0;34m.\u001b[0m\u001b[0maos\u001b[0m\u001b[0;34m(\u001b[0m\u001b[0;34m\"GTOval_sph\"\u001b[0m\u001b[0;34m,\u001b[0m \u001b[0mconfigs\u001b[0m\u001b[0;34m)\u001b[0m\u001b[0;34m\u001b[0m\u001b[0;34m\u001b[0m\u001b[0m\n",
      "\u001b[0m\u001b[0;32m    142 \u001b[0;31m        \u001b[0mself\u001b[0m\u001b[0;34m.\u001b[0m\u001b[0m_aovals\u001b[0m \u001b[0;34m=\u001b[0m \u001b[0maos\u001b[0m\u001b[0;34m.\u001b[0m\u001b[0mreshape\u001b[0m\u001b[0;34m(\u001b[0m\u001b[0;34m-\u001b[0m\u001b[0;36m1\u001b[0m\u001b[0;34m,\u001b[0m \u001b[0mnconf\u001b[0m\u001b[0;34m,\u001b[0m \u001b[0mnelec\u001b[0m\u001b[0;34m,\u001b[0m \u001b[0maos\u001b[0m\u001b[0;34m.\u001b[0m\u001b[0mshape\u001b[0m\u001b[0;34m[\u001b[0m\u001b[0;34m-\u001b[0m\u001b[0;36m1\u001b[0m\u001b[0;34m]\u001b[0m\u001b[0;34m)\u001b[0m\u001b[0;34m\u001b[0m\u001b[0;34m\u001b[0m\u001b[0m\n",
      "\u001b[0m\n"
     ]
    },
    {
     "name": "stdin",
     "output_type": "stream",
     "text": [
      "ipdb>  c\n"
     ]
    },
    {
     "name": "stdout",
     "output_type": "stream",
     "text": [
      "0.032786885245901676\n"
     ]
    },
    {
     "data": {
      "text/plain": [
       "Text(0.5, 1.0, 'Single determinant boson new gradient')"
      ]
     },
     "execution_count": 38,
     "metadata": {},
     "output_type": "execute_result"
    },
    {
     "data": {
      "image/png": "[encoded data removed]",
      "text/plain": [
       "<Figure size 640x480 with 1 Axes>"
      ]
     },
     "metadata": {},
     "output_type": "display_data"
    }
   ],
   "source": [
    "# Single determinant boson new gradient\n",
    "import importlib, recipes, abdmc, wftools, bosonwf, determinant_tools, mc, dmc, slater, orbitals, accumulators, energy, jastrowspin, multiplywf\n",
    "modules = [recipes, abdmc, wftools, bosonwf, determinant_tools, mc, dmc, slater, orbitals, accumulators, energy, jastrowspin, multiplywf] # Reloads recipes.py file after each update\n",
    "for m in modules:\n",
    "    importlib.reload(m)\n",
    "import pyqmc.pyscftools as pyscftools\n",
    "from accumulators import ABQMCEnergyAccumulator\n",
    "\n",
    "\n",
    "nconfig = 123\n",
    "mol, mf = pyscftools.recover_pyscf(scf_checkfile)\n",
    "configs = mc.fixed_initial_guess(mol, nconfig)\n",
    "wf, to_opt = wftools.generate_boson_wf(\n",
    "        mol, mf, mc=None, jastrow = None, jastrow_kws=None, slater_kws=None\n",
    "    )\n",
    "e=0\n",
    "sign, val, _ = wf.recompute(configs)\n",
    "g1, val2, _ = wf.gradient_value(e, configs.electron(e))\n",
    "\n",
    "y1 = np.gradient(val)\n",
    "y2 = g1\n",
    "dx = configs.configs[1]-configs.configs[0]\n",
    "dx = dx[dx!=0][0]\n",
    "print(dx)\n",
    "plt.plot(g1[2], '-ok', label='grad')\n",
    "plt.plot(y1/dx, '-ob', label='num')\n",
    "plt.legend()\n",
    "plt.title('Single determinant boson new gradient')\n"
   ]
  },
  {
   "cell_type": "code",
   "execution_count": 33,
   "id": "c37861df-cd4a-4ce4-ab02-05d9ea8bd7b2",
   "metadata": {},
   "outputs": [
    {
     "name": "stdout",
     "output_type": "stream",
     "text": [
      "> \u001b[0;32m/Users/ksu/Documents/GitHub/pyqmc/pyqmc/wftools.py\u001b[0m(320)\u001b[0;36mgenerate_boson_wf\u001b[0;34m()\u001b[0m\n",
      "\u001b[0;32m    318 \u001b[0;31m    \u001b[0;32mimport\u001b[0m \u001b[0mpdb\u001b[0m\u001b[0;34m\u001b[0m\u001b[0;34m\u001b[0m\u001b[0m\n",
      "\u001b[0m\u001b[0;32m    319 \u001b[0;31m    \u001b[0mpdb\u001b[0m\u001b[0;34m.\u001b[0m\u001b[0mset_trace\u001b[0m\u001b[0;34m(\u001b[0m\u001b[0;34m)\u001b[0m\u001b[0;34m\u001b[0m\u001b[0;34m\u001b[0m\u001b[0m\n",
      "\u001b[0m\u001b[0;32m--> 320 \u001b[0;31m    \u001b[0;32mif\u001b[0m \u001b[0mjastrow\u001b[0m \u001b[0;34m==\u001b[0m \u001b[0;32mNone\u001b[0m\u001b[0;34m:\u001b[0m\u001b[0;34m\u001b[0m\u001b[0;34m\u001b[0m\u001b[0m\n",
      "\u001b[0m\u001b[0;32m    321 \u001b[0;31m        \u001b[0mwf\u001b[0m\u001b[0;34m,\u001b[0m \u001b[0mto_opt1\u001b[0m \u001b[0;34m=\u001b[0m \u001b[0mgenerate_boson\u001b[0m\u001b[0;34m(\u001b[0m\u001b[0mmol\u001b[0m\u001b[0;34m,\u001b[0m \u001b[0mmf\u001b[0m\u001b[0;34m,\u001b[0m \u001b[0mmc\u001b[0m\u001b[0;34m=\u001b[0m\u001b[0mmc\u001b[0m\u001b[0;34m,\u001b[0m \u001b[0;34m**\u001b[0m\u001b[0mslater_kws\u001b[0m\u001b[0;34m)\u001b[0m\u001b[0;34m\u001b[0m\u001b[0;34m\u001b[0m\u001b[0m\n",
      "\u001b[0m\u001b[0;32m    322 \u001b[0;31m        \u001b[0mto_opt\u001b[0m \u001b[0;34m=\u001b[0m \u001b[0;34m{\u001b[0m\u001b[0;34m\"wf1\"\u001b[0m \u001b[0;34m+\u001b[0m \u001b[0mk\u001b[0m\u001b[0;34m:\u001b[0m \u001b[0mv\u001b[0m \u001b[0;32mfor\u001b[0m \u001b[0mk\u001b[0m\u001b[0;34m,\u001b[0m \u001b[0mv\u001b[0m \u001b[0;32min\u001b[0m \u001b[0mto_opt1\u001b[0m\u001b[0;34m.\u001b[0m\u001b[0mitems\u001b[0m\u001b[0;34m(\u001b[0m\u001b[0;34m)\u001b[0m\u001b[0;34m}\u001b[0m\u001b[0;34m\u001b[0m\u001b[0;34m\u001b[0m\u001b[0m\n",
      "\u001b[0m\n"
     ]
    },
    {
     "name": "stdin",
     "output_type": "stream",
     "text": [
      "ipdb>  c\n"
     ]
    },
    {
     "name": "stdout",
     "output_type": "stream",
     "text": [
      "Number of determinants in the bosonic wavefunction= 1\n",
      "> \u001b[0;32m/Users/ksu/Documents/GitHub/pyqmc/pyqmc/bosonwf.py\u001b[0m(415)\u001b[0;36mgradient_value_old\u001b[0;34m()\u001b[0m\n",
      "\u001b[0;32m    413 \u001b[0;31m        \u001b[0mpdb\u001b[0m\u001b[0;34m.\u001b[0m\u001b[0mset_trace\u001b[0m\u001b[0;34m(\u001b[0m\u001b[0;34m)\u001b[0m\u001b[0;34m\u001b[0m\u001b[0;34m\u001b[0m\u001b[0m\n",
      "\u001b[0m\u001b[0;32m    414 \u001b[0;31m        \u001b[0;31m# values = \\phi(R)\u001b[0m\u001b[0;34m\u001b[0m\u001b[0;34m\u001b[0m\u001b[0m\n",
      "\u001b[0m\u001b[0;32m--> 415 \u001b[0;31m        \u001b[0;32mif\u001b[0m \u001b[0mconfigs\u001b[0m \u001b[0;32mis\u001b[0m \u001b[0;32mnot\u001b[0m \u001b[0;32mNone\u001b[0m\u001b[0;34m:\u001b[0m\u001b[0;34m\u001b[0m\u001b[0;34m\u001b[0m\u001b[0m\n",
      "\u001b[0m\u001b[0;32m    416 \u001b[0;31m            \u001b[0;31m# calculate \\phi with R'\u001b[0m\u001b[0;34m\u001b[0m\u001b[0;34m\u001b[0m\u001b[0m\n",
      "\u001b[0m\u001b[0;32m    417 \u001b[0;31m            \u001b[0mcf\u001b[0m \u001b[0;34m=\u001b[0m \u001b[0mconfigs\u001b[0m\u001b[0;34m.\u001b[0m\u001b[0mcopy\u001b[0m\u001b[0;34m(\u001b[0m\u001b[0;34m)\u001b[0m\u001b[0;34m\u001b[0m\u001b[0;34m\u001b[0m\u001b[0m\n",
      "\u001b[0m\n"
     ]
    },
    {
     "name": "stdin",
     "output_type": "stream",
     "text": [
      "ipdb>  c\n"
     ]
    },
    {
     "name": "stdout",
     "output_type": "stream",
     "text": [
      "0.032786885245901676\n"
     ]
    },
    {
     "data": {
      "text/plain": [
       "Text(0.5, 1.0, 'Single determinant boson old gradient')"
      ]
     },
     "execution_count": 33,
     "metadata": {},
     "output_type": "execute_result"
    },
    {
     "data": {
      "image/png": "[encoded data removed]",
      "text/plain": [
       "<Figure size 640x480 with 1 Axes>"
      ]
     },
     "metadata": {},
     "output_type": "display_data"
    }
   ],
   "source": [
    "# Single determinant boson old gradient\n",
    "import importlib, recipes, abdmc, wftools, bosonwf, determinant_tools, mc, dmc, slater, orbitals, accumulators, energy, jastrowspin, multiplywf\n",
    "modules = [recipes, abdmc, wftools, bosonwf, determinant_tools, mc, dmc, slater, orbitals, accumulators, energy, jastrowspin, multiplywf] # Reloads recipes.py file after each update\n",
    "for m in modules:\n",
    "    importlib.reload(m)\n",
    "import pyqmc.pyscftools as pyscftools\n",
    "from accumulators import ABQMCEnergyAccumulator\n",
    "\n",
    "nconfig = 123\n",
    "mol, mf = pyscftools.recover_pyscf(scf_checkfile)\n",
    "configs = mc.fixed_initial_guess(mol, nconfig)\n",
    "wf, to_opt = wftools.generate_boson_wf(\n",
    "        mol, mf, mc=None, jastrow = None, jastrow_kws=None, slater_kws=None\n",
    "    )\n",
    "e=0\n",
    "sign, val = wf.recompute_old(configs)\n",
    "g1, val2, _ = wf.gradient_value_old(e, configs.electron(e))\n",
    "\n",
    "y1 = np.gradient(val)\n",
    "y2 = g1\n",
    "dx = configs.configs[1]-configs.configs[0]\n",
    "dx = dx[dx!=0][0]\n",
    "print(dx)\n",
    "plt.plot(g1[2], '-ok', label='grad')\n",
    "plt.plot(y1/dx, '-ob', label='num')\n",
    "plt.legend()\n",
    "plt.title('Single determinant boson old gradient')\n"
   ]
  },
  {
   "cell_type": "code",
   "execution_count": 43,
   "id": "4af0fe83-6efd-4723-a76c-e6e8ab0b4c80",
   "metadata": {},
   "outputs": [],
   "source": [
    "# # Single determinant boson\n",
    "# nconfig = 123\n",
    "\n",
    "# wf, configs, _ = recipes.initialize_boson_qmc_objects(\n",
    "#     scf_checkfile,\n",
    "# )\n",
    "# configs = mc.fixed_initial_guess(mol, nconfig)\n",
    "# sign, val, _ = wf.recompute(configs)\n",
    "# e=0\n",
    "# g1, val2, _ = wf.gradient_value(e, configs.electron(e))\n",
    "\n",
    "# y1 = np.gradient(val)\n",
    "# y2 = g1\n",
    "# dx = configs.configs[1]-configs.configs[0]\n",
    "# dx = dx[dx!=0][0]\n",
    "# print(dx)\n",
    "# plt.plot(g1[2], '-ok', label='grad')\n",
    "# plt.plot(y1/dx, '-ob', label='num')\n",
    "# plt.legend()\n",
    "# plt.title('Single determinant boson')\n"
   ]
  },
  {
   "cell_type": "code",
   "execution_count": null,
   "id": "8e85b327-c7e0-4853-9642-caa4000eb1f8",
   "metadata": {},
   "outputs": [],
   "source": []
  },
  {
   "cell_type": "code",
   "execution_count": 80,
   "id": "f5fb4753-dbf3-432f-9fc6-4a6b3c2a28fc",
   "metadata": {},
   "outputs": [
    {
     "name": "stdout",
     "output_type": "stream",
     "text": [
      "Number of determinants in the Fermionic wavefunction= 3\n",
      "> \u001b[0;32m/Users/ksu/Documents/GitHub/pyqmc/pyqmc/slater.py\u001b[0m(193)\u001b[0;36mrecompute\u001b[0;34m()\u001b[0m\n",
      "\u001b[0;32m    191 \u001b[0;31m            \u001b[0;32mimport\u001b[0m \u001b[0mpdb\u001b[0m\u001b[0;34m\u001b[0m\u001b[0;34m\u001b[0m\u001b[0m\n",
      "\u001b[0m\u001b[0;32m    192 \u001b[0;31m            \u001b[0mpdb\u001b[0m\u001b[0;34m.\u001b[0m\u001b[0mset_trace\u001b[0m\u001b[0;34m(\u001b[0m\u001b[0;34m)\u001b[0m\u001b[0;34m\u001b[0m\u001b[0;34m\u001b[0m\u001b[0m\n",
      "\u001b[0m\u001b[0;32m--> 193 \u001b[0;31m            self._dets.append(\n",
      "\u001b[0m\u001b[0;32m    194 \u001b[0;31m                \u001b[0mgpu\u001b[0m\u001b[0;34m.\u001b[0m\u001b[0mcp\u001b[0m\u001b[0;34m.\u001b[0m\u001b[0masarray\u001b[0m\u001b[0;34m(\u001b[0m\u001b[0mnp\u001b[0m\u001b[0;34m.\u001b[0m\u001b[0mlinalg\u001b[0m\u001b[0;34m.\u001b[0m\u001b[0mslogdet\u001b[0m\u001b[0;34m(\u001b[0m\u001b[0mmo_vals\u001b[0m\u001b[0;34m)\u001b[0m\u001b[0;34m)\u001b[0m\u001b[0;34m\u001b[0m\u001b[0;34m\u001b[0m\u001b[0m\n",
      "\u001b[0m\u001b[0;32m    195 \u001b[0;31m            )  # Spin, (sign, val), nconf, [ndet_up, ndet_dn]\n",
      "\u001b[0m\n"
     ]
    },
    {
     "name": "stdin",
     "output_type": "stream",
     "text": [
      "ipdb>  exit\n"
     ]
    }
   ],
   "source": [
    "# Multiple determinant slater\n",
    "import importlib, recipes, abdmc, wftools, bosonwf, determinant_tools, mc, dmc, slater, orbitals, accumulators, energy, jastrowspin, multiplywf\n",
    "modules = [recipes, abdmc, wftools, bosonwf, determinant_tools, mc, dmc, slater, orbitals, accumulators, energy, jastrowspin, multiplywf] # Reloads recipes.py file after each update\n",
    "for m in modules:\n",
    "    importlib.reload(m)\n",
    "import pyqmc.pyscftools as pyscftools\n",
    "from accumulators import ABQMCEnergyAccumulator\n",
    "\n",
    "trials = 1\n",
    "# for i in range(trials):\n",
    "nconfig = 123\n",
    "mol, mf, mcc = pyscftools.recover_pyscf(scf_checkfile, ci_checkfile = 'ci.hdf5')\n",
    "target_root = 0\n",
    "if not hasattr(mcc.ci, \"shape\") or len(mcc.ci.shape) == 3:\n",
    "        mcc.ci = mcc.ci[target_root]\n",
    "wf, to_opt = wftools.generate_wf(\n",
    "        mol, mf, mc=mcc, jastrow = None, jastrow_kws=None, slater_kws=None\n",
    "    )\n",
    "\n",
    "configs = mc.fixed_initial_guess(mol, nconfig)\n",
    "# configs = mc.initial_guess(mol, nconfig, seed = 100)\n",
    "\n",
    "e=0\n",
    "sign, val = wf.recompute(configs)\n",
    "# import pdb\n",
    "# pdb.set_trace()\n",
    "g1, val2, _ = wf.gradient_value(e, configs.electron(e))\n",
    "# plt.scatter(np.exp(val), valb)\n",
    "\n",
    "y1 = np.gradient(val)\n",
    "y2 = g1\n",
    "dx = configs.configs[1]-configs.configs[0]\n",
    "dx = dx[dx!=0][0]\n",
    "dx\n",
    "plt.plot(g1[2], '-ok', label='grad')\n",
    "plt.plot(y1/dx, '-ob', label='num')\n",
    "plt.legend()\n",
    "plt.title('Multiple determinant slater')\n",
    "# plt.plot(val, '-ok', label='grad')\n",
    "# plt.plot(val2, '-ob', label='num')"
   ]
  },
  {
   "cell_type": "code",
   "execution_count": 52,
   "id": "339b640e-6821-4cd7-9a6f-c72e784fa3cc",
   "metadata": {},
   "outputs": [
    {
     "name": "stdout",
     "output_type": "stream",
     "text": [
      "Number of determinants in the Fermionic wavefunction= 1\n"
     ]
    },
    {
     "data": {
      "text/plain": [
       "Text(0.5, 1.0, 'Single determinant slater')"
      ]
     },
     "execution_count": 52,
     "metadata": {},
     "output_type": "execute_result"
    },
    {
     "data": {
      "image/png": "[encoded data removed]",
      "text/plain": [
       "<Figure size 640x480 with 1 Axes>"
      ]
     },
     "metadata": {},
     "output_type": "display_data"
    }
   ],
   "source": [
    "# Single determinant slater\n",
    "import importlib, recipes, abdmc, wftools, bosonwf, determinant_tools, mc, dmc, slater, orbitals, accumulators, energy, jastrowspin, multiplywf\n",
    "modules = [recipes, abdmc, wftools, bosonwf, determinant_tools, mc, dmc, slater, orbitals, accumulators, energy, jastrowspin, multiplywf] # Reloads recipes.py file after each update\n",
    "for m in modules:\n",
    "    importlib.reload(m)\n",
    "import pyqmc.pyscftools as pyscftools\n",
    "from accumulators import ABQMCEnergyAccumulator\n",
    "\n",
    "trials = 1\n",
    "# for i in range(trials):\n",
    "nconfig = 123\n",
    "\n",
    "mol, mf = pyscftools.recover_pyscf(scf_checkfile)\n",
    "configs = mc.fixed_initial_guess(mol, nconfig)\n",
    "wf, to_opt = wftools.generate_wf(\n",
    "        mol, mf, mc=None, jastrow = None, jastrow_kws=None, slater_kws=None\n",
    "    )\n",
    "e=0\n",
    "sign, val = wf.recompute(configs)\n",
    "g1, val2, _ = wf.gradient_value(e, configs.electron(e))\n",
    "\n",
    "y1 = np.gradient(val)\n",
    "y2 = g1\n",
    "dx = configs.configs[1]-configs.configs[0]\n",
    "dx = dx[dx!=0][0]\n",
    "\n",
    "plt.plot(g1[2], '-ok', label='grad')\n",
    "plt.plot(y1/dx, '-ob', label='num')\n",
    "\n",
    "# plt.plot(val, '-ok', label='grad')\n",
    "# plt.plot(val2, '-ob', label='num')\n",
    "plt.legend()\n",
    "plt.title('Single determinant slater')\n",
    "# plt.xlim((700,800))"
   ]
  },
  {
   "cell_type": "code",
   "execution_count": null,
   "id": "8e34509c-6bc9-4189-ae5a-c97c93bd285d",
   "metadata": {
    "tags": []
   },
   "outputs": [],
   "source": []
  },
  {
   "cell_type": "code",
   "execution_count": null,
   "id": "8378bd95-ed23-4b8e-9a40-9cde21d9fd23",
   "metadata": {
    "tags": []
   },
   "outputs": [],
   "source": []
  },
  {
   "cell_type": "code",
   "execution_count": null,
   "id": "62b65e8a-04e8-48a3-bc21-4cc868ef6b5e",
   "metadata": {
    "tags": []
   },
   "outputs": [],
   "source": []
  },
  {
   "cell_type": "code",
   "execution_count": null,
   "id": "ff822448-a946-4832-b959-59d840f792b1",
   "metadata": {
    "tags": []
   },
   "outputs": [],
   "source": []
  },
  {
   "cell_type": "code",
   "execution_count": null,
   "id": "de922162-5a41-4578-baa6-2dd1f5359bd8",
   "metadata": {},
   "outputs": [],
   "source": []
  },
  {
   "cell_type": "code",
   "execution_count": null,
   "id": "c9a78037-26cc-4551-8a17-f76eb6866f67",
   "metadata": {},
   "outputs": [],
   "source": []
  }
 ],
 "metadata": {
  "kernelspec": {
   "display_name": "Python 3 (ipykernel)",
   "language": "python",
   "name": "python3"
  },
  "language_info": {
   "codemirror_mode": {
    "name": "ipython",
    "version": 3
   },
   "file_extension": ".py",
   "mimetype": "text/x-python",
   "name": "python",
   "nbconvert_exporter": "python",
   "pygments_lexer": "ipython3",
   "version": "3.11.6"
  }
 },
 "nbformat": 4,
 "nbformat_minor": 5
}
