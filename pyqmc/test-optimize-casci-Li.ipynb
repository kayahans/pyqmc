{
 "cells": [
  {
   "cell_type": "code",
   "execution_count": 1,
   "id": "bcac56e6-5690-45d8-bf04-8278d8e9908d",
   "metadata": {
    "tags": []
   },
   "outputs": [],
   "source": [
    "import matplotlib.pyplot as plt\n",
    "import numpy as np\n",
    "import copy\n",
    "import h5py\n",
    "import os\n",
    "import seaborn as sns\n"
   ]
  },
  {
   "cell_type": "code",
   "execution_count": 2,
   "id": "6625c1e6-505e-4c73-bb02-071a75e92a71",
   "metadata": {
    "tags": []
   },
   "outputs": [
    {
     "name": "stdout",
     "output_type": "stream",
     "text": [
      "/Users/ksu/Documents/GitHub/pyqmc/pyqmc/api.py\n",
      "/Users/ksu/Software/anaconda3/lib/python3.11/site-packages/pyscf/__init__.py\n",
      "Li atom neutral LDA spin=1\n",
      "HF\n",
      "converged SCF energy = -7.43271843170232  <S^2> = 0.75001471  2S+1 = 2.0000147\n",
      "LDA\n",
      "converged SCF energy = -7.34341143788445  <S^2> = 0.75000291  2S+1 = 2.0000029\n",
      "CASCI nelecas up/down (2, 1)\n",
      "CASCI E = -7.43033011100726  E(CI) = -7.43033011100726  S^2 = 0.7500000\n",
      "Available output from CASCI: <KeysViewHDF5 ['ci', 'fci', 'mo_coeff', 'ncas', 'nelecas']>\n"
     ]
    }
   ],
   "source": [
    "from scf_runs import run_casci, run_lda_li\n",
    "scf_checkfile, opt_checkfile, mf_lda = run_lda_li()\n",
    "ci_checkfile, mc = run_casci(scf_checkfile, nroots=1, ncas =3, nelecas = (2,1))"
   ]
  },
  {
   "cell_type": "code",
   "execution_count": 3,
   "id": "7ac0e1fd-38b1-42a3-a1e2-c180a4d7ef29",
   "metadata": {},
   "outputs": [],
   "source": [
    "import bosonrecipes\n",
    "import importlib, bosonrecipes, linemin, bosonwftools, mc, bosonslater, bosonaccumulators, stochastic_reconfiguration\n",
    "modules = [importlib, bosonrecipes, linemin, bosonwftools, mc, bosonslater, bosonaccumulators, stochastic_reconfiguration]\n",
    "for m in modules:\n",
    "    importlib.reload(m)\n"
   ]
  },
  {
   "cell_type": "code",
   "execution_count": 4,
   "id": "e32d4e24-b3a5-4b9d-9757-7e918d36fb2a",
   "metadata": {},
   "outputs": [],
   "source": [
    "# abvmcopt_file = 'abvmc-j-opt-li.hdf5'\n",
    "# for fname in [abvmcopt_file]:\n",
    "#     if os.path.isfile(fname):\n",
    "#         os.remove(fname)\n",
    "# num_it = 12\n",
    "# bosonrecipes.ABOPTIMIZE(scf_checkfile, \n",
    "#                         abvmcopt_file, \n",
    "#                         ci_checkfile   = ci_checkfile,\n",
    "#                         max_iterations = num_it, \n",
    "#                         jastrow_kws    = {\"ion_cusp\":False, 'na':0},\n",
    "#                         verbose        = True,                            \n",
    "#                         nconfig        = 1000)  \n",
    "# "
   ]
  },
  {
   "cell_type": "code",
   "execution_count": 5,
   "id": "976fc439-5c6a-476e-b531-424baff0a6e9",
   "metadata": {},
   "outputs": [
    {
     "ename": "KeyboardInterrupt",
     "evalue": "",
     "output_type": "error",
     "traceback": [
      "\u001b[0;31m---------------------------------------------------------------------------\u001b[0m",
      "\u001b[0;31mKeyboardInterrupt\u001b[0m                         Traceback (most recent call last)",
      "Cell \u001b[0;32mIn[5], line 9\u001b[0m\n\u001b[1;32m      7\u001b[0m         os\u001b[38;5;241m.\u001b[39mremove(fname)\n\u001b[1;32m      8\u001b[0m \u001b[38;5;28;01mwith\u001b[39;00m concurrent\u001b[38;5;241m.\u001b[39mfutures\u001b[38;5;241m.\u001b[39mProcessPoolExecutor(max_workers\u001b[38;5;241m=\u001b[39mncore) \u001b[38;5;28;01mas\u001b[39;00m client:\n\u001b[0;32m----> 9\u001b[0m     bosonrecipes\u001b[38;5;241m.\u001b[39mABOPTIMIZE(scf_checkfile, \n\u001b[1;32m     10\u001b[0m                     abvmcopt_file, \n\u001b[1;32m     11\u001b[0m                     ci_checkfile \u001b[38;5;241m=\u001b[39m ci_checkfile,\n\u001b[1;32m     12\u001b[0m                     max_iterations\u001b[38;5;241m=\u001b[39mnum_it, \n\u001b[1;32m     13\u001b[0m                     verbose\u001b[38;5;241m=\u001b[39m\u001b[38;5;28;01mTrue\u001b[39;00m,  \n\u001b[1;32m     14\u001b[0m                     load_parameters \u001b[38;5;241m=\u001b[39m \u001b[38;5;28;01mNone\u001b[39;00m, \n\u001b[1;32m     15\u001b[0m                     jastrow_kws\u001b[38;5;241m=\u001b[39m{\u001b[38;5;124m\"\u001b[39m\u001b[38;5;124mion_cusp\u001b[39m\u001b[38;5;124m\"\u001b[39m:\u001b[38;5;28;01mFalse\u001b[39;00m},\n\u001b[1;32m     16\u001b[0m                     client \u001b[38;5;241m=\u001b[39m client, \n\u001b[1;32m     17\u001b[0m                     npartitions\u001b[38;5;241m=\u001b[39mncore,                            \n\u001b[1;32m     18\u001b[0m                     nconfig\u001b[38;5;241m=\u001b[39m\u001b[38;5;241m1000\u001b[39m)\n",
      "File \u001b[0;32m~/Documents/GitHub/pyqmc/pyqmc/bosonrecipes.py:58\u001b[0m, in \u001b[0;36mABOPTIMIZE\u001b[0;34m(dft_checkfile, output, nconfig, ci_checkfile, load_parameters, S, jastrow_kws, slater_kws, **linemin_kws)\u001b[0m\n\u001b[1;32m     55\u001b[0m \u001b[38;5;28;01melse\u001b[39;00m:\n\u001b[1;32m     56\u001b[0m     target_root \u001b[38;5;241m=\u001b[39m \u001b[38;5;241m0\u001b[39m\n\u001b[0;32m---> 58\u001b[0m wf, configs, acc \u001b[38;5;241m=\u001b[39m initialize_boson_qmc_objects(\n\u001b[1;32m     59\u001b[0m     dft_checkfile,\n\u001b[1;32m     60\u001b[0m     opt_wf \u001b[38;5;241m=\u001b[39m \u001b[38;5;28;01mTrue\u001b[39;00m,\n\u001b[1;32m     61\u001b[0m     nconfig\u001b[38;5;241m=\u001b[39mnconfig,\n\u001b[1;32m     62\u001b[0m     ci_checkfile\u001b[38;5;241m=\u001b[39mci_checkfile,\n\u001b[1;32m     63\u001b[0m     load_parameters\u001b[38;5;241m=\u001b[39mload_parameters,\n\u001b[1;32m     64\u001b[0m     S\u001b[38;5;241m=\u001b[39mS,\n\u001b[1;32m     65\u001b[0m     jastrow_kws\u001b[38;5;241m=\u001b[39mjastrow_kws,\n\u001b[1;32m     66\u001b[0m     slater_kws\u001b[38;5;241m=\u001b[39mslater_kws,\n\u001b[1;32m     67\u001b[0m     accumulators\u001b[38;5;241m=\u001b[39mbosonaccumulators,\n\u001b[1;32m     68\u001b[0m )\n\u001b[1;32m     69\u001b[0m \u001b[38;5;66;03m# import pdb\u001b[39;00m\n\u001b[1;32m     70\u001b[0m \u001b[38;5;66;03m# pdb.set_trace()\u001b[39;00m\n\u001b[1;32m     71\u001b[0m \u001b[38;5;28;01mif\u001b[39;00m anchors \u001b[38;5;129;01mis\u001b[39;00m \u001b[38;5;28;01mNone\u001b[39;00m:\n",
      "File \u001b[0;32m~/Documents/GitHub/pyqmc/pyqmc/bosonrecipes.py:348\u001b[0m, in \u001b[0;36minitialize_boson_qmc_objects\u001b[0;34m(dft_checkfile, nconfig, load_parameters, ci_checkfile, S, jastrow_kws, slater_kws, accumulators, opt_wf, seed)\u001b[0m\n\u001b[1;32m    344\u001b[0m     wf, to_opt \u001b[38;5;241m=\u001b[39m bosonwftools\u001b[38;5;241m.\u001b[39mgenerate_boson_wf(\n\u001b[1;32m    345\u001b[0m         mol, mf, mc\u001b[38;5;241m=\u001b[39mmc, jastrow \u001b[38;5;241m=\u001b[39m \u001b[38;5;28;01mNone\u001b[39;00m, jastrow_kws\u001b[38;5;241m=\u001b[39mjastrow_kws, slater_kws\u001b[38;5;241m=\u001b[39mslater_kws\n\u001b[1;32m    346\u001b[0m     )\n\u001b[1;32m    347\u001b[0m \u001b[38;5;28;01melse\u001b[39;00m:\n\u001b[0;32m--> 348\u001b[0m     wf, to_opt \u001b[38;5;241m=\u001b[39m bosonwftools\u001b[38;5;241m.\u001b[39mgenerate_boson_wf(\n\u001b[1;32m    349\u001b[0m         mol, mf, mc\u001b[38;5;241m=\u001b[39mmc, jastrow_kws\u001b[38;5;241m=\u001b[39mjastrow_kws, slater_kws\u001b[38;5;241m=\u001b[39mslater_kws\n\u001b[1;32m    350\u001b[0m     )\n\u001b[1;32m    352\u001b[0m \u001b[38;5;28;01mif\u001b[39;00m load_parameters \u001b[38;5;129;01mis\u001b[39;00m \u001b[38;5;129;01mnot\u001b[39;00m \u001b[38;5;28;01mNone\u001b[39;00m:\n\u001b[1;32m    353\u001b[0m     wftools\u001b[38;5;241m.\u001b[39mread_wf(wf, load_parameters)    \n",
      "File \u001b[0;32m~/Documents/GitHub/pyqmc/pyqmc/bosonwftools.py:105\u001b[0m, in \u001b[0;36mgenerate_boson_wf\u001b[0;34m(mol, mf, jastrow, jastrow_kws, slater_kws, mc)\u001b[0m\n\u001b[1;32m    102\u001b[0m     jastrow \u001b[38;5;241m=\u001b[39m [jastrow]\n\u001b[1;32m    103\u001b[0m     jastrow_kws \u001b[38;5;241m=\u001b[39m [jastrow_kws]\n\u001b[0;32m--> 105\u001b[0m wf1, to_opt1 \u001b[38;5;241m=\u001b[39m generate_boson(mol, mf, mc\u001b[38;5;241m=\u001b[39mmc, \u001b[38;5;241m*\u001b[39m\u001b[38;5;241m*\u001b[39mslater_kws)\n\u001b[1;32m    106\u001b[0m to_opt \u001b[38;5;241m=\u001b[39m {\u001b[38;5;124m\"\u001b[39m\u001b[38;5;124mwf1\u001b[39m\u001b[38;5;124m\"\u001b[39m \u001b[38;5;241m+\u001b[39m k: v \u001b[38;5;28;01mfor\u001b[39;00m k, v \u001b[38;5;129;01min\u001b[39;00m to_opt1\u001b[38;5;241m.\u001b[39mitems()}\n\u001b[1;32m    108\u001b[0m pack \u001b[38;5;241m=\u001b[39m [jast(mol, \u001b[38;5;241m*\u001b[39m\u001b[38;5;241m*\u001b[39mkw) \u001b[38;5;28;01mfor\u001b[39;00m jast, kw \u001b[38;5;129;01min\u001b[39;00m \u001b[38;5;28mzip\u001b[39m(jastrow, jastrow_kws)]\n",
      "File \u001b[0;32m~/Documents/GitHub/pyqmc/pyqmc/bosonwftools.py:30\u001b[0m, in \u001b[0;36mgenerate_boson\u001b[0;34m(mol, mf, mc, optimize_determinants, optimize_orbitals, optimize_zeros, epsilon, **kwargs)\u001b[0m\n\u001b[1;32m     12\u001b[0m \u001b[38;5;28;01mdef\u001b[39;00m \u001b[38;5;21mgenerate_boson\u001b[39m(\n\u001b[1;32m     13\u001b[0m     mol,\n\u001b[1;32m     14\u001b[0m     mf,\n\u001b[0;32m   (...)\u001b[0m\n\u001b[1;32m     20\u001b[0m     \u001b[38;5;241m*\u001b[39m\u001b[38;5;241m*\u001b[39mkwargs,\n\u001b[1;32m     21\u001b[0m ):\n\u001b[1;32m     22\u001b[0m \u001b[38;5;250m    \u001b[39m\u001b[38;5;124;03m\"\"\"Construct a Slater determinant\u001b[39;00m\n\u001b[1;32m     23\u001b[0m \n\u001b[1;32m     24\u001b[0m \u001b[38;5;124;03m    :parameter boolean optimize_orbitals: make `to_opt` true for orbital parameters\u001b[39;00m\n\u001b[0;32m   (...)\u001b[0m\n\u001b[1;32m     27\u001b[0m \u001b[38;5;124;03m    :returns: slater, to_opt\u001b[39;00m\n\u001b[1;32m     28\u001b[0m \u001b[38;5;124;03m    \"\"\"\u001b[39;00m\n\u001b[0;32m---> 30\u001b[0m     wf \u001b[38;5;241m=\u001b[39m slater\u001b[38;5;241m.\u001b[39mBosonWF(mol, mf, mc\u001b[38;5;241m=\u001b[39mmc)\n\u001b[1;32m     31\u001b[0m     \u001b[38;5;66;03m# TODO: update here later\u001b[39;00m\n\u001b[1;32m     32\u001b[0m     to_opt \u001b[38;5;241m=\u001b[39m {}\n",
      "File \u001b[0;32m~/Documents/GitHub/pyqmc/pyqmc/bosonslater.py:131\u001b[0m, in \u001b[0;36mBosonWF.__init__\u001b[0;34m(self, mol, mf, mc, tol, twist, determinants, eval_gto_precision)\u001b[0m\n\u001b[1;32m    129\u001b[0m         mc0\u001b[38;5;241m.\u001b[39mci \u001b[38;5;241m=\u001b[39m mc\u001b[38;5;241m.\u001b[39mci \u001b[38;5;241m*\u001b[39m \u001b[38;5;241m0\u001b[39m\n\u001b[1;32m    130\u001b[0m         mc0\u001b[38;5;241m.\u001b[39mci[i, j] \u001b[38;5;241m=\u001b[39m \u001b[38;5;241m1\u001b[39m \u001b[38;5;66;03m# zero all coefficients except one, this is probably quite inefficient, but should work for now.\u001b[39;00m\n\u001b[0;32m--> 131\u001b[0m         wf0, _ \u001b[38;5;241m=\u001b[39m generate_slater(mol, mf, mc\u001b[38;5;241m=\u001b[39mmc0, optimize_determinants\u001b[38;5;241m=\u001b[39m\u001b[38;5;28;01mFalse\u001b[39;00m)\n\u001b[1;32m    132\u001b[0m         \u001b[38;5;28mself\u001b[39m\u001b[38;5;241m.\u001b[39mwfs\u001b[38;5;241m.\u001b[39mappend(wf0)\n\u001b[1;32m    134\u001b[0m \u001b[38;5;28mself\u001b[39m\u001b[38;5;241m.\u001b[39mmyparameters \u001b[38;5;241m=\u001b[39m {}\n",
      "File \u001b[0;32m~/Documents/GitHub/pyqmc/pyqmc/wftools.py:43\u001b[0m, in \u001b[0;36mgenerate_slater\u001b[0;34m(mol, mf, optimize_determinants, optimize_orbitals, optimize_zeros, epsilon, **kwargs)\u001b[0m\n\u001b[1;32m     27\u001b[0m \u001b[38;5;28;01mdef\u001b[39;00m \u001b[38;5;21mgenerate_slater\u001b[39m(\n\u001b[1;32m     28\u001b[0m     mol,\n\u001b[1;32m     29\u001b[0m     mf,\n\u001b[0;32m   (...)\u001b[0m\n\u001b[1;32m     34\u001b[0m     \u001b[38;5;241m*\u001b[39m\u001b[38;5;241m*\u001b[39mkwargs,\n\u001b[1;32m     35\u001b[0m ):\n\u001b[1;32m     36\u001b[0m \u001b[38;5;250m    \u001b[39m\u001b[38;5;124;03m\"\"\"Construct a Slater determinant\u001b[39;00m\n\u001b[1;32m     37\u001b[0m \n\u001b[1;32m     38\u001b[0m \u001b[38;5;124;03m    :parameter boolean optimize_orbitals: make `to_opt` true for orbital parameters\u001b[39;00m\n\u001b[0;32m   (...)\u001b[0m\n\u001b[1;32m     41\u001b[0m \u001b[38;5;124;03m    :returns: slater, to_opt\u001b[39;00m\n\u001b[1;32m     42\u001b[0m \u001b[38;5;124;03m    \"\"\"\u001b[39;00m\n\u001b[0;32m---> 43\u001b[0m     wf \u001b[38;5;241m=\u001b[39m slater\u001b[38;5;241m.\u001b[39mSlater(mol, mf, \u001b[38;5;241m*\u001b[39m\u001b[38;5;241m*\u001b[39mkwargs)\n\u001b[1;32m     44\u001b[0m     to_opt \u001b[38;5;241m=\u001b[39m {}\n\u001b[1;32m     45\u001b[0m     to_opt[\u001b[38;5;124m\"\u001b[39m\u001b[38;5;124mdet_coeff\u001b[39m\u001b[38;5;124m\"\u001b[39m] \u001b[38;5;241m=\u001b[39m np\u001b[38;5;241m.\u001b[39mzeros_like(wf\u001b[38;5;241m.\u001b[39mparameters[\u001b[38;5;124m\"\u001b[39m\u001b[38;5;124mdet_coeff\u001b[39m\u001b[38;5;124m\"\u001b[39m], dtype\u001b[38;5;241m=\u001b[39m\u001b[38;5;28mbool\u001b[39m)\n",
      "File \u001b[0;32m~/Software/anaconda3/lib/python3.11/site-packages/pyqmc/slater.py:182\u001b[0m, in \u001b[0;36mSlater.__init__\u001b[0;34m(self, mol, mf, mc, tol, twist, determinants, eval_gto_precision)\u001b[0m\n\u001b[1;32m    175\u001b[0m \u001b[38;5;28mself\u001b[39m\u001b[38;5;241m.\u001b[39meval_gto_precision \u001b[38;5;241m=\u001b[39m eval_gto_precision\n\u001b[1;32m    176\u001b[0m \u001b[38;5;28mself\u001b[39m\u001b[38;5;241m.\u001b[39mmyparameters \u001b[38;5;241m=\u001b[39m {}\n\u001b[1;32m    177\u001b[0m (\n\u001b[1;32m    178\u001b[0m     \u001b[38;5;28mself\u001b[39m\u001b[38;5;241m.\u001b[39mmyparameters[\u001b[38;5;124m\"\u001b[39m\u001b[38;5;124mdet_coeff\u001b[39m\u001b[38;5;124m\"\u001b[39m],\n\u001b[1;32m    179\u001b[0m     \u001b[38;5;28mself\u001b[39m\u001b[38;5;241m.\u001b[39m_det_occup,\n\u001b[1;32m    180\u001b[0m     \u001b[38;5;28mself\u001b[39m\u001b[38;5;241m.\u001b[39m_det_map,\n\u001b[1;32m    181\u001b[0m     \u001b[38;5;28mself\u001b[39m\u001b[38;5;241m.\u001b[39morbitals,\n\u001b[0;32m--> 182\u001b[0m ) \u001b[38;5;241m=\u001b[39m pyqmc\u001b[38;5;241m.\u001b[39mpyscftools\u001b[38;5;241m.\u001b[39morbital_evaluator_from_pyscf(\n\u001b[1;32m    183\u001b[0m     mol, mf, mc, twist\u001b[38;5;241m=\u001b[39mtwist, determinants\u001b[38;5;241m=\u001b[39mdeterminants, tol\u001b[38;5;241m=\u001b[39m\u001b[38;5;28mself\u001b[39m\u001b[38;5;241m.\u001b[39mtol, eval_gto_precision\u001b[38;5;241m=\u001b[39m\u001b[38;5;28mself\u001b[39m\u001b[38;5;241m.\u001b[39meval_gto_precision\n\u001b[1;32m    184\u001b[0m )\n\u001b[1;32m    186\u001b[0m \u001b[38;5;28mself\u001b[39m\u001b[38;5;241m.\u001b[39mparameters \u001b[38;5;241m=\u001b[39m JoinParameters([\u001b[38;5;28mself\u001b[39m\u001b[38;5;241m.\u001b[39mmyparameters, \u001b[38;5;28mself\u001b[39m\u001b[38;5;241m.\u001b[39morbitals\u001b[38;5;241m.\u001b[39mparameters])\n\u001b[1;32m    188\u001b[0m iscomplex \u001b[38;5;241m=\u001b[39m \u001b[38;5;28mself\u001b[39m\u001b[38;5;241m.\u001b[39morbitals\u001b[38;5;241m.\u001b[39mmo_dtype \u001b[38;5;241m==\u001b[39m \u001b[38;5;28mcomplex\u001b[39m \u001b[38;5;129;01mor\u001b[39;00m \u001b[38;5;28mbool\u001b[39m(\n\u001b[1;32m    189\u001b[0m     \u001b[38;5;28msum\u001b[39m(\u001b[38;5;28mmap\u001b[39m(gpu\u001b[38;5;241m.\u001b[39mcp\u001b[38;5;241m.\u001b[39miscomplexobj, \u001b[38;5;28mself\u001b[39m\u001b[38;5;241m.\u001b[39mparameters\u001b[38;5;241m.\u001b[39mvalues()))\n\u001b[1;32m    190\u001b[0m )\n",
      "File \u001b[0;32m~/Software/anaconda3/lib/python3.11/site-packages/pyqmc/pyscftools.py:122\u001b[0m, in \u001b[0;36morbital_evaluator_from_pyscf\u001b[0;34m(mol, mf, mc, twist, determinants, tol, eval_gto_precision)\u001b[0m\n\u001b[1;32m    101\u001b[0m \u001b[38;5;28;01mdef\u001b[39;00m \u001b[38;5;21morbital_evaluator_from_pyscf\u001b[39m(\n\u001b[1;32m    102\u001b[0m     mol, mf, mc\u001b[38;5;241m=\u001b[39m\u001b[38;5;28;01mNone\u001b[39;00m, twist\u001b[38;5;241m=\u001b[39m\u001b[38;5;241m0\u001b[39m, determinants\u001b[38;5;241m=\u001b[39m\u001b[38;5;28;01mNone\u001b[39;00m, tol\u001b[38;5;241m=\u001b[39m\u001b[38;5;28;01mNone\u001b[39;00m, eval_gto_precision\u001b[38;5;241m=\u001b[39m\u001b[38;5;28;01mNone\u001b[39;00m\n\u001b[1;32m    103\u001b[0m ):\n\u001b[1;32m    104\u001b[0m \u001b[38;5;250m    \u001b[39m\u001b[38;5;124;03m\"\"\"\u001b[39;00m\n\u001b[1;32m    105\u001b[0m \u001b[38;5;124;03m    mol: A Mole object\u001b[39;00m\n\u001b[1;32m    106\u001b[0m \u001b[38;5;124;03m    mf: a pyscf mean-field object\u001b[39;00m\n\u001b[0;32m   (...)\u001b[0m\n\u001b[1;32m    119\u001b[0m \u001b[38;5;124;03m        * an orbital evaluator chosen based on the inputs.\u001b[39;00m\n\u001b[1;32m    120\u001b[0m \u001b[38;5;124;03m    \"\"\"\u001b[39;00m\n\u001b[0;32m--> 122\u001b[0m     periodic \u001b[38;5;241m=\u001b[39m \u001b[38;5;28mhasattr\u001b[39m(mol, \u001b[38;5;124m\"\u001b[39m\u001b[38;5;124ma\u001b[39m\u001b[38;5;124m\"\u001b[39m)\n\u001b[1;32m    123\u001b[0m     f_max_orb \u001b[38;5;241m=\u001b[39m \u001b[38;5;28;01mlambda\u001b[39;00m a: \u001b[38;5;28mint\u001b[39m(np\u001b[38;5;241m.\u001b[39mmax(a, initial\u001b[38;5;241m=\u001b[39m\u001b[38;5;241m0\u001b[39m)) \u001b[38;5;241m+\u001b[39m \u001b[38;5;241m1\u001b[39m \u001b[38;5;28;01mif\u001b[39;00m \u001b[38;5;28mlen\u001b[39m(a) \u001b[38;5;241m>\u001b[39m \u001b[38;5;241m0\u001b[39m \u001b[38;5;28;01melse\u001b[39;00m \u001b[38;5;241m0\u001b[39m\n\u001b[1;32m    124\u001b[0m     _mo_coeff \u001b[38;5;241m=\u001b[39m mc\u001b[38;5;241m.\u001b[39mmo_coeff \u001b[38;5;28;01mif\u001b[39;00m \u001b[38;5;28mhasattr\u001b[39m(mc, \u001b[38;5;124m\"\u001b[39m\u001b[38;5;124mmo_coeff\u001b[39m\u001b[38;5;124m\"\u001b[39m) \u001b[38;5;28;01melse\u001b[39;00m mf\u001b[38;5;241m.\u001b[39mmo_coeff\n",
      "File \u001b[0;32m~/Software/anaconda3/lib/python3.11/site-packages/pyscf/gto/mole.py:3717\u001b[0m, in \u001b[0;36mMole.__getattr__\u001b[0;34m(self, key)\u001b[0m\n\u001b[1;32m   3713\u001b[0m     \u001b[38;5;28;01mraise\u001b[39;00m \u001b[38;5;167;01mAttributeError\u001b[39;00m\n\u001b[1;32m   3715\u001b[0m \u001b[38;5;66;03m# Import all available modules. Some methods are registered to other\u001b[39;00m\n\u001b[1;32m   3716\u001b[0m \u001b[38;5;66;03m# classes/modules when importing modules in __all__.\u001b[39;00m\n\u001b[0;32m-> 3717\u001b[0m \u001b[38;5;28;01mfrom\u001b[39;00m \u001b[38;5;21;01mpyscf\u001b[39;00m \u001b[38;5;28;01mimport\u001b[39;00m __all__  \u001b[38;5;66;03m# noqa\u001b[39;00m\n\u001b[1;32m   3718\u001b[0m \u001b[38;5;28;01mfrom\u001b[39;00m \u001b[38;5;21;01mpyscf\u001b[39;00m \u001b[38;5;28;01mimport\u001b[39;00m scf, dft\n\u001b[1;32m   3720\u001b[0m \u001b[38;5;28;01mfor\u001b[39;00m mod \u001b[38;5;129;01min\u001b[39;00m (scf, dft):\n",
      "File \u001b[0;32m~/Software/anaconda3/lib/python3.11/site-packages/pyscf/__all__.py:2\u001b[0m\n\u001b[1;32m      1\u001b[0m \u001b[38;5;28;01mfrom\u001b[39;00m \u001b[38;5;21;01m.\u001b[39;00m \u001b[38;5;28;01mimport\u001b[39;00m lib, gto, scf, ao2mo\n\u001b[0;32m----> 2\u001b[0m \u001b[38;5;28;01mfrom\u001b[39;00m \u001b[38;5;21;01m.\u001b[39;00m\u001b[38;5;21;01mpost_scf\u001b[39;00m \u001b[38;5;28;01mimport\u001b[39;00m \u001b[38;5;241m*\u001b[39m  \u001b[38;5;66;03m# noqa: F403\u001b[39;00m\n\u001b[1;32m      3\u001b[0m \u001b[38;5;28;01mfrom\u001b[39;00m \u001b[38;5;21;01m.\u001b[39;00m \u001b[38;5;28;01mimport\u001b[39;00m grad\n\u001b[1;32m      4\u001b[0m \u001b[38;5;28;01mfrom\u001b[39;00m \u001b[38;5;21;01m.\u001b[39;00m \u001b[38;5;28;01mimport\u001b[39;00m gw\n",
      "File \u001b[0;32m~/Software/anaconda3/lib/python3.11/site-packages/pyscf/post_scf.py:1\u001b[0m\n\u001b[0;32m----> 1\u001b[0m \u001b[38;5;28;01mfrom\u001b[39;00m \u001b[38;5;21;01m.\u001b[39;00m \u001b[38;5;28;01mimport\u001b[39;00m mp, ci, cc, mcscf, fci, tdscf\n\u001b[1;32m      2\u001b[0m \u001b[38;5;28;01mtry\u001b[39;00m:\n\u001b[1;32m      3\u001b[0m     \u001b[38;5;28;01mfrom\u001b[39;00m \u001b[38;5;21;01m.\u001b[39;00m \u001b[38;5;28;01mimport\u001b[39;00m doci\n",
      "File \u001b[0;32m~/Software/anaconda3/lib/python3.11/site-packages/pyscf/ci/__init__.py:18\u001b[0m\n\u001b[1;32m     16\u001b[0m \u001b[38;5;28;01mfrom\u001b[39;00m \u001b[38;5;21;01mpyscf\u001b[39;00m \u001b[38;5;28;01mimport\u001b[39;00m lib\n\u001b[1;32m     17\u001b[0m \u001b[38;5;28;01mfrom\u001b[39;00m \u001b[38;5;21;01mpyscf\u001b[39;00m \u001b[38;5;28;01mimport\u001b[39;00m scf\n\u001b[0;32m---> 18\u001b[0m \u001b[38;5;28;01mfrom\u001b[39;00m \u001b[38;5;21;01mpyscf\u001b[39;00m\u001b[38;5;21;01m.\u001b[39;00m\u001b[38;5;21;01mci\u001b[39;00m \u001b[38;5;28;01mimport\u001b[39;00m cisd\n\u001b[1;32m     19\u001b[0m \u001b[38;5;28;01mfrom\u001b[39;00m \u001b[38;5;21;01mpyscf\u001b[39;00m\u001b[38;5;21;01m.\u001b[39;00m\u001b[38;5;21;01mci\u001b[39;00m \u001b[38;5;28;01mimport\u001b[39;00m ucisd\n\u001b[1;32m     20\u001b[0m \u001b[38;5;28;01mfrom\u001b[39;00m \u001b[38;5;21;01mpyscf\u001b[39;00m\u001b[38;5;21;01m.\u001b[39;00m\u001b[38;5;21;01mci\u001b[39;00m \u001b[38;5;28;01mimport\u001b[39;00m gcisd\n",
      "File \u001b[0;32m~/Software/anaconda3/lib/python3.11/site-packages/pyscf/ci/cisd.py:29\u001b[0m\n\u001b[1;32m     27\u001b[0m \u001b[38;5;28;01mfrom\u001b[39;00m \u001b[38;5;21;01mpyscf\u001b[39;00m \u001b[38;5;28;01mimport\u001b[39;00m lib\n\u001b[1;32m     28\u001b[0m \u001b[38;5;28;01mfrom\u001b[39;00m \u001b[38;5;21;01mpyscf\u001b[39;00m\u001b[38;5;21;01m.\u001b[39;00m\u001b[38;5;21;01mlib\u001b[39;00m \u001b[38;5;28;01mimport\u001b[39;00m logger\n\u001b[0;32m---> 29\u001b[0m \u001b[38;5;28;01mfrom\u001b[39;00m \u001b[38;5;21;01mpyscf\u001b[39;00m\u001b[38;5;21;01m.\u001b[39;00m\u001b[38;5;21;01mcc\u001b[39;00m \u001b[38;5;28;01mimport\u001b[39;00m ccsd\n\u001b[1;32m     30\u001b[0m \u001b[38;5;28;01mfrom\u001b[39;00m \u001b[38;5;21;01mpyscf\u001b[39;00m\u001b[38;5;21;01m.\u001b[39;00m\u001b[38;5;21;01mcc\u001b[39;00m \u001b[38;5;28;01mimport\u001b[39;00m ccsd_rdm\n\u001b[1;32m     31\u001b[0m \u001b[38;5;28;01mfrom\u001b[39;00m \u001b[38;5;21;01mpyscf\u001b[39;00m\u001b[38;5;21;01m.\u001b[39;00m\u001b[38;5;21;01mfci\u001b[39;00m \u001b[38;5;28;01mimport\u001b[39;00m cistring\n",
      "File \u001b[0;32m~/Software/anaconda3/lib/python3.11/site-packages/pyscf/cc/__init__.py:78\u001b[0m\n\u001b[1;32m     76\u001b[0m \u001b[38;5;28;01mfrom\u001b[39;00m \u001b[38;5;21;01mpyscf\u001b[39;00m\u001b[38;5;21;01m.\u001b[39;00m\u001b[38;5;21;01mcc\u001b[39;00m \u001b[38;5;28;01mimport\u001b[39;00m eom_gccsd\n\u001b[1;32m     77\u001b[0m \u001b[38;5;28;01mfrom\u001b[39;00m \u001b[38;5;21;01mpyscf\u001b[39;00m\u001b[38;5;21;01m.\u001b[39;00m\u001b[38;5;21;01mcc\u001b[39;00m \u001b[38;5;28;01mimport\u001b[39;00m qcisd\n\u001b[0;32m---> 78\u001b[0m \u001b[38;5;28;01mfrom\u001b[39;00m \u001b[38;5;21;01mpyscf\u001b[39;00m\u001b[38;5;21;01m.\u001b[39;00m\u001b[38;5;21;01mcc\u001b[39;00m \u001b[38;5;28;01mimport\u001b[39;00m momgfccsd\n\u001b[1;32m     79\u001b[0m \u001b[38;5;28;01mfrom\u001b[39;00m \u001b[38;5;21;01mpyscf\u001b[39;00m \u001b[38;5;28;01mimport\u001b[39;00m scf\n\u001b[1;32m     81\u001b[0m \u001b[38;5;28;01mdef\u001b[39;00m \u001b[38;5;21mCCSD\u001b[39m(mf, frozen\u001b[38;5;241m=\u001b[39m\u001b[38;5;28;01mNone\u001b[39;00m, mo_coeff\u001b[38;5;241m=\u001b[39m\u001b[38;5;28;01mNone\u001b[39;00m, mo_occ\u001b[38;5;241m=\u001b[39m\u001b[38;5;28;01mNone\u001b[39;00m):\n",
      "File \u001b[0;32m~/Software/anaconda3/lib/python3.11/site-packages/pyscf/cc/momgfccsd.py:32\u001b[0m\n\u001b[1;32m     30\u001b[0m \u001b[38;5;28;01mfrom\u001b[39;00m \u001b[38;5;21;01mpyscf\u001b[39;00m \u001b[38;5;28;01mimport\u001b[39;00m lib, cc, ao2mo\n\u001b[1;32m     31\u001b[0m \u001b[38;5;28;01mfrom\u001b[39;00m \u001b[38;5;21;01mpyscf\u001b[39;00m\u001b[38;5;21;01m.\u001b[39;00m\u001b[38;5;21;01mlib\u001b[39;00m \u001b[38;5;28;01mimport\u001b[39;00m logger\n\u001b[0;32m---> 32\u001b[0m \u001b[38;5;28;01mfrom\u001b[39;00m \u001b[38;5;21;01mpyscf\u001b[39;00m\u001b[38;5;21;01m.\u001b[39;00m\u001b[38;5;21;01magf2\u001b[39;00m \u001b[38;5;28;01mimport\u001b[39;00m mpi_helper\n\u001b[1;32m     35\u001b[0m \u001b[38;5;28;01mdef\u001b[39;00m \u001b[38;5;21mkernel\u001b[39m(\n\u001b[1;32m     36\u001b[0m         gfccsd,\n\u001b[1;32m     37\u001b[0m         hole_moments\u001b[38;5;241m=\u001b[39m\u001b[38;5;28;01mNone\u001b[39;00m,\n\u001b[0;32m   (...)\u001b[0m\n\u001b[1;32m     45\u001b[0m         verbose\u001b[38;5;241m=\u001b[39m\u001b[38;5;28;01mNone\u001b[39;00m,\n\u001b[1;32m     46\u001b[0m ):\n\u001b[1;32m     47\u001b[0m     \u001b[38;5;28;01mif\u001b[39;00m gfccsd\u001b[38;5;241m.\u001b[39mverbose \u001b[38;5;241m>\u001b[39m\u001b[38;5;241m=\u001b[39m logger\u001b[38;5;241m.\u001b[39mWARN:\n",
      "File \u001b[0;32m~/Software/anaconda3/lib/python3.11/site-packages/pyscf/agf2/__init__.py:91\u001b[0m\n\u001b[1;32m     19\u001b[0m \u001b[38;5;124;03m'''\u001b[39;00m\n\u001b[1;32m     20\u001b[0m \u001b[38;5;124;03mAuxiliary second-order Green's function perturbation therory\u001b[39;00m\n\u001b[1;32m     21\u001b[0m \u001b[38;5;124;03m============================================================\u001b[39;00m\n\u001b[0;32m   (...)\u001b[0m\n\u001b[1;32m     87\u001b[0m \u001b[38;5;124;03m        Auxiliaries of the Green's function\u001b[39;00m\n\u001b[1;32m     88\u001b[0m \u001b[38;5;124;03m'''\u001b[39;00m\n\u001b[1;32m     90\u001b[0m \u001b[38;5;28;01mfrom\u001b[39;00m \u001b[38;5;21;01mpyscf\u001b[39;00m \u001b[38;5;28;01mimport\u001b[39;00m scf, lib\n\u001b[0;32m---> 91\u001b[0m \u001b[38;5;28;01mfrom\u001b[39;00m \u001b[38;5;21;01mpyscf\u001b[39;00m\u001b[38;5;21;01m.\u001b[39;00m\u001b[38;5;21;01magf2\u001b[39;00m \u001b[38;5;28;01mimport\u001b[39;00m aux_space, ragf2, uagf2, dfragf2, dfuagf2, ragf2_slow, uagf2_slow\n\u001b[1;32m     92\u001b[0m \u001b[38;5;28;01mfrom\u001b[39;00m \u001b[38;5;21;01mpyscf\u001b[39;00m\u001b[38;5;21;01m.\u001b[39;00m\u001b[38;5;21;01magf2\u001b[39;00m\u001b[38;5;21;01m.\u001b[39;00m\u001b[38;5;21;01maux_space\u001b[39;00m \u001b[38;5;28;01mimport\u001b[39;00m AuxiliarySpace, GreensFunction, SelfEnergy\n\u001b[1;32m     94\u001b[0m \u001b[38;5;66;03m# Backwards compatibility:\u001b[39;00m\n",
      "File \u001b[0;32m~/Software/anaconda3/lib/python3.11/site-packages/pyscf/agf2/ragf2.py:30\u001b[0m\n\u001b[1;32m     28\u001b[0m \u001b[38;5;28;01mfrom\u001b[39;00m \u001b[38;5;21;01mpyscf\u001b[39;00m \u001b[38;5;28;01mimport\u001b[39;00m ao2mo\n\u001b[1;32m     29\u001b[0m \u001b[38;5;28;01mfrom\u001b[39;00m \u001b[38;5;21;01mpyscf\u001b[39;00m\u001b[38;5;21;01m.\u001b[39;00m\u001b[38;5;21;01mscf\u001b[39;00m \u001b[38;5;28;01mimport\u001b[39;00m _vhf\n\u001b[0;32m---> 30\u001b[0m \u001b[38;5;28;01mfrom\u001b[39;00m \u001b[38;5;21;01mpyscf\u001b[39;00m\u001b[38;5;21;01m.\u001b[39;00m\u001b[38;5;21;01magf2\u001b[39;00m \u001b[38;5;28;01mimport\u001b[39;00m mpi_helper, _agf2\n\u001b[1;32m     31\u001b[0m \u001b[38;5;28;01mfrom\u001b[39;00m \u001b[38;5;21;01mpyscf\u001b[39;00m\u001b[38;5;21;01m.\u001b[39;00m\u001b[38;5;21;01magf2\u001b[39;00m \u001b[38;5;28;01mimport\u001b[39;00m aux_space \u001b[38;5;28;01mas\u001b[39;00m aux\n\u001b[1;32m     32\u001b[0m \u001b[38;5;28;01mfrom\u001b[39;00m \u001b[38;5;21;01mpyscf\u001b[39;00m\u001b[38;5;21;01m.\u001b[39;00m\u001b[38;5;21;01magf2\u001b[39;00m \u001b[38;5;28;01mimport\u001b[39;00m chkfile \u001b[38;5;28;01mas\u001b[39;00m chkutil\n",
      "File \u001b[0;32m~/Software/anaconda3/lib/python3.11/site-packages/pyscf/agf2/mpi_helper.py:33\u001b[0m\n\u001b[1;32m     31\u001b[0m \u001b[38;5;66;03m# attempt to successfully load and init the MPI, else assume 1 core:\u001b[39;00m\n\u001b[1;32m     32\u001b[0m \u001b[38;5;28;01mtry\u001b[39;00m:\n\u001b[0;32m---> 33\u001b[0m     \u001b[38;5;28;01mfrom\u001b[39;00m \u001b[38;5;21;01mmpi4py\u001b[39;00m \u001b[38;5;28;01mimport\u001b[39;00m MPI \u001b[38;5;28;01mas\u001b[39;00m mpi\n\u001b[1;32m     34\u001b[0m     comm \u001b[38;5;241m=\u001b[39m mpi\u001b[38;5;241m.\u001b[39mCOMM_WORLD\n\u001b[1;32m     35\u001b[0m     size \u001b[38;5;241m=\u001b[39m comm\u001b[38;5;241m.\u001b[39mGet_size()\n",
      "\u001b[0;31mKeyboardInterrupt\u001b[0m: "
     ]
    }
   ],
   "source": [
    "abvmcopt_file = 'abvmc-j-opt-li.hdf5'\n",
    "import concurrent\n",
    "num_it = 20\n",
    "ncore = 16 \n",
    "for fname in [abvmcopt_file]:\n",
    "    if os.path.isfile(fname):\n",
    "        os.remove(fname)\n",
    "with concurrent.futures.ProcessPoolExecutor(max_workers=ncore) as client:\n",
    "    bosonrecipes.ABOPTIMIZE(scf_checkfile, \n",
    "                    abvmcopt_file, \n",
    "                    ci_checkfile = ci_checkfile,\n",
    "                    max_iterations=num_it, \n",
    "                    verbose=True,  \n",
    "                    load_parameters = None, \n",
    "                    jastrow_kws={\"ion_cusp\":False, 'na':0},\n",
    "                    client = client, \n",
    "                    npartitions=ncore,                            \n",
    "                    nconfig=1000)\n"
   ]
  },
  {
   "cell_type": "code",
   "execution_count": null,
   "id": "2e21ec91-d930-418d-b1bc-633ea81b5138",
   "metadata": {},
   "outputs": [],
   "source": [
    "import pyqmc.api as pyq\n",
    "df = pyq.read_opt(abvmcopt_file)\n",
    "df"
   ]
  },
  {
   "cell_type": "code",
   "execution_count": null,
   "id": "3bf98b3f-a535-4b79-b6c8-7bd200b9f443",
   "metadata": {},
   "outputs": [],
   "source": [
    "import matplotlib.pyplot as plt\n",
    "plt.plot(df['energy'], '-ok')"
   ]
  },
  {
   "cell_type": "code",
   "execution_count": null,
   "id": "a6c16d67-e7f7-4f8e-81e8-4fe994456e15",
   "metadata": {},
   "outputs": [],
   "source": []
  },
  {
   "cell_type": "code",
   "execution_count": null,
   "id": "4ab79f06-e008-480a-8713-e565825bd2f0",
   "metadata": {},
   "outputs": [],
   "source": []
  },
  {
   "cell_type": "code",
   "execution_count": null,
   "id": "74ea8e91-2ab8-491a-9729-793fd604d28a",
   "metadata": {},
   "outputs": [],
   "source": []
  },
  {
   "cell_type": "code",
   "execution_count": null,
   "id": "94d034d5-cf99-4c45-b27b-2115cd99c5ab",
   "metadata": {},
   "outputs": [],
   "source": [
    "import matplotlib.pyplot as plt\n",
    "plt.plot(df['energy'], '-ok')"
   ]
  },
  {
   "cell_type": "code",
   "execution_count": null,
   "id": "b9e85c35-0e5e-4166-b550-5698c7f17ade",
   "metadata": {},
   "outputs": [],
   "source": []
  },
  {
   "cell_type": "code",
   "execution_count": null,
   "id": "48b12e22-975d-4c4e-b5f9-ba3dbf92ebba",
   "metadata": {},
   "outputs": [],
   "source": []
  },
  {
   "cell_type": "code",
   "execution_count": null,
   "id": "a20d9633-ece1-488e-a90a-845b1e2ddbe3",
   "metadata": {},
   "outputs": [],
   "source": []
  }
 ],
 "metadata": {
  "kernelspec": {
   "display_name": "Python 3 (ipykernel)",
   "language": "python",
   "name": "python3"
  },
  "language_info": {
   "codemirror_mode": {
    "name": "ipython",
    "version": 3
   },
   "file_extension": ".py",
   "mimetype": "text/x-python",
   "name": "python",
   "nbconvert_exporter": "python",
   "pygments_lexer": "ipython3",
   "version": "3.11.6"
  }
 },
 "nbformat": 4,
 "nbformat_minor": 5
}
