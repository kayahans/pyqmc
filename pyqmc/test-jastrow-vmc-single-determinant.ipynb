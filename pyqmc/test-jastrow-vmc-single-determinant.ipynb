{
 "cells": [
  {
   "cell_type": "code",
   "execution_count": 4,
   "id": "77f33bbc-c765-4967-a418-093f4d294678",
   "metadata": {},
   "outputs": [],
   "source": [
    "import matplotlib.pyplot as plt\n",
    "import numpy as np\n",
    "import os\n",
    "import h5py\n",
    "import api as pyq "
   ]
  },
  {
   "cell_type": "code",
   "execution_count": 5,
   "id": "9c83d07a-b0d3-4f41-9caa-a71c0f40fc5f",
   "metadata": {
    "tags": []
   },
   "outputs": [
    {
     "name": "stdout",
     "output_type": "stream",
     "text": [
      "He atom neutral LDA spin=0\n",
      "HF\n",
      "converged SCF energy = -2.85516047724274  <S^2> = 0  2S+1 = 1\n",
      "LDA\n",
      "converged SCF energy = -2.82670655418611  <S^2> = 4.4408921e-16  2S+1 = 1\n",
      "\n",
      "WARN: Mulitple states found in CASCI solver. First state is used to compute the Fock matrix and natural orbitals in active space.\n",
      "\n",
      "CASCI state   0  E = -2.87015742152925  E(CI) = -2.87015742152925  S^2 = 0.0000000\n",
      "CASCI state   1  E = -1.40116327670131  E(CI) = -1.40116327670131  S^2 = 2.0000000\n",
      "CASCI state   2  E = -0.950953194776060  E(CI) = -0.950953194776060  S^2 = 0.0000000\n",
      "CASCI state   3  E = 0.604815912795335  E(CI) = 0.604815912795335  S^2 = 0.0000000\n",
      "dict_keys(['mol', '_scf', 'verbose', 'stdout', 'max_memory', 'ncas', 'nelecas', '_ncore', 'fcisolver', 'frozen', 'extrasym', 'e_tot', 'e_cas', 'ci', 'mo_coeff', 'mo_energy', 'mo_occ', 'converged'])\n",
      "Available output from CASCI: <KeysViewHDF5 ['ci', 'fci', 'mo_coeff', 'ncas', 'nelecas']>\n"
     ]
    }
   ],
   "source": [
    "# Wavefunction generation\n",
    "from scf_runs import run_lda_he, run_casci\n",
    "scf_checkfile, opt_checkfile, mf_lda = run_lda_he()\n",
    "ci_checkfile, mc = run_casci(scf_checkfile, nroots=4)"
   ]
  },
  {
   "cell_type": "code",
   "execution_count": null,
   "id": "278c10fd-653c-467d-950d-ec0e58a9e0b8",
   "metadata": {},
   "outputs": [],
   "source": [
    "# import importlib, wftools, bosonrecipes, bosonaccumulators, bosonslater, linemin, accumulators, bosonwftools, linemin\n",
    "# modules = [bosonrecipes,wftools, bosonaccumulators, bosonslater, linemin, accumulators, bosonwftools, linemin]\n",
    "# for m in modules:\n",
    "#     importlib.reload(m)\n",
    "# import recipes\n"
   ]
  },
  {
   "cell_type": "code",
   "execution_count": 24,
   "id": "f08e5d21-5cc7-441b-928a-a8e7646de556",
   "metadata": {},
   "outputs": [],
   "source": [
    "vmc_opt_checkfile = opt_checkfile\n",
    "abvmc_opt_checkfile = 'abvmc-j-he_single.hdf5'\n",
    "abvmc_opt_checkfile_noei = 'abvmc-j-he_single_noei.hdf5'\n",
    "\n",
    "for fname in [vmc_opt_checkfile, abvmc_opt_checkfile, abvmc_opt_checkfile_noei]:\n",
    "    if os.path.isfile(fname):\n",
    "        os.remove(fname)"
   ]
  },
  {
   "cell_type": "code",
   "execution_count": 28,
   "id": "1694969b-b9bf-41f9-9b6d-622c23f62464",
   "metadata": {},
   "outputs": [],
   "source": [
    "abvmc_vmc = 'abvmc1.hdf5'\n",
    "abvmc_abvmc = 'abvmc2.hdf5'\n",
    "abvmc_abvmc_noei = 'abvmc3.hdf5'"
   ]
  },
  {
   "cell_type": "code",
   "execution_count": 25,
   "id": "e367d016-64e2-40d9-b41d-ccb65fd5f635",
   "metadata": {},
   "outputs": [
    {
     "data": {
      "text/html": [
       "<div>\n",
       "<style scoped>\n",
       "    .dataframe tbody tr th:only-of-type {\n",
       "        vertical-align: middle;\n",
       "    }\n",
       "\n",
       "    .dataframe tbody tr th {\n",
       "        vertical-align: top;\n",
       "    }\n",
       "\n",
       "    .dataframe thead th {\n",
       "        text-align: right;\n",
       "    }\n",
       "</style>\n",
       "<table border=\"1\" class=\"dataframe\">\n",
       "  <thead>\n",
       "    <tr style=\"text-align: right;\">\n",
       "      <th></th>\n",
       "      <th>energy</th>\n",
       "      <th>iteration</th>\n",
       "      <th>error</th>\n",
       "      <th>fname</th>\n",
       "    </tr>\n",
       "  </thead>\n",
       "  <tbody>\n",
       "    <tr>\n",
       "      <th>0</th>\n",
       "      <td>-2.803042</td>\n",
       "      <td>0</td>\n",
       "      <td>0.022138</td>\n",
       "      <td>he-sj.hdf5</td>\n",
       "    </tr>\n",
       "    <tr>\n",
       "      <th>1</th>\n",
       "      <td>-2.889331</td>\n",
       "      <td>1</td>\n",
       "      <td>0.006099</td>\n",
       "      <td>he-sj.hdf5</td>\n",
       "    </tr>\n",
       "    <tr>\n",
       "      <th>2</th>\n",
       "      <td>-2.895964</td>\n",
       "      <td>2</td>\n",
       "      <td>0.004337</td>\n",
       "      <td>he-sj.hdf5</td>\n",
       "    </tr>\n",
       "    <tr>\n",
       "      <th>3</th>\n",
       "      <td>-2.885421</td>\n",
       "      <td>3</td>\n",
       "      <td>0.003652</td>\n",
       "      <td>he-sj.hdf5</td>\n",
       "    </tr>\n",
       "    <tr>\n",
       "      <th>4</th>\n",
       "      <td>-2.897810</td>\n",
       "      <td>4</td>\n",
       "      <td>0.003959</td>\n",
       "      <td>he-sj.hdf5</td>\n",
       "    </tr>\n",
       "    <tr>\n",
       "      <th>5</th>\n",
       "      <td>-2.890693</td>\n",
       "      <td>5</td>\n",
       "      <td>0.005311</td>\n",
       "      <td>he-sj.hdf5</td>\n",
       "    </tr>\n",
       "  </tbody>\n",
       "</table>\n",
       "</div>"
      ],
      "text/plain": [
       "     energy  iteration     error       fname\n",
       "0 -2.803042          0  0.022138  he-sj.hdf5\n",
       "1 -2.889331          1  0.006099  he-sj.hdf5\n",
       "2 -2.895964          2  0.004337  he-sj.hdf5\n",
       "3 -2.885421          3  0.003652  he-sj.hdf5\n",
       "4 -2.897810          4  0.003959  he-sj.hdf5\n",
       "5 -2.890693          5  0.005311  he-sj.hdf5"
      ]
     },
     "execution_count": 25,
     "metadata": {},
     "output_type": "execute_result"
    }
   ],
   "source": [
    "# VMC optimization \n",
    "pyq.OPTIMIZE(scf_checkfile, \n",
    "             vmc_opt_checkfile, \n",
    "             ci_checkfile=ci_checkfile, \n",
    "             max_iterations=6, \n",
    "             verbose=False)\n",
    "# recipes.ABOPTIMIZE(scf_checkfile, \"sj.hdf5\", max_iterations=10, nconfig=500, verbose=False)\n",
    "\n",
    "# Jastrow optimization results\n",
    "df = pyq.read_opt(opt_checkfile)\n",
    "df"
   ]
  },
  {
   "cell_type": "code",
   "execution_count": 26,
   "id": "697e8145-dbae-428d-b3df-5d68e578cdcf",
   "metadata": {},
   "outputs": [
    {
     "name": "stdout",
     "output_type": "stream",
     "text": [
      "Number of determinants in the bosonic wavefunction= 4\n",
      "Warning: using neither ECP nor ion_cusp\n",
      "Using spherical guess\n",
      "starting warmup\n",
      "finished warmup\n",
      "----------vmc done\n",
      "Gradient norm:  0.3326303568692611\n",
      "Dot product between gradient and SR step:  0.835399450480406\n",
      "descent en -2.79659107150506 0.0037431990199582755\n",
      "energies from correlated sampling [-2.71472286 -2.77522622 -2.82394065 -2.86218888 -2.8912216 ]\n",
      "----------vmc done\n",
      "Gradient norm:  0.09119336126521184\n",
      "Dot product between gradient and SR step:  0.8975394569557242\n",
      "descent en -2.8970955058701415 0.0015692889348633684\n",
      "energies from correlated sampling [-2.9083686  -2.89992753 -2.88983338 -2.87802055 -2.86442167]\n",
      "----------vmc done\n",
      "Gradient norm:  0.1706573542249408\n",
      "Dot product between gradient and SR step:  0.885437858215467\n",
      "descent en -2.932834037330008 0.0035960343418891855\n",
      "energies from correlated sampling [-2.89456374 -2.89489267 -2.8909782  -2.88246854 -2.8690004 ]\n",
      "----------vmc done\n",
      "Gradient norm:  0.1907168314411184\n",
      "Dot product between gradient and SR step:  0.8850396168653217\n",
      "descent en -2.9288989419514633 0.005402504391931646\n",
      "energies from correlated sampling [-2.86167457 -2.87440948 -2.88271717 -2.88609963 -2.8840298 ]\n",
      "----------vmc done\n",
      "Gradient norm:  0.04896604347256968\n",
      "Dot product between gradient and SR step:  0.8302984098743231\n",
      "descent en -2.8805477503529673 0.003107768722981491\n",
      "energies from correlated sampling [-2.88650291 -2.89246392 -2.89809026 -2.90338814 -2.90836372]\n",
      "----------vmc done\n",
      "Gradient norm:  0.030181410984454322\n",
      "Dot product between gradient and SR step:  0.9552288394336453\n",
      "descent en -2.895367280430892 0.003924607672750477\n",
      "energies from correlated sampling [-2.88573453 -2.8843163  -2.88275331 -2.88104367 -2.87918551]\n"
     ]
    },
    {
     "data": {
      "text/html": [
       "<div>\n",
       "<style scoped>\n",
       "    .dataframe tbody tr th:only-of-type {\n",
       "        vertical-align: middle;\n",
       "    }\n",
       "\n",
       "    .dataframe tbody tr th {\n",
       "        vertical-align: top;\n",
       "    }\n",
       "\n",
       "    .dataframe thead th {\n",
       "        text-align: right;\n",
       "    }\n",
       "</style>\n",
       "<table border=\"1\" class=\"dataframe\">\n",
       "  <thead>\n",
       "    <tr style=\"text-align: right;\">\n",
       "      <th></th>\n",
       "      <th>energy</th>\n",
       "      <th>iteration</th>\n",
       "      <th>error</th>\n",
       "      <th>fname</th>\n",
       "    </tr>\n",
       "  </thead>\n",
       "  <tbody>\n",
       "    <tr>\n",
       "      <th>0</th>\n",
       "      <td>-2.796591</td>\n",
       "      <td>0</td>\n",
       "      <td>0.003743</td>\n",
       "      <td>abvmc-j-he_single.hdf5</td>\n",
       "    </tr>\n",
       "    <tr>\n",
       "      <th>1</th>\n",
       "      <td>-2.897096</td>\n",
       "      <td>1</td>\n",
       "      <td>0.001569</td>\n",
       "      <td>abvmc-j-he_single.hdf5</td>\n",
       "    </tr>\n",
       "    <tr>\n",
       "      <th>2</th>\n",
       "      <td>-2.932834</td>\n",
       "      <td>2</td>\n",
       "      <td>0.003596</td>\n",
       "      <td>abvmc-j-he_single.hdf5</td>\n",
       "    </tr>\n",
       "    <tr>\n",
       "      <th>3</th>\n",
       "      <td>-2.928899</td>\n",
       "      <td>3</td>\n",
       "      <td>0.005403</td>\n",
       "      <td>abvmc-j-he_single.hdf5</td>\n",
       "    </tr>\n",
       "    <tr>\n",
       "      <th>4</th>\n",
       "      <td>-2.880548</td>\n",
       "      <td>4</td>\n",
       "      <td>0.003108</td>\n",
       "      <td>abvmc-j-he_single.hdf5</td>\n",
       "    </tr>\n",
       "    <tr>\n",
       "      <th>5</th>\n",
       "      <td>-2.895367</td>\n",
       "      <td>5</td>\n",
       "      <td>0.003925</td>\n",
       "      <td>abvmc-j-he_single.hdf5</td>\n",
       "    </tr>\n",
       "  </tbody>\n",
       "</table>\n",
       "</div>"
      ],
      "text/plain": [
       "     energy  iteration     error                   fname\n",
       "0 -2.796591          0  0.003743  abvmc-j-he_single.hdf5\n",
       "1 -2.897096          1  0.001569  abvmc-j-he_single.hdf5\n",
       "2 -2.932834          2  0.003596  abvmc-j-he_single.hdf5\n",
       "3 -2.928899          3  0.005403  abvmc-j-he_single.hdf5\n",
       "4 -2.880548          4  0.003108  abvmc-j-he_single.hdf5\n",
       "5 -2.895367          5  0.003925  abvmc-j-he_single.hdf5"
      ]
     },
     "execution_count": 26,
     "metadata": {},
     "output_type": "execute_result"
    }
   ],
   "source": [
    "# ABVMC optimization, ionic cusp\n",
    "nconfig=1000\n",
    "bosonrecipes.ABOPTIMIZE(scf_checkfile, \n",
    "                  abvmc_opt_checkfile, \n",
    "                  ci_checkfile=ci_checkfile,\n",
    "                  jastrow_kws = {'ion_cusp':False},\n",
    "                  max_iterations=6, \n",
    "                  verbose=True,  \n",
    "                  nconfig = nconfig)\n",
    "recipes.read_opt(abvmc_opt_checkfile)"
   ]
  },
  {
   "cell_type": "code",
   "execution_count": 27,
   "id": "548b126b-e07a-4e4f-8ab7-04790bb7b6ae",
   "metadata": {},
   "outputs": [
    {
     "name": "stdout",
     "output_type": "stream",
     "text": [
      "Number of determinants in the bosonic wavefunction= 4\n",
      "Using spherical guess\n",
      "starting warmup\n",
      "finished warmup\n",
      "----------vmc done\n",
      "Gradient norm:  1.179307661337397\n",
      "Dot product between gradient and SR step:  0.9238084717495966\n",
      "descent en -2.484109396009909 0.026162011928624843\n",
      "energies from correlated sampling [-1.43520179 -2.3482466  -2.80406967 -2.94255344 -2.88169808]\n",
      "----------vmc done\n",
      "Gradient norm:  0.5339022307825947\n",
      "Dot product between gradient and SR step:  0.9035290056855693\n",
      "descent en -3.0348219830263004 0.03883032656402175\n",
      "energies from correlated sampling [-2.68209817 -2.77768901 -2.8593902  -2.91913879 -2.94686467]\n",
      "----------vmc done\n",
      "Gradient norm:  0.7186246383276352\n",
      "Dot product between gradient and SR step:  0.9098236823764466\n",
      "descent en -2.6286097772893258 0.04606610046948369\n",
      "energies from correlated sampling [-2.16950597 -2.56011897 -2.78409456 -2.88667709 -2.90495247]\n",
      "----------vmc done\n",
      "Gradient norm:  0.42679990880846475\n",
      "Dot product between gradient and SR step:  0.9046995543538833\n",
      "descent en -2.8945447940716424 0.025811039418409384\n",
      "energies from correlated sampling [-2.77484125 -2.84069404 -2.90318839 -2.95916165 -3.00458648]\n",
      "----------vmc done\n",
      "Gradient norm:  0.1890642776318693\n",
      "Dot product between gradient and SR step:  0.9010550749593381\n",
      "descent en -2.8949045223946084 0.020767763743923997\n",
      "energies from correlated sampling [-2.57043452 -2.64899247 -2.71424086 -2.76739729 -2.809629  ]\n",
      "----------vmc done\n",
      "Gradient norm:  0.20784524926623613\n",
      "Dot product between gradient and SR step:  0.898221408862394\n",
      "descent en -2.84846905323655 0.018051634660582662\n",
      "energies from correlated sampling [-2.64020819 -2.65915052 -2.67099596 -2.6760929  -2.67474137]\n"
     ]
    },
    {
     "data": {
      "text/html": [
       "<div>\n",
       "<style scoped>\n",
       "    .dataframe tbody tr th:only-of-type {\n",
       "        vertical-align: middle;\n",
       "    }\n",
       "\n",
       "    .dataframe tbody tr th {\n",
       "        vertical-align: top;\n",
       "    }\n",
       "\n",
       "    .dataframe thead th {\n",
       "        text-align: right;\n",
       "    }\n",
       "</style>\n",
       "<table border=\"1\" class=\"dataframe\">\n",
       "  <thead>\n",
       "    <tr style=\"text-align: right;\">\n",
       "      <th></th>\n",
       "      <th>energy</th>\n",
       "      <th>iteration</th>\n",
       "      <th>error</th>\n",
       "      <th>fname</th>\n",
       "    </tr>\n",
       "  </thead>\n",
       "  <tbody>\n",
       "    <tr>\n",
       "      <th>0</th>\n",
       "      <td>-2.484109</td>\n",
       "      <td>0</td>\n",
       "      <td>0.026162</td>\n",
       "      <td>abvmc-j-he_single_noei.hdf5</td>\n",
       "    </tr>\n",
       "    <tr>\n",
       "      <th>1</th>\n",
       "      <td>-3.034822</td>\n",
       "      <td>1</td>\n",
       "      <td>0.038830</td>\n",
       "      <td>abvmc-j-he_single_noei.hdf5</td>\n",
       "    </tr>\n",
       "    <tr>\n",
       "      <th>2</th>\n",
       "      <td>-2.628610</td>\n",
       "      <td>2</td>\n",
       "      <td>0.046066</td>\n",
       "      <td>abvmc-j-he_single_noei.hdf5</td>\n",
       "    </tr>\n",
       "    <tr>\n",
       "      <th>3</th>\n",
       "      <td>-2.894545</td>\n",
       "      <td>3</td>\n",
       "      <td>0.025811</td>\n",
       "      <td>abvmc-j-he_single_noei.hdf5</td>\n",
       "    </tr>\n",
       "    <tr>\n",
       "      <th>4</th>\n",
       "      <td>-2.894905</td>\n",
       "      <td>4</td>\n",
       "      <td>0.020768</td>\n",
       "      <td>abvmc-j-he_single_noei.hdf5</td>\n",
       "    </tr>\n",
       "    <tr>\n",
       "      <th>5</th>\n",
       "      <td>-2.848469</td>\n",
       "      <td>5</td>\n",
       "      <td>0.018052</td>\n",
       "      <td>abvmc-j-he_single_noei.hdf5</td>\n",
       "    </tr>\n",
       "  </tbody>\n",
       "</table>\n",
       "</div>"
      ],
      "text/plain": [
       "     energy  iteration     error                        fname\n",
       "0 -2.484109          0  0.026162  abvmc-j-he_single_noei.hdf5\n",
       "1 -3.034822          1  0.038830  abvmc-j-he_single_noei.hdf5\n",
       "2 -2.628610          2  0.046066  abvmc-j-he_single_noei.hdf5\n",
       "3 -2.894545          3  0.025811  abvmc-j-he_single_noei.hdf5\n",
       "4 -2.894905          4  0.020768  abvmc-j-he_single_noei.hdf5\n",
       "5 -2.848469          5  0.018052  abvmc-j-he_single_noei.hdf5"
      ]
     },
     "execution_count": 27,
     "metadata": {},
     "output_type": "execute_result"
    }
   ],
   "source": [
    "# ABVMC optimization, no-ei\n",
    "bosonrecipes.ABOPTIMIZE(scf_checkfile, \n",
    "                  abvmc_opt_checkfile_noei, \n",
    "                  ci_checkfile=ci_checkfile,\n",
    "                  jastrow_kws = {'ei':False},\n",
    "                  max_iterations=6, \n",
    "                  verbose=True,  \n",
    "                  nconfig = nconfig)\n",
    "recipes.read_opt(abvmc_opt_checkfile_noei)"
   ]
  },
  {
   "cell_type": "code",
   "execution_count": 29,
   "id": "3c1cd5ac-6eba-482a-96c4-52c36d3bd9ae",
   "metadata": {},
   "outputs": [
    {
     "name": "stdout",
     "output_type": "stream",
     "text": [
      "----------------------------------------------------------------------------------------------------vmc done\n"
     ]
    }
   ],
   "source": [
    "#ABVMC with VMC jastrows\n",
    "#\n",
    "#\n",
    "for fname in [abvmc_vmc]:\n",
    "    if os.path.isfile(fname):\n",
    "        os.remove(fname)\n",
    "nblocks = 100\n",
    "nsteps_per_block = 10\n",
    "tstep=0.3\n",
    "nconfig=1000\n",
    "recipes.VMC(scf_checkfile, \n",
    "              abvmc_vmc, \n",
    "               # jastrow_kws = {'ion_cusp':False},\n",
    "              load_parameters=opt_checkfile, verbose=True,  \n",
    "              nblocks=nblocks, \n",
    "              nsteps_per_block=nsteps_per_block,\n",
    "              tstep= tstep, \n",
    "              nconfig=nconfig)"
   ]
  },
  {
   "cell_type": "code",
   "execution_count": 30,
   "id": "0a8ccbc3-29ad-4b1b-bb56-0831bdf3ccb3",
   "metadata": {},
   "outputs": [
    {
     "name": "stdout",
     "output_type": "stream",
     "text": [
      "Number of determinants in the bosonic wavefunction= 1\n",
      "Warning: using neither ECP nor ion_cusp\n",
      "Using spherical guess\n",
      "----------------------------------------------------------------------------------------------------vmc done\n"
     ]
    }
   ],
   "source": [
    "#ABVMC with ABVMC jastrows\n",
    "#\n",
    "#\n",
    "bosonrecipes.ABVMC(scf_checkfile, \n",
    "                  abvmc_abvmc, \n",
    "                  load_parameters=abvmc_opt_checkfile, \n",
    "                   jastrow_kws = {'ion_cusp':False},\n",
    "                   verbose=True,  \n",
    "                  nblocks=nblocks, \n",
    "                  nsteps_per_block=nsteps_per_block,\n",
    "                  tstep= tstep, \n",
    "                  nconfig=nconfig)"
   ]
  },
  {
   "cell_type": "code",
   "execution_count": 31,
   "id": "16796084-7609-4551-ac49-c57614c554aa",
   "metadata": {},
   "outputs": [
    {
     "name": "stdout",
     "output_type": "stream",
     "text": [
      "Number of determinants in the bosonic wavefunction= 1\n",
      "Using spherical guess\n",
      "----------------------------------------------------------------------------------------------------vmc done\n"
     ]
    }
   ],
   "source": [
    "#ABVMC with ABVMC jastrows\n",
    "#\n",
    "#\n",
    "bosonrecipes.ABVMC(scf_checkfile, \n",
    "                  abvmc_3, \n",
    "                  load_parameters=abvmc_opt_checkfile_noei, \n",
    "                   jastrow_kws = {'ei':False},\n",
    "                   verbose=True,  \n",
    "                  nblocks=nblocks, \n",
    "                  nsteps_per_block=nsteps_per_block,\n",
    "                  tstep= tstep, \n",
    "                  nconfig=nconfig)"
   ]
  },
  {
   "cell_type": "code",
   "execution_count": 32,
   "id": "be34c216-0084-40b6-8b62-c58847afb2dc",
   "metadata": {},
   "outputs": [
    {
     "data": {
      "text/plain": [
       "Text(0, 0.5, 'Energy (Ha)')"
      ]
     },
     "execution_count": 32,
     "metadata": {},
     "output_type": "execute_result"
    },
    {
     "data": {
      "image/png": "[encoded data removed]",
      "text/plain": [
       "<Figure size 640x480 with 1 Axes>"
      ]
     },
     "metadata": {},
     "output_type": "display_data"
    }
   ],
   "source": [
    "with h5py.File(abvmc_1) as f:\n",
    "    etot_abvmc_1 = f['energytotal'][...] \n",
    "plt.plot(etot_abvmc_1)\n",
    "\n",
    "with h5py.File(abvmc_2) as f:\n",
    "    etot_abvmc_2 = f['energytotal'][...] \n",
    "plt.plot(etot_abvmc_2)\n",
    "\n",
    "with h5py.File(abvmc_3) as f:\n",
    "    etot_abvmc_3 = f['energytotal'][...] \n",
    "plt.plot(etot_abvmc_3)\n",
    "\n",
    "plt.xlabel('steps')\n",
    "plt.ylabel('Energy (Ha)')\n"
   ]
  },
  {
   "cell_type": "code",
   "execution_count": null,
   "id": "fe8c2622-201f-4a81-8a4b-c61948c32b5f",
   "metadata": {},
   "outputs": [],
   "source": []
  },
  {
   "cell_type": "code",
   "execution_count": null,
   "id": "4d4f7cf2-85c2-4f7b-859a-de9c189d3bcf",
   "metadata": {},
   "outputs": [],
   "source": []
  },
  {
   "cell_type": "code",
   "execution_count": null,
   "id": "70fa67b7-d669-4ee0-ba3b-c5c78bd7a696",
   "metadata": {},
   "outputs": [],
   "source": []
  },
  {
   "cell_type": "code",
   "execution_count": null,
   "id": "30300a6d-d84d-49c1-bdf4-9e1d2d554593",
   "metadata": {},
   "outputs": [],
   "source": []
  },
  {
   "cell_type": "code",
   "execution_count": null,
   "id": "73f421d8-5e73-4fe3-86a4-6fe4658905f6",
   "metadata": {},
   "outputs": [],
   "source": []
  },
  {
   "cell_type": "code",
   "execution_count": null,
   "id": "aa64e314-3427-4f60-bf25-477b6537e298",
   "metadata": {},
   "outputs": [],
   "source": []
  },
  {
   "cell_type": "code",
   "execution_count": null,
   "id": "7b8343af-952f-4a04-8a4b-ce0a5e4cdd49",
   "metadata": {},
   "outputs": [],
   "source": []
  }
 ],
 "metadata": {
  "kernelspec": {
   "display_name": "Python 3 (ipykernel)",
   "language": "python",
   "name": "python3"
  },
  "language_info": {
   "codemirror_mode": {
    "name": "ipython",
    "version": 3
   },
   "file_extension": ".py",
   "mimetype": "text/x-python",
   "name": "python",
   "nbconvert_exporter": "python",
   "pygments_lexer": "ipython3",
   "version": "3.11.6"
  }
 },
 "nbformat": 4,
 "nbformat_minor": 5
}
