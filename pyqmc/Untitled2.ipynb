{
 "cells": [
  {
   "cell_type": "code",
   "execution_count": 2,
   "id": "7a92d010-ca70-4172-a3bd-6543c23e57a6",
   "metadata": {},
   "outputs": [
    {
     "name": "stdout",
     "output_type": "stream",
     "text": [
      "/Users/ksu/Documents/GitHub/pyqmc/pyqmc/api.py\n",
      "/usr/local/anaconda3/lib/python3.9/site-packages/pyscf/__init__.py\n"
     ]
    }
   ],
   "source": [
    "# Wavefunction generation\n",
    "from pyscf import mcscf, fci, lib \n",
    "from pyscf import gto, scf, tools, dft\n",
    "from pyscf.dft import numint\n",
    "import api as pyq \n",
    "import importlib\n",
    "import os\n",
    "import h5py\n",
    "import pdb\n",
    "import pyscf\n",
    "import numpy as np\n",
    "from pyscf.scf.hf import dump_scf_summary\n",
    "print(pyq.__file__)\n",
    "print(pyscf.__file__)"
   ]
  },
  {
   "cell_type": "code",
   "execution_count": 5,
   "id": "12bb4137-7c81-4bc5-88ab-32dc179e8500",
   "metadata": {},
   "outputs": [
    {
     "name": "stdout",
     "output_type": "stream",
     "text": [
      "converged SCF energy = -0.49972077380239  <S^2> = 0.75  2S+1 = 2\n"
     ]
    },
    {
     "data": {
      "text/plain": [
       "-0.4997207738023898"
      ]
     },
     "execution_count": 5,
     "metadata": {},
     "output_type": "execute_result"
    }
   ],
   "source": [
    "mol = gto.M(atom=\"H 0. 0. 0.\", spin=1, basis=f'ccecpccpvdz', unit='bohr')\n",
    "mf = scf.UHF(mol)\n",
    "dm = mf.init_guess_by_atom()\n",
    "mf.kernel(dm)"
   ]
  },
  {
   "cell_type": "code",
   "execution_count": 6,
   "id": "46ace0c7-bea2-4723-b829-8f929db3630f",
   "metadata": {},
   "outputs": [],
   "source": [
    "dm = mf.make_rdm1()\n",
    "kin = mf.mol.intor_symmetric('int1e_kin')\n",
    "ein = mf.mol.intor_symmetric('int1e_nuc')\n",
    "j, k= mf.get_jk(mf.mol, dm)"
   ]
  },
  {
   "cell_type": "code",
   "execution_count": 14,
   "id": "f2da4256-1916-4626-9d85-763f7f95d446",
   "metadata": {},
   "outputs": [
    {
     "name": "stdout",
     "output_type": "stream",
     "text": [
      "e1 -0.4997207738023897 coul 0.31241940086331144 ek 0.31241940086331144 nuc 0\n",
      "{'e1': -0.4997207738023896, 'e2': -3.12815322383097e-17, 'nuc': 0}\n"
     ]
    }
   ],
   "source": [
    "#Ekin\n",
    "ekin = np.einsum('ij,sji->', kin, dm).real\n",
    "#EI\n",
    "ei = np.einsum('ij,sji->', ein, dm).real\n",
    "#EJ\n",
    "ej = 0.5*np.einsum('sij,sji->', j, dm).real\n",
    "ek = 0.5*np.einsum('sij,sji->', k, dm).real\n",
    "#ENUC\n",
    "enuc = mf.energy_nuc()\n",
    "print('e1', ekin + ei, 'coul', ej, 'ek', ej, 'nuc', enuc)\n",
    "#Compare to PYSCF\n",
    "print(mf.scf_summary)"
   ]
  },
  {
   "cell_type": "code",
   "execution_count": 13,
   "id": "cc734b68-161a-43cf-87f0-e9a7624398bb",
   "metadata": {},
   "outputs": [
    {
     "data": {
      "text/plain": [
       "-0.49972077380238966"
      ]
     },
     "execution_count": 13,
     "metadata": {},
     "output_type": "execute_result"
    }
   ],
   "source": [
    "mf.energy_tot()"
   ]
  },
  {
   "cell_type": "code",
   "execution_count": 16,
   "id": "5c562eff-c402-4b7f-b3a8-5186d57cc704",
   "metadata": {},
   "outputs": [],
   "source": [
    "a=10\n",
    "delta = 0.2\n",
    "xs = np.arange(-a, a, delta)\n",
    "ys = np.arange(-a, a, delta)\n",
    "zs = np.arange(-a, a, delta)\n",
    "points = lib.cartesian_prod([xs, ys, zs])\n",
    "ao_value = numint.eval_ao(mol, points)"
   ]
  },
  {
   "cell_type": "code",
   "execution_count": 18,
   "id": "4c579597-4bfb-4246-bad8-b1abc6a7a5de",
   "metadata": {},
   "outputs": [
    {
     "data": {
      "text/plain": [
       "(1000000, 5)"
      ]
     },
     "execution_count": 18,
     "metadata": {},
     "output_type": "execute_result"
    }
   ],
   "source": [
    "ao_value.shape"
   ]
  },
  {
   "cell_type": "code",
   "execution_count": null,
   "id": "71da8c5b-eb5e-47bb-9d52-b7033a110f56",
   "metadata": {},
   "outputs": [],
   "source": []
  }
 ],
 "metadata": {
  "kernelspec": {
   "display_name": "Python 3 (ipykernel)",
   "language": "python",
   "name": "python3"
  },
  "language_info": {
   "codemirror_mode": {
    "name": "ipython",
    "version": 3
   },
   "file_extension": ".py",
   "mimetype": "text/x-python",
   "name": "python",
   "nbconvert_exporter": "python",
   "pygments_lexer": "ipython3",
   "version": "3.9.13"
  }
 },
 "nbformat": 4,
 "nbformat_minor": 5
}
