{
 "cells": [
  {
   "cell_type": "code",
   "execution_count": 1,
   "id": "20b6df53-78d6-4395-936b-e54e479a11bb",
   "metadata": {},
   "outputs": [
    {
     "name": "stdout",
     "output_type": "stream",
     "text": [
      "/Users/ksu/Documents/GitHub/pyqmc/pyqmc/api.py\n",
      "/usr/local/anaconda3/lib/python3.9/site-packages/pyscf/__init__.py\n"
     ]
    }
   ],
   "source": [
    "# Wavefunction generation\n",
    "from pyscf import mcscf, fci, lib \n",
    "from pyscf import gto, scf, tools, dft\n",
    "from pyscf.dft import numint\n",
    "import api as pyq \n",
    "import importlib\n",
    "import os\n",
    "import h5py\n",
    "import pdb\n",
    "import pyscf\n",
    "import numpy as np\n",
    "from pyscf.scf.hf import dump_scf_summary\n",
    "print(pyq.__file__)\n",
    "print(pyscf.__file__)"
   ]
  },
  {
   "cell_type": "code",
   "execution_count": 2,
   "id": "339b8d9d-70bf-43a1-bd9c-df409a0f288a",
   "metadata": {},
   "outputs": [
    {
     "name": "stdout",
     "output_type": "stream",
     "text": [
      "converged SCF energy = -0.478375165323873  <S^2> = 0.75  2S+1 = 2\n"
     ]
    },
    {
     "data": {
      "text/plain": [
       "-0.478375165323873"
      ]
     },
     "execution_count": 2,
     "metadata": {},
     "output_type": "execute_result"
    }
   ],
   "source": [
    "mol = gto.M(atom=\"H 0. 0. 0.;\", spin=1, basis=f'ccecpccpvqz', unit='bohr')\n",
    "mf = dft.UKS(mol)\n",
    "dm = mf.init_guess_by_atom()\n",
    "mf.kernel(dm, xc='LDA,VWN')"
   ]
  },
  {
   "cell_type": "code",
   "execution_count": 3,
   "id": "eab591fb-600d-45a3-b759-e01f07128971",
   "metadata": {},
   "outputs": [],
   "source": [
    "dm = mf.make_rdm1()\n",
    "kin = mf.mol.intor_symmetric('int1e_kin')\n",
    "ein = mf.mol.intor_symmetric('int1e_nuc')\n",
    "j, k= mf.get_jk(mf.mol, dm)"
   ]
  },
  {
   "cell_type": "code",
   "execution_count": 4,
   "id": "15aa8388-2568-4409-9923-50613367c14e",
   "metadata": {},
   "outputs": [],
   "source": [
    "mol = mf.mol\n",
    "coords = mf.grids.coords\n",
    "weights = mf.grids.weights\n",
    "ao_value = numint.eval_ao(mol, coords)"
   ]
  },
  {
   "cell_type": "code",
   "execution_count": 5,
   "id": "f52565ab-5200-4bce-af96-c46be2de761b",
   "metadata": {},
   "outputs": [
    {
     "name": "stdout",
     "output_type": "stream",
     "text": [
      "e1 -0.4987558744005207 coul 0.29863682280874154 exc -0.27825791410815714 exc2 -0.27825611373209375 nuc 0\n",
      "{'e1': -0.49875587440052077, 'coul': 0.29863682280874154, 'exc': -0.27825611373209375, 'nuc': 0}\n"
     ]
    }
   ],
   "source": [
    "#Ekin\n",
    "ekin = np.einsum('ij,sji->', kin, dm).real\n",
    "#EI\n",
    "ei = np.einsum('ij,sji->', ein, dm).real\n",
    "#EJ\n",
    "ej = 0.5*np.einsum('sij,sji->', j, dm).real\n",
    "\n",
    "#EXC  1st way\n",
    "a=10\n",
    "delta = 0.2\n",
    "xs = np.arange(-a, a, delta)\n",
    "ys = np.arange(-a, a, delta)\n",
    "zs = np.arange(-a, a, delta)\n",
    "points = lib.cartesian_prod([xs, ys, zs])\n",
    "ao_value2 = numint.eval_ao(mol, points)\n",
    "rho_u = numint.eval_rho(mol, ao_value2, dm[0], xctype='LDA')\n",
    "rho_d = numint.eval_rho(mol, ao_value2, dm[1], xctype='LDA')\n",
    "excd, vxcs  = dft.libxc.eval_xc('LDA,VWN', np.array([rho_u.T, rho_d.T]), spin=1)[:2]\n",
    "exc = np.einsum('i,i->', excd, (rho_u+rho_d))*delta**3\n",
    "\n",
    "#EXC 2nd way\n",
    "grids = mf.grids\n",
    "nelec, exc2, vxc2 = dft.numint.nr_vxc(mol, grids, 'lda,vwn', dm, spin=1)\n",
    "\n",
    "#ENUC\n",
    "enuc = mf.energy_nuc()\n",
    "print('e1', ekin + ei, 'coul', ej, 'exc', exc, 'exc2', exc2,'nuc', enuc)\n",
    "#Compare to PYSCF\n",
    "print(mf.scf_summary)"
   ]
  },
  {
   "cell_type": "code",
   "execution_count": 6,
   "id": "bb7371b7-d00e-4e14-ba8f-ef3efdefef05",
   "metadata": {},
   "outputs": [
    {
     "data": {
      "text/plain": [
       "(1000000,)"
      ]
     },
     "execution_count": 6,
     "metadata": {},
     "output_type": "execute_result"
    }
   ],
   "source": [
    "np.sum(vxcs[0], axis=1).shape"
   ]
  },
  {
   "cell_type": "code",
   "execution_count": 7,
   "id": "7eca0b18-818c-43f3-ab6f-77f63c180c85",
   "metadata": {},
   "outputs": [
    {
     "data": {
      "text/plain": [
       "(2, 30, 30)"
      ]
     },
     "execution_count": 7,
     "metadata": {},
     "output_type": "execute_result"
    }
   ],
   "source": [
    "j.shape"
   ]
  },
  {
   "cell_type": "code",
   "execution_count": null,
   "id": "54ec140a-4b0a-4c8a-94f1-74d96b4bd5bf",
   "metadata": {},
   "outputs": [],
   "source": []
  },
  {
   "cell_type": "code",
   "execution_count": null,
   "id": "57760810-74df-4488-a5f9-b6ea047caeef",
   "metadata": {},
   "outputs": [],
   "source": []
  },
  {
   "cell_type": "code",
   "execution_count": null,
   "id": "eaf16b14-c077-49f1-b617-310902f7661a",
   "metadata": {},
   "outputs": [],
   "source": []
  },
  {
   "cell_type": "code",
   "execution_count": null,
   "id": "c1067c2e-1a0a-43db-8e88-75ff0921b773",
   "metadata": {},
   "outputs": [],
   "source": []
  },
  {
   "cell_type": "code",
   "execution_count": null,
   "id": "d2e4fba8-7bc5-4bc8-a8ec-c77c574d8cbd",
   "metadata": {},
   "outputs": [],
   "source": []
  },
  {
   "cell_type": "code",
   "execution_count": null,
   "id": "c3bbd46a-6913-4947-9bb6-32a9c058f810",
   "metadata": {},
   "outputs": [],
   "source": []
  },
  {
   "cell_type": "code",
   "execution_count": null,
   "id": "353ec003-7104-4788-adaf-8e9936a8a505",
   "metadata": {},
   "outputs": [],
   "source": []
  },
  {
   "cell_type": "code",
   "execution_count": null,
   "id": "52923f45-2c3d-43a5-9d47-c1f42696bfa6",
   "metadata": {},
   "outputs": [],
   "source": [
    "\n"
   ]
  },
  {
   "cell_type": "code",
   "execution_count": null,
   "id": "9c4100d5-c4ad-44bc-ace3-7cd970c5df25",
   "metadata": {},
   "outputs": [],
   "source": []
  },
  {
   "cell_type": "code",
   "execution_count": null,
   "id": "33aa9afe-b46e-4e37-a73c-fd5f8e4f2bff",
   "metadata": {},
   "outputs": [],
   "source": []
  },
  {
   "cell_type": "code",
   "execution_count": 230,
   "id": "1ddfd819-d1bc-4f88-a189-edd1815b57e2",
   "metadata": {},
   "outputs": [],
   "source": [
    "# # Validity check\n",
    "# print(np.einsum('sij,sji,ik,ki->', kin, dm, ao_value2.T, ao_value2)*delta**3, ekin)\n",
    "# print(np.einsum('ij,ji,ik,ki->', ein, dm, ao_value2.T, ao_value2)*delta**3, ei)\n",
    "# print(0.5*np.einsum('ij,ji,ik,ki->', j, dm, ao_value2.T, ao_value2)*delta**3, ej)\n",
    "\n",
    "# rho = numint.eval_rho(mol, ao_value2, dm, xctype='LDA')\n",
    "# excd, vxcs  = dft.libxc.eval_xc('LDA,VWN', rho)[:2]\n",
    "# print(np.einsum('i,i->', excd, rho)*delta**3, exc)"
   ]
  },
  {
   "cell_type": "code",
   "execution_count": 231,
   "id": "e6098ffd-6dcb-4d2a-b08a-9bfdf9bb0575",
   "metadata": {},
   "outputs": [],
   "source": [
    "# excd, vxcs  = dft.libxc.eval_xc('LDA', rho)[:2]"
   ]
  },
  {
   "cell_type": "code",
   "execution_count": 232,
   "id": "f3fc709b-1cf1-4b20-a0bb-884c903f3f5d",
   "metadata": {},
   "outputs": [],
   "source": [
    "# vxcs/rho**(1./3)"
   ]
  },
  {
   "cell_type": "code",
   "execution_count": 233,
   "id": "bac59fe1-12df-4f15-9e6b-c405e6002c88",
   "metadata": {},
   "outputs": [],
   "source": [
    "# points[0]"
   ]
  },
  {
   "cell_type": "code",
   "execution_count": 234,
   "id": "b2a436e5-e95e-4474-b5cb-64a3931a1655",
   "metadata": {},
   "outputs": [],
   "source": [
    "# np.einsum('pij,ij->p', mol.intor('int1e_grids', grids=np.array([points[1]])), mf.make_rdm1())"
   ]
  },
  {
   "cell_type": "code",
   "execution_count": 235,
   "id": "d51c5b39-c0c5-49eb-86e1-b1f30af908c0",
   "metadata": {},
   "outputs": [],
   "source": [
    "# with mol.with_rinv_origin(points[1]):\n",
    "#     rinv = mol.intor('int1e_rinv')\n",
    "#     print(np.einsum('ij,ij', rinv, dm))"
   ]
  },
  {
   "cell_type": "code",
   "execution_count": 236,
   "id": "6b9182cb-8ddf-47b7-b54f-d6fd9a316846",
   "metadata": {},
   "outputs": [],
   "source": [
    "# points[1]"
   ]
  },
  {
   "cell_type": "code",
   "execution_count": 237,
   "id": "3ee5b750-d396-4e5a-afac-9c26e19918e0",
   "metadata": {},
   "outputs": [],
   "source": [
    "# rho = numint.eval_rho(mol, ao_value2, dm, xctype='LDA')\n",
    "# dft.libxc.eval_xc('LDA,VWN', rho)[:2]"
   ]
  },
  {
   "cell_type": "code",
   "execution_count": 294,
   "id": "2bf2569c-0bc6-47b8-bf80-8437af71983d",
   "metadata": {},
   "outputs": [
    {
     "name": "stdout",
     "output_type": "stream",
     "text": [
      "(1000000,)\n",
      "1.1776771532722528\n"
     ]
    }
   ],
   "source": [
    "vkin = np.einsum('ij,ji,ik,ki->k', kin, dm, ao_value2.T, ao_value2)\n",
    "print(vkin.shape)\n",
    "print(np.sum(vkin)*delta**3)"
   ]
  },
  {
   "cell_type": "code",
   "execution_count": 333,
   "id": "49ebcaf4-9ba6-4267-a4a7-d3be01a567e5",
   "metadata": {},
   "outputs": [
    {
     "name": "stdout",
     "output_type": "stream",
     "text": [
      "(1000000,)\n",
      "-3.8138916711456194\n"
     ]
    }
   ],
   "source": [
    "vei = np.einsum('ij,ji,ik,ki->k', ein, dm, ao_value2.T, ao_value2)\n",
    "print(vei.shape)\n",
    "print(np.sum(vei)*delta**3)"
   ]
  },
  {
   "cell_type": "code",
   "execution_count": 296,
   "id": "ac2a59f4-9514-4100-88a2-7228af88ebcd",
   "metadata": {},
   "outputs": [
    {
     "name": "stdout",
     "output_type": "stream",
     "text": [
      "(1000000,)\n",
      "1.3698681067334841\n"
     ]
    }
   ],
   "source": [
    "vj = 0.5*np.einsum('ij,ji,ik,ki->k', j, dm, ao_value2.T, ao_value2) \n",
    "print(vj.shape)\n",
    "print(np.sum(vj)*delta**3)"
   ]
  },
  {
   "cell_type": "code",
   "execution_count": 289,
   "id": "4237277f-e12b-4d3d-8995-72db91f590e1",
   "metadata": {},
   "outputs": [
    {
     "name": "stdout",
     "output_type": "stream",
     "text": [
      "(1000000,)\n",
      "-0.684358302652905\n"
     ]
    }
   ],
   "source": [
    "vexc = np.einsum('i,i->i', excd, rho)\n",
    "print(vexc.shape)\n",
    "print(np.sum(vexc)*delta**3)"
   ]
  },
  {
   "cell_type": "code",
   "execution_count": 290,
   "id": "4dedaa90-9d8c-4473-8017-25af8e5e6ba2",
   "metadata": {},
   "outputs": [
    {
     "data": {
      "text/plain": [
       "(-1.1173713804594554, -1.117365504801064)"
      ]
     },
     "execution_count": 290,
     "metadata": {},
     "output_type": "execute_result"
    }
   ],
   "source": [
    "np.sum(vkin + vei + vj + vexc)*delta**3 + enuc, mf.energy_tot()"
   ]
  },
  {
   "cell_type": "code",
   "execution_count": null,
   "id": "fe99b59c-c8d5-44d3-ba3a-6d9b91f31623",
   "metadata": {},
   "outputs": [],
   "source": []
  },
  {
   "cell_type": "code",
   "execution_count": 331,
   "id": "1093d78b-84a3-4c0f-8885-c9ffeb96f8d6",
   "metadata": {},
   "outputs": [
    {
     "data": {
      "text/plain": [
       "array([-3.60535619e-21, -5.95504048e-21, -9.73873612e-21, ...,\n",
       "       -6.26612889e-19, -4.10677726e-19, -2.66509953e-19])"
      ]
     },
     "execution_count": 331,
     "metadata": {},
     "output_type": "execute_result"
    }
   ],
   "source": [
    "vkin + vei + vj + vexc"
   ]
  },
  {
   "cell_type": "code",
   "execution_count": 343,
   "id": "6e43f348-227f-450f-8342-339698d297e3",
   "metadata": {},
   "outputs": [],
   "source": [
    "eeee = np.einsum('ij,jk,j,ki->i', ao_value2, dm, mf.mo_energy*mf.mo_occ, ao_value2.T)"
   ]
  },
  {
   "cell_type": "code",
   "execution_count": 344,
   "id": "6dd3ca6e-8af9-48f8-805d-e6e18ff7ed8a",
   "metadata": {},
   "outputs": [
    {
     "data": {
      "text/plain": [
       "(1000000,)"
      ]
     },
     "execution_count": 344,
     "metadata": {},
     "output_type": "execute_result"
    }
   ],
   "source": [
    "eeee.shape"
   ]
  },
  {
   "cell_type": "code",
   "execution_count": 345,
   "id": "68c0e7f1-c73b-4929-ae11-f6832f7d80fa",
   "metadata": {},
   "outputs": [
    {
     "data": {
      "text/plain": [
       "array([-4.01586267e-21, -6.65107739e-21, -1.09063696e-20, ...,\n",
       "       -1.88627536e-19, -1.19650635e-19, -7.51463683e-20])"
      ]
     },
     "execution_count": 345,
     "metadata": {},
     "output_type": "execute_result"
    }
   ],
   "source": [
    "eeee"
   ]
  },
  {
   "cell_type": "code",
   "execution_count": 304,
   "id": "2389d41c-b9b7-4f7c-a148-0cd716a88fe7",
   "metadata": {},
   "outputs": [],
   "source": []
  },
  {
   "cell_type": "code",
   "execution_count": 24,
   "id": "2df425ea-2ce6-4188-9e2a-ac4287c81652",
   "metadata": {},
   "outputs": [
    {
     "name": "stdout",
     "output_type": "stream",
     "text": [
      "converged SCF energy = -1.16580013055239\n",
      "Numerical KE 0.5694138224927637\n",
      "Analytical KE 0.5694138198375434\n",
      "0.5694138198375437\n",
      "Diff b/w Analytical and Numerical Ts 2.655220376901468e-09\n"
     ]
    }
   ],
   "source": [
    "from pyscf import gto, dft\n",
    "import numpy as np\n",
    "  \n",
    "# Create a variable that stores the x,y,z atomic coordinates\n",
    "atomic_coordinates = '''\n",
    "H 0.00000  0.00000  0.00000 \n",
    "H 0.74000  0.00000  0.00000\n",
    "'''\n",
    "  \n",
    "mol = gto.Mole() # Create a Mole object\n",
    "mol.atom = atomic_coordinates # Specify the coordinates\n",
    "mol.basis = 'ccecpccpvqz' # Specify the basis set\n",
    "mol.build() # Build the Mole object\n",
    "  \n",
    "mf = dft.KS(mol) # Create a KS-DFT object and pass the mol object as argument\n",
    "mf.xc = 'pbe' # shorthand for pbe,pbe [PBE exchange and PBE correlation]\n",
    "mf.kernel() # Run the DFT calculation\n",
    " \n",
    "# MO Coefficients of the occupied orbitals\n",
    "occ_orbs = mf.mo_coeff[:, mf.mo_occ > 0.]\n",
    "# Generate some grids (we could have also used the already generated grids though)\n",
    "grids = dft.gen_grid.Grids(mol)\n",
    "grids.build()\n",
    "# Get the weights corresponding to the grid points\n",
    "weights = grids.weights\n",
    " \n",
    "# Get the first derivatives of the atomic orbitals at grid points\n",
    "ao1 = dft.numint.eval_ao(mol, grids.coords, deriv=1, non0tab=grids.non0tab)\n",
    "# The following gives the non-negative kinetic energy density at grid points\n",
    "ts = 0.5 * np.einsum('xgp,pi,xgq,qi->g', ao1[1:,:,:], occ_orbs, ao1[1:,:,:], occ_orbs)\n",
    " \n",
    "Ts = np.einsum('g,g->', weights, ts)\n",
    "print('Numerical KE', Ts)\n",
    " \n",
    "# Calculate KE analytically from the analytical kinetic potential matrix and contracting with the density matrix\n",
    "Ts_ao = mol.intor('int1e_kin')\n",
    "Ts_analyt = np.einsum('ui,uv,vi->', occ_orbs, Ts_ao, occ_orbs)\n",
    "print('Analytical KE', Ts_analyt)\n",
    " \n",
    "# Way 3 \n",
    "dm = mf.make_rdm1()\n",
    "kin = mf.mol.intor_symmetric('int1e_kin')\n",
    "print(0.5*np.einsum('ij,ji->', kin, dm).real)\n",
    "print('Diff b/w Analytical and Numerical Ts', np.abs(Ts-Ts_analyt))"
   ]
  },
  {
   "cell_type": "code",
   "execution_count": 18,
   "id": "25f7de6c-cccc-48ff-bf2b-dd6f87e4c37e",
   "metadata": {},
   "outputs": [
    {
     "data": {
      "text/plain": [
       "array([[1.67004206e-01],\n",
       "       [2.90775565e-02],\n",
       "       [2.98656180e-04],\n",
       "       [1.35766228e-33],\n",
       "       [1.27106635e-34],\n",
       "       [1.67004206e-01],\n",
       "       [2.90775565e-02],\n",
       "       [2.98656180e-04],\n",
       "       [3.93258441e-33],\n",
       "       [1.08175076e-34]])"
      ]
     },
     "execution_count": 18,
     "metadata": {},
     "output_type": "execute_result"
    }
   ],
   "source": [
    "occ_orbs*occ_orbs"
   ]
  },
  {
   "cell_type": "code",
   "execution_count": 22,
   "id": "ec11c9fb-d7f2-4c8a-84c5-168c29363d80",
   "metadata": {},
   "outputs": [
    {
     "data": {
      "text/plain": [
       "(10, 1)"
      ]
     },
     "execution_count": 22,
     "metadata": {},
     "output_type": "execute_result"
    }
   ],
   "source": [
    "occ_orbs.shape"
   ]
  },
  {
   "cell_type": "code",
   "execution_count": null,
   "id": "6642b705-3225-4547-83d7-aa62f81fc828",
   "metadata": {},
   "outputs": [],
   "source": []
  }
 ],
 "metadata": {
  "kernelspec": {
   "display_name": "Python 3 (ipykernel)",
   "language": "python",
   "name": "python3"
  },
  "language_info": {
   "codemirror_mode": {
    "name": "ipython",
    "version": 3
   },
   "file_extension": ".py",
   "mimetype": "text/x-python",
   "name": "python",
   "nbconvert_exporter": "python",
   "pygments_lexer": "ipython3",
   "version": "3.11.6"
  }
 },
 "nbformat": 4,
 "nbformat_minor": 5
}
