# Wavefunction generation
from pyscf import mcscf, fci, lib 
from pyscf import gto, scf, tools, dft
import api as pyq 
import importlib
import os
import h5py
import pandas as pd
import pdb
import pyscf
import numpy as np
import pyqmc
import scipy
import matplotlib.pyplot as plt
from pyscf.scf.hf import dump_scf_summary
from concurrent.futures import ProcessPoolExecutor
from pyscf.scf.chkfile import dump_scf
print(pyq.__file__)
print(pyscf.__file__)


# Wavefunction generation
from scf_runs import run_lda_he, run_casci
scf_checkfile, opt_checkfile, mf_lda = run_lda_he()
ci_checkfile, mcc = run_casci(scf_checkfile, ncas=4, nroots=4)


import importlib, recipes
modules = [recipes]
for m in modules:
    importlib.reload(m)

    # Jastrow optimizationn
    
for fname in [opt_checkfile]:
    if os.path.isfile(fname):
        os.remove(fname)

# pyq.OPTIMIZE(scf_checkfile, "sj.hdf5", ci_checkfile=ci_checkfile, max_iterations=2, verbose=False)
# bosonrecipes.ABOPTIMIZE(scf_checkfile, "sj.hdf5", max_iterations=2, nconfig=100, verbose=False)
recipes.OPTIMIZE(scf_checkfile, opt_checkfile, max_iterations=2, nconfig=1000, verbose=True)
# Jastrow optimization results
df = pyq.read_opt(opt_checkfile)
df


def limdrift(g, cutoff=1):
    """
    Limit a vector to have a maximum magnitude of cutoff while maintaining direction

    :parameter g: a [nconf,ndim] vector
    :parameter cutoff: the maximum magnitude
    :returns: The vector with the cutoff applied.
    """
    tot = np.linalg.norm(g, axis=1)
    mask = tot > cutoff
    g[mask, :] = cutoff * g[mask, :] / tot[mask, np.newaxis]
    return g


# Multi determinant boson new gradient
import importlib, recipes, bosonrecipes, bosonslater, bosonaccumulators, bosonwftools, wftools, mc
modules = [recipes, bosonrecipes, bosonrecipes, bosonslater, bosonaccumulators, bosonwftools, wftools, mc] # Reloads recipes.py file after each update
for m in modules:
    importlib.reload(m)
import pyqmc.pyscftools as pyscftools

nconfig = 323
mol, mf = pyscftools.recover_pyscf(scf_checkfile)
    
wf, to_opt = bosonwftools.generate_boson_wf(
        mol, mf)

load_parameters = opt_checkfile
wftools.read_wf(wf, load_parameters)      


configs = mc.fixed_initial_guess(mol, nconfig)
e=0



sign, val = wf.recompute(configs)



g1, _, _ = wf.gradient_value(e, configs.electron(e))

# val2 = saved['psi']
_, psi1 = wf.value()

y1 = np.gradient(val)
y2 = g1
dx = configs.configs[1]-configs.configs[0]
dx = dx[dx!=0][0]
# print(dx)

x = configs.configs[:,0][:,2]
h1 = (0,0, 0.0)
h2 = (2.0, 0.0)
e2pos = np.array2string(configs.configs[:,1][0])




plt.figure()
plt.plot(x,val, '-k', label='recompute')
# plt.plot(x,val2, '-sb', label='from_grad')
# plt.plot(x,psi1, '-sr', label='from_val')
# plt.legend()
plt.xlabel('z-coordinate')
plt.ylabel(r'$\Psi_B(R)$')
plt.title('Single determinant with Jastrow $\Psi(R, R2) $, R2={}'.format(e2pos) )

plt.figure()
plt.plot(x,g1[2], '-or', label='grad')
plt.plot(x,y1/dx, '-b', label='num')
plt.xlabel('z-coordinate')
plt.ylabel(r'$\nabla\Psi_B(R)$')
plt.legend()
plt.title('Single determinant with jastrow gradient $\Psi(R, R2) $, R2={}'.format(e2pos) )





















