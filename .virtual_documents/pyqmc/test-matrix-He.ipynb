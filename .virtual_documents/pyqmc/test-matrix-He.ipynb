import matplotlib.pyplot as plt
import numpy as np
import os
import h5py
import api as pyq 


# Wavefunction generation
import scf_runs, importlib
modules = [scf_runs]
for m in modules:
    importlib.reload(m)

# Jastrow optimization
import glob
# for fname in glob.glob("*hdf5"):
#     if os.path.isfile(fname):
#         os.remove(fname)
from scf_runs import run_lda_li, run_casci, run_lda_he
scf_checkfile, opt_checkfile, mf_lda = run_lda_he()
ci_checkfile, mc = run_casci(scf_checkfile, nroots=12, ncas =4)


mc.ci





opt_settings = {'nconfig': 1000,
               'max_iterations':2}
vmc_settings = {'tstep' : 0.3,
                'nconfig': 1000,
                'nblocks':100,
                'nsteps_per_block':10}

vmc_cusp=True
abvmc_cusp=False


# import wftools, bosonrecipes, importlib, recipes, boson_stochastic_reconfiguration, bosonsamplemany, bosonrecipes, bosonslater, bosonwf, bosonaccumulators, bosonjastrowspin, bosonlinemin, bosonmc, bosonmultiplywf, bosonwftools 
# modules = [bosonrecipes,wftools, boson_stochastic_reconfiguration, bosonsamplemany, bosonrecipes, bosonrecipes, bosonslater, bosonwf, bosonaccumulators, bosonjastrowspin, bosonlinemin, bosonmc, bosonmultiplywf, bosonwftools] # Reloads recipes.py file after each update
# for m in modules:
#     importlib.reload(m)
import os, bosonrecipes    
# Jastrow optimization
bosonsj = "boson-test-ovlp-he.hdf5"    
for fname in [bosonsj]:
    if os.path.isfile(fname):
        os.remove(fname)
print("RUNNING VMC OPTIMIZATION")
bosonrecipes.ABOPTIMIZE(scf_checkfile, bosonsj, 
                        ci_checkfile=ci_checkfile, 
                        verbose=True,
                        jastrow_kws={"ion_cusp":abvmc_cusp},
                       **opt_settings)
# Jastrow optimization results
# bosonrecipes.read_abopt(bosonsj)


# import matplotlib.pyplot as plt
# df=recipes.read_opt(bosonsj)
# plt.xlabel('Iteration')
# plt.ylabel('Energy (Ha)')
# plt.title('ABVMC optimization')
# plt.errorbar(df['iteration'], df['energy'], yerr =df['var'])


#ABVMC with jastrows

import bosonrecipes, bosonaccumulators, mc, bosonslater
modules = [bosonrecipes, bosonaccumulators, mc, bosonslater]
for m in modules:
    importlib.reload(m)

# Jastrow optimization
abvmc_file ='abvmc-test-ovlp-he.hdf5'
for fname in [abvmc_file]:
    if os.path.isfile(fname):
        os.remove(fname)

opt_settings = {'nconfig': 100,
               'max_iterations':6}
vmc_settings = {'tstep' : 0.3,
                'nconfig': 1000,
                'nblocks':1000,
                'nsteps_per_block':10}

abvmc_cusp=False
df_abvmc = bosonrecipes.ABVMC(scf_checkfile, 
                              abvmc_file, 
                              load_parameters=bosonsj, 
                              ci_checkfile=ci_checkfile,
                              verbose=True,  
                              jastrow_kws={"ion_cusp":abvmc_cusp},
                              **vmc_settings)


import h5py
abvmc_file ='abvmc-test-ovlp-he.hdf5'
f = h5py.File(abvmc_file)
matrices = f['excitationsdelta'][...]
ovlp = f['excitationsovlp'][...]
import numpy as np
ovlp_avg = np.mean(ovlp[10:], axis=0)
ovlp_std = np.std(ovlp[10:], axis=0)
import seaborn as sns
ax = sns.heatmap(ovlp_avg-np.eye(12), linewidth=0.5)
plt.show()
ax = sns.heatmap(ovlp_std, linewidth=0.5)
plt.show()
print(np.diag(ovlp_avg))


plt.plot(ovlp[...,0,0])
plt.show()



energy = f['energytotal'][...]
plt.plot(energy)
plt.show()

































