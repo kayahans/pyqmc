import matplotlib.pyplot as plt
import numpy as np
import os
import h5py
import api as pyq 


# Wavefunction generation
from scf_runs import run_lda_he, run_casci
scf_checkfile, opt_checkfile, mf_lda = run_lda_he()
ci_checkfile, mc = run_casci(scf_checkfile, nroots=4)


import importlib, slater, pyscftools,recipes, wftools, mc
modules = [importlib, slater, pyscftools,recipes, wftools, mc]
for m in modules:
    importlib.reload(m)
from pyscf.dft import numint, libxc

mol, mf = pyscftools.recover_pyscf(scf_checkfile)
wfs, to_opt = wftools.generate_wf(
        mol, mf, mc=None, jastrow=None, jastrow_kws=None, slater_kws=None
        )


nconf = 100
configs = mc.initial_guess(mol, nconf)
# signs, phis = wfs.recompute(configs)




# value
# import pyqmc.gpu as gpu
# nelec = 2
# e = 0
# aos = wfs.orbitals.aos("GTOval_sph", configs)
# wfs._aovals = aos.reshape(-1, nconf, nelec, aos.shape[-1])
# s = 0
# begin = wfs._nelec[0] * s
# end = wfs._nelec[0] + wfs._nelec[1] * s
# mo = wfs.orbitals.mos(wfs._aovals[:, :, begin:end, :], s)
# mo_vals = gpu.cp.swapaxes(mo[:, :, wfs._det_occup[s]], 1, 2)


# gradient
# e = 0
# epos = configs.electron(e)
# s = int(e >= wfs._nelec[0])
# aograd = wfs.orbitals.aos("GTOval_sph_deriv1", epos)
# mograd = wfs.orbitals.mos(aograd, s)
# mograd_vals = mograd[:, :, wfs._det_occup[s]]


mograd_vals.shape


# val(x1), grad(x3), laplacian(x1)
# e = 0
# epos = configs.electron(e)
s = int(e >= wfs._nelec[0])
ao = wfs.orbitals.aos("GTOval_sph_deriv2", epos)
ao_val = ao[:, 0, :, :]
ao_lap = gpu.cp.sum(ao[:, [4, 7, 9], :, :], axis=1)

ao = gpu.cp.concatenate(
            [ao[:, 0:4, ...], ao[:, [4, 7, 9], ...].sum(axis=1, keepdims=True)], axis=1
        )
mo = wfs.orbitals.mos(ao, s)
mo_vals = mo[:, :, wfs._det_occup[s]]


kinetic = -mo_vals[-1]/(2*mo_vals[-1])
kinetic.shape


mo_energy = mf.mo_energy[s, wfs._det_occup[s]]
mo_energy.shape
# dir(mf)


dm = mf.make_rdm1()
ao_value = numint.eval_ao(mol, configs.configs[:,e,:])
rho_u = numint.eval_rho(mol, ao_value, dm[0], xctype='LDA')
rho_d = numint.eval_rho(mol, ao_value, dm[1], xctype='LDA')
xc = 'LDA,VWN'
excd, vxcs  = libxc.eval_xc(xc, np.array([rho_u, rho_d]), spin=1)[:2]
vxc = np.zeros(nconf)
vj = np.zeros(nconf)
vxc += vxcs[0][:,s]
vj += np.einsum('pij,sij->p', mol.intor('int1e_grids', grids=configs.configs[:,e,:]), dm)
vee = vxc + vj
vee.shape


kinetic[:,0,0]-vee


dir(mf)



